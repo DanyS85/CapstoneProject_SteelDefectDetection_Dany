{
 "cells": [
  {
   "cell_type": "code",
   "execution_count": null,
   "id": "2adb3e4a-de6b-4bcd-a130-b9b9e2fac294",
   "metadata": {},
   "outputs": [],
   "source": [
    "import pandas as pd\n",
    "import numpy as np\n",
    "import seaborn as sns\n",
    "\n",
    "DIMENSION = (256, 1600) # image dimension\n",
    "\n",
    "# self-written scripts\n",
    "import sys\n",
    "sys.path.insert(0, 'Python_Scripts')\n",
    "\n",
    "import util\n",
    "import mask_conversion"
   ]
  },
  {
   "cell_type": "markdown",
   "id": "045cbe60-8b8c-4f39-9761-d5e983b81fc6",
   "metadata": {},
   "source": [
    "---\n",
    "\n",
    "### Preparations"
   ]
  },
  {
   "cell_type": "code",
   "execution_count": null,
   "id": "68bbb1ce-2889-4aae-9b40-517aebc554da",
   "metadata": {},
   "outputs": [],
   "source": [
    "df = pd.read_csv('data/train.csv')"
   ]
  },
  {
   "cell_type": "code",
   "execution_count": null,
   "id": "8dda1468-ad30-4f93-9945-ac3b34d85a54",
   "metadata": {},
   "outputs": [],
   "source": [
    "util.isolate_single_defects(df)"
   ]
  },
  {
   "cell_type": "code",
   "execution_count": null,
   "id": "bde5838f-dd0c-48f7-be61-a73c596082b9",
   "metadata": {},
   "outputs": [],
   "source": [
    "df.head(10)"
   ]
  },
  {
   "cell_type": "code",
   "execution_count": null,
   "id": "7d5546d0-6bfb-40b7-9021-5ce3e0972727",
   "metadata": {},
   "outputs": [],
   "source": [
    "def count_defect_pixels(EncodedPixels):\n",
    "    sum = 0\n",
    "    for idx, pixel in enumerate(EncodedPixels.split()):\n",
    "        if idx%2 != 0:\n",
    "            sum += int(pixel)\n",
    "\n",
    "    return sum"
   ]
  },
  {
   "cell_type": "code",
   "execution_count": null,
   "id": "231551c9-1186-41bd-a54d-0edd39807330",
   "metadata": {},
   "outputs": [],
   "source": [
    "df['DefectSizePixel'] = df.EncodedPixels.apply(lambda x: count_defect_pixels(x))"
   ]
  },
  {
   "cell_type": "code",
   "execution_count": null,
   "id": "4e806def-9528-4d04-ae16-9b3cd2256392",
   "metadata": {},
   "outputs": [],
   "source": []
  },
  {
   "cell_type": "markdown",
   "id": "da35d063-20d0-4a0b-9e6a-f02a8ccfc77a",
   "metadata": {},
   "source": [
    "---\n",
    "\n",
    "### Testing"
   ]
  },
  {
   "cell_type": "code",
   "execution_count": null,
   "id": "75e8bb53-7a74-4b16-9a7c-9263b8b1c821",
   "metadata": {},
   "outputs": [],
   "source": [
    "a = np.zeros((256,10))\n",
    "\n",
    "encoded_pixels = '1 1000'\n",
    "a\n",
    "mask_conversion.decode_pixel(a.shape,1,encoded_pixels,image=False)"
   ]
  },
  {
   "cell_type": "code",
   "execution_count": null,
   "id": "da4e048d-75c5-41c7-8ecf-e1e4260ab04d",
   "metadata": {},
   "outputs": [],
   "source": [
    "mask_conversion.decode_pixel(a.shape,1,encoded_pixels,image=False)"
   ]
  },
  {
   "cell_type": "code",
   "execution_count": null,
   "id": "c4625445-19b2-4192-a790-82978e1888bf",
   "metadata": {},
   "outputs": [],
   "source": [
    "np.sum(mask_conversion.decode_pixel(DIMENSION, 1, encoded_pixels=df.EncodedPixels[2]))"
   ]
  },
  {
   "cell_type": "markdown",
   "id": "a3be26f3-999b-4b6f-a9c1-eefb1fe714ea",
   "metadata": {},
   "source": [
    "---\n",
    "\n",
    "### Convert Encoded Pixels to a Mask and Build CheckSum"
   ]
  },
  {
   "cell_type": "code",
   "execution_count": null,
   "id": "f4abba42-66d8-4fac-baa1-9c4dce4d1dca",
   "metadata": {},
   "outputs": [],
   "source": [
    "sums = []\n",
    "for i in range(df.shape[0]):\n",
    "    sum_ = int(np.sum(mask_conversion.decode_pixel(DIMENSION, 1, encoded_pixels=df.EncodedPixels.iloc[i])))\n",
    "    sums.append(sum_)\n"
   ]
  },
  {
   "cell_type": "code",
   "execution_count": null,
   "id": "da496fcb-b078-4b28-90ba-c84154cf2206",
   "metadata": {},
   "outputs": [],
   "source": [
    "df['MaskSums'] = sums\n",
    "df['CheckSum'] = df.DefectSizePixel - df.MaskSums\n",
    "df.describe()"
   ]
  },
  {
   "cell_type": "code",
   "execution_count": null,
   "id": "97217558-dbac-4639-ad2e-a42b8a2ea7e5",
   "metadata": {},
   "outputs": [],
   "source": [
    "classes = np.zeros(DIMENSION)\n",
    "np.sum(mask_conversion.decode_pixel(classes, 1, encoded_pixels=df.EncodedPixels[2]))"
   ]
  },
  {
   "cell_type": "markdown",
   "id": "d2a902b9-7830-4aab-b860-7079d62aa992",
   "metadata": {},
   "source": [
    "---\n",
    "\n",
    "### Encode Pixel"
   ]
  },
  {
   "cell_type": "code",
   "execution_count": null,
   "id": "b46bb4be-4060-47cf-8a7e-c45c158f63c2",
   "metadata": {},
   "outputs": [],
   "source": [
    "a = np.identity(5)\n",
    "\n",
    "encoded_pixels = '1 1000'\n",
    "a"
   ]
  },
  {
   "cell_type": "code",
   "execution_count": null,
   "id": "951b25dc-de36-4069-ab9c-50208d7978dc",
   "metadata": {},
   "outputs": [],
   "source": [
    "mask_conversion.encode_pixel(a)"
   ]
  },
  {
   "cell_type": "code",
   "execution_count": null,
   "id": "0e973f0c-1bff-492d-9a71-59a37ba76c3c",
   "metadata": {},
   "outputs": [],
   "source": [
    "df.EncodedPixels[0]"
   ]
  },
  {
   "cell_type": "code",
   "execution_count": null,
   "id": "61892209-7267-4722-ac2e-019ab5512f7d",
   "metadata": {},
   "outputs": [],
   "source": [
    "mask1 = mask_conversion.decode_pixel(DIMENSION, class_id=1, \n",
    "                                      encoded_pixels=df.EncodedPixels[0], image=True)"
   ]
  },
  {
   "cell_type": "code",
   "execution_count": null,
   "id": "bc580572-9425-416b-8e52-23c0e31961e9",
   "metadata": {},
   "outputs": [],
   "source": [
    "mask_conversion.encode_pixel(mask1, 1)"
   ]
  },
  {
   "cell_type": "code",
   "execution_count": null,
   "id": "2b740eed-eb88-4d59-86ca-679414a9ddbe",
   "metadata": {},
   "outputs": [],
   "source": []
  }
 ],
 "metadata": {
  "kernelspec": {
   "display_name": "Python 3 (ipykernel)",
   "language": "python",
   "name": "python3"
  },
  "language_info": {
   "codemirror_mode": {
    "name": "ipython",
    "version": 3
   },
   "file_extension": ".py",
   "mimetype": "text/x-python",
   "name": "python",
   "nbconvert_exporter": "python",
   "pygments_lexer": "ipython3",
   "version": "3.9.4"
  }
 },
 "nbformat": 4,
 "nbformat_minor": 5
}
