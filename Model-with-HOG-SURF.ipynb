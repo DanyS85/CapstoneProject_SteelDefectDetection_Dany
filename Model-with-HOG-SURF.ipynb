{
 "cells": [
  {
   "cell_type": "code",
   "execution_count": null,
   "id": "6bfc6522-3b7f-4105-a961-dbb1ad514157",
   "metadata": {},
   "outputs": [],
   "source": [
    "import matplotlib.pyplot as plt\n",
    "from skimage import io\n",
    "from skimage import color\n",
    "from skimage.transform import resize\n",
    "import math\n",
    "from skimage.feature import hog\n",
    "import numpy as np\n",
    "import pandas as pd\n",
    "from PIL import Image\n",
    "from skimage import data, exposure"
   ]
  },
  {
   "cell_type": "code",
   "execution_count": null,
   "id": "53049e54-adfc-4e0d-8592-16dc33039f6e",
   "metadata": {},
   "outputs": [],
   "source": [
    "df = pd.read_csv('data/train_complete.csv')"
   ]
  },
  {
   "cell_type": "code",
   "execution_count": null,
   "id": "37af16d3-acd3-4cac-9574-a012aa09b424",
   "metadata": {},
   "outputs": [],
   "source": [
    "hog = pd.read_csv('data/train_HOG.csv')"
   ]
  },
  {
   "cell_type": "code",
   "execution_count": null,
   "id": "ed936926-58cf-42f1-b027-6030e70a45c2",
   "metadata": {},
   "outputs": [],
   "source": [
    "hog_complete = "
   ]
  },
  {
   "cell_type": "code",
   "execution_count": null,
   "id": "1e9e98c4-acbd-400e-a87c-6655780834a3",
   "metadata": {},
   "outputs": [],
   "source": [
    "df['count'] = df.ImageId.apply(lambda x: df['ImageId'].value_counts()[x])"
   ]
  },
  {
   "cell_type": "code",
   "execution_count": null,
   "id": "30726474-92fe-4ef7-b264-ce2619414e7e",
   "metadata": {},
   "outputs": [],
   "source": [
    "df_unique = df.query('count<2')"
   ]
  },
  {
   "cell_type": "code",
   "execution_count": null,
   "id": "d42f9030-5736-4c72-a4a9-530e14ece347",
   "metadata": {},
   "outputs": [],
   "source": [
    "df_unique.shape"
   ]
  },
  {
   "cell_type": "code",
   "execution_count": null,
   "id": "759110e2-08a3-4b62-81e3-151a4f67a9d8",
   "metadata": {},
   "outputs": [],
   "source": [
    "df.shape"
   ]
  },
  {
   "cell_type": "code",
   "execution_count": null,
   "id": "ebdb4a5a-419d-44e8-8839-173165360df1",
   "metadata": {},
   "outputs": [],
   "source": [
    "from sklearn.model_selection import train_test_split\n",
    "X_train, X_test, y_train, y_test = train_test_split(hog_features,df_labels['class'],test_size=0.2,stratify=df_labels['class'])\n",
    "print('Training data and target sizes: \\n{}, {}'.format(X_train.shape,y_train.shape))\n",
    "print('Test data and target sizes: \\n{}, {}'.format(X_test.shape,y_test.shape))"
   ]
  },
  {
   "cell_type": "code",
   "execution_count": null,
   "id": "93fd7e7c-2a75-42e2-ba72-597bfa4c29d2",
   "metadata": {},
   "outputs": [],
   "source": [
    "from sklearn import datasets, svm, metrics\n",
    "from sklearn.neighbors import KNeighborsClassifier\n",
    "from sklearn import metrics"
   ]
  },
  {
   "cell_type": "code",
   "execution_count": null,
   "id": "7089cc6f-6c7d-4f47-bba7-2fe3fc50c8a4",
   "metadata": {},
   "outputs": [],
   "source": [
    "from sklearn.preprocessing import StandardScaler"
   ]
  },
  {
   "cell_type": "code",
   "execution_count": null,
   "id": "e1bb9293-5668-4ddb-8302-c7c4fe364255",
   "metadata": {},
   "outputs": [],
   "source": [
    "test_accuracy = []\n",
    "scaler = StandardScaler()\n",
    "X_scaled = scaler.fit_transform(X_train)\n",
    "\n",
    "classifier = KNeighborsClassifier(n_neighbors=3,algorithm='brute')\n",
    "classifier.fit(X_scaled, y_train)\n",
    "test_accuracy = classifier.score(scaler.transform(X_test), y_test)\n",
    "print(test_accuracy)"
   ]
  }
 ],
 "metadata": {
  "kernelspec": {
   "display_name": "Python 3 (ipykernel)",
   "language": "python",
   "name": "python3"
  },
  "language_info": {
   "codemirror_mode": {
    "name": "ipython",
    "version": 3
   },
   "file_extension": ".py",
   "mimetype": "text/x-python",
   "name": "python",
   "nbconvert_exporter": "python",
   "pygments_lexer": "ipython3",
   "version": "3.9.4"
  }
 },
 "nbformat": 4,
 "nbformat_minor": 5
}
