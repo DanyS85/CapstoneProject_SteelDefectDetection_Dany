{
 "cells": [
  {
   "cell_type": "code",
   "execution_count": null,
   "id": "6bfc6522-3b7f-4105-a961-dbb1ad514157",
   "metadata": {},
   "outputs": [],
   "source": [
    "import matplotlib.pyplot as plt\n",
    "from skimage import io\n",
    "from skimage import color\n",
    "from skimage.transform import resize\n",
    "import math\n",
    "from skimage.feature import hog\n",
    "import numpy as np\n",
    "import pandas as pd\n",
    "from PIL import Image\n",
    "from skimage import data, exposure\n",
    "import seaborn as sns\n",
    "from imblearn.over_sampling import RandomOverSampler"
   ]
  },
  {
   "cell_type": "code",
   "execution_count": null,
   "id": "8a6cfa37-432f-4963-a7f6-a6eaf5465ce0",
   "metadata": {},
   "outputs": [],
   "source": [
    "# self-written scripts\n",
    "import sys\n",
    "sys.path.insert(0, 'Python_Scripts')\n",
    "\n",
    "import util"
   ]
  },
  {
   "cell_type": "code",
   "execution_count": null,
   "id": "b99da101-fa89-491a-a54b-21504bfd7e29",
   "metadata": {},
   "outputs": [],
   "source": [
    "!pip install seaborn"
   ]
  },
  {
   "cell_type": "code",
   "execution_count": null,
   "id": "508d4c01-ded7-46ba-82f3-b9a806e91861",
   "metadata": {},
   "outputs": [],
   "source": [
    "!pip install imblearn"
   ]
  },
  {
   "cell_type": "code",
   "execution_count": null,
   "id": "6e98c659-508c-4d9c-8c8f-fa56a048cdd2",
   "metadata": {},
   "outputs": [],
   "source": [
    "!pip install scikit-learn"
   ]
  },
  {
   "cell_type": "code",
   "execution_count": null,
   "id": "53049e54-adfc-4e0d-8592-16dc33039f6e",
   "metadata": {},
   "outputs": [],
   "source": [
    "df = pd.read_csv('data/train_complete.csv')"
   ]
  },
  {
   "cell_type": "code",
   "execution_count": null,
   "id": "37af16d3-acd3-4cac-9574-a012aa09b424",
   "metadata": {},
   "outputs": [],
   "source": [
    "hog = pd.read_csv('data/train_HOG.csv')"
   ]
  },
  {
   "cell_type": "code",
   "execution_count": null,
   "id": "1e9e98c4-acbd-400e-a87c-6655780834a3",
   "metadata": {},
   "outputs": [],
   "source": [
    "# Count occurrences of `ImageId` in df\n",
    "df['count'] = df.ImageId.apply(lambda x: df['ImageId'].value_counts()[x])"
   ]
  },
  {
   "cell_type": "code",
   "execution_count": null,
   "id": "e05fe91f-8e66-4775-870a-3d277c4711e5",
   "metadata": {},
   "outputs": [],
   "source": []
  },
  {
   "cell_type": "code",
   "execution_count": null,
   "id": "910d4c25-2f2a-467e-af5f-8f19e4e7b0dc",
   "metadata": {},
   "outputs": [],
   "source": [
    "# isolate `ImageIds` for images with defect\n",
    "single_defects = df.query('count > 1').ImageId.to_numpy()\n",
    "\n",
    "indices = []\n",
    "for idx, row in hog.iterrows():\n",
    "    if row.ImageId in single_defects:\n",
    "        indices.append(idx)\n",
    "        \n",
    "hog.drop(indices, inplace=True)"
   ]
  },
  {
   "cell_type": "code",
   "execution_count": null,
   "id": "1e02f2fb-f633-4532-928f-ed278e88a817",
   "metadata": {},
   "outputs": [],
   "source": [
    "hog_complete = hog.merge(df[['ClassId','ImageId']], on = 'ImageId')\n",
    "hog_complete.head()"
   ]
  },
  {
   "cell_type": "code",
   "execution_count": null,
   "id": "0d5b67ad-2cde-4acf-8136-a952df5a3537",
   "metadata": {},
   "outputs": [],
   "source": [
    "#Split Hog_complete in X und Y\n",
    "X = hog_complete.drop(['ClassId','ImageId'], axis =1)\n",
    "y = hog_complete['ClassId']\n",
    "y"
   ]
  },
  {
   "cell_type": "code",
   "execution_count": null,
   "id": "bdd6b52c-dbcb-40f5-bc49-daa9c14813b4",
   "metadata": {},
   "outputs": [],
   "source": [
    "#Oversampling\n",
    "ros = RandomOverSampler(random_state=42)\n",
    "X_ros, y_ros = ros.fit_resample(X, y)"
   ]
  },
  {
   "cell_type": "code",
   "execution_count": null,
   "id": "ebdb4a5a-419d-44e8-8839-173165360df1",
   "metadata": {},
   "outputs": [],
   "source": [
    "from sklearn.model_selection import train_test_split\n",
    "# Split without oversampled data\n",
    "#X_train, X_test, y_train, y_test = train_test_split(X,y,test_size=0.2,stratify=y)\n",
    "# Split with oversampling\n",
    "X_train, X_test, y_train, y_test = train_test_split(X_ros,y_ros,test_size=0.2,stratify=y_ros)\n",
    "print('Training data and target sizes: \\n{}, {}'.format(X_train.shape,y_train.shape))\n",
    "print('Test data and target sizes: \\n{}, {}'.format(X_test.shape,y_test.shape))"
   ]
  },
  {
   "cell_type": "code",
   "execution_count": null,
   "id": "93fd7e7c-2a75-42e2-ba72-597bfa4c29d2",
   "metadata": {},
   "outputs": [],
   "source": [
    "from sklearn.neighbors import KNeighborsClassifier\n",
    "from sklearn import metrics\n"
   ]
  },
  {
   "cell_type": "code",
   "execution_count": null,
   "id": "7089cc6f-6c7d-4f47-bba7-2fe3fc50c8a4",
   "metadata": {},
   "outputs": [],
   "source": [
    "from sklearn.preprocessing import StandardScaler"
   ]
  },
  {
   "cell_type": "code",
   "execution_count": null,
   "id": "e1bb9293-5668-4ddb-8302-c7c4fe364255",
   "metadata": {},
   "outputs": [],
   "source": [
    "test_accuracy = []\n",
    "scaler = StandardScaler()\n",
    "X_train_scaled = scaler.fit_transform(X_train)\n",
    "X_test_scaled = scaler.transform(X_test)\n",
    "\n",
    "classifier = KNeighborsClassifier(n_neighbors=3,algorithm='brute')\n",
    "classifier.fit(X_train_scaled, y_train)\n",
    "\n",
    "y_pred = classifier.predict(X_test_scaled)\n",
    "test_accuracy = classifier.score((X_test_scaled), y_test)\n",
    "print(test_accuracy)"
   ]
  },
  {
   "cell_type": "code",
   "execution_count": null,
   "id": "4cb420c1-71e9-47b7-b72f-b563d4b451aa",
   "metadata": {},
   "outputs": [],
   "source": [
    "print(metrics.confusion_matrix(y_test,y_pred))\n",
    "# Print confusion matrix\n",
    "sns.heatmap(metrics.confusion_matrix(y_test, y_pred), annot=True, cmap='YlGn');"
   ]
  },
  {
   "cell_type": "code",
   "execution_count": null,
   "id": "8c2ba3bf-0a2c-4dfc-9b26-2891a79b1443",
   "metadata": {},
   "outputs": [],
   "source": [
    "print(metrics.classification_report(y_test, y_pred))"
   ]
  },
  {
   "cell_type": "markdown",
   "id": "4180957e-b4ba-4687-80c7-b95daee3f638",
   "metadata": {},
   "source": [
    "# results without oversampling   \n",
    "    \n",
    "    precision    recall  f1-score   support\n",
    "\n",
    "           0       0.75      0.89      0.81      1181\n",
    "           1       0.48      0.64      0.55       154\n",
    "           2       0.32      0.72      0.44        39\n",
    "           3       0.87      0.67      0.76       952\n",
    "           4       0.33      0.01      0.02       103\n",
    "\n",
    "    accuracy                           0.75      2429\n",
    "   macro avg       0.55      0.58      0.52      2429\n",
    "weighted avg       0.75      0.75      0.73      2429"
   ]
  },
  {
   "cell_type": "markdown",
   "id": "3257ea1b-a78c-463b-8b67-0432f37fd6ff",
   "metadata": {},
   "source": [
    "---\n",
    "\n",
    "## SURF"
   ]
  },
  {
   "cell_type": "code",
   "execution_count": null,
   "id": "7a808c49-41ec-406c-953e-8ede71066488",
   "metadata": {},
   "outputs": [],
   "source": [
    "surf = pd.read_csv('data/train_surf.csv')"
   ]
  },
  {
   "cell_type": "code",
   "execution_count": null,
   "id": "fb0a7b0e-5068-4600-bf6d-35cbd7a2ceb9",
   "metadata": {},
   "outputs": [],
   "source": [
    "util.isolate_single_defects(surf)"
   ]
  },
  {
   "cell_type": "code",
   "execution_count": null,
   "id": "7d60e234-e7b1-4647-9694-fd70dd282103",
   "metadata": {},
   "outputs": [],
   "source": []
  }
 ],
 "metadata": {
  "kernelspec": {
   "display_name": "Python 3 (ipykernel)",
   "language": "python",
   "name": "python3"
  },
  "language_info": {
   "codemirror_mode": {
    "name": "ipython",
    "version": 3
   },
   "file_extension": ".py",
   "mimetype": "text/x-python",
   "name": "python",
   "nbconvert_exporter": "python",
   "pygments_lexer": "ipython3",
   "version": "3.9.4"
  }
 },
 "nbformat": 4,
 "nbformat_minor": 5
}
