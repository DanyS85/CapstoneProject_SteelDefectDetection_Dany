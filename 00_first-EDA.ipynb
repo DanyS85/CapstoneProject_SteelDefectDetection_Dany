{
 "cells": [
  {
   "cell_type": "code",
   "execution_count": null,
   "id": "6f9950fe-c4b9-4b39-bd2d-0a7ea17d8438",
   "metadata": {},
   "outputs": [],
   "source": [
    "!pip install pandas"
   ]
  },
  {
   "cell_type": "code",
   "execution_count": null,
   "id": "2b66d756-31e6-43c3-a3a5-d20142290456",
   "metadata": {},
   "outputs": [],
   "source": [
    "import pandas as pd\n",
    "import numpy as np\n",
    "import seaborn as sns"
   ]
  },
  {
   "cell_type": "code",
   "execution_count": null,
   "id": "6418aaaf-9aba-416c-be5f-cab72d4cbce4",
   "metadata": {},
   "outputs": [],
   "source": [
    "!pip install seaborn"
   ]
  },
  {
   "cell_type": "code",
   "execution_count": null,
   "id": "d6ef2ca2-1410-4db7-b514-0ef13093088f",
   "metadata": {},
   "outputs": [],
   "source": [
    "df = pd.read_csv('data/train.csv')"
   ]
  },
  {
   "cell_type": "markdown",
   "id": "af0ec1d4-f440-4f7f-a2e4-d10eebce4ed9",
   "metadata": {},
   "source": [
    "---\n",
    "\n",
    "### Expansion of Variables for EDA"
   ]
  },
  {
   "cell_type": "markdown",
   "id": "39c8d91f-b9e8-4f29-a088-8f45e304339e",
   "metadata": {},
   "source": [
    "In the following we are expanding our data frame to generate additional insights about our data. Looking at the `train.csv` file it becomes clear that for every defect (`ClassId`) there is a seperate line. This means also that if there is more than one defect on an image, there will be separate lines for the respective `ImageId`."
   ]
  },
  {
   "cell_type": "code",
   "execution_count": null,
   "id": "ac92938b-73b2-484c-ad04-b13aa9614512",
   "metadata": {},
   "outputs": [],
   "source": [
    "# Count occurrences of `ImageId` in df\n",
    "df['count'] = df.ImageId.apply(lambda x: df['ImageId'].value_counts()[x])"
   ]
  },
  {
   "cell_type": "code",
   "execution_count": null,
   "id": "e9112777-f3df-46a8-8705-c1a70c9d7547",
   "metadata": {},
   "outputs": [],
   "source": [
    "df.head(7)"
   ]
  },
  {
   "cell_type": "markdown",
   "id": "ceefc25f-581d-4125-aafb-29f1377a3396",
   "metadata": {},
   "source": [
    "The `EncodedPixels` are encoded in the following way:\n",
    "\n",
    "- columns are scanned from top to bottom (256 pixels per column)\n",
    "- pixels are numbered from 1 to 409,600 (256 x 1600)\n",
    "- the first number in `EncodedPixels` shows the start of a recognized defect in the image\n",
    "- the second number in `EncodedPixels` number of consecutive pixels that belong to the recognized defect in the image\n",
    "\n",
    "In the following we are looking at the size of defects in an image as total pixels the belong to the `ClassId` per `ImageId`."
   ]
  },
  {
   "cell_type": "code",
   "execution_count": null,
   "id": "34e19ef4-5b72-4b7f-a525-cccf5d42efd9",
   "metadata": {},
   "outputs": [],
   "source": [
    "def count_defect_pixels(EncodedPixels):\n",
    "    sum = 0\n",
    "    for idx, pixel in enumerate(EncodedPixels.split()):\n",
    "        if idx%2 != 0:\n",
    "            sum += int(pixel)\n",
    "\n",
    "    return sum"
   ]
  },
  {
   "cell_type": "code",
   "execution_count": null,
   "id": "a99a64e0-23ab-4e35-8efc-dbea873e551e",
   "metadata": {},
   "outputs": [],
   "source": [
    "df['DefectSizePixel'] = df.EncodedPixels.apply(lambda x: count_defect_pixels(x))\n",
    "df.head()"
   ]
  },
  {
   "cell_type": "code",
   "execution_count": null,
   "id": "e2c23704-98ab-44ae-8e19-eb13a4a26f01",
   "metadata": {},
   "outputs": [],
   "source": [
    "df.groupby('ClassId')['DefectSizePixel'].mean().reset_index()"
   ]
  },
  {
   "cell_type": "markdown",
   "id": "d18533c4-3258-4bf3-8e67-abb0741b3670",
   "metadata": {},
   "source": [
    "It becomes clear that, on average, defects of `ClassId` 3 and 4 are much bigger in size."
   ]
  },
  {
   "cell_type": "code",
   "execution_count": null,
   "id": "74fec32e-7565-43ff-a18c-177923560f88",
   "metadata": {},
   "outputs": [],
   "source": [
    "!pip3 install opencv-python"
   ]
  },
  {
   "cell_type": "code",
   "execution_count": null,
   "id": "a62932ac-3f72-4034-bb7b-487d09b4458b",
   "metadata": {},
   "outputs": [],
   "source": [
    "pip install --upgrade pip"
   ]
  },
  {
   "cell_type": "code",
   "execution_count": null,
   "id": "919985b9-4f26-4c5a-9e75-692b02bcede9",
   "metadata": {},
   "outputs": [],
   "source": [
    "# Calculate fraction of defect relative to the picture size\n",
    "import cv2\n",
    "\n",
    "def get_image_height(image):\n",
    "    image = cv2.imread('data/train_images/' + image) # read an image by its path\n",
    "    return image.shape[0] # image.shape returns a tupel (height, width, depth)\n",
    "\n",
    "def get_image_width(image):\n",
    "    image = cv2.imread('data/train_images/' + image)\n",
    "    return image.shape[1]\n",
    "\n",
    "def get_image_depth(image):\n",
    "    image = cv2.imread('data/train_images/' + image)\n",
    "    return image.shape[2]"
   ]
  },
  {
   "cell_type": "code",
   "execution_count": null,
   "id": "ac8f49b9-9e05-416e-b9e1-4b6f68d4584f",
   "metadata": {},
   "outputs": [],
   "source": [
    "# Create columns for `Height`, `Width`, and `Depth`\n",
    "df['Height'] = df.ImageId.apply(lambda x: get_image_height(x))\n",
    "df['Width'] = df.ImageId.apply(lambda x: get_image_width(x))\n",
    "df['Depth'] = df.ImageId.apply(lambda x: get_image_depth(x))\n",
    "\n",
    "df['DefectSizePixelRelative'] = df.DefectSizePixel / (df.Height * df.Width)"
   ]
  },
  {
   "cell_type": "code",
   "execution_count": null,
   "id": "227869f4-49cd-4307-8d65-7649ce20ae32",
   "metadata": {},
   "outputs": [],
   "source": [
    "df.head()"
   ]
  },
  {
   "cell_type": "code",
   "execution_count": null,
   "id": "3004c748-19fa-419a-932d-7852aa54e2a9",
   "metadata": {},
   "outputs": [],
   "source": [
    "# Check whether we have different dimensions for pictures\n",
    "df.describe()"
   ]
  },
  {
   "cell_type": "code",
   "execution_count": null,
   "id": "76a10f81-e0ae-408c-a347-00d880519111",
   "metadata": {},
   "outputs": [],
   "source": [
    "df.groupby('ClassId')['DefectSizePixelRelative'].mean().reset_index()"
   ]
  },
  {
   "cell_type": "markdown",
   "id": "25f93cf8-ca98-40a4-b09f-1eadb581d1cd",
   "metadata": {},
   "source": [
    "Relative defect size on average reaches up to 8.4% for defect class 4. As we can see above, however, the maximum coverage of a defect may reach **up to 89.9%** of the respective image.\n",
    "\n",
    "Let's have a look at TOP5 and BOTTOM5 for `DefectSizePixelRelative`:"
   ]
  },
  {
   "cell_type": "code",
   "execution_count": null,
   "id": "02a6e8a1-0a61-405f-9e4c-a0feccb23d10",
   "metadata": {},
   "outputs": [],
   "source": [
    "TOP5 = df.query('DefectSizePixelRelative > 0.7')[['ImageId','ClassId','DefectSizePixelRelative','count']]\\\n",
    "    .sort_values(by='DefectSizePixelRelative', ascending = False)[:5]\n",
    "\n",
    "# save names of TOP5\n",
    "TOP5_names = TOP5.ImageId.tolist()"
   ]
  },
  {
   "cell_type": "code",
   "execution_count": null,
   "id": "a02629dd-049b-437e-b9a8-d54bb4bcbeb5",
   "metadata": {},
   "outputs": [],
   "source": [
    "# Cross-check whether TOP5 belongs to single defects or if there are mixed defects as well\n",
    "df.groupby('ImageId').sum()[['DefectSizePixelRelative','count']]\\\n",
    "    .reset_index().sort_values(by='DefectSizePixelRelative', ascending=False)[:30]"
   ]
  },
  {
   "cell_type": "markdown",
   "id": "6d3525e0-324d-4c53-8e6e-e79e7db1c01f",
   "metadata": {},
   "source": [
    "We see that mostly defects of a single `ClassId` reach high scores. There is one interesting case in the TOP30 where more than 1 `ClassId` was involved to produce **0.586%** of relative error. The `ImageId` is \"fb9558035.jpg\"."
   ]
  },
  {
   "cell_type": "code",
   "execution_count": null,
   "id": "bd58596e-a801-4c4f-8d72-a0352f7bd049",
   "metadata": {},
   "outputs": [],
   "source": [
    "df_duplicates = df.query('count > 1')\n",
    "df_duplicates.info()"
   ]
  },
  {
   "cell_type": "code",
   "execution_count": null,
   "id": "f4e563ec-73eb-458e-8dea-7310d84b1e4d",
   "metadata": {},
   "outputs": [],
   "source": [
    "df.groupby('ClassId').count()"
   ]
  },
  {
   "cell_type": "markdown",
   "id": "92acee0e-8e6b-44cd-8f00-150b2cc5be14",
   "metadata": {},
   "source": [
    "--> there is a strong **imbalance** in the representation of different defect type:\n",
    "- error 1 = 0.135 %\n",
    "- error 2 = 0.037 %\n",
    "- error 3 = 0.773 % of all images\n",
    "- error 4 = 0.120 %"
   ]
  },
  {
   "cell_type": "code",
   "execution_count": null,
   "id": "88e80eee-06af-494c-b250-5d2015da2d93",
   "metadata": {},
   "outputs": [],
   "source": [
    "# Dimension of our pictures\n",
    "1600*256"
   ]
  },
  {
   "cell_type": "code",
   "execution_count": null,
   "id": "94ec7448-cf4a-4c91-844a-5373e6ea19c1",
   "metadata": {},
   "outputs": [],
   "source": [
    "print(f\"The training data has {df.ImageId.nunique()} unique image IDs\")"
   ]
  },
  {
   "cell_type": "markdown",
   "id": "7329f65e-d679-4a87-8c93-d1e10703fed6",
   "metadata": {},
   "source": [
    "### To-Dos Daniela"
   ]
  },
  {
   "cell_type": "code",
   "execution_count": null,
   "id": "ddd1d533-cbde-4005-b0f1-9eb09952975d",
   "metadata": {},
   "outputs": [],
   "source": []
  },
  {
   "cell_type": "code",
   "execution_count": null,
   "id": "aef9a7b9-a658-4a79-9c12-520067dd72d9",
   "metadata": {},
   "outputs": [],
   "source": [
    "df_classes=df_duplicates.groupby('ImageId')['ClassId'].sum().reset_index()\n",
    "df_classes.rename(columns={'ClassId': 'SumClasses'}, inplace=True)\n",
    "df_classes.head()"
   ]
  },
  {
   "cell_type": "code",
   "execution_count": null,
   "id": "455f2ff2-df3b-4e2c-94e8-030714034cd5",
   "metadata": {},
   "outputs": [],
   "source": [
    "sns.histplot(df_classes)"
   ]
  },
  {
   "cell_type": "code",
   "execution_count": null,
   "id": "ed5cc2f1-b8a0-4146-8db2-50427414099e",
   "metadata": {},
   "outputs": [],
   "source": [
    "# separate dataframes for image with 2 and 3 classes per Image\n",
    "df_duplicates2 = df.query('1 < count < 3')\n",
    "df_duplicates3 = df.query('count > 2')\n",
    "df_duplicates2.info()\n",
    "df_duplicates3.info()"
   ]
  },
  {
   "cell_type": "code",
   "execution_count": null,
   "id": "9468bb72-61cd-4e34-b8ea-308d91f01ea0",
   "metadata": {},
   "outputs": [],
   "source": [
    "# create pivot table for Images with 2 classes per Image\n",
    "pivot1 = pd.pivot_table(df_duplicates2, index='ImageId', columns='ClassId', values='count', aggfunc = 'count', fill_value=0)\n",
    "pivot1"
   ]
  },
  {
   "cell_type": "code",
   "execution_count": null,
   "id": "fdf8371c-a6d6-4866-afd0-ae506bd98982",
   "metadata": {},
   "outputs": [],
   "source": [
    "# merge df_classes with pivot 1\n",
    "result2 = pd.merge(df_classes, pivot1, on=\"ImageId\")\n",
    "result2.head()"
   ]
  },
  {
   "cell_type": "code",
   "execution_count": null,
   "id": "81db6275-e387-406b-9c24-c28a71efcdc5",
   "metadata": {},
   "outputs": [],
   "source": [
    "# create interaction matrix for defect classes (2 classes per Image)\n",
    "result2.rename(columns={1: '1',2: '2',3: '3',4: '4'}, inplace=True)\n",
    "temp = result2[['1','2','3','4']]\n",
    "a= temp.T.dot(temp)\n",
    "a"
   ]
  },
  {
   "cell_type": "code",
   "execution_count": null,
   "id": "f4762023-48ca-4643-a1bb-fc4dbc81e898",
   "metadata": {},
   "outputs": [],
   "source": [
    "# create pivot table for Images with 3 classes per Image\n",
    "pivot2 = pd.pivot_table(df_duplicates3, index='ImageId', columns='ClassId', values='count', aggfunc = 'count', fill_value=0)\n",
    "pivot2"
   ]
  },
  {
   "cell_type": "code",
   "execution_count": null,
   "id": "a5204db9-160b-46a6-a024-382a92691fd9",
   "metadata": {},
   "outputs": [],
   "source": [
    "# merge df_classes with pivot 2 \n",
    "result3 = pd.merge(df_classes, pivot2, on=\"ImageId\")\n",
    "result3.head()"
   ]
  },
  {
   "cell_type": "code",
   "execution_count": null,
   "id": "10e40a89-e48c-4457-a0cc-51812224e6b7",
   "metadata": {},
   "outputs": [],
   "source": [
    "# create interaction matrix for defect classes (3 classes per Image)\n",
    "result3.rename(columns={1: '1',2: '2',3: '3'}, inplace=True)\n",
    "temp = result3[['1','2','3']]\n",
    "a= temp.T.dot(temp)\n",
    "a"
   ]
  },
  {
   "cell_type": "code",
   "execution_count": null,
   "id": "aa021ec8-0e25-4e1f-b956-f61df432e612",
   "metadata": {},
   "outputs": [],
   "source": []
  }
 ],
 "metadata": {
  "kernelspec": {
   "display_name": "Python 3 (ipykernel)",
   "language": "python",
   "name": "python3"
  },
  "language_info": {
   "codemirror_mode": {
    "name": "ipython",
    "version": 3
   },
   "file_extension": ".py",
   "mimetype": "text/x-python",
   "name": "python",
   "nbconvert_exporter": "python",
   "pygments_lexer": "ipython3",
   "version": "3.9.4"
  }
 },
 "nbformat": 4,
 "nbformat_minor": 5
}
