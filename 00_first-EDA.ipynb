{
 "cells": [
  {
   "cell_type": "code",
   "execution_count": null,
   "id": "6f9950fe-c4b9-4b39-bd2d-0a7ea17d8438",
   "metadata": {},
   "outputs": [],
   "source": [
    "!pip install pandas"
   ]
  },
  {
   "cell_type": "code",
   "execution_count": null,
   "id": "2b66d756-31e6-43c3-a3a5-d20142290456",
   "metadata": {},
   "outputs": [],
   "source": [
    "import pandas as pd\n",
    "import numpy as np\n",
    "import seaborn as sns"
   ]
  },
  {
   "cell_type": "code",
   "execution_count": null,
   "id": "d6ef2ca2-1410-4db7-b514-0ef13093088f",
   "metadata": {},
   "outputs": [],
   "source": [
    "df = pd.read_csv('data/train.csv')"
   ]
  },
  {
   "cell_type": "code",
   "execution_count": null,
   "id": "ac92938b-73b2-484c-ad04-b13aa9614512",
   "metadata": {},
   "outputs": [],
   "source": [
    "# Count occurrences of `ImageId` in df\n",
    "df['count'] = df.ImageId.apply(lambda x: df['ImageId'].value_counts()[x])"
   ]
  },
  {
   "cell_type": "code",
   "execution_count": null,
   "id": "e9112777-f3df-46a8-8705-c1a70c9d7547",
   "metadata": {},
   "outputs": [],
   "source": [
    "df.head(10)"
   ]
  },
  {
   "cell_type": "code",
   "execution_count": null,
   "id": "bd58596e-a801-4c4f-8d72-a0352f7bd049",
   "metadata": {},
   "outputs": [],
   "source": [
    "df_duplicates = df.query('count > 1')\n",
    "df_duplicates.info()"
   ]
  },
  {
   "cell_type": "code",
   "execution_count": null,
   "id": "f4e563ec-73eb-458e-8dea-7310d84b1e4d",
   "metadata": {},
   "outputs": [],
   "source": [
    "df.groupby('ClassId').count()"
   ]
  },
  {
   "cell_type": "markdown",
   "id": "92acee0e-8e6b-44cd-8f00-150b2cc5be14",
   "metadata": {},
   "source": [
    "--> there is a strong **imbalance** in the representation of different defect type:\n",
    "- error 1 = 0.135 %\n",
    "- error 2 = 0.037 %\n",
    "- error 3 = 0.773 % of all images\n",
    "- error 4 = 0.120 %"
   ]
  },
  {
   "cell_type": "code",
   "execution_count": null,
   "id": "88e80eee-06af-494c-b250-5d2015da2d93",
   "metadata": {},
   "outputs": [],
   "source": [
    "# Dimension of our pictures\n",
    "1600*256"
   ]
  },
  {
   "cell_type": "code",
   "execution_count": null,
   "id": "94ec7448-cf4a-4c91-844a-5373e6ea19c1",
   "metadata": {},
   "outputs": [],
   "source": [
    "print(f\"The training data has {df.ImageId.nunique()} unique image IDs\")"
   ]
  },
  {
   "cell_type": "markdown",
   "id": "7329f65e-d679-4a87-8c93-d1e10703fed6",
   "metadata": {},
   "source": [
    "### To-Dos Daniela"
   ]
  },
  {
   "cell_type": "code",
   "execution_count": null,
   "id": "ddd1d533-cbde-4005-b0f1-9eb09952975d",
   "metadata": {},
   "outputs": [],
   "source": []
  },
  {
   "cell_type": "code",
   "execution_count": null,
   "id": "aef9a7b9-a658-4a79-9c12-520067dd72d9",
   "metadata": {},
   "outputs": [],
   "source": [
    "df_classes=df_duplicates.groupby('ImageId')['ClassId'].sum().reset_index()\n",
    "df_classes.rename(columns={'ClassId': 'SumClasses'}, inplace=True)\n",
    "df_classes.head()"
   ]
  },
  {
   "cell_type": "code",
   "execution_count": null,
   "id": "455f2ff2-df3b-4e2c-94e8-030714034cd5",
   "metadata": {},
   "outputs": [],
   "source": [
    "sns.histplot(df_classes)"
   ]
  },
  {
   "cell_type": "code",
   "execution_count": null,
   "id": "9468bb72-61cd-4e34-b8ea-308d91f01ea0",
   "metadata": {},
   "outputs": [],
   "source": [
    "pivot1 = pd.pivot_table(df_duplicates, index='ImageId', columns='ClassId', values='count', aggfunc = 'count', fill_value=0)\n",
    "pivot1"
   ]
  },
  {
   "cell_type": "code",
   "execution_count": null,
   "id": "232ce427-05d7-4797-b916-d40ce8662048",
   "metadata": {},
   "outputs": [],
   "source": [
    "pivot2 = pd.pivot_table(df_duplicates, index='ClassId', columns='ClassId', values='ImageId', aggfunc = 'count', fill_value=0)\n",
    "pivot2"
   ]
  },
  {
   "cell_type": "code",
   "execution_count": null,
   "id": "5c77ec8b-e088-4059-adce-4ccdb1092429",
   "metadata": {},
   "outputs": [],
   "source": [
    "pivot1[1]=pivot1[1].astype(int)"
   ]
  },
  {
   "cell_type": "code",
   "execution_count": null,
   "id": "1697dd4a-ae9d-4ef5-9bef-f592e9dbb3bb",
   "metadata": {},
   "outputs": [],
   "source": [
    "\n",
    "ax = df.T.plot(kind='hist', ylabel='ClassId')"
   ]
  },
  {
   "cell_type": "code",
   "execution_count": null,
   "id": "f937c9df-a10e-483e-9c22-35da3a58ff79",
   "metadata": {},
   "outputs": [],
   "source": [
    "result = pd.merge(df_classes, pivot1, on=\"ImageId\")\n",
    "result.head()"
   ]
  },
  {
   "cell_type": "code",
   "execution_count": null,
   "id": "24d3e3d5-39e9-4a23-b12e-3abb1cb7f1bc",
   "metadata": {},
   "outputs": [],
   "source": [
    "result.info"
   ]
  },
  {
   "cell_type": "code",
   "execution_count": null,
   "id": "81db6275-e387-406b-9c24-c28a71efcdc5",
   "metadata": {},
   "outputs": [],
   "source": [
    "#df.astype(int).T.dot(df)\n",
    "result.rename(columns={1: '1',2: '2',3: '3',4: '4'}, inplace=True)\n",
    "#temp = result.columns.values.tolist()\n",
    "temp = result[['1','2','3','4']]\n",
    "a= temp.T.dot(temp)\n",
    "a\n",
    "#temp"
   ]
  },
  {
   "cell_type": "code",
   "execution_count": null,
   "id": "f4762023-48ca-4643-a1bb-fc4dbc81e898",
   "metadata": {},
   "outputs": [],
   "source": []
  }
 ],
 "metadata": {
  "kernelspec": {
   "display_name": "Python 3 (ipykernel)",
   "language": "python",
   "name": "python3"
  },
  "language_info": {
   "codemirror_mode": {
    "name": "ipython",
    "version": 3
   },
   "file_extension": ".py",
   "mimetype": "text/x-python",
   "name": "python",
   "nbconvert_exporter": "python",
   "pygments_lexer": "ipython3",
   "version": "3.9.4"
  }
 },
 "nbformat": 4,
 "nbformat_minor": 5
}
