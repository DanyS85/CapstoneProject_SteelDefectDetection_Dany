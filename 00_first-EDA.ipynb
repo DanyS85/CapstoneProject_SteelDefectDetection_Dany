{
 "cells": [
  {
   "cell_type": "code",
   "execution_count": 2,
   "id": "6f9950fe-c4b9-4b39-bd2d-0a7ea17d8438",
   "metadata": {},
   "outputs": [
    {
     "name": "stdout",
     "output_type": "stream",
     "text": [
      "Requirement already satisfied: pandas in /Users/fabioteichmann/.pyenv/versions/3.9.4/lib/python3.9/site-packages (1.3.5)\n",
      "Requirement already satisfied: numpy>=1.20.0 in /Users/fabioteichmann/.pyenv/versions/3.9.4/lib/python3.9/site-packages (from pandas) (1.21.4)\n",
      "Requirement already satisfied: python-dateutil>=2.7.3 in /Users/fabioteichmann/.pyenv/versions/3.9.4/lib/python3.9/site-packages (from pandas) (2.8.2)\n",
      "Requirement already satisfied: pytz>=2017.3 in /Users/fabioteichmann/.pyenv/versions/3.9.4/lib/python3.9/site-packages (from pandas) (2021.3)\n",
      "Requirement already satisfied: six>=1.5 in /Users/fabioteichmann/.pyenv/versions/3.9.4/lib/python3.9/site-packages (from python-dateutil>=2.7.3->pandas) (1.16.0)\n",
      "\u001b[33mWARNING: You are using pip version 21.3.1; however, version 22.0.2 is available.\n",
      "You should consider upgrading via the '/Users/fabioteichmann/.pyenv/versions/3.9.4/bin/python3.9 -m pip install --upgrade pip' command.\u001b[0m\n"
     ]
    }
   ],
   "source": [
    "!pip install pandas"
   ]
  },
  {
   "cell_type": "code",
   "execution_count": 3,
   "id": "2b66d756-31e6-43c3-a3a5-d20142290456",
   "metadata": {},
   "outputs": [],
   "source": [
    "import pandas as pd\n",
    "import numpy as np\n",
    "import seaborn as sns"
   ]
  },
  {
   "cell_type": "code",
   "execution_count": null,
   "id": "d6ef2ca2-1410-4db7-b514-0ef13093088f",
   "metadata": {},
   "outputs": [],
   "source": [
    "df = pd.read_csv('data/train.csv')"
   ]
  },
  {
   "cell_type": "code",
   "execution_count": 5,
   "id": "ac92938b-73b2-484c-ad04-b13aa9614512",
   "metadata": {},
   "outputs": [],
   "source": [
    "# Count occurrences of `ImageId` in df\n",
    "df['count'] = df.ImageId.apply(lambda x: df['ImageId'].value_counts()[x])"
   ]
  },
  {
   "cell_type": "code",
   "execution_count": 6,
   "id": "e9112777-f3df-46a8-8705-c1a70c9d7547",
   "metadata": {},
   "outputs": [
    {
     "data": {
      "text/html": [
       "<div>\n",
       "<style scoped>\n",
       "    .dataframe tbody tr th:only-of-type {\n",
       "        vertical-align: middle;\n",
       "    }\n",
       "\n",
       "    .dataframe tbody tr th {\n",
       "        vertical-align: top;\n",
       "    }\n",
       "\n",
       "    .dataframe thead th {\n",
       "        text-align: right;\n",
       "    }\n",
       "</style>\n",
       "<table border=\"1\" class=\"dataframe\">\n",
       "  <thead>\n",
       "    <tr style=\"text-align: right;\">\n",
       "      <th></th>\n",
       "      <th>ImageId</th>\n",
       "      <th>ClassId</th>\n",
       "      <th>EncodedPixels</th>\n",
       "      <th>count</th>\n",
       "    </tr>\n",
       "  </thead>\n",
       "  <tbody>\n",
       "    <tr>\n",
       "      <th>0</th>\n",
       "      <td>0002cc93b.jpg</td>\n",
       "      <td>1</td>\n",
       "      <td>29102 12 29346 24 29602 24 29858 24 30114 24 3...</td>\n",
       "      <td>1</td>\n",
       "    </tr>\n",
       "    <tr>\n",
       "      <th>1</th>\n",
       "      <td>0007a71bf.jpg</td>\n",
       "      <td>3</td>\n",
       "      <td>18661 28 18863 82 19091 110 19347 110 19603 11...</td>\n",
       "      <td>1</td>\n",
       "    </tr>\n",
       "    <tr>\n",
       "      <th>2</th>\n",
       "      <td>000a4bcdd.jpg</td>\n",
       "      <td>1</td>\n",
       "      <td>37607 3 37858 8 38108 14 38359 20 38610 25 388...</td>\n",
       "      <td>1</td>\n",
       "    </tr>\n",
       "    <tr>\n",
       "      <th>3</th>\n",
       "      <td>000f6bf48.jpg</td>\n",
       "      <td>4</td>\n",
       "      <td>131973 1 132228 4 132483 6 132738 8 132993 11 ...</td>\n",
       "      <td>1</td>\n",
       "    </tr>\n",
       "    <tr>\n",
       "      <th>4</th>\n",
       "      <td>0014fce06.jpg</td>\n",
       "      <td>3</td>\n",
       "      <td>229501 11 229741 33 229981 55 230221 77 230468...</td>\n",
       "      <td>1</td>\n",
       "    </tr>\n",
       "    <tr>\n",
       "      <th>5</th>\n",
       "      <td>0025bde0c.jpg</td>\n",
       "      <td>3</td>\n",
       "      <td>8458 14 8707 35 8963 48 9219 71 9475 88 9731 8...</td>\n",
       "      <td>2</td>\n",
       "    </tr>\n",
       "    <tr>\n",
       "      <th>6</th>\n",
       "      <td>0025bde0c.jpg</td>\n",
       "      <td>4</td>\n",
       "      <td>315139 8 315395 15 315651 16 315906 17 316162 ...</td>\n",
       "      <td>2</td>\n",
       "    </tr>\n",
       "    <tr>\n",
       "      <th>7</th>\n",
       "      <td>002af848d.jpg</td>\n",
       "      <td>4</td>\n",
       "      <td>290800 6 291055 13 291311 15 291566 18 291822 ...</td>\n",
       "      <td>1</td>\n",
       "    </tr>\n",
       "    <tr>\n",
       "      <th>8</th>\n",
       "      <td>002fc4e19.jpg</td>\n",
       "      <td>1</td>\n",
       "      <td>146021 3 146275 10 146529 40 146783 46 147038 ...</td>\n",
       "      <td>2</td>\n",
       "    </tr>\n",
       "    <tr>\n",
       "      <th>9</th>\n",
       "      <td>002fc4e19.jpg</td>\n",
       "      <td>2</td>\n",
       "      <td>145658 7 145901 20 146144 33 146386 47 146629 ...</td>\n",
       "      <td>2</td>\n",
       "    </tr>\n",
       "  </tbody>\n",
       "</table>\n",
       "</div>"
      ],
      "text/plain": [
       "         ImageId  ClassId                                      EncodedPixels  \\\n",
       "0  0002cc93b.jpg        1  29102 12 29346 24 29602 24 29858 24 30114 24 3...   \n",
       "1  0007a71bf.jpg        3  18661 28 18863 82 19091 110 19347 110 19603 11...   \n",
       "2  000a4bcdd.jpg        1  37607 3 37858 8 38108 14 38359 20 38610 25 388...   \n",
       "3  000f6bf48.jpg        4  131973 1 132228 4 132483 6 132738 8 132993 11 ...   \n",
       "4  0014fce06.jpg        3  229501 11 229741 33 229981 55 230221 77 230468...   \n",
       "5  0025bde0c.jpg        3  8458 14 8707 35 8963 48 9219 71 9475 88 9731 8...   \n",
       "6  0025bde0c.jpg        4  315139 8 315395 15 315651 16 315906 17 316162 ...   \n",
       "7  002af848d.jpg        4  290800 6 291055 13 291311 15 291566 18 291822 ...   \n",
       "8  002fc4e19.jpg        1  146021 3 146275 10 146529 40 146783 46 147038 ...   \n",
       "9  002fc4e19.jpg        2  145658 7 145901 20 146144 33 146386 47 146629 ...   \n",
       "\n",
       "   count  \n",
       "0      1  \n",
       "1      1  \n",
       "2      1  \n",
       "3      1  \n",
       "4      1  \n",
       "5      2  \n",
       "6      2  \n",
       "7      1  \n",
       "8      2  \n",
       "9      2  "
      ]
     },
     "execution_count": 6,
     "metadata": {},
     "output_type": "execute_result"
    }
   ],
   "source": [
    "df.head(10)"
   ]
  },
  {
   "cell_type": "code",
   "execution_count": 21,
   "id": "34e19ef4-5b72-4b7f-a525-cccf5d42efd9",
   "metadata": {},
   "outputs": [],
   "source": [
    "def count_defect_pixels(EncodedPixels):\n",
    "    sum = 0\n",
    "    for idx, pixel in enumerate(EncodedPixels.split()):\n",
    "        if idx%2 != 0:\n",
    "            sum += int(pixel)\n",
    "\n",
    "    return sum"
   ]
  },
  {
   "cell_type": "code",
   "execution_count": 20,
   "id": "a99a64e0-23ab-4e35-8efc-dbea873e551e",
   "metadata": {},
   "outputs": [
    {
     "data": {
      "text/html": [
       "<div>\n",
       "<style scoped>\n",
       "    .dataframe tbody tr th:only-of-type {\n",
       "        vertical-align: middle;\n",
       "    }\n",
       "\n",
       "    .dataframe tbody tr th {\n",
       "        vertical-align: top;\n",
       "    }\n",
       "\n",
       "    .dataframe thead th {\n",
       "        text-align: right;\n",
       "    }\n",
       "</style>\n",
       "<table border=\"1\" class=\"dataframe\">\n",
       "  <thead>\n",
       "    <tr style=\"text-align: right;\">\n",
       "      <th></th>\n",
       "      <th>ImageId</th>\n",
       "      <th>ClassId</th>\n",
       "      <th>EncodedPixels</th>\n",
       "      <th>count</th>\n",
       "      <th>DefectSizePixel</th>\n",
       "    </tr>\n",
       "  </thead>\n",
       "  <tbody>\n",
       "    <tr>\n",
       "      <th>0</th>\n",
       "      <td>0002cc93b.jpg</td>\n",
       "      <td>1</td>\n",
       "      <td>29102 12 29346 24 29602 24 29858 24 30114 24 3...</td>\n",
       "      <td>1</td>\n",
       "      <td>4396</td>\n",
       "    </tr>\n",
       "    <tr>\n",
       "      <th>1</th>\n",
       "      <td>0007a71bf.jpg</td>\n",
       "      <td>3</td>\n",
       "      <td>18661 28 18863 82 19091 110 19347 110 19603 11...</td>\n",
       "      <td>1</td>\n",
       "      <td>6897</td>\n",
       "    </tr>\n",
       "    <tr>\n",
       "      <th>2</th>\n",
       "      <td>000a4bcdd.jpg</td>\n",
       "      <td>1</td>\n",
       "      <td>37607 3 37858 8 38108 14 38359 20 38610 25 388...</td>\n",
       "      <td>1</td>\n",
       "      <td>8319</td>\n",
       "    </tr>\n",
       "    <tr>\n",
       "      <th>3</th>\n",
       "      <td>000f6bf48.jpg</td>\n",
       "      <td>4</td>\n",
       "      <td>131973 1 132228 4 132483 6 132738 8 132993 11 ...</td>\n",
       "      <td>1</td>\n",
       "      <td>69357</td>\n",
       "    </tr>\n",
       "    <tr>\n",
       "      <th>4</th>\n",
       "      <td>0014fce06.jpg</td>\n",
       "      <td>3</td>\n",
       "      <td>229501 11 229741 33 229981 55 230221 77 230468...</td>\n",
       "      <td>1</td>\n",
       "      <td>4851</td>\n",
       "    </tr>\n",
       "  </tbody>\n",
       "</table>\n",
       "</div>"
      ],
      "text/plain": [
       "         ImageId  ClassId                                      EncodedPixels  \\\n",
       "0  0002cc93b.jpg        1  29102 12 29346 24 29602 24 29858 24 30114 24 3...   \n",
       "1  0007a71bf.jpg        3  18661 28 18863 82 19091 110 19347 110 19603 11...   \n",
       "2  000a4bcdd.jpg        1  37607 3 37858 8 38108 14 38359 20 38610 25 388...   \n",
       "3  000f6bf48.jpg        4  131973 1 132228 4 132483 6 132738 8 132993 11 ...   \n",
       "4  0014fce06.jpg        3  229501 11 229741 33 229981 55 230221 77 230468...   \n",
       "\n",
       "   count  DefectSizePixel  \n",
       "0      1             4396  \n",
       "1      1             6897  \n",
       "2      1             8319  \n",
       "3      1            69357  \n",
       "4      1             4851  "
      ]
     },
     "execution_count": 20,
     "metadata": {},
     "output_type": "execute_result"
    }
   ],
   "source": [
    "df['DefectSizePixel'] = df.EncodedPixels.apply(lambda x: count_defect_pixels(x))\n",
    "df.head()"
   ]
  },
  {
   "cell_type": "code",
   "execution_count": 23,
   "id": "e2c23704-98ab-44ae-8e19-eb13a4a26f01",
   "metadata": {},
   "outputs": [
    {
     "data": {
      "text/html": [
       "<div>\n",
       "<style scoped>\n",
       "    .dataframe tbody tr th:only-of-type {\n",
       "        vertical-align: middle;\n",
       "    }\n",
       "\n",
       "    .dataframe tbody tr th {\n",
       "        vertical-align: top;\n",
       "    }\n",
       "\n",
       "    .dataframe thead th {\n",
       "        text-align: right;\n",
       "    }\n",
       "</style>\n",
       "<table border=\"1\" class=\"dataframe\">\n",
       "  <thead>\n",
       "    <tr style=\"text-align: right;\">\n",
       "      <th></th>\n",
       "      <th>ClassId</th>\n",
       "      <th>DefectSizePixel</th>\n",
       "    </tr>\n",
       "  </thead>\n",
       "  <tbody>\n",
       "    <tr>\n",
       "      <th>0</th>\n",
       "      <td>1</td>\n",
       "      <td>4361.347826</td>\n",
       "    </tr>\n",
       "    <tr>\n",
       "      <th>1</th>\n",
       "      <td>2</td>\n",
       "      <td>3378.425101</td>\n",
       "    </tr>\n",
       "    <tr>\n",
       "      <th>2</th>\n",
       "      <td>3</td>\n",
       "      <td>25496.485243</td>\n",
       "    </tr>\n",
       "    <tr>\n",
       "      <th>3</th>\n",
       "      <td>4</td>\n",
       "      <td>34373.997503</td>\n",
       "    </tr>\n",
       "  </tbody>\n",
       "</table>\n",
       "</div>"
      ],
      "text/plain": [
       "   ClassId  DefectSizePixel\n",
       "0        1      4361.347826\n",
       "1        2      3378.425101\n",
       "2        3     25496.485243\n",
       "3        4     34373.997503"
      ]
     },
     "execution_count": 23,
     "metadata": {},
     "output_type": "execute_result"
    }
   ],
   "source": [
    "df.groupby('ClassId')['DefectSizePixel'].mean().reset_index()"
   ]
  },
  {
   "cell_type": "markdown",
   "id": "d18533c4-3258-4bf3-8e67-abb0741b3670",
   "metadata": {},
   "source": [
    "It becomes clear that, on average, defects of `ClassId` 3 and 4 are much bigger in size."
   ]
  },
  {
   "cell_type": "code",
   "execution_count": 28,
   "id": "74fec32e-7565-43ff-a18c-177923560f88",
   "metadata": {},
   "outputs": [
    {
     "name": "stdout",
     "output_type": "stream",
     "text": [
      "Collecting opencv-python\n",
      "  Downloading opencv_python-4.5.5.62-cp37-abi3-macosx_11_0_arm64.whl (27.9 MB)\n",
      "\u001b[2K     \u001b[38;2;114;156;31m━━━━━━━━━━━━━━━━━━━━━━━━━━━━━━━━━━━━━━━━\u001b[0m \u001b[32m27.9/27.9 MB\u001b[0m \u001b[31m4.0 MB/s\u001b[0m eta \u001b[36m0:00:00\u001b[0mm eta \u001b[36m0:00:01\u001b[0m[36m0:00:01\u001b[0m\n",
      "\u001b[?25hRequirement already satisfied: numpy>=1.14.5 in /Users/fabioteichmann/.pyenv/versions/3.9.4/lib/python3.9/site-packages (from opencv-python) (1.21.4)\n",
      "Installing collected packages: opencv-python\n",
      "Successfully installed opencv-python-4.5.5.62\n"
     ]
    }
   ],
   "source": [
    "!pip3 install opencv-python"
   ]
  },
  {
   "cell_type": "code",
   "execution_count": 43,
   "id": "919985b9-4f26-4c5a-9e75-692b02bcede9",
   "metadata": {},
   "outputs": [],
   "source": [
    "# Calculate fraction of defect relative to the picture size\n",
    "import cv2\n",
    "\n",
    "def get_image_height(image):\n",
    "    image = cv2.imread('data/train_images/' + image) # read an image by its path\n",
    "    return image.shape[0] # image.shape returns a tupel (height, width, depth)\n",
    "\n",
    "def get_image_width(image):\n",
    "    image = cv2.imread('data/train_images/' + image)\n",
    "    return image.shape[1]\n",
    "\n",
    "def get_image_depth(image):\n",
    "    image = cv2.imread('data/train_images/' + image)\n",
    "    return image.shape[2]"
   ]
  },
  {
   "cell_type": "code",
   "execution_count": null,
   "id": "ac8f49b9-9e05-416e-b9e1-4b6f68d4584f",
   "metadata": {},
   "outputs": [],
   "source": [
    "# Create columns for `Height`, `Width`, and `Depth`\n",
    "df['Height'] = df.ImageId.apply(lambda x: get_image_height(x))\n",
    "df['Width'] = df.ImageId.apply(lambda x: get_image_width(x))\n",
    "df['Depth'] = df.ImageId.apply(lambda x: get_image_depth(x))\n",
    "\n",
    "df['DefectSizePixelRelative'] = df.DefectSizePixel / (df.Height * df.Width)"
   ]
  },
  {
   "cell_type": "code",
   "execution_count": 37,
   "id": "227869f4-49cd-4307-8d65-7649ce20ae32",
   "metadata": {},
   "outputs": [
    {
     "data": {
      "text/html": [
       "<div>\n",
       "<style scoped>\n",
       "    .dataframe tbody tr th:only-of-type {\n",
       "        vertical-align: middle;\n",
       "    }\n",
       "\n",
       "    .dataframe tbody tr th {\n",
       "        vertical-align: top;\n",
       "    }\n",
       "\n",
       "    .dataframe thead th {\n",
       "        text-align: right;\n",
       "    }\n",
       "</style>\n",
       "<table border=\"1\" class=\"dataframe\">\n",
       "  <thead>\n",
       "    <tr style=\"text-align: right;\">\n",
       "      <th></th>\n",
       "      <th>ImageId</th>\n",
       "      <th>ClassId</th>\n",
       "      <th>EncodedPixels</th>\n",
       "      <th>count</th>\n",
       "      <th>DefectSizePixel</th>\n",
       "      <th>Height</th>\n",
       "      <th>Width</th>\n",
       "      <th>Depth</th>\n",
       "      <th>DefectPixelSizeRelative</th>\n",
       "    </tr>\n",
       "  </thead>\n",
       "  <tbody>\n",
       "    <tr>\n",
       "      <th>0</th>\n",
       "      <td>0002cc93b.jpg</td>\n",
       "      <td>1</td>\n",
       "      <td>29102 12 29346 24 29602 24 29858 24 30114 24 3...</td>\n",
       "      <td>1</td>\n",
       "      <td>4396</td>\n",
       "      <td>256</td>\n",
       "      <td>1600</td>\n",
       "      <td>3</td>\n",
       "      <td>0.010732</td>\n",
       "    </tr>\n",
       "    <tr>\n",
       "      <th>1</th>\n",
       "      <td>0007a71bf.jpg</td>\n",
       "      <td>3</td>\n",
       "      <td>18661 28 18863 82 19091 110 19347 110 19603 11...</td>\n",
       "      <td>1</td>\n",
       "      <td>6897</td>\n",
       "      <td>256</td>\n",
       "      <td>1600</td>\n",
       "      <td>3</td>\n",
       "      <td>0.016838</td>\n",
       "    </tr>\n",
       "    <tr>\n",
       "      <th>2</th>\n",
       "      <td>000a4bcdd.jpg</td>\n",
       "      <td>1</td>\n",
       "      <td>37607 3 37858 8 38108 14 38359 20 38610 25 388...</td>\n",
       "      <td>1</td>\n",
       "      <td>8319</td>\n",
       "      <td>256</td>\n",
       "      <td>1600</td>\n",
       "      <td>3</td>\n",
       "      <td>0.020310</td>\n",
       "    </tr>\n",
       "    <tr>\n",
       "      <th>3</th>\n",
       "      <td>000f6bf48.jpg</td>\n",
       "      <td>4</td>\n",
       "      <td>131973 1 132228 4 132483 6 132738 8 132993 11 ...</td>\n",
       "      <td>1</td>\n",
       "      <td>69357</td>\n",
       "      <td>256</td>\n",
       "      <td>1600</td>\n",
       "      <td>3</td>\n",
       "      <td>0.169329</td>\n",
       "    </tr>\n",
       "    <tr>\n",
       "      <th>4</th>\n",
       "      <td>0014fce06.jpg</td>\n",
       "      <td>3</td>\n",
       "      <td>229501 11 229741 33 229981 55 230221 77 230468...</td>\n",
       "      <td>1</td>\n",
       "      <td>4851</td>\n",
       "      <td>256</td>\n",
       "      <td>1600</td>\n",
       "      <td>3</td>\n",
       "      <td>0.011843</td>\n",
       "    </tr>\n",
       "  </tbody>\n",
       "</table>\n",
       "</div>"
      ],
      "text/plain": [
       "         ImageId  ClassId                                      EncodedPixels  \\\n",
       "0  0002cc93b.jpg        1  29102 12 29346 24 29602 24 29858 24 30114 24 3...   \n",
       "1  0007a71bf.jpg        3  18661 28 18863 82 19091 110 19347 110 19603 11...   \n",
       "2  000a4bcdd.jpg        1  37607 3 37858 8 38108 14 38359 20 38610 25 388...   \n",
       "3  000f6bf48.jpg        4  131973 1 132228 4 132483 6 132738 8 132993 11 ...   \n",
       "4  0014fce06.jpg        3  229501 11 229741 33 229981 55 230221 77 230468...   \n",
       "\n",
       "   count  DefectSizePixel  Height  Width  Depth  DefectPixelSizeRelative  \n",
       "0      1             4396     256   1600      3                 0.010732  \n",
       "1      1             6897     256   1600      3                 0.016838  \n",
       "2      1             8319     256   1600      3                 0.020310  \n",
       "3      1            69357     256   1600      3                 0.169329  \n",
       "4      1             4851     256   1600      3                 0.011843  "
      ]
     },
     "execution_count": 37,
     "metadata": {},
     "output_type": "execute_result"
    }
   ],
   "source": [
    "df.head()"
   ]
  },
  {
   "cell_type": "code",
   "execution_count": 38,
   "id": "3004c748-19fa-419a-932d-7852aa54e2a9",
   "metadata": {},
   "outputs": [
    {
     "data": {
      "text/html": [
       "<div>\n",
       "<style scoped>\n",
       "    .dataframe tbody tr th:only-of-type {\n",
       "        vertical-align: middle;\n",
       "    }\n",
       "\n",
       "    .dataframe tbody tr th {\n",
       "        vertical-align: top;\n",
       "    }\n",
       "\n",
       "    .dataframe thead th {\n",
       "        text-align: right;\n",
       "    }\n",
       "</style>\n",
       "<table border=\"1\" class=\"dataframe\">\n",
       "  <thead>\n",
       "    <tr style=\"text-align: right;\">\n",
       "      <th></th>\n",
       "      <th>ClassId</th>\n",
       "      <th>count</th>\n",
       "      <th>DefectSizePixel</th>\n",
       "      <th>Height</th>\n",
       "      <th>Width</th>\n",
       "      <th>Depth</th>\n",
       "      <th>DefectPixelSizeRelative</th>\n",
       "    </tr>\n",
       "  </thead>\n",
       "  <tbody>\n",
       "    <tr>\n",
       "      <th>count</th>\n",
       "      <td>7095.000000</td>\n",
       "      <td>7095.000000</td>\n",
       "      <td>7095.000000</td>\n",
       "      <td>7095.0</td>\n",
       "      <td>7095.0</td>\n",
       "      <td>7095.0</td>\n",
       "      <td>7095.000000</td>\n",
       "    </tr>\n",
       "    <tr>\n",
       "      <th>mean</th>\n",
       "      <td>2.825229</td>\n",
       "      <td>1.121494</td>\n",
       "      <td>23056.669626</td>\n",
       "      <td>256.0</td>\n",
       "      <td>1600.0</td>\n",
       "      <td>3.0</td>\n",
       "      <td>0.056291</td>\n",
       "    </tr>\n",
       "    <tr>\n",
       "      <th>std</th>\n",
       "      <td>0.789279</td>\n",
       "      <td>0.329302</td>\n",
       "      <td>34957.878108</td>\n",
       "      <td>0.0</td>\n",
       "      <td>0.0</td>\n",
       "      <td>0.0</td>\n",
       "      <td>0.085346</td>\n",
       "    </tr>\n",
       "    <tr>\n",
       "      <th>min</th>\n",
       "      <td>1.000000</td>\n",
       "      <td>1.000000</td>\n",
       "      <td>115.000000</td>\n",
       "      <td>256.0</td>\n",
       "      <td>1600.0</td>\n",
       "      <td>3.0</td>\n",
       "      <td>0.000281</td>\n",
       "    </tr>\n",
       "    <tr>\n",
       "      <th>25%</th>\n",
       "      <td>3.000000</td>\n",
       "      <td>1.000000</td>\n",
       "      <td>4251.000000</td>\n",
       "      <td>256.0</td>\n",
       "      <td>1600.0</td>\n",
       "      <td>3.0</td>\n",
       "      <td>0.010378</td>\n",
       "    </tr>\n",
       "    <tr>\n",
       "      <th>50%</th>\n",
       "      <td>3.000000</td>\n",
       "      <td>1.000000</td>\n",
       "      <td>10341.000000</td>\n",
       "      <td>256.0</td>\n",
       "      <td>1600.0</td>\n",
       "      <td>3.0</td>\n",
       "      <td>0.025247</td>\n",
       "    </tr>\n",
       "    <tr>\n",
       "      <th>75%</th>\n",
       "      <td>3.000000</td>\n",
       "      <td>1.000000</td>\n",
       "      <td>26791.000000</td>\n",
       "      <td>256.0</td>\n",
       "      <td>1600.0</td>\n",
       "      <td>3.0</td>\n",
       "      <td>0.065408</td>\n",
       "    </tr>\n",
       "    <tr>\n",
       "      <th>max</th>\n",
       "      <td>4.000000</td>\n",
       "      <td>3.000000</td>\n",
       "      <td>368240.000000</td>\n",
       "      <td>256.0</td>\n",
       "      <td>1600.0</td>\n",
       "      <td>3.0</td>\n",
       "      <td>0.899023</td>\n",
       "    </tr>\n",
       "  </tbody>\n",
       "</table>\n",
       "</div>"
      ],
      "text/plain": [
       "           ClassId        count  DefectSizePixel  Height   Width   Depth  \\\n",
       "count  7095.000000  7095.000000      7095.000000  7095.0  7095.0  7095.0   \n",
       "mean      2.825229     1.121494     23056.669626   256.0  1600.0     3.0   \n",
       "std       0.789279     0.329302     34957.878108     0.0     0.0     0.0   \n",
       "min       1.000000     1.000000       115.000000   256.0  1600.0     3.0   \n",
       "25%       3.000000     1.000000      4251.000000   256.0  1600.0     3.0   \n",
       "50%       3.000000     1.000000     10341.000000   256.0  1600.0     3.0   \n",
       "75%       3.000000     1.000000     26791.000000   256.0  1600.0     3.0   \n",
       "max       4.000000     3.000000    368240.000000   256.0  1600.0     3.0   \n",
       "\n",
       "       DefectPixelSizeRelative  \n",
       "count              7095.000000  \n",
       "mean                  0.056291  \n",
       "std                   0.085346  \n",
       "min                   0.000281  \n",
       "25%                   0.010378  \n",
       "50%                   0.025247  \n",
       "75%                   0.065408  \n",
       "max                   0.899023  "
      ]
     },
     "execution_count": 38,
     "metadata": {},
     "output_type": "execute_result"
    }
   ],
   "source": [
    "# Check whether we have different dimensions for pictures\n",
    "df.describe()"
   ]
  },
  {
   "cell_type": "code",
   "execution_count": 42,
   "id": "76a10f81-e0ae-408c-a347-00d880519111",
   "metadata": {},
   "outputs": [
    {
     "data": {
      "text/html": [
       "<div>\n",
       "<style scoped>\n",
       "    .dataframe tbody tr th:only-of-type {\n",
       "        vertical-align: middle;\n",
       "    }\n",
       "\n",
       "    .dataframe tbody tr th {\n",
       "        vertical-align: top;\n",
       "    }\n",
       "\n",
       "    .dataframe thead th {\n",
       "        text-align: right;\n",
       "    }\n",
       "</style>\n",
       "<table border=\"1\" class=\"dataframe\">\n",
       "  <thead>\n",
       "    <tr style=\"text-align: right;\">\n",
       "      <th></th>\n",
       "      <th>ClassId</th>\n",
       "      <th>DefectSizePixelRelative</th>\n",
       "    </tr>\n",
       "  </thead>\n",
       "  <tbody>\n",
       "    <tr>\n",
       "      <th>0</th>\n",
       "      <td>1</td>\n",
       "      <td>0.010648</td>\n",
       "    </tr>\n",
       "    <tr>\n",
       "      <th>1</th>\n",
       "      <td>2</td>\n",
       "      <td>0.008248</td>\n",
       "    </tr>\n",
       "    <tr>\n",
       "      <th>2</th>\n",
       "      <td>3</td>\n",
       "      <td>0.062247</td>\n",
       "    </tr>\n",
       "    <tr>\n",
       "      <th>3</th>\n",
       "      <td>4</td>\n",
       "      <td>0.083921</td>\n",
       "    </tr>\n",
       "  </tbody>\n",
       "</table>\n",
       "</div>"
      ],
      "text/plain": [
       "   ClassId  DefectSizePixelRelative\n",
       "0        1                 0.010648\n",
       "1        2                 0.008248\n",
       "2        3                 0.062247\n",
       "3        4                 0.083921"
      ]
     },
     "execution_count": 42,
     "metadata": {},
     "output_type": "execute_result"
    }
   ],
   "source": [
    "df.groupby('ClassId')['DefectSizePixelRelative'].mean().reset_index()"
   ]
  },
  {
   "cell_type": "markdown",
   "id": "25f93cf8-ca98-40a4-b09f-1eadb581d1cd",
   "metadata": {},
   "source": [
    "Relative defect size on average reaches up to 8.4% for defect class 4. As we can see above, however, the maximum coverage of a defect may reach **up to 89.9%** of the respective image."
   ]
  },
  {
   "cell_type": "code",
   "execution_count": 7,
   "id": "bd58596e-a801-4c4f-8d72-a0352f7bd049",
   "metadata": {},
   "outputs": [],
   "source": [
    "df_duplicates = df.query('count > 1')\n",
    "df_duplicates.info()"
   ]
  },
  {
   "cell_type": "code",
   "execution_count": 8,
   "id": "f4e563ec-73eb-458e-8dea-7310d84b1e4d",
   "metadata": {},
   "outputs": [
    {
     "data": {
      "text/html": [
       "<div>\n",
       "<style scoped>\n",
       "    .dataframe tbody tr th:only-of-type {\n",
       "        vertical-align: middle;\n",
       "    }\n",
       "\n",
       "    .dataframe tbody tr th {\n",
       "        vertical-align: top;\n",
       "    }\n",
       "\n",
       "    .dataframe thead th {\n",
       "        text-align: right;\n",
       "    }\n",
       "</style>\n",
       "<table border=\"1\" class=\"dataframe\">\n",
       "  <thead>\n",
       "    <tr style=\"text-align: right;\">\n",
       "      <th></th>\n",
       "      <th>ImageId</th>\n",
       "      <th>EncodedPixels</th>\n",
       "      <th>count</th>\n",
       "    </tr>\n",
       "    <tr>\n",
       "      <th>ClassId</th>\n",
       "      <th></th>\n",
       "      <th></th>\n",
       "      <th></th>\n",
       "    </tr>\n",
       "  </thead>\n",
       "  <tbody>\n",
       "    <tr>\n",
       "      <th>1</th>\n",
       "      <td>897</td>\n",
       "      <td>897</td>\n",
       "      <td>897</td>\n",
       "    </tr>\n",
       "    <tr>\n",
       "      <th>2</th>\n",
       "      <td>247</td>\n",
       "      <td>247</td>\n",
       "      <td>247</td>\n",
       "    </tr>\n",
       "    <tr>\n",
       "      <th>3</th>\n",
       "      <td>5150</td>\n",
       "      <td>5150</td>\n",
       "      <td>5150</td>\n",
       "    </tr>\n",
       "    <tr>\n",
       "      <th>4</th>\n",
       "      <td>801</td>\n",
       "      <td>801</td>\n",
       "      <td>801</td>\n",
       "    </tr>\n",
       "  </tbody>\n",
       "</table>\n",
       "</div>"
      ],
      "text/plain": [
       "         ImageId  EncodedPixels  count\n",
       "ClassId                               \n",
       "1            897            897    897\n",
       "2            247            247    247\n",
       "3           5150           5150   5150\n",
       "4            801            801    801"
      ]
     },
     "execution_count": 8,
     "metadata": {},
     "output_type": "execute_result"
    }
   ],
   "source": [
    "df.groupby('ClassId').count()"
   ]
  },
  {
   "cell_type": "markdown",
   "id": "92acee0e-8e6b-44cd-8f00-150b2cc5be14",
   "metadata": {},
   "source": [
    "--> there is a strong **imbalance** in the representation of different defect type:\n",
    "- error 1 = 0.135 %\n",
    "- error 2 = 0.037 %\n",
    "- error 3 = 0.773 % of all images\n",
    "- error 4 = 0.120 %"
   ]
  },
  {
   "cell_type": "code",
   "execution_count": null,
   "id": "88e80eee-06af-494c-b250-5d2015da2d93",
   "metadata": {},
   "outputs": [],
   "source": [
    "# Dimension of our pictures\n",
    "1600*256"
   ]
  },
  {
   "cell_type": "code",
   "execution_count": null,
   "id": "94ec7448-cf4a-4c91-844a-5373e6ea19c1",
   "metadata": {},
   "outputs": [],
   "source": [
    "print(f\"The training data has {df.ImageId.nunique()} unique image IDs\")"
   ]
  },
  {
   "cell_type": "markdown",
   "id": "7329f65e-d679-4a87-8c93-d1e10703fed6",
   "metadata": {},
   "source": [
    "### To-Dos Daniela"
   ]
  },
  {
   "cell_type": "code",
   "execution_count": 11,
   "id": "ddd1d533-cbde-4005-b0f1-9eb09952975d",
   "metadata": {},
   "outputs": [],
   "source": []
  },
  {
   "cell_type": "code",
   "execution_count": null,
   "id": "aef9a7b9-a658-4a79-9c12-520067dd72d9",
   "metadata": {},
   "outputs": [],
   "source": [
    "df_classes=df_duplicates.groupby('ImageId')['ClassId'].sum().reset_index()\n",
    "df_classes.rename(columns={'ClassId': 'SumClasses'}, inplace=True)\n",
    "df_classes.head()"
   ]
  },
  {
   "cell_type": "code",
   "execution_count": null,
   "id": "455f2ff2-df3b-4e2c-94e8-030714034cd5",
   "metadata": {},
   "outputs": [],
   "source": [
    "sns.histplot(df_classes)"
   ]
  },
  {
   "cell_type": "code",
   "execution_count": null,
   "id": "9468bb72-61cd-4e34-b8ea-308d91f01ea0",
   "metadata": {},
   "outputs": [],
   "source": [
    "pivot1 = pd.pivot_table(df_duplicates, index='ImageId', columns='ClassId', values='count', aggfunc = 'count', fill_value=0)\n",
    "pivot1"
   ]
  },
  {
   "cell_type": "code",
   "execution_count": null,
   "id": "232ce427-05d7-4797-b916-d40ce8662048",
   "metadata": {},
   "outputs": [],
   "source": [
    "pivot2 = pd.pivot_table(df_duplicates, index='ClassId', columns='ClassId', values='ImageId', aggfunc = 'count', fill_value=0)\n",
    "pivot2"
   ]
  },
  {
   "cell_type": "code",
   "execution_count": null,
   "id": "5c77ec8b-e088-4059-adce-4ccdb1092429",
   "metadata": {},
   "outputs": [],
   "source": [
    "pivot1[1]=pivot1[1].astype(int)"
   ]
  },
  {
   "cell_type": "code",
   "execution_count": null,
   "id": "1697dd4a-ae9d-4ef5-9bef-f592e9dbb3bb",
   "metadata": {},
   "outputs": [],
   "source": [
    "\n",
    "ax = df.T.plot(kind='hist', ylabel='ClassId')"
   ]
  },
  {
   "cell_type": "code",
   "execution_count": null,
   "id": "fdf8371c-a6d6-4866-afd0-ae506bd98982",
   "metadata": {},
   "outputs": [],
   "source": [
    "result = pd.merge(df_classes, pivot1, on=\"ImageId\")\n",
    "result.head()"
   ]
  },
  {
   "cell_type": "code",
   "execution_count": null,
   "id": "24d3e3d5-39e9-4a23-b12e-3abb1cb7f1bc",
   "metadata": {},
   "outputs": [],
   "source": [
    "result.info"
   ]
  },
  {
   "cell_type": "code",
   "execution_count": null,
   "id": "81db6275-e387-406b-9c24-c28a71efcdc5",
   "metadata": {},
   "outputs": [],
   "source": [
    "#df.astype(int).T.dot(df)\n",
    "result.rename(columns={1: '1',2: '2',3: '3',4: '4'}, inplace=True)\n",
    "#temp = result.columns.values.tolist()\n",
    "temp = result[['1','2','3','4']]\n",
    "a= temp.T.dot(temp)\n",
    "a\n",
    "#temp"
   ]
  },
  {
   "cell_type": "code",
   "execution_count": null,
   "id": "f4762023-48ca-4643-a1bb-fc4dbc81e898",
   "metadata": {},
   "outputs": [],
   "source": []
  }
 ],
 "metadata": {
  "kernelspec": {
   "display_name": "Python 3 (ipykernel)",
   "language": "python",
   "name": "python3"
  },
  "language_info": {
   "codemirror_mode": {
    "name": "ipython",
    "version": 3
   },
   "file_extension": ".py",
   "mimetype": "text/x-python",
   "name": "python",
   "nbconvert_exporter": "python",
   "pygments_lexer": "ipython3",
   "version": "3.9.4"
  }
 },
 "nbformat": 4,
 "nbformat_minor": 5
}
