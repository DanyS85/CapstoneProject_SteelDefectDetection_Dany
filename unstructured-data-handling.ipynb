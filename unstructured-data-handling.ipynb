{
 "cells": [
  {
   "cell_type": "markdown",
   "id": "09dcc098-2b33-4d46-9f2f-0d39ea286dd4",
   "metadata": {},
   "source": [
    "Tutorial for [writing csv in Python](https://www.pythontutorial.net/python-basics/python-write-csv-file/)\n",
    "\n",
    "Useful information on [pathlib](https://www.atqed.com/python-current-path)"
   ]
  },
  {
   "cell_type": "code",
   "execution_count": null,
   "id": "a14c1e60-fdcb-4c15-977e-ba9e97e132ac",
   "metadata": {},
   "outputs": [],
   "source": [
    "import numpy as np\n",
    "import pandas as pd\n",
    "\n",
    "import pathlib\n",
    "import IPython.display as display\n",
    "from PIL import Image\n",
    "\n",
    "import csv"
   ]
  },
  {
   "cell_type": "markdown",
   "id": "15cebcb8-42a4-48a8-b934-5d9ed1fd4198",
   "metadata": {},
   "source": [
    "---\n",
    "\n",
    "### File Path Construction"
   ]
  },
  {
   "cell_type": "code",
   "execution_count": null,
   "id": "51fef477-6aa3-4d35-99fe-bb4afac11dd4",
   "metadata": {},
   "outputs": [],
   "source": [
    "home_path = str(pathlib.Path.home())\n",
    "# get current working directory\n",
    "cwd = pathlib.Path.cwd()\n",
    "\n",
    "# build complete paths for `train_data` and `test_data`\n",
    "# use `.joinpath()` to ensure operating system conform paths\n",
    "train_data_dir = cwd.joinpath('data', 'train_images')\n",
    "test_data_dir = cwd.joinpath('data', 'test_images')"
   ]
  },
  {
   "cell_type": "code",
   "execution_count": null,
   "id": "99395564-5543-44c6-b7f5-982819c133cb",
   "metadata": {},
   "outputs": [],
   "source": [
    "test_data_dir"
   ]
  },
  {
   "cell_type": "code",
   "execution_count": null,
   "id": "4900db4b-4ceb-4988-ac0d-6d280106a4c4",
   "metadata": {},
   "outputs": [],
   "source": [
    "# Count number of images in folder\n",
    "image_count = len(list(train_data_dir.glob('*.jpg')))\n",
    "print(\"We have\", image_count, \"training images.\")"
   ]
  },
  {
   "cell_type": "code",
   "execution_count": null,
   "id": "5dd67355-6d8d-452e-916e-6953b690c65e",
   "metadata": {},
   "outputs": [],
   "source": [
    "# print out first 2 elements via UNIX commands\n",
    "!head -3 data/train.csv > /tmp/input.csv \n",
    "!cat /tmp/input.csv"
   ]
  },
  {
   "cell_type": "code",
   "execution_count": null,
   "id": "e51231ac-9b1d-402d-bb85-09ab7cb79de0",
   "metadata": {},
   "outputs": [],
   "source": [
    "# Display a few images\n",
    "images = list(train_data_dir.glob('*.jpg'))\n",
    "\n",
    "for image in images[:5]:\n",
    "    display.display(Image.open(str(image)))\n",
    "    print(image.as_posix())"
   ]
  },
  {
   "cell_type": "markdown",
   "id": "1901198f-25ad-44bb-ac49-453c5a863b55",
   "metadata": {},
   "source": [
    "For our complete csv-file we will first extract all `ImageIds` from `train.csv`. Since there are images with more than one defect, and, hence, more than 1 line in `train.csv`, we will concat the missing image IDs to `train.csv`. To obtain the missing IDs, we construct a complete list of all images, eliminate all lines with `ImageIds` from `train.csv` and then concatenate."
   ]
  },
  {
   "cell_type": "markdown",
   "id": "3a2b1e0b-d75a-4e58-9ebb-233d8c16cc4f",
   "metadata": {},
   "source": [
    "---\n",
    "\n",
    "### Prepare train.csv"
   ]
  },
  {
   "cell_type": "code",
   "execution_count": null,
   "id": "435c9f20-9acc-4420-823f-dd464e2e54b9",
   "metadata": {},
   "outputs": [],
   "source": [
    "df_defects = pd.read_csv('data/train.csv')\n",
    "# create image paths for \n",
    "defect_paths = df_defects.ImageId.apply(lambda x: train_data_dir.joinpath(x))\n",
    "# add column to the left of the data frame\n",
    "df_defects = pd.concat([pd.Series(defect_paths, name='FilePath'), df_defects], axis = 1)\n",
    "df_defects.FilePath[0]"
   ]
  },
  {
   "cell_type": "code",
   "execution_count": null,
   "id": "374f6f4c-0e21-41b5-9a17-82cee1bcd6a1",
   "metadata": {},
   "outputs": [],
   "source": [
    "# isolate `ImageIds` for images with defect\n",
    "defect_ids = df_defects.ImageId.unique()"
   ]
  },
  {
   "cell_type": "markdown",
   "id": "161478a1-7acf-412d-b802-a45a2dc27bdb",
   "metadata": {},
   "source": [
    "---\n",
    "\n",
    "### Building the CSV-File\n",
    "\n",
    "Create a csv file with all image paths, the respective `ImageId` and an initialisation for `ClassId` and `EncodedPixels`."
   ]
  },
  {
   "cell_type": "code",
   "execution_count": null,
   "id": "ea632125-7afd-47e8-97e0-d857c35d029b",
   "metadata": {},
   "outputs": [],
   "source": [
    "header = ['FilePath', 'ImageId', 'ClassId', 'EncodedPixels']\n",
    "\n",
    "rows = []\n",
    "\n",
    "for image in images:\n",
    "    # `.as_posix()` returns the complete path\n",
    "    # `.name` returns the image name\n",
    "    # set `ClassId` and `EncodedPixels` to 0\n",
    "    rows.append([image.as_posix(), image.name, 0, '0'])\n",
    "    \n",
    "with open(train_data_dir.parent.joinpath('train_raw.csv'), # `.parent` returns the path up to the data directory\n",
    "          'w', \n",
    "          encoding = 'UTF8',\n",
    "          newline = '' # avoid blank lines between rows\n",
    "         ) as f:\n",
    "    writer = csv.writer(f)\n",
    "    writer.writerow(header)\n",
    "    writer.writerows(rows) # write row into file"
   ]
  },
  {
   "cell_type": "code",
   "execution_count": null,
   "id": "cfe15de1-6337-4d97-bcb5-e6ad8573a271",
   "metadata": {},
   "outputs": [],
   "source": [
    "df_raw = pd.read_csv('data/train_raw.csv')\n",
    "\n",
    "# get indices of `df_raw` for row dropping\n",
    "indices = []\n",
    "for idx, row in df_raw.iterrows():\n",
    "    if row.ImageId in defect_ids:\n",
    "        indices.append(idx)"
   ]
  },
  {
   "cell_type": "code",
   "execution_count": null,
   "id": "628aef38-c337-449e-a4f1-2123b9b17577",
   "metadata": {},
   "outputs": [],
   "source": [
    "# check wether all indices or defected images are caught\n",
    "len(indices)"
   ]
  },
  {
   "cell_type": "code",
   "execution_count": null,
   "id": "b116b7c4-f008-4b0a-aac0-897331d2a5f9",
   "metadata": {},
   "outputs": [],
   "source": [
    "df_raw.drop(indices, inplace=True)\n",
    "df_raw"
   ]
  },
  {
   "cell_type": "code",
   "execution_count": null,
   "id": "f61afc97-fd6f-44fa-abc5-d461e1b5123d",
   "metadata": {},
   "outputs": [],
   "source": [
    "# add all rows of unclassified images to the defected images\n",
    "df_complete = pd.concat([df_defects, df_raw], axis=0, ignore_index=True)\n",
    "df_complete['Defect'] = df_complete.ClassId.apply(lambda x: 1 if x > 0 else 0)\n",
    "df_complete.to_csv('data/train_complete.csv', sep=',', index=False)"
   ]
  },
  {
   "cell_type": "code",
   "execution_count": null,
   "id": "bf970b3a-c4f7-40ff-a871-e25273b799df",
   "metadata": {},
   "outputs": [],
   "source": [
    "# eliminate unused csv file\n",
    "!rm -f data/train_raw.csv"
   ]
  },
  {
   "cell_type": "code",
   "execution_count": null,
   "id": "f6983f65-0ccd-49ee-b6b0-5107930ee09e",
   "metadata": {},
   "outputs": [],
   "source": []
  }
 ],
 "metadata": {
  "kernelspec": {
   "display_name": "Python 3 (ipykernel)",
   "language": "python",
   "name": "python3"
  },
  "language_info": {
   "codemirror_mode": {
    "name": "ipython",
    "version": 3
   },
   "file_extension": ".py",
   "mimetype": "text/x-python",
   "name": "python",
   "nbconvert_exporter": "python",
   "pygments_lexer": "ipython3",
   "version": "3.9.4"
  }
 },
 "nbformat": 4,
 "nbformat_minor": 5
}
