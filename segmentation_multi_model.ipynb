{
 "cells": [
  {
   "cell_type": "code",
   "execution_count": null,
   "id": "b6ce3b08-13a1-48e4-85d2-eab81a64acd1",
   "metadata": {},
   "outputs": [],
   "source": [
    "import segmentation_models as sm\n",
    "import tensorflow as tf\n",
    "import keras\n",
    "\n",
    "import matplotlib.pyplot as plt\n",
    "\n",
    "import numpy as np\n",
    "import glob\n",
    "import os\n",
    "import cv2\n",
    "\n",
    "\n",
    "# self-written scripts\n",
    "import sys\n",
    "sys.path.insert(0, 'Python_Scripts')\n",
    "\n",
    "import data_preparation_cnn\n",
    "import segmentation_modelling_cnn as smc\n"
   ]
  },
  {
   "cell_type": "code",
   "execution_count": null,
   "id": "1dc9287b-1498-4282-aea5-13dc6df98e23",
   "metadata": {},
   "outputs": [],
   "source": [
    "# PARAMETERS\n",
    "SIZE_X = 128\n",
    "SIZE_Y = 512\n",
    "\n",
    "EPOCHS = 20\n",
    "LEARNING_RATE = 0.005\n",
    "OPTIMIZER = tf.keras.optimizers.Adam(lr=LEARNING_RATE)"
   ]
  },
  {
   "cell_type": "markdown",
   "id": "dcefe05e-17f7-45bc-95df-8d643be7dc5d",
   "metadata": {},
   "source": [
    "---\n",
    "## Train New Models\n",
    "\n",
    "With the following line of code, you can generate new models using varying parameters."
   ]
  },
  {
   "cell_type": "code",
   "execution_count": null,
   "id": "90bde60b-ef2b-4cad-8334-7c4ee771b76f",
   "metadata": {},
   "outputs": [],
   "source": [
    "models = smc.build_mask_generating_models(SIZE_X, SIZE_Y, 'dice', EPOCHS, OPTIMIZER)"
   ]
  },
  {
   "cell_type": "markdown",
   "id": "ec18e950-879f-44bb-ab3b-0ec3be092704",
   "metadata": {
    "tags": []
   },
   "source": [
    "---\n",
    "\n",
    "## Using Our Pre-Trained Models\n",
    "\n",
    "In the following we build use our pre-trained models (1 for each defect class) to demonstrate the outcome. Our fit used the following configuration:\n",
    "\n",
    "- `Image Width` - 512 pixel\n",
    "- `Image Height` - 128 pixel\n",
    "- Model Architecture - a Unet with pre-trained `EfficientNetB5`\n",
    "- `Loss Function` - Dice loss (custom function)\n",
    "- `Metrics` - Dice coefficient (custom function)\n",
    "- `Optimizer` - `adam` with a `learning_rate` of 0.005\n",
    "- `Epochs` - 20"
   ]
  },
  {
   "cell_type": "markdown",
   "id": "46274db9-99d9-441e-b675-649f6583d507",
   "metadata": {},
   "source": [
    "### Loading Saved Models"
   ]
  },
  {
   "cell_type": "code",
   "execution_count": null,
   "id": "16aed7e4-34a0-40e6-8e7a-e48a18353da4",
   "metadata": {},
   "outputs": [],
   "source": [
    "models = smc.load_and_compile_dice_models_from_capstone()"
   ]
  },
  {
   "cell_type": "markdown",
   "id": "a33f21e1-67b6-4889-94ed-4a8c75c512d0",
   "metadata": {},
   "source": [
    "### Predict Defect Masks\n",
    "\n",
    "Using our pre-trained `models` we can generate mask images (1 per defect class) for each test image."
   ]
  },
  {
   "cell_type": "code",
   "execution_count": null,
   "id": "11991ab4-723d-41e4-bdb8-0b0b9235f81d",
   "metadata": {},
   "outputs": [],
   "source": [
    "predictions = smc.get_predictions_all_classes(models, SIZE_X, SIZE_Y)"
   ]
  },
  {
   "cell_type": "markdown",
   "id": "cd3e43ea-d0e7-4aa0-a2ce-79953a36d585",
   "metadata": {},
   "source": [
    "### Visualize some Masks per Defect Class\n",
    "\n",
    "Once the predicted masks are generated, we can have a look at some mask examples to get a feeling for the performance of our model."
   ]
  },
  {
   "cell_type": "code",
   "execution_count": null,
   "id": "8ec1b920-6be1-4d9f-af4b-6fd23c0c46ef",
   "metadata": {},
   "outputs": [],
   "source": [
    "smc.visualize_predictions(predictions, 1, SIZE_X, SIZE_Y)"
   ]
  },
  {
   "cell_type": "code",
   "execution_count": null,
   "id": "583202b5-224f-4b01-bb4e-9c0ad01a9502",
   "metadata": {},
   "outputs": [],
   "source": [
    "smc.visualize_predictions(predictions, 2, SIZE_X, SIZE_Y)"
   ]
  },
  {
   "cell_type": "code",
   "execution_count": null,
   "id": "cd24d359-d973-4478-bed5-85e333a63138",
   "metadata": {},
   "outputs": [],
   "source": [
    "smc.visualize_predictions(predictions, 3, SIZE_X, SIZE_Y)"
   ]
  },
  {
   "cell_type": "code",
   "execution_count": null,
   "id": "8d944a6f-f8fd-49b6-b377-2513de568bab",
   "metadata": {},
   "outputs": [],
   "source": [
    "smc.visualize_predictions(predictions, 4, SIZE_X, SIZE_Y)"
   ]
  },
  {
   "cell_type": "markdown",
   "id": "04eca947-c362-486c-9100-cae8057cba6d",
   "metadata": {},
   "source": [
    "Now let's have a look at the performance across defect classes side by side."
   ]
  },
  {
   "cell_type": "code",
   "execution_count": null,
   "id": "d9d8f331-c21d-4a73-ae0a-c337570412cb",
   "metadata": {},
   "outputs": [],
   "source": [
    "smc.visualize_masks_across_defect_classes(predictions, SIZE_X, SIZE_Y)"
   ]
  },
  {
   "cell_type": "markdown",
   "id": "9987604b-5af8-4a86-87ce-daf291dc46f4",
   "metadata": {
    "tags": []
   },
   "source": [
    "---\n",
    "\n",
    "### Calculating Classification Accuracy\n",
    "\n",
    "As a measure of how well the masks that our models generate perform as a classifier for the recognized defect class we calculate our own accuracy rate. \n",
    "\n",
    "*Base assumption*: the mask that marks most pixels as defective reflects the defect class of the image.\n",
    "\n",
    "This configuration rules out the identification of several different defects per image (multi-class)."
   ]
  },
  {
   "cell_type": "code",
   "execution_count": null,
   "id": "7cf1d004-f9db-48eb-aba1-74cd79cc0f71",
   "metadata": {},
   "outputs": [],
   "source": [
    "accuracies, weighted_acc = smc.calculate_accuracies_for_masks(models,SIZE_X, SIZE_Y)"
   ]
  },
  {
   "cell_type": "markdown",
   "id": "f2410dd9-311f-4c68-aebd-70f3836bfe7a",
   "metadata": {},
   "source": [
    "Our model performs pretty well, given the imbalanced data set and heterogenous `ClassId` 3. With our model we are able to correctly localise and classify **76%** of images in our scenario."
   ]
  },
  {
   "cell_type": "code",
   "execution_count": null,
   "id": "5426c14e-3f68-4f3a-b582-18239a04c052",
   "metadata": {},
   "outputs": [],
   "source": []
  }
 ],
 "metadata": {
  "kernelspec": {
   "display_name": "Python 3 (ipykernel)",
   "language": "python",
   "name": "python3"
  },
  "language_info": {
   "codemirror_mode": {
    "name": "ipython",
    "version": 3
   },
   "file_extension": ".py",
   "mimetype": "text/x-python",
   "name": "python",
   "nbconvert_exporter": "python",
   "pygments_lexer": "ipython3",
   "version": "3.9.4"
  }
 },
 "nbformat": 4,
 "nbformat_minor": 5
}
