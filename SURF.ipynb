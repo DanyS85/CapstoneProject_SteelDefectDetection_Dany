{
 "cells": [
  {
   "cell_type": "markdown",
   "id": "6b2dc0b3-328b-433d-8342-611f337fee2e",
   "metadata": {},
   "source": [
    "## SURF (Speeded-Up Robust Features)"
   ]
  },
  {
   "cell_type": "markdown",
   "id": "0408ce75-c26f-4056-8306-8688fb7acf54",
   "metadata": {},
   "source": [
    "### Import resources and display image"
   ]
  },
  {
   "cell_type": "code",
   "execution_count": null,
   "id": "1a2d0dd8-73e5-4c01-8e00-78ef919af1ce",
   "metadata": {},
   "outputs": [],
   "source": [
    "!pip3 install opencv-python"
   ]
  },
  {
   "cell_type": "code",
   "execution_count": null,
   "id": "bec7073b-ca92-4639-acc0-db40733b4d5e",
   "metadata": {},
   "outputs": [],
   "source": [
    "!pip install scikit-image"
   ]
  },
  {
   "cell_type": "code",
   "execution_count": null,
   "id": "b507a047-3555-413b-9a77-2cd973232ef3",
   "metadata": {},
   "outputs": [],
   "source": [
    "import cv2\n",
    "import matplotlib.pyplot as plt\n",
    "import numpy as np\n",
    "import pandas as pd\n",
    "import pathlib\n",
    "from skimage import io\n",
    "import time\n",
    "\n",
    "%matplotlib inline"
   ]
  },
  {
   "cell_type": "code",
   "execution_count": null,
   "id": "4bf679ea-ad5f-4529-98af-2139d5a700a3",
   "metadata": {},
   "outputs": [],
   "source": [
    "# Load the image\n",
    "image1 = cv2.imread('data/train_images/0002cc93b.jpg')\n",
    "\n",
    "# Convert the training image to RGB\n",
    "training_image = cv2.cvtColor(image1, cv2.COLOR_BGR2RGB)\n",
    "\n",
    "# Convert the training image to gray scale\n",
    "training_gray = cv2.cvtColor(training_image, cv2.COLOR_RGB2GRAY)\n",
    "\n",
    "# Create test image by adding Scale Invariance and Rotational Invariance\n",
    "test_image = cv2.pyrDown(training_image)\n",
    "test_image = cv2.pyrDown(test_image)\n",
    "num_rows, num_cols = test_image.shape[:2]\n",
    "\n",
    "rotation_matrix = cv2.getRotationMatrix2D((num_cols/2, num_rows/2), 30, 1)\n",
    "test_image = cv2.warpAffine(test_image, rotation_matrix, (num_cols, num_rows))\n",
    "\n",
    "test_gray = cv2.cvtColor(test_image, cv2.COLOR_RGB2GRAY)\n",
    "\n",
    "# Display traning image and testing image\n",
    "fx, plots = plt.subplots(2, 1, figsize=(20,10))\n",
    "\n",
    "plots[0].set_title(\"Training Image\")\n",
    "plots[0].imshow(training_image)\n",
    "\n",
    "plots[1].set_title(\"Testing Image\")\n",
    "plots[1].imshow(test_image)"
   ]
  },
  {
   "cell_type": "markdown",
   "id": "d1cde0f2-d474-40f2-a9fa-b539d4268d2f",
   "metadata": {},
   "source": [
    "### Detect keypoints and Create Descriptor"
   ]
  },
  {
   "cell_type": "code",
   "execution_count": null,
   "id": "2ddf38ce-9a17-4ecb-9b61-fad4f6c69ca8",
   "metadata": {},
   "outputs": [],
   "source": [
    "surf = cv2.xfeatures2d.SURF_create(400)\n",
    "\n",
    "train_keypoints, train_descriptor = surf.detectAndCompute(training_gray, None)\n",
    "test_keypoints, test_descriptor = surf.detectAndCompute(test_gray, None)\n",
    "\n",
    "keypoints_without_size = np.copy(training_image)\n",
    "keypoints_with_size = np.copy(training_image)\n",
    "\n",
    "cv2.drawKeypoints(training_image, train_keypoints, keypoints_without_size, color = (0, 255, 0))\n",
    "\n",
    "cv2.drawKeypoints(training_image, train_keypoints, keypoints_with_size, flags = cv2.DRAW_MATCHES_FLAGS_DRAW_RICH_KEYPOINTS)\n",
    "\n",
    "# Display image with and without keypoints size\n",
    "fx, plots = plt.subplots(2, 1, figsize=(20,10))\n",
    "\n",
    "plots[0].set_title(\"Train keypoints With Size\")\n",
    "plots[0].imshow(keypoints_with_size, cmap='gray')\n",
    "\n",
    "plots[1].set_title(\"Train keypoints Without Size\")\n",
    "plots[1].imshow(keypoints_without_size, cmap='gray')\n",
    "\n",
    "# Print the number of keypoints detected in the training image\n",
    "print(\"Number of Keypoints Detected In The Training Image: \", len(train_keypoints))\n",
    "\n",
    "# Print the number of keypoints detected in the query image\n",
    "print(\"Number of Keypoints Detected In The Query Image: \", len(test_keypoints))"
   ]
  },
  {
   "cell_type": "markdown",
   "id": "d661c63b-0496-4f1e-938d-844c7af409dd",
   "metadata": {},
   "source": [
    "### Matching Keypoints"
   ]
  },
  {
   "cell_type": "code",
   "execution_count": null,
   "id": "bd83cfa0-8494-4259-9d26-65073edc583d",
   "metadata": {},
   "outputs": [],
   "source": [
    "# Create a Brute Force Matcher object.\n",
    "bf = cv2.BFMatcher(cv2.NORM_L1, crossCheck = False)\n",
    "\n",
    "# Perform the matching between the SURF descriptors of the training image and the test image\n",
    "matches = bf.match(train_descriptor, test_descriptor)\n",
    "\n",
    "# The matches with shorter distance are the ones we want.\n",
    "matches = sorted(matches, key = lambda x : x.distance)\n",
    "\n",
    "result = cv2.drawMatches(training_image, train_keypoints, test_gray, test_keypoints, matches, test_gray, flags = 2)\n",
    "\n",
    "# Display the best matching points\n",
    "plt.rcParams['figure.figsize'] = [14.0, 7.0]\n",
    "plt.title('Best Matching Points')\n",
    "plt.imshow(result)\n",
    "plt.show()\n",
    "\n",
    "# Print total number of matching points between the training and query images\n",
    "print(\"\\nNumber of Matching Keypoints Between The Training and Query Images: \", len(matches))"
   ]
  },
  {
   "cell_type": "code",
   "execution_count": null,
   "id": "761d1839-14f5-45ed-96de-3c7a4d19144a",
   "metadata": {},
   "outputs": [],
   "source": [
    "training_gray"
   ]
  },
  {
   "cell_type": "code",
   "execution_count": null,
   "id": "32d23da2-5cf1-46e3-a197-1fc92e54ebf9",
   "metadata": {},
   "outputs": [],
   "source": []
  },
  {
   "cell_type": "code",
   "execution_count": null,
   "id": "38f3a923-abe6-4196-bef1-9a2321ca1d1b",
   "metadata": {},
   "outputs": [],
   "source": [
    "img = cv2.imread('data/train_images/0002cc93b.jpg',0)\n",
    "# Create SURF object. You can specify params here or later.\n",
    "# Here I set Hessian Threshold to 400\n",
    "surf = cv2.xfeatures2d.SURF_create(400)\n",
    "# Find keypoints and descriptors directly\n",
    "kp, des = surf.detectAndCompute(img,None)\n",
    "len(kp)"
   ]
  },
  {
   "cell_type": "code",
   "execution_count": null,
   "id": "30632107-0e9f-42ab-bfcd-f5e344eb863d",
   "metadata": {},
   "outputs": [],
   "source": [
    "# Check present Hessian threshold\n",
    "print( surf.getHessianThreshold() )"
   ]
  },
  {
   "cell_type": "code",
   "execution_count": null,
   "id": "04c02052-2451-4067-be16-9180a32cfc91",
   "metadata": {},
   "outputs": [],
   "source": [
    "# We set it to some 50000. Remember, it is just for representing in picture.\n",
    "# In actual cases, it is better to have a value 300-500\n",
    "surf.setHessianThreshold(300)\n",
    "# Again compute keypoints and check its number.\n",
    "kp, des = surf.detectAndCompute(img,None)\n",
    "print( len(kp) )\n"
   ]
  },
  {
   "cell_type": "code",
   "execution_count": null,
   "id": "569140da-f08d-4800-bf1e-cd96ae02b9cf",
   "metadata": {},
   "outputs": [],
   "source": [
    "img2 = cv2.drawKeypoints(img,kp,None,(255,0,0),4)\n",
    "plt.imshow(img2),plt.show()"
   ]
  },
  {
   "cell_type": "code",
   "execution_count": null,
   "id": "f222b510-9ab9-4192-9de1-300a64f1e724",
   "metadata": {},
   "outputs": [],
   "source": [
    "# Find size of descriptor\n",
    "print( surf.descriptorSize() )"
   ]
  },
  {
   "cell_type": "code",
   "execution_count": null,
   "id": "9328f115-3ec7-4679-8035-e3e771541264",
   "metadata": {},
   "outputs": [],
   "source": [
    "# That means flag, \"extended\" is False.\n",
    "surf.getExtended()"
   ]
  },
  {
   "cell_type": "code",
   "execution_count": null,
   "id": "8b2028cb-cdb1-41e0-a7b9-afd92bab97dc",
   "metadata": {},
   "outputs": [],
   "source": [
    "# So we make it to True to get 128-dim descriptors.\n",
    "surf.setExtended(True)\n",
    "kp, des = surf.detectAndCompute(img,None)\n",
    "print( surf.descriptorSize() )"
   ]
  },
  {
   "cell_type": "code",
   "execution_count": null,
   "id": "fd84e090-2318-48f3-9976-6c98441713fa",
   "metadata": {},
   "outputs": [],
   "source": [
    "print( des.shape )"
   ]
  },
  {
   "cell_type": "code",
   "execution_count": null,
   "id": "b00b25ec-943f-46d2-a788-61af417f2eb0",
   "metadata": {},
   "outputs": [],
   "source": [
    "img3 = cv2.drawKeypoints(img,kp,None,(255,0,0),4)\n",
    "plt.imshow(img3),plt.show()"
   ]
  },
  {
   "cell_type": "markdown",
   "id": "62d0b390-a421-4443-934b-5b68a0ba1142",
   "metadata": {},
   "source": [
    "---\n",
    "\n",
    "### SURF-Attributes"
   ]
  },
  {
   "cell_type": "code",
   "execution_count": null,
   "id": "bbd1cbd0-35f8-4346-9eb6-0acadbaaf65c",
   "metadata": {},
   "outputs": [],
   "source": [
    "print('Keypoint at:', kp[0].pt)\n",
    "print('Keypoint diameter:', kp[0].size)\n",
    "print('Direction of gradient:', kp[0].angle)"
   ]
  },
  {
   "cell_type": "code",
   "execution_count": null,
   "id": "7434d139-e774-45f7-8222-7cf0c663ff2b",
   "metadata": {},
   "outputs": [],
   "source": [
    "len(kp)"
   ]
  },
  {
   "cell_type": "markdown",
   "id": "49aad9b7-6752-4e8e-8dd5-9b8e59f9e81d",
   "metadata": {},
   "source": [
    "---\n",
    "\n",
    "### Apply SURF to all images"
   ]
  },
  {
   "cell_type": "code",
   "execution_count": null,
   "id": "9b44da90-ca5d-4850-aec4-ed36d1cb84db",
   "metadata": {},
   "outputs": [],
   "source": [
    "\"\"\"Processing time: ~3 minutes and 40 seconds.\n",
    "\"\"\"\n",
    "\n",
    "# get current working directory\n",
    "cwd = pathlib.Path.cwd()\n",
    "train_data_dir = cwd.joinpath('data', 'train_images')\n",
    "train_images = list(train_data_dir.glob('*.jpg'))\n",
    "\n",
    "# Create SURF object. You can specify params here or later.\n",
    "# Here I set Hessian Threshold to 400\n",
    "surf = cv2.xfeatures2d.SURF_create(400)\n",
    "\n",
    "# prepare dictionary to gather data\n",
    "surf_images = {'keypoints': [],\n",
    "               'ImageId': [],\n",
    "               'NumberKP': []\n",
    "              }\n",
    "\n",
    "print('processing images...')\n",
    "start = time.time()\n",
    "\n",
    "for idx, image in enumerate(train_images):\n",
    "    surf_images['ImageId'].append(image.name)\n",
    "    \n",
    "    # `image` so far holds just the path to the image. Convert to image file\n",
    "    image = io.imread(\"data/train_images/\"+image.name)\n",
    "    # Find keypoints and descriptors directly\n",
    "    kp, des = surf.detectAndCompute(image, None)\n",
    "    \n",
    "    surf_images['keypoints'].append(kp)\n",
    "    surf_images['NumberKP'].append(len(kp))\n",
    "    if idx % 500 == 0 and idx != 0:\n",
    "        print(f'image number {idx} processed...')\n",
    "\n",
    "end = time.time()\n",
    "print('processing done.')\n",
    "print('required time:', end - start)"
   ]
  },
  {
   "cell_type": "code",
   "execution_count": null,
   "id": "0db0630b-15e0-4ec5-9ee7-c0fff1ce3666",
   "metadata": {},
   "outputs": [],
   "source": [
    "temp = pd.DataFrame.from_dict(surf_images)\n",
    "temp.head()"
   ]
  },
  {
   "cell_type": "code",
   "execution_count": null,
   "id": "a3119f4e-190c-40b6-97ad-209d054ad898",
   "metadata": {},
   "outputs": [],
   "source": [
    "print(f\"We have {temp.query('NumberKP < 50').count()[0]} keypoint vectors with less than 50 keypoints\")"
   ]
  },
  {
   "cell_type": "code",
   "execution_count": null,
   "id": "de2c698f-f945-488f-921e-b75a156d965d",
   "metadata": {},
   "outputs": [],
   "source": [
    "temp.sort_values(by='NumberKP', ascending=False)"
   ]
  },
  {
   "cell_type": "markdown",
   "id": "6acecc5d-5c3c-4ece-8ac0-fc7e55d98e18",
   "metadata": {},
   "source": [
    "Adjust data frame and eliminate images that have more than 1 defect."
   ]
  },
  {
   "cell_type": "code",
   "execution_count": null,
   "id": "ef2190a4-1985-4fd9-a604-35500c08c781",
   "metadata": {},
   "outputs": [],
   "source": [
    "df_complete = pd.read_csv('data/train_complete.csv')\n",
    "# Count occurrences of `ImageId` in df\n",
    "df_complete['count'] = df_complete.ImageId.apply(lambda x: df_complete['ImageId'].value_counts()[x])"
   ]
  },
  {
   "cell_type": "code",
   "execution_count": null,
   "id": "c7429e4a-c7e6-4e56-a6a7-391ecf026718",
   "metadata": {},
   "outputs": [],
   "source": [
    "# isolate `ImageIds` for images with defect\n",
    "single_defects = df_complete.query('count > 1').ImageId.to_numpy()\n",
    "\n",
    "# get indices of `df_raw` for row dropping\n",
    "indices = []\n",
    "for idx, row in temp.iterrows():\n",
    "    if row.ImageId in single_defects:\n",
    "        indices.append(idx)\n",
    "        \n",
    "temp.drop(indices, inplace=True)"
   ]
  },
  {
   "cell_type": "markdown",
   "id": "fddbc5a2-6d27-45b2-97ff-48f477691aa9",
   "metadata": {},
   "source": [
    "---\n",
    "\n",
    "### Prepare data frame with (max) TOP50 Keypoints per image"
   ]
  },
  {
   "cell_type": "code",
   "execution_count": null,
   "id": "72084986-4454-4644-833d-4b3c53d79b38",
   "metadata": {},
   "outputs": [],
   "source": [
    "def rank_keypoint(kp_dict, ranking_number):\n",
    "    \"\"\"Returns a keypoint at position `ranking_number` from a given dictionary of keypoints (`kp_dict`).\n",
    "    \n",
    "    Input variables:\n",
    "    kp_dict        - dictionary with entries `size` (of keypoint) and `keypoint` (object)\n",
    "    ranking_number - position of ranked keypoint (by size)\n",
    "    \"\"\"\n",
    "    df = pd.DataFrame.from_dict(kp_dict)\n",
    "    df = df.sort_values(by='size', ascending=False)\n",
    "\n",
    "    # get number of kp in the dictionary to create ranking\n",
    "    keypoints_in_dict = len(kp_dict['keypoint'])\n",
    "    \n",
    "    # create array with numbers from 1 to `keypoints_in_dict`\n",
    "    ranking_numbers = np.linspace(1, keypoints_in_dict, keypoints_in_dict)\n",
    "    # turn it into a data frame column\n",
    "    ranking = pd.DataFrame(ranking_numbers, columns=['Ranking'])\n",
    "    \n",
    "    # merge with sorted df after index reset\n",
    "    df.reset_index(drop=True, inplace=True)\n",
    "    ranking.reset_index(drop=True, inplace=True)\n",
    "    df_with_ranking = pd.concat([df, ranking], axis=1, ignore_index=False)\n",
    "\n",
    "    # get entry at `ranking_number`\n",
    "    df_ranked = df_with_ranking.query('Ranking == @ranking_number')\n",
    "\n",
    "    return df_ranked.keypoint\n"
   ]
  },
  {
   "cell_type": "code",
   "execution_count": null,
   "id": "97358f9e-dcb3-46a2-a733-65eb8eddbdc5",
   "metadata": {},
   "outputs": [],
   "source": [
    "def build_keypoint_dict(keypoints):\n",
    "    \"\"\"Turns a list of keypoint objects into a dictionary with entries `size` and `keypoint`.\n",
    "    \"\"\"\n",
    "    kp_dict = {'size': [],\n",
    "               'keypoint': []\n",
    "              }\n",
    "\n",
    "    for kp in keypoints:\n",
    "        kp_dict['size'].append(kp.size)\n",
    "        kp_dict['keypoint'].append(kp)\n",
    "        \n",
    "    return kp_dict"
   ]
  },
  {
   "cell_type": "code",
   "execution_count": null,
   "id": "b6db24e8-35e8-4619-951b-553ef105e1bb",
   "metadata": {},
   "outputs": [],
   "source": [
    "def get_ranked_keypoint(keypoints, ranking_number):\n",
    "    \"\"\"Returns a keypoint at position `ranking_number` and 0 if no keypoint exists for the ranking position.\n",
    "    \n",
    "    Input variables:\n",
    "    keypoints      - list of keypoint objects from SURF algorithm\n",
    "    ranking_number - position of ranked keypoint (by size)\n",
    "    \"\"\"\n",
    "    # convert keypoints into dictionary with added size\n",
    "    kp_dict = build_keypoint_dict(keypoints)\n",
    "    \n",
    "    # check, whether there is a keypoint for the required `ranking_number`\n",
    "    if len(kp_dict['keypoint']) >= ranking_number:\n",
    "        ranked_keypoint = rank_keypoint(kp_dict, ranking_number)\n",
    "        \n",
    "        # the keypoint needs to be extracted by its index\n",
    "        return ranked_keypoint[ranking_number - 1]\n",
    "    else:\n",
    "        return 0"
   ]
  },
  {
   "cell_type": "code",
   "execution_count": null,
   "id": "b48fe669-ac39-4876-86a6-300bd66a9e22",
   "metadata": {},
   "outputs": [],
   "source": [
    "def get_keypoint_x(keypoints, ranking_number):\n",
    "    \"\"\"Function to calculate the x-coordinate of a keypoint at rank `ranking_number`.\n",
    "    Returns 0 if no keypoint available for `ranking_number`.\n",
    "    \n",
    "    Input variables:\n",
    "    keypoints      - list of keypoint objects from SURF algorithm\n",
    "    ranking_number - position of ranked keypoint (by size)\n",
    "    \"\"\"\n",
    "    if len(keypoints) != 0:\n",
    "        ranked_keypoint = get_ranked_keypoint(keypoints, ranking_number)\n",
    "        # validate that the keypoint is not empty\n",
    "        if ranked_keypoint:\n",
    "            return ranked_keypoint.pt[0]\n",
    "        else:\n",
    "            return 0\n",
    "    else:\n",
    "        return 0"
   ]
  },
  {
   "cell_type": "code",
   "execution_count": null,
   "id": "7261deef-dedd-4464-a28e-c4bb6c38fc73",
   "metadata": {},
   "outputs": [],
   "source": [
    "def get_keypoint_y(keypoints, ranking_number):\n",
    "    \"\"\"Function to calculate the y-coordinate of a keypoint at rank `ranking_number`.\n",
    "    Returns 0 if no keypoint available for `ranking_number`.\n",
    "    \n",
    "    Input variables:\n",
    "    keypoints      - list of keypoint objects from SURF algorithm\n",
    "    ranking_number - position of ranked keypoint (by size)\n",
    "    \"\"\"\n",
    "    if len(keypoints) != 0:\n",
    "        ranked_keypoint = get_ranked_keypoint(keypoints, ranking_number)\n",
    "        # validate that the keypoint is not empty\n",
    "        if ranked_keypoint:\n",
    "            return ranked_keypoint.pt[1]\n",
    "        else:\n",
    "            return 0\n",
    "    else:\n",
    "        return 0"
   ]
  },
  {
   "cell_type": "code",
   "execution_count": null,
   "id": "961c7efb-e23b-443a-bf1d-4f7098a731be",
   "metadata": {},
   "outputs": [],
   "source": [
    "def get_keypoint_size(keypoints, ranking_number):\n",
    "    \"\"\"Function to calculate the size of a keypoint at rank `ranking_number`.\n",
    "    Returns 0 if no keypoint available for `ranking_number`.\n",
    "    \n",
    "    Input variables:\n",
    "    keypoints      - list of keypoint objects from SURF algorithm\n",
    "    ranking_number - position of ranked keypoint (by size)\n",
    "    \"\"\"\n",
    "    if len(keypoints) != 0:\n",
    "        ranked_keypoint = get_ranked_keypoint(keypoints, ranking_number)\n",
    "        # validate that the keypoint is not empty\n",
    "        if ranked_keypoint:\n",
    "            return ranked_keypoint.size\n",
    "        else:\n",
    "            return 0\n",
    "    else:\n",
    "        return 0"
   ]
  },
  {
   "cell_type": "code",
   "execution_count": null,
   "id": "ea7c1dbd-89eb-40cf-8cea-76e23f507a0b",
   "metadata": {},
   "outputs": [],
   "source": [
    "def add_keypoint_parameters(df, max_rank=50):\n",
    "    \"\"\"Adds columns to df for keypoint parameters `x`, `y`, and `size` up to `max_rank`.\n",
    "    Run time for 50 keypoints: ~ 35 minutes\n",
    "    \"\"\"\n",
    "    total_time = 0\n",
    "\n",
    "    for i in range(1,max_rank + 1):\n",
    "        # initialize temporary parameters\n",
    "        name_x = 'kp_x_' + str(i)\n",
    "        name_y = 'kp_y_' + str(i)\n",
    "        name_size = 'kp_size_' + str(i)\n",
    "        x = pd.DataFrame(columns = [name_x])\n",
    "        y = pd.DataFrame(columns = [name_y])\n",
    "        s = pd.DataFrame(columns = [name_size])\n",
    "        \n",
    "        print('processing step ...', i)\n",
    "        start = time.time()\n",
    "\n",
    "        x[name_x] = df.keypoints.apply(lambda x: get_keypoint_x(x, i))\n",
    "        y[name_y] = df.keypoints.apply(lambda x: get_keypoint_y(x, i))\n",
    "        s[name_size] = df.keypoints.apply(lambda x: get_keypoint_size(x, i))\n",
    "        \n",
    "        # piece everything together before the next run\n",
    "        df = pd.concat([df, x, y, s], axis=1, ignore_index=False)\n",
    "\n",
    "        end = time.time()\n",
    "        total_time += (end - start)\n",
    "\n",
    "        print('processing time:', end-start)\n",
    "    print('total processing time was:', total_time)\n",
    "    print('average processing time per rank:', total_time / max_rank)\n",
    "  \n",
    "    return df"
   ]
  },
  {
   "cell_type": "code",
   "execution_count": null,
   "id": "978fe043-44c2-4f17-8156-441448e617e4",
   "metadata": {},
   "outputs": [],
   "source": [
    "# apply functions to data frame\n",
    "temp = add_keypoint_parameters(temp)"
   ]
  },
  {
   "cell_type": "markdown",
   "id": "8efe97b9-6a25-45b1-a0ae-01527da35888",
   "metadata": {},
   "source": [
    "---\n",
    "\n",
    "### Save data frame for further processing"
   ]
  },
  {
   "cell_type": "code",
   "execution_count": null,
   "id": "f79db137-e2b6-426a-a515-fc6c510c3fe0",
   "metadata": {},
   "outputs": [],
   "source": [
    "temp.to_csv('data/train_surf.csv', sep=',', index=False)"
   ]
  },
  {
   "cell_type": "markdown",
   "id": "8f15d6af-ff8d-4d1f-bf43-93c7d7307573",
   "metadata": {},
   "source": [
    "---\n",
    "\n",
    "### Trials"
   ]
  },
  {
   "cell_type": "code",
   "execution_count": null,
   "id": "6b5846ab-0e19-4400-bed1-d192fd90ac9c",
   "metadata": {},
   "outputs": [],
   "source": [
    "x = pd.DataFrame(columns = ['x'])\n",
    "y = pd.DataFrame(columns = ['y'])\n",
    "s = pd.DataFrame(columns = ['s'])\n",
    "\n",
    "total_time = 0\n",
    "\n",
    "start = time.time()\n",
    "x.x = temp.keypoints.apply(lambda x: get_keypoint_x(x, 1))\n",
    "end = time.time()\n",
    "print('processing time x:', end-start)\n",
    "total_time += end - start\n",
    "\n",
    "start = time.time()\n",
    "y.y = temp.keypoints.apply(lambda x: get_keypoint_y(x, 1))\n",
    "end = time.time()\n",
    "print('processing time y:', end-start)\n",
    "total_time += end - start\n",
    "\n",
    "start = time.time()\n",
    "s.s = temp.keypoints.apply(lambda x: get_keypoint_size(x, 1))\n",
    "end = time.time()\n",
    "print('processing time s:', end-start)\n",
    "total_time += end - start\n",
    "\n",
    "start = time.time()\n",
    "temp = pd.concat([temp, x, y, s], axis=1, ignore_index=False)\n",
    "\n",
    "end = time.time()\n",
    "print('processing time concat:', end-start)\n",
    "total_time += end - start\n",
    "print('total processing time was:', total_time)\n"
   ]
  },
  {
   "cell_type": "code",
   "execution_count": null,
   "id": "84ac6188-76f1-4e1a-ae61-38d996a84346",
   "metadata": {},
   "outputs": [],
   "source": []
  }
 ],
 "metadata": {
  "kernelspec": {
   "display_name": "Python 3 (ipykernel)",
   "language": "python",
   "name": "python3"
  },
  "language_info": {
   "codemirror_mode": {
    "name": "ipython",
    "version": 3
   },
   "file_extension": ".py",
   "mimetype": "text/x-python",
   "name": "python",
   "nbconvert_exporter": "python",
   "pygments_lexer": "ipython3",
   "version": "3.9.4"
  }
 },
 "nbformat": 4,
 "nbformat_minor": 5
}
