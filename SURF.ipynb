{
 "cells": [
  {
   "cell_type": "markdown",
   "id": "f5891455-ef7a-4184-9f00-43d314da5378",
   "metadata": {},
   "source": [
    "**Ressources**\n",
    "\n",
    "- [A Comparison of SIFT, SURF, and ORB](https://medium.com/@shehan.a.perera/a-comparison-of-sift-surf-and-orb-333d64bcaaea)\n",
    "- [Introduction to Orb](https://medium.com/data-breach/introduction-to-orb-oriented-fast-and-rotated-brief-4220e8ec40cf)\n",
    "- [ORB](https://opencv24-python-tutorials.readthedocs.io/en/latest/py_tutorials/py_feature2d/py_orb/py_orb.html)\n",
    "- [Introduction to SURF](https://medium.com/data-breach/introduction-to-surf-speeded-up-robust-features-c7396d6e7c4e)\n",
    "- [OpenCV Doku SURF](https://docs.opencv.org/3.4/d2/d29/classcv_1_1KeyPoint.html)\n",
    "- "
   ]
  },
  {
   "cell_type": "markdown",
   "id": "6b2dc0b3-328b-433d-8342-611f337fee2e",
   "metadata": {},
   "source": [
    "## SURF (Speeded-Up Robust Features)"
   ]
  },
  {
   "cell_type": "markdown",
   "id": "0408ce75-c26f-4056-8306-8688fb7acf54",
   "metadata": {},
   "source": [
    "### Import resources and display image"
   ]
  },
  {
   "cell_type": "code",
   "execution_count": null,
   "id": "1a2d0dd8-73e5-4c01-8e00-78ef919af1ce",
   "metadata": {},
   "outputs": [],
   "source": [
    "!pip3 install opencv-python"
   ]
  },
  {
   "cell_type": "code",
   "execution_count": null,
   "id": "bec7073b-ca92-4639-acc0-db40733b4d5e",
   "metadata": {},
   "outputs": [],
   "source": [
    "!pip install scikit-image"
   ]
  },
  {
   "cell_type": "code",
   "execution_count": 2,
   "id": "b507a047-3555-413b-9a77-2cd973232ef3",
   "metadata": {},
   "outputs": [],
   "source": [
    "import cv2\n",
    "import matplotlib.pyplot as plt\n",
    "import numpy as np\n",
    "import pandas as pd\n",
    "import pathlib\n",
    "from skimage import io\n",
    "import time\n",
    "\n",
    "%matplotlib inline"
   ]
  },
  {
   "cell_type": "code",
   "execution_count": 3,
   "id": "9a9cba6b-c120-421a-9e7d-ee27d33b119f",
   "metadata": {},
   "outputs": [],
   "source": [
    "# self-written scripts\n",
    "import sys\n",
    "sys.path.insert(0, 'Python_Scripts')\n",
    "\n",
    "import util\n",
    "import surf_handling"
   ]
  },
  {
   "cell_type": "code",
   "execution_count": null,
   "id": "4bf679ea-ad5f-4529-98af-2139d5a700a3",
   "metadata": {},
   "outputs": [],
   "source": [
    "# Load the image\n",
    "image1 = cv2.imread('data/train_images/0002cc93b.jpg')\n",
    "\n",
    "# Convert the training image to RGB\n",
    "training_image = cv2.cvtColor(image1, cv2.COLOR_BGR2RGB)\n",
    "\n",
    "# Convert the training image to gray scale\n",
    "training_gray = cv2.cvtColor(training_image, cv2.COLOR_RGB2GRAY)\n",
    "\n",
    "# Create test image by adding Scale Invariance and Rotational Invariance\n",
    "test_image = cv2.pyrDown(training_image)\n",
    "test_image = cv2.pyrDown(test_image)\n",
    "num_rows, num_cols = test_image.shape[:2]\n",
    "\n",
    "rotation_matrix = cv2.getRotationMatrix2D((num_cols/2, num_rows/2), 30, 1)\n",
    "test_image = cv2.warpAffine(test_image, rotation_matrix, (num_cols, num_rows))\n",
    "\n",
    "test_gray = cv2.cvtColor(test_image, cv2.COLOR_RGB2GRAY)\n",
    "\n",
    "# Display traning image and testing image\n",
    "fx, plots = plt.subplots(2, 1, figsize=(20,10))\n",
    "\n",
    "plots[0].set_title(\"Training Image\")\n",
    "plots[0].imshow(training_image)\n",
    "\n",
    "plots[1].set_title(\"Testing Image\")\n",
    "plots[1].imshow(test_image)"
   ]
  },
  {
   "cell_type": "markdown",
   "id": "d1cde0f2-d474-40f2-a9fa-b539d4268d2f",
   "metadata": {},
   "source": [
    "### Detect keypoints and Create Descriptor"
   ]
  },
  {
   "cell_type": "code",
   "execution_count": null,
   "id": "2ddf38ce-9a17-4ecb-9b61-fad4f6c69ca8",
   "metadata": {},
   "outputs": [],
   "source": [
    "surf = cv2.xfeatures2d.SURF_create(400)\n",
    "\n",
    "train_keypoints, train_descriptor = surf.detectAndCompute(training_gray, None)\n",
    "test_keypoints, test_descriptor = surf.detectAndCompute(test_gray, None)\n",
    "\n",
    "keypoints_without_size = np.copy(training_image)\n",
    "keypoints_with_size = np.copy(training_image)\n",
    "\n",
    "cv2.drawKeypoints(training_image, train_keypoints, keypoints_without_size, color = (0, 255, 0))\n",
    "\n",
    "cv2.drawKeypoints(training_image, train_keypoints, keypoints_with_size, flags = cv2.DRAW_MATCHES_FLAGS_DRAW_RICH_KEYPOINTS)\n",
    "\n",
    "# Display image with and without keypoints size\n",
    "fx, plots = plt.subplots(2, 1, figsize=(20,10))\n",
    "\n",
    "plots[0].set_title(\"Train keypoints With Size\")\n",
    "plots[0].imshow(keypoints_with_size, cmap='gray')\n",
    "\n",
    "plots[1].set_title(\"Train keypoints Without Size\")\n",
    "plots[1].imshow(keypoints_without_size, cmap='gray')\n",
    "\n",
    "# Print the number of keypoints detected in the training image\n",
    "print(\"Number of Keypoints Detected In The Training Image: \", len(train_keypoints))\n",
    "\n",
    "# Print the number of keypoints detected in the query image\n",
    "print(\"Number of Keypoints Detected In The Query Image: \", len(test_keypoints))"
   ]
  },
  {
   "cell_type": "markdown",
   "id": "d661c63b-0496-4f1e-938d-844c7af409dd",
   "metadata": {},
   "source": [
    "### Matching Keypoints"
   ]
  },
  {
   "cell_type": "code",
   "execution_count": null,
   "id": "bd83cfa0-8494-4259-9d26-65073edc583d",
   "metadata": {},
   "outputs": [],
   "source": [
    "# Create a Brute Force Matcher object.\n",
    "bf = cv2.BFMatcher(cv2.NORM_L1, crossCheck = False)\n",
    "\n",
    "# Perform the matching between the SURF descriptors of the training image and the test image\n",
    "matches = bf.match(train_descriptor, test_descriptor)\n",
    "\n",
    "# The matches with shorter distance are the ones we want.\n",
    "matches = sorted(matches, key = lambda x : x.distance)\n",
    "\n",
    "result = cv2.drawMatches(training_image, train_keypoints, test_gray, test_keypoints, matches, test_gray, flags = 2)\n",
    "\n",
    "# Display the best matching points\n",
    "plt.rcParams['figure.figsize'] = [14.0, 7.0]\n",
    "plt.title('Best Matching Points')\n",
    "plt.imshow(result)\n",
    "plt.show()\n",
    "\n",
    "# Print total number of matching points between the training and query images\n",
    "print(\"\\nNumber of Matching Keypoints Between The Training and Query Images: \", len(matches))"
   ]
  },
  {
   "cell_type": "code",
   "execution_count": null,
   "id": "761d1839-14f5-45ed-96de-3c7a4d19144a",
   "metadata": {},
   "outputs": [],
   "source": [
    "training_gray"
   ]
  },
  {
   "cell_type": "code",
   "execution_count": null,
   "id": "32d23da2-5cf1-46e3-a197-1fc92e54ebf9",
   "metadata": {},
   "outputs": [],
   "source": []
  },
  {
   "cell_type": "code",
   "execution_count": 3,
   "id": "38f3a923-abe6-4196-bef1-9a2321ca1d1b",
   "metadata": {},
   "outputs": [
    {
     "name": "stdout",
     "output_type": "stream",
     "text": [
      "140 (140, 64)\n"
     ]
    }
   ],
   "source": [
    "img = cv2.imread('data/train_images/0002cc93b.jpg',0)\n",
    "# Create SURF object. You can specify params here or later.\n",
    "# Here I set Hessian Threshold to 400\n",
    "surf = cv2.xfeatures2d.SURF_create(400)\n",
    "# Find keypoints and descriptors directly\n",
    "kp, des = surf.detectAndCompute(img,None)\n",
    "print(len(kp), des.shape)\n"
   ]
  },
  {
   "cell_type": "code",
   "execution_count": 4,
   "id": "30632107-0e9f-42ab-bfcd-f5e344eb863d",
   "metadata": {},
   "outputs": [
    {
     "name": "stdout",
     "output_type": "stream",
     "text": [
      "400.0\n"
     ]
    }
   ],
   "source": [
    "# Check present Hessian threshold\n",
    "print( surf.getHessianThreshold() )"
   ]
  },
  {
   "cell_type": "code",
   "execution_count": 5,
   "id": "04c02052-2451-4067-be16-9180a32cfc91",
   "metadata": {},
   "outputs": [
    {
     "name": "stdout",
     "output_type": "stream",
     "text": [
      "245 (245, 64)\n",
      "[-0.00021, 0.00128, 0.0037, 0.00207]\n",
      "[-0.00689, -0.01338, 0.02691, 0.03099]\n",
      "[0.00325, -0.00416, 0.05055, 0.02059]\n",
      "[0.00048, 0.00056, 0.00358, 0.00305]\n",
      "[-0.01652, 8e-05, 0.02158, 0.02313]\n",
      "[-0.28461, -0.09313, 0.34722, 0.13598]\n",
      "[0.28264, -0.07892, 0.37419, 0.1615]\n",
      "[-0.0065, 0.00614, 0.01835, 0.01669]\n",
      "[0.00045, -0.00118, 0.01022, 0.02078]\n",
      "[-0.19926, 0.16285, 0.27195, 0.26202]\n",
      "[0.19633, 0.14247, 0.39089, 0.29573]\n",
      "[-0.01046, 0.00299, 0.02326, 0.01178]\n",
      "[-0.00173, 0.00274, 0.00209, 0.00347]\n",
      "[0.00162, 0.00549, 0.02353, 0.01993]\n",
      "[0.00089, 0.01162, 0.03228, 0.02582]\n"
     ]
    }
   ],
   "source": [
    "# We set it to some 50000. Remember, it is just for representing in picture.\n",
    "# In actual cases, it is better to have a value 300-500\n",
    "surf.setHessianThreshold(300)\n",
    "# Again compute keypoints and check its number.\n",
    "kp, des = surf.detectAndCompute(img,None)\n",
    "\n",
    "#np.set_printoptions(formatter={'float': '{: 0.10f}'.format})\n",
    "\n",
    "print( len(kp), des.shape )\n",
    "v = []\n",
    "for idx, val in enumerate(des[0]):\n",
    "    \n",
    "    if idx%4 == 0 and idx != 0:\n",
    "        formatted_v = [float(\"%.5f\"%item) for item in v]\n",
    "        #np.set_printoptions(formatter={'float': '{: 0.4f}'.format})\n",
    "        print(formatted_v)\n",
    "        \n",
    "        v = []\n",
    "    v.append(val)\n",
    "    \n",
    "#print(des[0])"
   ]
  },
  {
   "cell_type": "code",
   "execution_count": 6,
   "id": "569140da-f08d-4800-bf1e-cd96ae02b9cf",
   "metadata": {},
   "outputs": [
    {
     "data": {
      "image/png": "[encoded data removed]",
      "text/plain": [
       "<Figure size 432x288 with 1 Axes>"
      ]
     },
     "metadata": {
      "needs_background": "light"
     },
     "output_type": "display_data"
    },
    {
     "data": {
      "text/plain": [
       "(<matplotlib.image.AxesImage at 0x12e00da30>, None)"
      ]
     },
     "execution_count": 6,
     "metadata": {},
     "output_type": "execute_result"
    }
   ],
   "source": [
    "img2 = cv2.drawKeypoints(img,kp,None,(255,0,0),4)\n",
    "plt.imshow(img2),plt.show()"
   ]
  },
  {
   "cell_type": "code",
   "execution_count": null,
   "id": "f222b510-9ab9-4192-9de1-300a64f1e724",
   "metadata": {},
   "outputs": [],
   "source": [
    "# Find size of descriptor\n",
    "print( surf.descriptorSize() )"
   ]
  },
  {
   "cell_type": "code",
   "execution_count": null,
   "id": "9328f115-3ec7-4679-8035-e3e771541264",
   "metadata": {},
   "outputs": [],
   "source": [
    "# That means flag, \"extended\" is False.\n",
    "surf.getExtended()"
   ]
  },
  {
   "cell_type": "code",
   "execution_count": null,
   "id": "8b2028cb-cdb1-41e0-a7b9-afd92bab97dc",
   "metadata": {},
   "outputs": [],
   "source": [
    "# So we make it to True to get 128-dim descriptors.\n",
    "surf.setExtended(True)\n",
    "kp, des = surf.detectAndCompute(img,None)\n",
    "print( surf.descriptorSize() )"
   ]
  },
  {
   "cell_type": "code",
   "execution_count": null,
   "id": "fd84e090-2318-48f3-9976-6c98441713fa",
   "metadata": {},
   "outputs": [],
   "source": [
    "print( des.shape )"
   ]
  },
  {
   "cell_type": "code",
   "execution_count": null,
   "id": "b00b25ec-943f-46d2-a788-61af417f2eb0",
   "metadata": {},
   "outputs": [],
   "source": [
    "img3 = cv2.drawKeypoints(img,kp,None,(255,0,0),4)\n",
    "plt.imshow(img3),plt.show()"
   ]
  },
  {
   "cell_type": "code",
   "execution_count": null,
   "id": "ac2d317b-160f-4e7d-8bd1-410c99932f8e",
   "metadata": {},
   "outputs": [],
   "source": [
    "des[0]"
   ]
  },
  {
   "cell_type": "markdown",
   "id": "62d0b390-a421-4443-934b-5b68a0ba1142",
   "metadata": {},
   "source": [
    "---\n",
    "\n",
    "### SURF-Attributes"
   ]
  },
  {
   "cell_type": "code",
   "execution_count": 7,
   "id": "bbd1cbd0-35f8-4346-9eb6-0acadbaaf65c",
   "metadata": {},
   "outputs": [
    {
     "name": "stdout",
     "output_type": "stream",
     "text": [
      "Keypoint at: (317.8110656738281, 178.74771118164062)\n",
      "Keypoint diameter: 20.0\n",
      "Direction of gradient: 1.72246253490448\n"
     ]
    }
   ],
   "source": [
    "print('Keypoint at:', kp[0].pt)\n",
    "print('Keypoint diameter:', kp[0].size)\n",
    "print('Direction of gradient:', kp[0].angle)"
   ]
  },
  {
   "cell_type": "code",
   "execution_count": 8,
   "id": "7434d139-e774-45f7-8222-7cf0c663ff2b",
   "metadata": {},
   "outputs": [
    {
     "data": {
      "text/plain": [
       "245"
      ]
     },
     "execution_count": 8,
     "metadata": {},
     "output_type": "execute_result"
    }
   ],
   "source": [
    "len(kp)"
   ]
  },
  {
   "cell_type": "markdown",
   "id": "49aad9b7-6752-4e8e-8dd5-9b8e59f9e81d",
   "metadata": {},
   "source": [
    "---\n",
    "\n",
    "### Apply SURF to all images"
   ]
  },
  {
   "cell_type": "code",
   "execution_count": 11,
   "id": "2136b014-1359-400e-9fce-132641fae20d",
   "metadata": {},
   "outputs": [],
   "source": [
    "def add_keypoints_to_frame(df, surf_object):\n",
    "    # prepare dictionary to gather data\n",
    "    surf_images = {'keypoints': [],\n",
    "                   'ImageId': [],\n",
    "                   'NumberKP': []\n",
    "                  }\n",
    "\n",
    "    print('processing images...')\n",
    "    start = time.time()\n",
    "\n",
    "    for idx, image_id in enumerate(df.ImageId):\n",
    "        surf_images['ImageId'].append(image_id)\n",
    "\n",
    "        # `image` so far holds just the path to the image. Convert to image file\n",
    "        image = io.imread(\"data/train_images/\" + image_id)\n",
    "        # Find keypoints and descriptors directly\n",
    "        kp, des = surf_object.detectAndCompute(image, None)\n",
    "\n",
    "        surf_images['keypoints'].append(kp)\n",
    "        surf_images['NumberKP'].append(len(kp))\n",
    "        if idx % 500 == 0 and idx != 0:\n",
    "            print(f'image number {idx} processed...')\n",
    "\n",
    "    end = time.time()\n",
    "    print('processing done.')\n",
    "    print('required time:', end - start)\n",
    "    \n",
    "    temp = pd.DataFrame.from_dict(surf_images)\n",
    "    \n",
    "    return temp"
   ]
  },
  {
   "cell_type": "code",
   "execution_count": 12,
   "id": "b9639acd-97ef-4863-932a-bd96a110c8d5",
   "metadata": {},
   "outputs": [],
   "source": [
    "def build_keypoints_from_list(train_images_list, surf_object):\n",
    "    # prepare dictionary to gather data\n",
    "    surf_images = {'keypoints': [],\n",
    "                   'ImageId': [],\n",
    "                   'NumberKP': []\n",
    "                  }\n",
    "\n",
    "    print('processing images...')\n",
    "    start = time.time()\n",
    "\n",
    "    for idx, image in enumerate(train_images_list):\n",
    "        surf_images['ImageId'].append(image.name)\n",
    "    \n",
    "        # `image` so far holds just the path to the image. Convert to image file\n",
    "        image = io.imread(\"data/train_images/\" + image.name)\n",
    "        # Find keypoints and descriptors directly\n",
    "        kp, des = surf.detectAndCompute(image, None)\n",
    "\n",
    "        surf_images['keypoints'].append(kp)\n",
    "        surf_images['NumberKP'].append(len(kp))\n",
    "        if idx % 500 == 0 and idx != 0:\n",
    "            print(f'image number {idx} processed...')\n",
    "\n",
    "    end = time.time()\n",
    "    print('processing done.')\n",
    "    print('required time:', end - start)\n",
    "    \n",
    "    temp = pd.DataFrame.from_dict(surf_images)\n",
    "    \n",
    "    return temp"
   ]
  },
  {
   "cell_type": "code",
   "execution_count": 13,
   "id": "ada28211-6d59-4d4d-82b9-702a99873489",
   "metadata": {},
   "outputs": [
    {
     "name": "stdout",
     "output_type": "stream",
     "text": [
      "processing images...\n",
      "image number 500 processed...\n",
      "image number 1000 processed...\n",
      "image number 1500 processed...\n",
      "image number 2000 processed...\n",
      "image number 2500 processed...\n",
      "image number 3000 processed...\n",
      "image number 3500 processed...\n",
      "image number 4000 processed...\n",
      "image number 4500 processed...\n",
      "image number 5000 processed...\n",
      "image number 5500 processed...\n",
      "image number 6000 processed...\n",
      "image number 6500 processed...\n",
      "image number 7000 processed...\n",
      "image number 7500 processed...\n",
      "image number 8000 processed...\n",
      "image number 8500 processed...\n",
      "image number 9000 processed...\n",
      "image number 9500 processed...\n",
      "image number 10000 processed...\n",
      "image number 10500 processed...\n",
      "image number 11000 processed...\n",
      "image number 11500 processed...\n",
      "image number 12000 processed...\n",
      "image number 12500 processed...\n",
      "processing done.\n",
      "required time: 229.44701719284058\n"
     ]
    }
   ],
   "source": [
    "\"\"\"Processing time: ~3 minutes and 40 seconds.\n",
    "\"\"\"\n",
    "\n",
    "# get current working directory\n",
    "cwd = pathlib.Path.cwd()\n",
    "train_data_dir = cwd.joinpath('data', 'train_images')\n",
    "train_images = list(train_data_dir.glob('*.jpg'))\n",
    "\n",
    "# Create SURF object. You can specify params here or later.\n",
    "# Here I set Hessian Threshold to 400\n",
    "surf = cv2.xfeatures2d.SURF_create(400)\n",
    "\n",
    "temp = build_keypoints_from_list(train_images, surf)"
   ]
  },
  {
   "cell_type": "code",
   "execution_count": 1,
   "id": "9b44da90-ca5d-4850-aec4-ed36d1cb84db",
   "metadata": {},
   "outputs": [
    {
     "ename": "NameError",
     "evalue": "name 'pathlib' is not defined",
     "output_type": "error",
     "traceback": [
      "\u001b[0;31m---------------------------------------------------------------------------\u001b[0m",
      "\u001b[0;31mNameError\u001b[0m                                 Traceback (most recent call last)",
      "Input \u001b[0;32mIn [1]\u001b[0m, in \u001b[0;36m<module>\u001b[0;34m\u001b[0m\n\u001b[1;32m      1\u001b[0m \u001b[38;5;124;03m\"\"\"Processing time: ~3 minutes and 40 seconds.\u001b[39;00m\n\u001b[1;32m      2\u001b[0m \u001b[38;5;124;03m\"\"\"\u001b[39;00m\n\u001b[1;32m      4\u001b[0m \u001b[38;5;66;03m# get current working directory\u001b[39;00m\n\u001b[0;32m----> 5\u001b[0m cwd \u001b[38;5;241m=\u001b[39m \u001b[43mpathlib\u001b[49m\u001b[38;5;241m.\u001b[39mPath\u001b[38;5;241m.\u001b[39mcwd()\n\u001b[1;32m      6\u001b[0m train_data_dir \u001b[38;5;241m=\u001b[39m cwd\u001b[38;5;241m.\u001b[39mjoinpath(\u001b[38;5;124m'\u001b[39m\u001b[38;5;124mdata\u001b[39m\u001b[38;5;124m'\u001b[39m, \u001b[38;5;124m'\u001b[39m\u001b[38;5;124mtrain_images\u001b[39m\u001b[38;5;124m'\u001b[39m)\n\u001b[1;32m      7\u001b[0m train_images \u001b[38;5;241m=\u001b[39m \u001b[38;5;28mlist\u001b[39m(train_data_dir\u001b[38;5;241m.\u001b[39mglob(\u001b[38;5;124m'\u001b[39m\u001b[38;5;124m*.jpg\u001b[39m\u001b[38;5;124m'\u001b[39m))\n",
      "\u001b[0;31mNameError\u001b[0m: name 'pathlib' is not defined"
     ]
    }
   ],
   "source": [
    "\"\"\"Processing time: ~3 minutes and 40 seconds.\n",
    "\"\"\"\n",
    "\n",
    "# get current working directory\n",
    "cwd = pathlib.Path.cwd()\n",
    "train_data_dir = cwd.joinpath('data', 'train_images')\n",
    "train_images = list(train_data_dir.glob('*.jpg'))\n",
    "\n",
    "# Create SURF object. You can specify params here or later.\n",
    "# Here I set Hessian Threshold to 400\n",
    "surf = cv2.xfeatures2d.SURF_create(400)\n",
    "\n",
    "# prepare dictionary to gather data\n",
    "surf_images = {'keypoints': [],\n",
    "               'ImageId': [],\n",
    "               'NumberKP': []\n",
    "              }\n",
    "\n",
    "print('processing images...')\n",
    "start = time.time()\n",
    "\n",
    "for idx, image in enumerate(train_images):\n",
    "    surf_images['ImageId'].append(image.name)\n",
    "    \n",
    "    # `image` so far holds just the path to the image. Convert to image file\n",
    "    image = io.imread(\"data/train_images/\"+image.name)\n",
    "    # Find keypoints and descriptors directly\n",
    "    kp, des = surf.detectAndCompute(image, None)\n",
    "    \n",
    "    surf_images['keypoints'].append(kp)\n",
    "    surf_images['NumberKP'].append(len(kp))\n",
    "    if idx % 500 == 0 and idx != 0:\n",
    "        print(f'image number {idx} processed...')\n",
    "\n",
    "end = time.time()\n",
    "print('processing done.')\n",
    "print('required time:', end - start)"
   ]
  },
  {
   "cell_type": "code",
   "execution_count": null,
   "id": "0db0630b-15e0-4ec5-9ee7-c0fff1ce3666",
   "metadata": {},
   "outputs": [],
   "source": [
    "temp = pd.DataFrame.from_dict(surf_images)\n",
    "temp.head()"
   ]
  },
  {
   "cell_type": "code",
   "execution_count": 14,
   "id": "a3119f4e-190c-40b6-97ad-209d054ad898",
   "metadata": {},
   "outputs": [
    {
     "name": "stdout",
     "output_type": "stream",
     "text": [
      "We have 2181 keypoint vectors with less than 50 keypoints\n"
     ]
    }
   ],
   "source": [
    "print(f\"We have {temp.query('NumberKP < 50').count()[0]} keypoint vectors with less than 50 keypoints\")"
   ]
  },
  {
   "cell_type": "code",
   "execution_count": 15,
   "id": "de2c698f-f945-488f-921e-b75a156d965d",
   "metadata": {},
   "outputs": [
    {
     "data": {
      "text/html": [
       "<div>\n",
       "<style scoped>\n",
       "    .dataframe tbody tr th:only-of-type {\n",
       "        vertical-align: middle;\n",
       "    }\n",
       "\n",
       "    .dataframe tbody tr th {\n",
       "        vertical-align: top;\n",
       "    }\n",
       "\n",
       "    .dataframe thead th {\n",
       "        text-align: right;\n",
       "    }\n",
       "</style>\n",
       "<table border=\"1\" class=\"dataframe\">\n",
       "  <thead>\n",
       "    <tr style=\"text-align: right;\">\n",
       "      <th></th>\n",
       "      <th>keypoints</th>\n",
       "      <th>ImageId</th>\n",
       "      <th>NumberKP</th>\n",
       "    </tr>\n",
       "  </thead>\n",
       "  <tbody>\n",
       "    <tr>\n",
       "      <th>4794</th>\n",
       "      <td>(&lt;KeyPoint 0x28cf76240&gt;, &lt;KeyPoint 0x28cf76270...</td>\n",
       "      <td>f1bee5caa.jpg</td>\n",
       "      <td>4884</td>\n",
       "    </tr>\n",
       "    <tr>\n",
       "      <th>7482</th>\n",
       "      <td>(&lt;KeyPoint 0x2909701e0&gt;, &lt;KeyPoint 0x290970210...</td>\n",
       "      <td>72754d67c.jpg</td>\n",
       "      <td>4588</td>\n",
       "    </tr>\n",
       "    <tr>\n",
       "      <th>10717</th>\n",
       "      <td>(&lt;KeyPoint 0x294537540&gt;, &lt;KeyPoint 0x294537570...</td>\n",
       "      <td>efb8d2080.jpg</td>\n",
       "      <td>4577</td>\n",
       "    </tr>\n",
       "    <tr>\n",
       "      <th>7504</th>\n",
       "      <td>(&lt;KeyPoint 0x290a1b0c0&gt;, &lt;KeyPoint 0x290a1b0f0...</td>\n",
       "      <td>c097a0af1.jpg</td>\n",
       "      <td>4401</td>\n",
       "    </tr>\n",
       "    <tr>\n",
       "      <th>2101</th>\n",
       "      <td>(&lt;KeyPoint 0x288d61f00&gt;, &lt;KeyPoint 0x288d61f90...</td>\n",
       "      <td>31970c97b.jpg</td>\n",
       "      <td>4386</td>\n",
       "    </tr>\n",
       "    <tr>\n",
       "      <th>...</th>\n",
       "      <td>...</td>\n",
       "      <td>...</td>\n",
       "      <td>...</td>\n",
       "    </tr>\n",
       "    <tr>\n",
       "      <th>9196</th>\n",
       "      <td>()</td>\n",
       "      <td>caf49d870.jpg</td>\n",
       "      <td>0</td>\n",
       "    </tr>\n",
       "    <tr>\n",
       "      <th>12033</th>\n",
       "      <td>()</td>\n",
       "      <td>b1331b5aa.jpg</td>\n",
       "      <td>0</td>\n",
       "    </tr>\n",
       "    <tr>\n",
       "      <th>10622</th>\n",
       "      <td>()</td>\n",
       "      <td>f7f1db72c.jpg</td>\n",
       "      <td>0</td>\n",
       "    </tr>\n",
       "    <tr>\n",
       "      <th>10933</th>\n",
       "      <td>()</td>\n",
       "      <td>2b8b658d7.jpg</td>\n",
       "      <td>0</td>\n",
       "    </tr>\n",
       "    <tr>\n",
       "      <th>3206</th>\n",
       "      <td>()</td>\n",
       "      <td>be2442d87.jpg</td>\n",
       "      <td>0</td>\n",
       "    </tr>\n",
       "  </tbody>\n",
       "</table>\n",
       "<p>12568 rows × 3 columns</p>\n",
       "</div>"
      ],
      "text/plain": [
       "                                               keypoints        ImageId  \\\n",
       "4794   (<KeyPoint 0x28cf76240>, <KeyPoint 0x28cf76270...  f1bee5caa.jpg   \n",
       "7482   (<KeyPoint 0x2909701e0>, <KeyPoint 0x290970210...  72754d67c.jpg   \n",
       "10717  (<KeyPoint 0x294537540>, <KeyPoint 0x294537570...  efb8d2080.jpg   \n",
       "7504   (<KeyPoint 0x290a1b0c0>, <KeyPoint 0x290a1b0f0...  c097a0af1.jpg   \n",
       "2101   (<KeyPoint 0x288d61f00>, <KeyPoint 0x288d61f90...  31970c97b.jpg   \n",
       "...                                                  ...            ...   \n",
       "9196                                                  ()  caf49d870.jpg   \n",
       "12033                                                 ()  b1331b5aa.jpg   \n",
       "10622                                                 ()  f7f1db72c.jpg   \n",
       "10933                                                 ()  2b8b658d7.jpg   \n",
       "3206                                                  ()  be2442d87.jpg   \n",
       "\n",
       "       NumberKP  \n",
       "4794       4884  \n",
       "7482       4588  \n",
       "10717      4577  \n",
       "7504       4401  \n",
       "2101       4386  \n",
       "...         ...  \n",
       "9196          0  \n",
       "12033         0  \n",
       "10622         0  \n",
       "10933         0  \n",
       "3206          0  \n",
       "\n",
       "[12568 rows x 3 columns]"
      ]
     },
     "execution_count": 15,
     "metadata": {},
     "output_type": "execute_result"
    }
   ],
   "source": [
    "temp.sort_values(by='NumberKP', ascending=False)"
   ]
  },
  {
   "cell_type": "markdown",
   "id": "6acecc5d-5c3c-4ece-8ac0-fc7e55d98e18",
   "metadata": {},
   "source": [
    "Adjust data frame and eliminate images that have more than 1 defect."
   ]
  },
  {
   "cell_type": "code",
   "execution_count": null,
   "id": "fba53bb7-62b2-467e-9d18-0072faee8734",
   "metadata": {},
   "outputs": [],
   "source": [
    "util.isolate_single_defects(temp)"
   ]
  },
  {
   "cell_type": "markdown",
   "id": "fddbc5a2-6d27-45b2-97ff-48f477691aa9",
   "metadata": {},
   "source": [
    "---\n",
    "\n",
    "### Prepare data frame with (max) TOP50 Keypoints per image"
   ]
  },
  {
   "cell_type": "code",
   "execution_count": null,
   "id": "09994c13-2ac5-41cd-895a-31c5e4b1cac5",
   "metadata": {},
   "outputs": [],
   "source": [
    "\"\"\"Expected run-time: ~ 35 minutes\n",
    "\"\"\"\n",
    "# apply functions to data frame\n",
    "temp = surf_handling.add_keypoint_parameters(temp)"
   ]
  },
  {
   "cell_type": "markdown",
   "id": "8efe97b9-6a25-45b1-a0ae-01527da35888",
   "metadata": {},
   "source": [
    "---\n",
    "\n",
    "### Save data frame for further processing"
   ]
  },
  {
   "cell_type": "code",
   "execution_count": null,
   "id": "f79db137-e2b6-426a-a515-fc6c510c3fe0",
   "metadata": {},
   "outputs": [],
   "source": [
    "temp.to_csv('data/train_surf.csv', sep=',', index=False)"
   ]
  },
  {
   "cell_type": "markdown",
   "id": "8f15d6af-ff8d-4d1f-bf43-93c7d7307573",
   "metadata": {},
   "source": [
    "---\n",
    "\n",
    "### Trials"
   ]
  },
  {
   "cell_type": "code",
   "execution_count": null,
   "id": "6b5846ab-0e19-4400-bed1-d192fd90ac9c",
   "metadata": {},
   "outputs": [],
   "source": [
    "x = pd.DataFrame(columns = ['x'])\n",
    "y = pd.DataFrame(columns = ['y'])\n",
    "s = pd.DataFrame(columns = ['s'])\n",
    "\n",
    "total_time = 0\n",
    "\n",
    "start = time.time()\n",
    "x.x = temp.keypoints.apply(lambda x: get_keypoint_x(x, 1))\n",
    "end = time.time()\n",
    "print('processing time x:', end-start)\n",
    "total_time += end - start\n",
    "\n",
    "start = time.time()\n",
    "y.y = temp.keypoints.apply(lambda x: get_keypoint_y(x, 1))\n",
    "end = time.time()\n",
    "print('processing time y:', end-start)\n",
    "total_time += end - start\n",
    "\n",
    "start = time.time()\n",
    "s.s = temp.keypoints.apply(lambda x: get_keypoint_size(x, 1))\n",
    "end = time.time()\n",
    "print('processing time s:', end-start)\n",
    "total_time += end - start\n",
    "\n",
    "start = time.time()\n",
    "temp = pd.concat([temp, x, y, s], axis=1, ignore_index=False)\n",
    "\n",
    "end = time.time()\n",
    "print('processing time concat:', end-start)\n",
    "total_time += end - start\n",
    "print('total processing time was:', total_time)\n"
   ]
  }
 ],
 "metadata": {
  "kernelspec": {
   "display_name": "Python 3 (ipykernel)",
   "language": "python",
   "name": "python3"
  },
  "language_info": {
   "codemirror_mode": {
    "name": "ipython",
    "version": 3
   },
   "file_extension": ".py",
   "mimetype": "text/x-python",
   "name": "python",
   "nbconvert_exporter": "python",
   "pygments_lexer": "ipython3",
   "version": "3.9.4"
  }
 },
 "nbformat": 4,
 "nbformat_minor": 5
}
