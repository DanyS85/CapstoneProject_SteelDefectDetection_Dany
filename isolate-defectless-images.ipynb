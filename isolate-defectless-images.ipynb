{
 "cells": [
  {
   "cell_type": "code",
   "execution_count": null,
   "id": "3811c13f-bbe5-4c5d-b500-806ccb8b40ab",
   "metadata": {},
   "outputs": [],
   "source": [
    "import cv2\n",
    "import matplotlib.pyplot as plt\n",
    "import numpy as np\n",
    "import pandas as pd\n",
    "import pathlib\n",
    "from skimage import io\n",
    "import time\n",
    "\n",
    "%matplotlib inline"
   ]
  },
  {
   "cell_type": "code",
   "execution_count": null,
   "id": "def5baf1-c134-440c-9693-fac48555d022",
   "metadata": {},
   "outputs": [],
   "source": [
    "# self-written scripts\n",
    "import sys\n",
    "sys.path.insert(0, 'Python_Scripts')\n",
    "\n",
    "import util\n",
    "import surf_handling\n",
    "import surf_hog_analysis"
   ]
  },
  {
   "cell_type": "code",
   "execution_count": null,
   "id": "2954e4eb-d3a6-4947-8e2f-8410a4dec4f6",
   "metadata": {},
   "outputs": [],
   "source": [
    "df = pd.read_csv('data/train_complete.csv')"
   ]
  },
  {
   "cell_type": "code",
   "execution_count": null,
   "id": "7dff5e31-a9a3-4475-b7e3-3258c66ac8de",
   "metadata": {},
   "outputs": [],
   "source": [
    "df_defectless = df.query('Defect == 0')"
   ]
  },
  {
   "cell_type": "code",
   "execution_count": null,
   "id": "5ac48358-d8ef-42c0-aea9-f0e61582eee1",
   "metadata": {},
   "outputs": [],
   "source": [
    "df_defectless"
   ]
  },
  {
   "cell_type": "code",
   "execution_count": null,
   "id": "6ff11dd1-6cf3-4d45-9572-57992efef442",
   "metadata": {},
   "outputs": [],
   "source": [
    "def add_keypoints_to_frame(df, surf_object):\n",
    "    # prepare dictionary to gather data\n",
    "    surf_images = {'keypoints': [],\n",
    "                   'ImageId': [],\n",
    "                   'NumberKP': []\n",
    "                  }\n",
    "\n",
    "    print('processing images...')\n",
    "    start = time.time()\n",
    "\n",
    "    for idx, image_id in enumerate(df.ImageId):\n",
    "        surf_images['ImageId'].append(image_id)\n",
    "\n",
    "        # `image` so far holds just the path to the image. Convert to image file\n",
    "        image = io.imread(\"data/train_images/\" + image_id)\n",
    "        # Find keypoints and descriptors directly\n",
    "        kp, des = surf_object.detectAndCompute(image, None)\n",
    "\n",
    "        surf_images['keypoints'].append(kp)\n",
    "        surf_images['NumberKP'].append(len(kp))\n",
    "        if idx % 500 == 0 and idx != 0:\n",
    "            print(f'image number {idx} processed...')\n",
    "\n",
    "    end = time.time()\n",
    "    print('processing done.')\n",
    "    print('required time:', end - start)\n",
    "    \n",
    "    temp = pd.DataFrame.from_dict(surf_images)\n",
    "    \n",
    "    return df.merge(temp, on='ImageId')"
   ]
  },
  {
   "cell_type": "code",
   "execution_count": null,
   "id": "2dcfa64c-cce3-4a1f-8369-6bf5ad4efade",
   "metadata": {},
   "outputs": [],
   "source": [
    "surf = cv2.xfeatures2d.SURF_create(400)"
   ]
  },
  {
   "cell_type": "code",
   "execution_count": null,
   "id": "9edaa69c-d268-4aca-8cf2-80318adb86a2",
   "metadata": {},
   "outputs": [],
   "source": [
    "df_defectless_with_kp = add_keypoints_to_frame(df_defectless, surf)"
   ]
  },
  {
   "cell_type": "code",
   "execution_count": null,
   "id": "37b21049-2018-4cb8-8589-b927aaf5d763",
   "metadata": {},
   "outputs": [],
   "source": [
    "defectless_complete = util.add_blackness_attributes(df_defectless_with_kp, 'train_images')"
   ]
  },
  {
   "cell_type": "code",
   "execution_count": null,
   "id": "c2bc5054-10c2-467f-b9e4-88a000a53504",
   "metadata": {},
   "outputs": [],
   "source": [
    "defectless_complete"
   ]
  },
  {
   "cell_type": "code",
   "execution_count": null,
   "id": "b680721c-cff5-42dd-b8a0-1555baa9b2b1",
   "metadata": {},
   "outputs": [],
   "source": [
    "defectless_complete.query('PercentageBlack <= 0.5 and NumberKP < 51')"
   ]
  },
  {
   "cell_type": "code",
   "execution_count": null,
   "id": "d7a3aef1-8af0-46ea-a5a4-7309e7cfbd5d",
   "metadata": {},
   "outputs": [],
   "source": []
  },
  {
   "cell_type": "code",
   "execution_count": null,
   "id": "33f6e1aa-b5b5-40db-be20-1e1ac43a4549",
   "metadata": {},
   "outputs": [],
   "source": [
    "num_kp_list_sorted = df_defectless_with_kp.sort_values(by='NumberKP', ascending=True).NumberKP.to_numpy()\n",
    "num_kp_list = df_defectless_with_kp.NumberKP.to_numpy()"
   ]
  },
  {
   "cell_type": "code",
   "execution_count": null,
   "id": "0ad6db9e-46e6-4ec7-b1b4-b3bc9f1ec0bb",
   "metadata": {},
   "outputs": [],
   "source": [
    "num_kp_list_sorted[:1000]"
   ]
  },
  {
   "cell_type": "code",
   "execution_count": null,
   "id": "28551235-42be-4c83-a818-6d98cc2ef852",
   "metadata": {},
   "outputs": [],
   "source": [
    "#np.where(num_kp_list < 51)"
   ]
  },
  {
   "cell_type": "code",
   "execution_count": null,
   "id": "368d47ca-281f-4f1f-9301-1c90b8cc025b",
   "metadata": {},
   "outputs": [],
   "source": [
    "defectless_kp_less_51 = df_defectless_with_kp.query('NumberKP < 51')\n",
    "defectless_kp_less_51"
   ]
  },
  {
   "cell_type": "code",
   "execution_count": null,
   "id": "bddbd3c3-3b2c-4952-a90f-1ba8857d4615",
   "metadata": {},
   "outputs": [],
   "source": [
    "surf_hog_analysis.print_batch(defectless_kp_less_51, defectless_kp_less_51.ClassId, show_keypoints=True)"
   ]
  },
  {
   "cell_type": "code",
   "execution_count": null,
   "id": "1372a066-a926-4212-a5d6-ca7cfdc4078c",
   "metadata": {},
   "outputs": [],
   "source": [
    "defectless_kp_less_51.to_csv('data/defectless_less_51_kp.csv', sep=',', index=False)"
   ]
  },
  {
   "cell_type": "code",
   "execution_count": null,
   "id": "6251d804-3e7e-4c80-962d-a34a54ae3709",
   "metadata": {},
   "outputs": [],
   "source": []
  }
 ],
 "metadata": {
  "kernelspec": {
   "display_name": "Python 3 (ipykernel)",
   "language": "python",
   "name": "python3"
  },
  "language_info": {
   "codemirror_mode": {
    "name": "ipython",
    "version": 3
   },
   "file_extension": ".py",
   "mimetype": "text/x-python",
   "name": "python",
   "nbconvert_exporter": "python",
   "pygments_lexer": "ipython3",
   "version": "3.9.4"
  }
 },
 "nbformat": 4,
 "nbformat_minor": 5
}
