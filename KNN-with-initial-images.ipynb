{
 "cells": [
  {
   "cell_type": "code",
   "execution_count": null,
   "id": "6bfc6522-3b7f-4105-a961-dbb1ad514157",
   "metadata": {},
   "outputs": [],
   "source": [
    "import matplotlib.pyplot as plt\n",
    "from skimage import io\n",
    "from skimage import color\n",
    "from skimage.transform import resize\n",
    "import math\n",
    "import numpy as np\n",
    "import pandas as pd\n",
    "from PIL import Image\n",
    "from skimage import data, exposure\n",
    "import seaborn as sns\n",
    "from sklearn.neighbors import KNeighborsClassifier\n",
    "from sklearn import metrics\n",
    "from sklearn.preprocessing import StandardScaler\n",
    "from sklearn.model_selection import train_test_split\n",
    "import cv2"
   ]
  },
  {
   "cell_type": "code",
   "execution_count": null,
   "id": "8a6cfa37-432f-4963-a7f6-a6eaf5465ce0",
   "metadata": {},
   "outputs": [],
   "source": [
    "# self-written scripts\n",
    "import sys\n",
    "sys.path.insert(0, 'Python_Scripts')\n",
    "\n",
    "import util\n",
    "import surf_hog_analysis "
   ]
  },
  {
   "cell_type": "code",
   "execution_count": null,
   "id": "b99da101-fa89-491a-a54b-21504bfd7e29",
   "metadata": {},
   "outputs": [],
   "source": [
    "#!pip install seaborn"
   ]
  },
  {
   "cell_type": "code",
   "execution_count": null,
   "id": "508d4c01-ded7-46ba-82f3-b9a806e91861",
   "metadata": {},
   "outputs": [],
   "source": [
    "#!pip install imblearn"
   ]
  },
  {
   "cell_type": "code",
   "execution_count": null,
   "id": "6e98c659-508c-4d9c-8c8f-fa56a048cdd2",
   "metadata": {},
   "outputs": [],
   "source": [
    "#!pip install scikit-learn"
   ]
  },
  {
   "cell_type": "markdown",
   "id": "be27cc72-3149-4f93-8e21-248b06b16d69",
   "metadata": {},
   "source": [
    "---\n",
    "\n",
    "### Data preparation"
   ]
  },
  {
   "cell_type": "code",
   "execution_count": null,
   "id": "53049e54-adfc-4e0d-8592-16dc33039f6e",
   "metadata": {
    "tags": []
   },
   "outputs": [],
   "source": [
    "df = pd.read_csv('data/train_complete.csv')"
   ]
  },
  {
   "cell_type": "code",
   "execution_count": null,
   "id": "e05fe91f-8e66-4775-870a-3d277c4711e5",
   "metadata": {},
   "outputs": [],
   "source": [
    "# isolate only images that have 0 or 1 defect\n",
    "util.isolate_single_defects(df)"
   ]
  },
  {
   "cell_type": "code",
   "execution_count": null,
   "id": "324f1b1e-d7b4-48f9-991e-485c7be25f9e",
   "metadata": {},
   "outputs": [],
   "source": [
    "df.shape"
   ]
  },
  {
   "cell_type": "markdown",
   "id": "afcbd573-2f46-4f83-a74c-acce35305d7a",
   "metadata": {
    "tags": []
   },
   "source": [
    "---\n",
    "\n",
    "# KNN"
   ]
  },
  {
   "cell_type": "markdown",
   "id": "999c71ca-ce56-435b-b117-63ba9fda0901",
   "metadata": {},
   "source": [
    "---\n",
    "\n",
    "## Use initial train.csv (based on 4 imbalanced classes in train_images) in KNN"
   ]
  },
  {
   "cell_type": "code",
   "execution_count": null,
   "id": "e3af2300-bd1f-4350-8218-83bab0592d96",
   "metadata": {},
   "outputs": [],
   "source": [
    "# eliminate class 0 in dataframe\n",
    "df2 = df.query('ClassId != 0')"
   ]
  },
  {
   "cell_type": "code",
   "execution_count": null,
   "id": "0cabad3a-bcae-4d60-a53f-1f38e25e5495",
   "metadata": {},
   "outputs": [],
   "source": [
    "df.groupby('ClassId')['ImageId'].count()"
   ]
  },
  {
   "cell_type": "code",
   "execution_count": null,
   "id": "e753e7c5-2ffb-4373-bbc1-47c7b0147fc2",
   "metadata": {},
   "outputs": [],
   "source": [
    "df.head()"
   ]
  },
  {
   "cell_type": "code",
   "execution_count": null,
   "id": "2d724ea2-5075-468d-b0d7-eff616151e0d",
   "metadata": {},
   "outputs": [],
   "source": [
    "initial_images =[]\n",
    "\n",
    "IMG_SIZE = 128\n",
    "for image_id in df2['ImageId']:\n",
    "    image = io.imread('data/single_defect_train_images/' + image_id)\n",
    "    #resize images\n",
    "    image_resized=cv2.resize(image,(IMG_SIZE,IMG_SIZE))\n",
    "    #The input data have to be converted from 3 dimensional format to 1 dimensional format\n",
    "    image_flat = image_resized.reshape(1, 3*IMG_SIZE*IMG_SIZE)\n",
    "    # Data Normalization\n",
    "    # Conversion to float\n",
    "    image_flat=image_flat.astype('float32')\n",
    "    # Normalization (In the RGB color space the red, green and blue have integer values from 0 to 255)\n",
    "    image_flat = image_flat/255.0\n",
    "    initial_images.append([image_id,image_flat[0]])"
   ]
  },
  {
   "cell_type": "code",
   "execution_count": null,
   "id": "bd880c90-3bbe-42b5-a947-978cdcdada52",
   "metadata": {},
   "outputs": [],
   "source": [
    "initial_images = pd.DataFrame(initial_images , columns = ['ImageId', 'flattened_images'])"
   ]
  },
  {
   "cell_type": "code",
   "execution_count": null,
   "id": "239b16f6-07d4-4d19-8807-45867111e626",
   "metadata": {},
   "outputs": [],
   "source": [
    "initial_images.head()"
   ]
  },
  {
   "cell_type": "code",
   "execution_count": null,
   "id": "60e9f236-b559-4b64-98d5-8716de5b9bb0",
   "metadata": {},
   "outputs": [],
   "source": [
    "split_initial_images = pd.DataFrame(initial_images['flattened_images'].tolist())\n",
    "initial_images_complete = pd.concat([initial_images, split_initial_images], axis=1)\n",
    "initial_images_complete.drop(['flattened_images'], axis=1, inplace=True)"
   ]
  },
  {
   "cell_type": "code",
   "execution_count": null,
   "id": "44900d00-2ac7-444f-9e60-4a542095cc9e",
   "metadata": {},
   "outputs": [],
   "source": [
    "initial_images_complete.head()"
   ]
  },
  {
   "cell_type": "code",
   "execution_count": null,
   "id": "ca82c2ee-251d-4baf-8e76-cb66f784d27c",
   "metadata": {},
   "outputs": [],
   "source": [
    "# add classId to dataframe\n",
    "initial_images_complete = pd.merge(initial_images_complete, df[['ImageId','ClassId']], on='ImageId')"
   ]
  },
  {
   "cell_type": "code",
   "execution_count": null,
   "id": "40157311-cd09-4846-b632-2d93a1c69e78",
   "metadata": {},
   "outputs": [],
   "source": [
    "initial_images_complete.head()"
   ]
  },
  {
   "cell_type": "code",
   "execution_count": null,
   "id": "0d5b67ad-2cde-4acf-8136-a952df5a3537",
   "metadata": {},
   "outputs": [],
   "source": [
    "#Split in X und Y\n",
    "X = initial_images_complete.drop(['ClassId','ImageId'], axis =1)\n",
    "y = initial_images_complete['ClassId']"
   ]
  },
  {
   "cell_type": "code",
   "execution_count": null,
   "id": "ebdb4a5a-419d-44e8-8839-173165360df1",
   "metadata": {},
   "outputs": [],
   "source": [
    "from sklearn.model_selection import train_test_split\n",
    "X_train, X_test, y_train, y_test = train_test_split(X,y,test_size=0.2,stratify=y, random_state = 42)\n",
    "print('Training data and target sizes: \\n{}, {}'.format(X_train.shape,y_train.shape))\n",
    "print('Test data and target sizes: \\n{}, {}'.format(X_test.shape,y_test.shape))"
   ]
  },
  {
   "cell_type": "code",
   "execution_count": null,
   "id": "e1bb9293-5668-4ddb-8302-c7c4fe364255",
   "metadata": {},
   "outputs": [],
   "source": [
    "test_accuracy = []\n",
    "scaler = StandardScaler()\n",
    "\n",
    "X_train_scaled = scaler.fit_transform(X_train)\n",
    "\n",
    "X_test_scaled = scaler.transform(X_test)\n",
    "\n",
    "classifier = KNeighborsClassifier(n_neighbors=3,algorithm='brute')\n",
    "classifier.fit(X_train_scaled, y_train)\n",
    "\n",
    "\n",
    "y_pred = classifier.predict(X_test_scaled)\n",
    "test_accuracy = classifier.score((X_test_scaled), y_test)\n",
    "print(test_accuracy)"
   ]
  },
  {
   "cell_type": "code",
   "execution_count": null,
   "id": "4cb420c1-71e9-47b7-b72f-b563d4b451aa",
   "metadata": {},
   "outputs": [],
   "source": [
    "print(metrics.confusion_matrix(y_test,y_pred))\n",
    "# Print confusion matrix\n",
    "sns.heatmap(metrics.confusion_matrix(y_test, y_pred), annot=True, cmap='YlGn');"
   ]
  },
  {
   "cell_type": "code",
   "execution_count": null,
   "id": "8c2ba3bf-0a2c-4dfc-9b26-2891a79b1443",
   "metadata": {},
   "outputs": [],
   "source": [
    "print(metrics.classification_report(y_test, y_pred))"
   ]
  },
  {
   "cell_type": "markdown",
   "id": "c2b3d061-e6f8-4b59-898a-c8dd7ea6aa65",
   "metadata": {
    "tags": []
   },
   "source": [
    "---\n",
    "\n",
    "### Visualization of falsely predicted pictures"
   ]
  },
  {
   "cell_type": "markdown",
   "id": "57e00cdc-6404-423f-95e3-94585cfc7127",
   "metadata": {},
   "source": [
    "---\n",
    "\n",
    "#### Piece-by-piece visualization"
   ]
  },
  {
   "cell_type": "code",
   "execution_count": null,
   "id": "e85e1b9f-5b42-4326-80c0-c0069fa0f6f5",
   "metadata": {},
   "outputs": [],
   "source": [
    "# extract indices of our `hog_complete` data frame where predictions were incorrect\n",
    "false_predictions = (y_pred!=y_test)\n",
    "false_predictions = false_predictions[false_predictions].index.values"
   ]
  },
  {
   "cell_type": "code",
   "execution_count": null,
   "id": "b5cdaad0-1830-4e1d-a304-57f6c843449e",
   "metadata": {},
   "outputs": [],
   "source": [
    "y_pred[(y_pred!=y_test)]"
   ]
  },
  {
   "cell_type": "code",
   "execution_count": null,
   "id": "e4b5413f-a24e-4146-bd9b-ce66d14d51fd",
   "metadata": {},
   "outputs": [],
   "source": [
    "y_pred_false =y_pred[(y_pred!=y_test)]\n",
    "\n",
    "predictions = pd.DataFrame(y_pred_false, index=false_predictions,columns=['ClassId_predicted'])\n",
    "predictions"
   ]
  },
  {
   "cell_type": "code",
   "execution_count": null,
   "id": "a4545fe4-de5f-45ed-84d3-2fd205ee6feb",
   "metadata": {},
   "outputs": [],
   "source": [
    "# extract all rows from `hog_complete` where the predcition was incorrect\n",
    "false_predicted_images = hog_complete.join(predictions).loc[false_predictions][['ImageId','ClassId', 'ClassId_predicted']]\n",
    "# add additional information needed to find the correponding pictures\n",
    "false_predicted_images = false_predicted_images.merge(df[['FilePath','ImageId']], on = 'ImageId')\n"
   ]
  },
  {
   "cell_type": "code",
   "execution_count": null,
   "id": "ffa0cee3-8954-4cb6-95b0-776298b9e519",
   "metadata": {},
   "outputs": [],
   "source": [
    "false_predicted_images"
   ]
  },
  {
   "cell_type": "code",
   "execution_count": null,
   "id": "461c650e-671d-4392-9481-c3cc941df0a1",
   "metadata": {},
   "outputs": [],
   "source": [
    "number_images = 5\n",
    "\n",
    "random_index = np.round(np.random.rand(number_images) * len(false_predicted_images.ImageId)) + 1\n",
    "#print(random_index)\n",
    "\n",
    "for i in range(number_images):\n",
    "    #random_index = 'random_index_' + str(i+1)\n",
    "    #print(random_index)\n",
    "    file_path_to_image = false_predicted_images['FilePath'][random_index[i]]\n",
    "    class_id = false_predicted_images['ClassId'][random_index[i]]\n",
    "    image_id = false_predicted_images['ImageId'][random_index[i]]\n",
    "    class_id_pred = int(false_predicted_images['ClassId_predicted'][random_index[i]])\n",
    "    \n",
    "    img = io.imread(file_path_to_image)\n",
    "    plt.figure(figsize=(18, 10))\n",
    "    ax = plt.subplot(number_images, 1, i + 1)\n",
    "    plt.imshow(img)\n",
    "    plt.title(f'Image ID: {image_id} | True ClassId: {class_id} | Predicted ClassId: {class_id_pred}', fontsize=16);\n",
    "    plt.axis(\"off\")"
   ]
  }
 ],
 "metadata": {
  "kernelspec": {
   "display_name": "Python 3 (ipykernel)",
   "language": "python",
   "name": "python3"
  },
  "language_info": {
   "codemirror_mode": {
    "name": "ipython",
    "version": 3
   },
   "file_extension": ".py",
   "mimetype": "text/x-python",
   "name": "python",
   "nbconvert_exporter": "python",
   "pygments_lexer": "ipython3",
   "version": "3.9.4"
  }
 },
 "nbformat": 4,
 "nbformat_minor": 5
}
