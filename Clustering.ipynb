{
 "cells": [
  {
   "cell_type": "code",
   "execution_count": null,
   "id": "c01ea207-f204-4ca1-ad6e-2dd1da3fd829",
   "metadata": {},
   "outputs": [],
   "source": [
    "%matplotlib inline\n",
    "import matplotlib.pyplot as plt\n",
    "import seaborn as sns; sns.set()\n",
    "import numpy as np\n",
    "from scipy.stats import mode\n",
    "\n",
    "from sklearn.datasets import load_digits\n",
    "from sklearn.metrics import confusion_matrix, classification_report, accuracy_score\n",
    "from sklearn.cluster import DBSCAN, MiniBatchKMeans, KMeans, AgglomerativeClustering\n",
    "\n",
    "from sklearn.decomposition import PCA\n",
    "from sklearn.manifold import TSNE\n",
    "import pandas as pd\n",
    "\n",
    "from time import time\n",
    "import os\n",
    "import pathlib\n",
    "import shutil\n",
    "from skimage import io"
   ]
  },
  {
   "cell_type": "code",
   "execution_count": null,
   "id": "5e77545c-0516-4163-9703-5b3b40fb622a",
   "metadata": {},
   "outputs": [],
   "source": [
    "# Loading the complete dataset (including class 0)\n",
    "df = pd.read_csv('data/train_complete.csv')\n",
    "df.head()"
   ]
  },
  {
   "cell_type": "code",
   "execution_count": null,
   "id": "0867492a-d1a5-4ff4-ab34-6f6dad453ca8",
   "metadata": {},
   "outputs": [],
   "source": [
    "# Loading the train dataset without class 0\n",
    "df2 = pd.read_csv('data/train.csv')\n",
    "df2.head()"
   ]
  },
  {
   "cell_type": "code",
   "execution_count": null,
   "id": "6d0df2b0-9d06-4b91-8a03-496334b10b47",
   "metadata": {},
   "outputs": [],
   "source": [
    "# self-written scripts\n",
    "import sys\n",
    "sys.path.insert(0, 'Python_Scripts')\n",
    "\n",
    "import util"
   ]
  },
  {
   "cell_type": "code",
   "execution_count": null,
   "id": "f677d110-eeee-4710-8767-583c0bdd9d54",
   "metadata": {},
   "outputs": [],
   "source": [
    "# isolate only images that have 0 or 1 defect\n",
    "util.isolate_single_defects(df)"
   ]
  },
  {
   "cell_type": "code",
   "execution_count": null,
   "id": "1a14a7a9-d382-4380-8aa7-066c81fb8235",
   "metadata": {},
   "outputs": [],
   "source": [
    "# eliminate class 0 images in dataset\n",
    "df = df.query('ClassId!=0')\n",
    "df.shape"
   ]
  },
  {
   "cell_type": "code",
   "execution_count": null,
   "id": "bede6510-1b5e-4438-bca3-c3c52b311334",
   "metadata": {
    "tags": []
   },
   "outputs": [],
   "source": [
    "path = pathlib.Path.cwd()\n",
    "path"
   ]
  },
  {
   "cell_type": "code",
   "execution_count": null,
   "id": "ff87722c-9852-4d3b-bc07-62fe02ab0f8c",
   "metadata": {},
   "outputs": [],
   "source": [
    "# create folder for \"single defect Images\"\n",
    "os.mkdir(path.joinpath('data','single_defect_train_images'))"
   ]
  },
  {
   "cell_type": "code",
   "execution_count": null,
   "id": "b9d72af3-fb3a-44b7-a912-2d9e523e6384",
   "metadata": {},
   "outputs": [],
   "source": [
    "# search in train images for images with single defects and copy in new folder \" single_defect_train_images\"\n",
    "for i in range(len(df)):\n",
    "    origin_train_path = path.joinpath('data', 'train_images')\n",
    "    source_file = df.iloc[i,1]\n",
    "    target_directory = path.joinpath('data', 'single_defect_train_images')\n",
    "    shutil.copy2(origin_train_path.joinpath(source_file) , target_directory.joinpath(source_file))"
   ]
  },
  {
   "cell_type": "code",
   "execution_count": null,
   "id": "d40e4efb-59c6-4042-a7b4-71144043205a",
   "metadata": {},
   "outputs": [],
   "source": [
    "images = io.imread('data/single_defect_train_images/0002cc93b.jpg')\n",
    "print('Org image shape --> ',images.shape)"
   ]
  },
  {
   "cell_type": "code",
   "execution_count": null,
   "id": "a51ef426-1623-483c-a379-bc6e66e3818f",
   "metadata": {},
   "outputs": [],
   "source": [
    "plt.imshow(images)"
   ]
  },
  {
   "cell_type": "code",
   "execution_count": null,
   "id": "83b62a85-bace-4fa3-bb81-48c4cb3b1fdc",
   "metadata": {},
   "outputs": [],
   "source": [
    "#resize images\n",
    "#print(df.min())\n",
    "import cv2\n",
    "IMG_SIZE = 32\n",
    "images=cv2.resize(images,(IMG_SIZE,IMG_SIZE))\n",
    "print('After resizing shape --> ',images.shape)"
   ]
  },
  {
   "cell_type": "code",
   "execution_count": null,
   "id": "a363de7a-5f01-4432-9094-2c2e7145632b",
   "metadata": {},
   "outputs": [],
   "source": [
    "plt.imshow(img)"
   ]
  },
  {
   "cell_type": "code",
   "execution_count": null,
   "id": "d9ff9cfd-c1c5-4b27-acfd-0e2916d509cc",
   "metadata": {},
   "outputs": [],
   "source": [
    "#The input data have to be converted from 3 dimensional format to 2 dimensional format to be fed into the K-Means Clustering algorithm (Reshape images)\n",
    "images = images.reshape(len(images),-1)\n",
    "\n",
    "\n",
    "print('After Flattening shape --> ',images.shape)"
   ]
  },
  {
   "cell_type": "code",
   "execution_count": null,
   "id": "4404f9e5-4add-47cf-b3f2-0f254beed6fc",
   "metadata": {},
   "outputs": [],
   "source": [
    "plt.imshow(images)"
   ]
  },
  {
   "cell_type": "code",
   "execution_count": null,
   "id": "8d8edc5c-3ba4-4966-8543-800fa8ef77eb",
   "metadata": {},
   "outputs": [],
   "source": [
    "# Data Normalization\n",
    "# Conversion to float\n",
    "x_train = x_train.astype(‘float32’) \n",
    "x_test = x_test.astype(‘float32’)\n",
    "# Normalization\n",
    "x_train = x_train/255.0\n",
    "x_test = x_test/255.0"
   ]
  },
  {
   "cell_type": "code",
   "execution_count": null,
   "id": "71e9caa7-8c10-4ef3-832b-8202615e1dfc",
   "metadata": {},
   "outputs": [],
   "source": [
    "# Creating the KMeans model and predict classes (n_clusters =5 ; due to 5 classes)\n",
    "kmeans = KMeans(n_clusters=5, random_state=0)\n",
    "clusters = kmeans.fit_predict(df.data)\n",
    "kmeans.cluster_centers_.shape"
   ]
  },
  {
   "cell_type": "code",
   "execution_count": null,
   "id": "57e74734-c259-4f7a-8060-b428ca1edfb6",
   "metadata": {},
   "outputs": [],
   "source": [
    "# Create a labels array to match the learned cluster lables with the true labels\n",
    "labels = np.zeros_like(clusters)\n",
    "for i in range(5):\n",
    "    mask = (clusters == i)\n",
    "    labels[mask] = mode(digits.target[mask])[0]"
   ]
  },
  {
   "cell_type": "code",
   "execution_count": null,
   "id": "db00cd8c-9ac2-422f-809b-f9363e1d7c43",
   "metadata": {},
   "outputs": [],
   "source": [
    "# Plotting the confusing matrix\n",
    "mat = confusion_matrix(digits.target, labels)\n",
    "sns.heatmap(mat.T, square=True, annot=True, fmt='d', cbar=False,\n",
    "            xticklabels=digits.target_names,\n",
    "            yticklabels=digits.target_names)\n",
    "plt.xlabel('true label')\n",
    "plt.ylabel('predicted label');\n",
    "\n",
    "print('Accuracy: ', accuracy_score(digits.target, labels))\n",
    "print('==============================================================')\n",
    "print(confusion_matrix(digits.target,labels))\n",
    "print('==============================================================')\n",
    "print(classification_report(digits.target,labels))"
   ]
  }
 ],
 "metadata": {
  "kernelspec": {
   "display_name": "Python 3 (ipykernel)",
   "language": "python",
   "name": "python3"
  },
  "language_info": {
   "codemirror_mode": {
    "name": "ipython",
    "version": 3
   },
   "file_extension": ".py",
   "mimetype": "text/x-python",
   "name": "python",
   "nbconvert_exporter": "python",
   "pygments_lexer": "ipython3",
   "version": "3.9.4"
  }
 },
 "nbformat": 4,
 "nbformat_minor": 5
}
