{
 "cells": [
  {
   "cell_type": "code",
   "execution_count": null,
   "id": "c01ea207-f204-4ca1-ad6e-2dd1da3fd829",
   "metadata": {},
   "outputs": [],
   "source": [
    "%matplotlib inline\n",
    "import matplotlib.pyplot as plt\n",
    "import seaborn as sns; sns.set()\n",
    "import numpy as np\n",
    "from scipy.stats import mode\n",
    "\n",
    "from sklearn.datasets import load_digits\n",
    "from sklearn.metrics import confusion_matrix, classification_report, accuracy_score\n",
    "from sklearn.cluster import DBSCAN, MiniBatchKMeans, KMeans, AgglomerativeClustering\n",
    "\n",
    "from sklearn.decomposition import PCA\n",
    "from sklearn.manifold import TSNE\n",
    "import pandas as pd\n",
    "\n",
    "from time import time\n",
    "import os\n",
    "import pathlib\n",
    "import shutil\n",
    "from skimage import io\n",
    "import cv2"
   ]
  },
  {
   "cell_type": "code",
   "execution_count": null,
   "id": "5e77545c-0516-4163-9703-5b3b40fb622a",
   "metadata": {},
   "outputs": [],
   "source": [
    "# Loading the complete dataset (including class 0)\n",
    "df = pd.read_csv('data/train_complete.csv')\n",
    "df.head()"
   ]
  },
  {
   "cell_type": "code",
   "execution_count": null,
   "id": "0867492a-d1a5-4ff4-ab34-6f6dad453ca8",
   "metadata": {},
   "outputs": [],
   "source": [
    "# Loading the train dataset without class 0\n",
    "df2 = pd.read_csv('data/train.csv')\n",
    "df2.head()"
   ]
  },
  {
   "cell_type": "code",
   "execution_count": null,
   "id": "6d0df2b0-9d06-4b91-8a03-496334b10b47",
   "metadata": {},
   "outputs": [],
   "source": [
    "# self-written scripts\n",
    "import sys\n",
    "sys.path.insert(0, 'Python_Scripts')\n",
    "\n",
    "import util"
   ]
  },
  {
   "cell_type": "code",
   "execution_count": null,
   "id": "f677d110-eeee-4710-8767-583c0bdd9d54",
   "metadata": {},
   "outputs": [],
   "source": [
    "# isolate only images that have 0 or 1 defect\n",
    "util.isolate_single_defects(df)"
   ]
  },
  {
   "cell_type": "code",
   "execution_count": null,
   "id": "1a14a7a9-d382-4380-8aa7-066c81fb8235",
   "metadata": {},
   "outputs": [],
   "source": [
    "# eliminate class 0 images in dataset\n",
    "df = df.query('ClassId!=0')\n",
    "df.shape"
   ]
  },
  {
   "cell_type": "code",
   "execution_count": null,
   "id": "4fb64feb-f621-4764-a9c5-0423b883d7f1",
   "metadata": {},
   "outputs": [],
   "source": [
    "# temporarily safe all images from `ClassId` 2\n",
    "path = pathlib.Path.cwd()\n",
    "try:\n",
    "    os.mkdir(path.joinpath('data','single_defect_train_images'))\n",
    "except:\n",
    "    print('Folder already exists.')\n",
    "    # von Michael kopiert für Ordnererstellung basierend auf x_train\n",
    "    for i in range(len(df)):\n",
    "        origin_train_path = path.joinpath('data', 'train_images')\n",
    "        source_file = df.iloc[i,1]\n",
    "        target_directory = path.joinpath('data', 'single_defect_train_images')\n",
    "        shutil.copy2(origin_train_path.joinpath(source_file) , target_directory.joinpath(source_file))\n"
   ]
  },
  {
   "cell_type": "code",
   "execution_count": null,
   "id": "2357e4fc-1633-4ce0-855c-f170e91bf83c",
   "metadata": {},
   "outputs": [],
   "source": [
    "df.head()\n"
   ]
  },
  {
   "cell_type": "code",
   "execution_count": null,
   "id": "23a6a62a-537d-4453-a46e-999ceb2bd9c8",
   "metadata": {},
   "outputs": [],
   "source": [
    "flattened_images =[]\n",
    "\n",
    "IMG_SIZE = 32\n",
    "for image_id in df['ImageId']:\n",
    "    image = io.imread('data/single_defect_train_images/' + image_id)\n",
    "    #resize images\n",
    "    image_resized=cv2.resize(image,(IMG_SIZE,IMG_SIZE))\n",
    "    #The input data have to be converted from 3 dimensional format to 1 dimensional format\n",
    "    image_flat = image_resized.reshape(len(image_resized),-1)\n",
    "    flattened_images.append(image_flat)"
   ]
  },
  {
   "cell_type": "code",
   "execution_count": null,
   "id": "d40e4efb-59c6-4042-a7b4-71144043205a",
   "metadata": {},
   "outputs": [],
   "source": [
    "\n",
    "images = io.imread('data/single_defect_train_images/0002cc93b.jpg')\n",
    "print('Org image shape --> ',images.shape)"
   ]
  },
  {
   "cell_type": "code",
   "execution_count": null,
   "id": "a51ef426-1623-483c-a379-bc6e66e3818f",
   "metadata": {},
   "outputs": [],
   "source": [
    "plt.rcParams['axes.grid'] = False\n",
    "plt.imshow(images)"
   ]
  },
  {
   "cell_type": "code",
   "execution_count": null,
   "id": "7cef4b36-8739-4c7c-9e6b-ff8c3b6bd63e",
   "metadata": {},
   "outputs": [],
   "source": [
    "#images[:,0]"
   ]
  },
  {
   "cell_type": "code",
   "execution_count": null,
   "id": "c59efff7-565a-462a-8ca1-04909fddf126",
   "metadata": {},
   "outputs": [],
   "source": [
    "print(images.max())"
   ]
  },
  {
   "cell_type": "code",
   "execution_count": null,
   "id": "83b62a85-bace-4fa3-bb81-48c4cb3b1fdc",
   "metadata": {},
   "outputs": [],
   "source": [
    "#resize images\n",
    "\n",
    "IMG_SIZE = 64\n",
    "image_resized=cv2.resize(images,(IMG_SIZE,IMG_SIZE))\n",
    "print('After resizing shape --> ',image_resized.shape)"
   ]
  },
  {
   "cell_type": "code",
   "execution_count": null,
   "id": "a363de7a-5f01-4432-9094-2c2e7145632b",
   "metadata": {},
   "outputs": [],
   "source": [
    "plt.rcParams['axes.grid'] = False\n",
    "plt.imshow(image_resized)"
   ]
  },
  {
   "cell_type": "code",
   "execution_count": null,
   "id": "baceb030-4aa6-4684-886d-d259feb983ad",
   "metadata": {},
   "outputs": [],
   "source": [
    "print(len(image_resized))"
   ]
  },
  {
   "cell_type": "code",
   "execution_count": null,
   "id": "838fbfd9-d72b-4f03-9328-e37f162be452",
   "metadata": {},
   "outputs": [],
   "source": [
    "print(image_resized.max())"
   ]
  },
  {
   "cell_type": "code",
   "execution_count": null,
   "id": "d9ff9cfd-c1c5-4b27-acfd-0e2916d509cc",
   "metadata": {},
   "outputs": [],
   "source": [
    "#The input data have to be converted from 3 dimensional format to 1 dimensional format to be fed into the K-Means Clustering algorithm (Reshape images)\n",
    "#image_flat = image_resized.reshape(len(image_resized),-1)\n",
    "image_flat = image_resized.reshape(1, 3*IMG_SIZE*IMG_SIZE)\n",
    "\n",
    "print('After Flattening shape --> ',image_flat.shape)"
   ]
  },
  {
   "cell_type": "code",
   "execution_count": null,
   "id": "b3a577f2-b370-44ad-8a14-a44e9f3865dd",
   "metadata": {},
   "outputs": [],
   "source": [
    "image_flat"
   ]
  },
  {
   "cell_type": "code",
   "execution_count": null,
   "id": "4404f9e5-4add-47cf-b3f2-0f254beed6fc",
   "metadata": {},
   "outputs": [],
   "source": [
    "plt.imshow(image_flat)"
   ]
  },
  {
   "cell_type": "code",
   "execution_count": null,
   "id": "bc6771ef-e898-4075-9661-4faec5dd71c6",
   "metadata": {},
   "outputs": [],
   "source": [
    "print(image_flat.max())"
   ]
  },
  {
   "cell_type": "code",
   "execution_count": null,
   "id": "e1752f03-ac96-467c-b728-b7bc8ab7cae7",
   "metadata": {},
   "outputs": [],
   "source": [
    "image_flat[:,0]"
   ]
  },
  {
   "cell_type": "code",
   "execution_count": null,
   "id": "8d8edc5c-3ba4-4966-8543-800fa8ef77eb",
   "metadata": {},
   "outputs": [],
   "source": [
    "# Data Normalization\n",
    "# Conversion to float\n",
    "x_train = x_train.astype(‘float32’) \n",
    "x_test = x_test.astype(‘float32’)\n",
    "# Normalization\n",
    "x_train = x_train/255.0\n",
    "x_test = x_test/255.0"
   ]
  },
  {
   "cell_type": "code",
   "execution_count": null,
   "id": "71e9caa7-8c10-4ef3-832b-8202615e1dfc",
   "metadata": {},
   "outputs": [],
   "source": [
    "# Creating the KMeans model and predict classes (n_clusters =5 ; due to 5 classes)\n",
    "kmeans = KMeans(n_clusters=5, random_state=0)\n",
    "clusters = kmeans.fit_predict(df.data)\n",
    "kmeans.cluster_centers_.shape"
   ]
  },
  {
   "cell_type": "code",
   "execution_count": null,
   "id": "57e74734-c259-4f7a-8060-b428ca1edfb6",
   "metadata": {},
   "outputs": [],
   "source": [
    "# Create a labels array to match the learned cluster lables with the true labels\n",
    "labels = np.zeros_like(clusters)\n",
    "for i in range(5):\n",
    "    mask = (clusters == i)\n",
    "    labels[mask] = mode(digits.target[mask])[0]"
   ]
  },
  {
   "cell_type": "code",
   "execution_count": null,
   "id": "db00cd8c-9ac2-422f-809b-f9363e1d7c43",
   "metadata": {},
   "outputs": [],
   "source": [
    "# Plotting the confusing matrix\n",
    "mat = confusion_matrix(digits.target, labels)\n",
    "sns.heatmap(mat.T, square=True, annot=True, fmt='d', cbar=False,\n",
    "            xticklabels=digits.target_names,\n",
    "            yticklabels=digits.target_names)\n",
    "plt.xlabel('true label')\n",
    "plt.ylabel('predicted label');\n",
    "\n",
    "print('Accuracy: ', accuracy_score(digits.target, labels))\n",
    "print('==============================================================')\n",
    "print(confusion_matrix(digits.target,labels))\n",
    "print('==============================================================')\n",
    "print(classification_report(digits.target,labels))"
   ]
  }
 ],
 "metadata": {
  "kernelspec": {
   "display_name": "Python 3 (ipykernel)",
   "language": "python",
   "name": "python3"
  },
  "language_info": {
   "codemirror_mode": {
    "name": "ipython",
    "version": 3
   },
   "file_extension": ".py",
   "mimetype": "text/x-python",
   "name": "python",
   "nbconvert_exporter": "python",
   "pygments_lexer": "ipython3",
   "version": "3.9.4"
  }
 },
 "nbformat": 4,
 "nbformat_minor": 5
}
