{
 "cells": [
  {
   "cell_type": "markdown",
   "id": "70abb6d9-8d83-4a33-a8a1-e087bc0fa32e",
   "metadata": {},
   "source": [
    "https://www.analyticsvidhya.com/blog/2021/06/k-means-clustering-and-transfer-learning-for-image-classification/\n",
    "\n",
    "https://medium.com/@joel_34096/k-means-clustering-for-image-classification-a648f28bdc47"
   ]
  },
  {
   "cell_type": "code",
   "execution_count": 1,
   "id": "c01ea207-f204-4ca1-ad6e-2dd1da3fd829",
   "metadata": {},
   "outputs": [],
   "source": [
    "%matplotlib inline\n",
    "import matplotlib.pyplot as plt\n",
    "import seaborn as sns; sns.set()\n",
    "import numpy as np\n",
    "from scipy.stats import mode\n",
    "\n",
    "from sklearn.metrics import confusion_matrix, classification_report, accuracy_score\n",
    "from sklearn.cluster import  KMeans\n",
    "\n",
    "from sklearn.decomposition import PCA\n",
    "from sklearn.manifold import TSNE\n",
    "import pandas as pd\n",
    "\n",
    "from time import time\n",
    "import os\n",
    "import pathlib\n",
    "import shutil\n",
    "from skimage import io\n",
    "import cv2"
   ]
  },
  {
   "cell_type": "code",
   "execution_count": 2,
   "id": "6d0df2b0-9d06-4b91-8a03-496334b10b47",
   "metadata": {},
   "outputs": [],
   "source": [
    "# self-written scripts\n",
    "import sys\n",
    "sys.path.insert(0, 'Python_Scripts')\n",
    "\n",
    "import util"
   ]
  },
  {
   "cell_type": "code",
   "execution_count": 3,
   "id": "5e77545c-0516-4163-9703-5b3b40fb622a",
   "metadata": {},
   "outputs": [
    {
     "data": {
      "text/html": [
       "<div>\n",
       "<style scoped>\n",
       "    .dataframe tbody tr th:only-of-type {\n",
       "        vertical-align: middle;\n",
       "    }\n",
       "\n",
       "    .dataframe tbody tr th {\n",
       "        vertical-align: top;\n",
       "    }\n",
       "\n",
       "    .dataframe thead th {\n",
       "        text-align: right;\n",
       "    }\n",
       "</style>\n",
       "<table border=\"1\" class=\"dataframe\">\n",
       "  <thead>\n",
       "    <tr style=\"text-align: right;\">\n",
       "      <th></th>\n",
       "      <th>FilePath</th>\n",
       "      <th>ImageId</th>\n",
       "      <th>ClassId</th>\n",
       "      <th>EncodedPixels</th>\n",
       "      <th>Defect</th>\n",
       "    </tr>\n",
       "  </thead>\n",
       "  <tbody>\n",
       "    <tr>\n",
       "      <th>0</th>\n",
       "      <td>/Users/fabioteichmann/neuefische/projects/Caps...</td>\n",
       "      <td>0002cc93b.jpg</td>\n",
       "      <td>1</td>\n",
       "      <td>29102 12 29346 24 29602 24 29858 24 30114 24 3...</td>\n",
       "      <td>1</td>\n",
       "    </tr>\n",
       "    <tr>\n",
       "      <th>1</th>\n",
       "      <td>/Users/fabioteichmann/neuefische/projects/Caps...</td>\n",
       "      <td>0007a71bf.jpg</td>\n",
       "      <td>3</td>\n",
       "      <td>18661 28 18863 82 19091 110 19347 110 19603 11...</td>\n",
       "      <td>1</td>\n",
       "    </tr>\n",
       "    <tr>\n",
       "      <th>2</th>\n",
       "      <td>/Users/fabioteichmann/neuefische/projects/Caps...</td>\n",
       "      <td>000a4bcdd.jpg</td>\n",
       "      <td>1</td>\n",
       "      <td>37607 3 37858 8 38108 14 38359 20 38610 25 388...</td>\n",
       "      <td>1</td>\n",
       "    </tr>\n",
       "    <tr>\n",
       "      <th>3</th>\n",
       "      <td>/Users/fabioteichmann/neuefische/projects/Caps...</td>\n",
       "      <td>000f6bf48.jpg</td>\n",
       "      <td>4</td>\n",
       "      <td>131973 1 132228 4 132483 6 132738 8 132993 11 ...</td>\n",
       "      <td>1</td>\n",
       "    </tr>\n",
       "    <tr>\n",
       "      <th>4</th>\n",
       "      <td>/Users/fabioteichmann/neuefische/projects/Caps...</td>\n",
       "      <td>0014fce06.jpg</td>\n",
       "      <td>3</td>\n",
       "      <td>229501 11 229741 33 229981 55 230221 77 230468...</td>\n",
       "      <td>1</td>\n",
       "    </tr>\n",
       "  </tbody>\n",
       "</table>\n",
       "</div>"
      ],
      "text/plain": [
       "                                            FilePath        ImageId  ClassId  \\\n",
       "0  /Users/fabioteichmann/neuefische/projects/Caps...  0002cc93b.jpg        1   \n",
       "1  /Users/fabioteichmann/neuefische/projects/Caps...  0007a71bf.jpg        3   \n",
       "2  /Users/fabioteichmann/neuefische/projects/Caps...  000a4bcdd.jpg        1   \n",
       "3  /Users/fabioteichmann/neuefische/projects/Caps...  000f6bf48.jpg        4   \n",
       "4  /Users/fabioteichmann/neuefische/projects/Caps...  0014fce06.jpg        3   \n",
       "\n",
       "                                       EncodedPixels  Defect  \n",
       "0  29102 12 29346 24 29602 24 29858 24 30114 24 3...       1  \n",
       "1  18661 28 18863 82 19091 110 19347 110 19603 11...       1  \n",
       "2  37607 3 37858 8 38108 14 38359 20 38610 25 388...       1  \n",
       "3  131973 1 132228 4 132483 6 132738 8 132993 11 ...       1  \n",
       "4  229501 11 229741 33 229981 55 230221 77 230468...       1  "
      ]
     },
     "execution_count": 3,
     "metadata": {},
     "output_type": "execute_result"
    }
   ],
   "source": [
    "# Loading the complete dataset (including class 0)\n",
    "df = pd.read_csv('data/train_complete.csv')\n",
    "df.head()"
   ]
  },
  {
   "cell_type": "code",
   "execution_count": 4,
   "id": "0867492a-d1a5-4ff4-ab34-6f6dad453ca8",
   "metadata": {},
   "outputs": [
    {
     "data": {
      "text/html": [
       "<div>\n",
       "<style scoped>\n",
       "    .dataframe tbody tr th:only-of-type {\n",
       "        vertical-align: middle;\n",
       "    }\n",
       "\n",
       "    .dataframe tbody tr th {\n",
       "        vertical-align: top;\n",
       "    }\n",
       "\n",
       "    .dataframe thead th {\n",
       "        text-align: right;\n",
       "    }\n",
       "</style>\n",
       "<table border=\"1\" class=\"dataframe\">\n",
       "  <thead>\n",
       "    <tr style=\"text-align: right;\">\n",
       "      <th></th>\n",
       "      <th>ImageId</th>\n",
       "      <th>ClassId</th>\n",
       "      <th>EncodedPixels</th>\n",
       "    </tr>\n",
       "  </thead>\n",
       "  <tbody>\n",
       "    <tr>\n",
       "      <th>0</th>\n",
       "      <td>0002cc93b.jpg</td>\n",
       "      <td>1</td>\n",
       "      <td>29102 12 29346 24 29602 24 29858 24 30114 24 3...</td>\n",
       "    </tr>\n",
       "    <tr>\n",
       "      <th>1</th>\n",
       "      <td>0007a71bf.jpg</td>\n",
       "      <td>3</td>\n",
       "      <td>18661 28 18863 82 19091 110 19347 110 19603 11...</td>\n",
       "    </tr>\n",
       "    <tr>\n",
       "      <th>2</th>\n",
       "      <td>000a4bcdd.jpg</td>\n",
       "      <td>1</td>\n",
       "      <td>37607 3 37858 8 38108 14 38359 20 38610 25 388...</td>\n",
       "    </tr>\n",
       "    <tr>\n",
       "      <th>3</th>\n",
       "      <td>000f6bf48.jpg</td>\n",
       "      <td>4</td>\n",
       "      <td>131973 1 132228 4 132483 6 132738 8 132993 11 ...</td>\n",
       "    </tr>\n",
       "    <tr>\n",
       "      <th>4</th>\n",
       "      <td>0014fce06.jpg</td>\n",
       "      <td>3</td>\n",
       "      <td>229501 11 229741 33 229981 55 230221 77 230468...</td>\n",
       "    </tr>\n",
       "  </tbody>\n",
       "</table>\n",
       "</div>"
      ],
      "text/plain": [
       "         ImageId  ClassId                                      EncodedPixels\n",
       "0  0002cc93b.jpg        1  29102 12 29346 24 29602 24 29858 24 30114 24 3...\n",
       "1  0007a71bf.jpg        3  18661 28 18863 82 19091 110 19347 110 19603 11...\n",
       "2  000a4bcdd.jpg        1  37607 3 37858 8 38108 14 38359 20 38610 25 388...\n",
       "3  000f6bf48.jpg        4  131973 1 132228 4 132483 6 132738 8 132993 11 ...\n",
       "4  0014fce06.jpg        3  229501 11 229741 33 229981 55 230221 77 230468..."
      ]
     },
     "execution_count": 4,
     "metadata": {},
     "output_type": "execute_result"
    }
   ],
   "source": [
    "# Loading the train dataset without class 0\n",
    "df2 = pd.read_csv('data/train.csv')\n",
    "df2.head()"
   ]
  },
  {
   "cell_type": "code",
   "execution_count": 5,
   "id": "d8063def-a8ae-42a2-955e-9c826b375d58",
   "metadata": {},
   "outputs": [],
   "source": [
    "util.isolate_single_defects(df2)"
   ]
  },
  {
   "cell_type": "code",
   "execution_count": 6,
   "id": "66c314d5-cd7f-46ec-aed6-910124418e1d",
   "metadata": {},
   "outputs": [
    {
     "data": {
      "text/html": [
       "<div>\n",
       "<style scoped>\n",
       "    .dataframe tbody tr th:only-of-type {\n",
       "        vertical-align: middle;\n",
       "    }\n",
       "\n",
       "    .dataframe tbody tr th {\n",
       "        vertical-align: top;\n",
       "    }\n",
       "\n",
       "    .dataframe thead th {\n",
       "        text-align: right;\n",
       "    }\n",
       "</style>\n",
       "<table border=\"1\" class=\"dataframe\">\n",
       "  <thead>\n",
       "    <tr style=\"text-align: right;\">\n",
       "      <th></th>\n",
       "      <th>ImageId</th>\n",
       "      <th>ClassId</th>\n",
       "      <th>EncodedPixels</th>\n",
       "    </tr>\n",
       "  </thead>\n",
       "  <tbody>\n",
       "    <tr>\n",
       "      <th>2673</th>\n",
       "      <td>62f84c877.jpg</td>\n",
       "      <td>3</td>\n",
       "      <td>20298 5 20546 15 20798 22 21054 25 21311 26 21...</td>\n",
       "    </tr>\n",
       "    <tr>\n",
       "      <th>3235</th>\n",
       "      <td>75f92b24f.jpg</td>\n",
       "      <td>3</td>\n",
       "      <td>180993 26 181249 76 181505 127 181761 177 1820...</td>\n",
       "    </tr>\n",
       "    <tr>\n",
       "      <th>5484</th>\n",
       "      <td>c5a65a795.jpg</td>\n",
       "      <td>3</td>\n",
       "      <td>298465 32 298657 96 298849 160 299041 35533 33...</td>\n",
       "    </tr>\n",
       "    <tr>\n",
       "      <th>5322</th>\n",
       "      <td>bfd38637f.jpg</td>\n",
       "      <td>4</td>\n",
       "      <td>335042 2 335296 4 335550 6 335804 9 336058 11 ...</td>\n",
       "    </tr>\n",
       "    <tr>\n",
       "      <th>3740</th>\n",
       "      <td>8847458a0.jpg</td>\n",
       "      <td>3</td>\n",
       "      <td>248384 193 248640 193 248896 193 249152 193 24...</td>\n",
       "    </tr>\n",
       "    <tr>\n",
       "      <th>2803</th>\n",
       "      <td>67ae369d2.jpg</td>\n",
       "      <td>3</td>\n",
       "      <td>4 20 260 40 354 24 411 4 516 40 610 24 661 12 ...</td>\n",
       "    </tr>\n",
       "    <tr>\n",
       "      <th>3063</th>\n",
       "      <td>7039151ef.jpg</td>\n",
       "      <td>3</td>\n",
       "      <td>316258 3 316302 5 316348 1 316452 9 316469 51 ...</td>\n",
       "    </tr>\n",
       "    <tr>\n",
       "      <th>1532</th>\n",
       "      <td>388e36308.jpg</td>\n",
       "      <td>3</td>\n",
       "      <td>49470 8 49727 21 49983 35 50240 42 50496 40 50...</td>\n",
       "    </tr>\n",
       "    <tr>\n",
       "      <th>2433</th>\n",
       "      <td>5aa1c319d.jpg</td>\n",
       "      <td>3</td>\n",
       "      <td>252638 35 252826 103 253014 171 253235 206 253...</td>\n",
       "    </tr>\n",
       "    <tr>\n",
       "      <th>1722</th>\n",
       "      <td>3fea4633e.jpg</td>\n",
       "      <td>4</td>\n",
       "      <td>103996 2 104250 6 104504 10 104758 14 105012 1...</td>\n",
       "    </tr>\n",
       "  </tbody>\n",
       "</table>\n",
       "</div>"
      ],
      "text/plain": [
       "            ImageId  ClassId  \\\n",
       "2673  62f84c877.jpg        3   \n",
       "3235  75f92b24f.jpg        3   \n",
       "5484  c5a65a795.jpg        3   \n",
       "5322  bfd38637f.jpg        4   \n",
       "3740  8847458a0.jpg        3   \n",
       "2803  67ae369d2.jpg        3   \n",
       "3063  7039151ef.jpg        3   \n",
       "1532  388e36308.jpg        3   \n",
       "2433  5aa1c319d.jpg        3   \n",
       "1722  3fea4633e.jpg        4   \n",
       "\n",
       "                                          EncodedPixels  \n",
       "2673  20298 5 20546 15 20798 22 21054 25 21311 26 21...  \n",
       "3235  180993 26 181249 76 181505 127 181761 177 1820...  \n",
       "5484  298465 32 298657 96 298849 160 299041 35533 33...  \n",
       "5322  335042 2 335296 4 335550 6 335804 9 336058 11 ...  \n",
       "3740  248384 193 248640 193 248896 193 249152 193 24...  \n",
       "2803  4 20 260 40 354 24 411 4 516 40 610 24 661 12 ...  \n",
       "3063  316258 3 316302 5 316348 1 316452 9 316469 51 ...  \n",
       "1532  49470 8 49727 21 49983 35 50240 42 50496 40 50...  \n",
       "2433  252638 35 252826 103 253014 171 253235 206 253...  \n",
       "1722  103996 2 104250 6 104504 10 104758 14 105012 1...  "
      ]
     },
     "execution_count": 6,
     "metadata": {},
     "output_type": "execute_result"
    }
   ],
   "source": [
    "df2.sample(10)"
   ]
  },
  {
   "cell_type": "code",
   "execution_count": 7,
   "id": "f677d110-eeee-4710-8767-583c0bdd9d54",
   "metadata": {},
   "outputs": [],
   "source": [
    "# isolate only images that have 0 or 1 defect\n",
    "util.isolate_single_defects(df)"
   ]
  },
  {
   "cell_type": "code",
   "execution_count": 8,
   "id": "1a14a7a9-d382-4380-8aa7-066c81fb8235",
   "metadata": {},
   "outputs": [
    {
     "data": {
      "text/plain": [
       "(6239, 5)"
      ]
     },
     "execution_count": 8,
     "metadata": {},
     "output_type": "execute_result"
    }
   ],
   "source": [
    "# eliminate class 0 images in dataset\n",
    "df = df.query('ClassId!=0')\n",
    "df.shape"
   ]
  },
  {
   "cell_type": "code",
   "execution_count": null,
   "id": "4fb64feb-f621-4764-a9c5-0423b883d7f1",
   "metadata": {},
   "outputs": [],
   "source": [
    "# safe all images with single defects\n",
    "path = pathlib.Path.cwd()\n",
    "try:\n",
    "    os.mkdir(path.joinpath('data','single_defect_train_images'))\n",
    "except:\n",
    "    print('Folder already exists.')\n",
    "    # von Michael kopiert für Ordnererstellung basierend auf x_train\n",
    "for i in range(len(df)):\n",
    "    origin_train_path = path.joinpath('data', 'train_images')\n",
    "    source_file = df.iloc[i,1]\n",
    "    target_directory = path.joinpath('data', 'single_defect_train_images')\n",
    "    shutil.copy2(origin_train_path.joinpath(source_file) , target_directory.joinpath(source_file))\n"
   ]
  },
  {
   "cell_type": "code",
   "execution_count": null,
   "id": "2357e4fc-1633-4ce0-855c-f170e91bf83c",
   "metadata": {},
   "outputs": [],
   "source": [
    "df.head()"
   ]
  },
  {
   "cell_type": "markdown",
   "id": "bfd47180-f8c6-4cf4-b4ef-7fa9a764f261",
   "metadata": {},
   "source": [
    "### Preprozessing for single image (Example)"
   ]
  },
  {
   "cell_type": "code",
   "execution_count": 9,
   "id": "d40e4efb-59c6-4042-a7b4-71144043205a",
   "metadata": {},
   "outputs": [
    {
     "name": "stdout",
     "output_type": "stream",
     "text": [
      "Org image shape -->  (256, 1600, 3)\n"
     ]
    }
   ],
   "source": [
    "# load image (example)\n",
    "images = io.imread('data/single_defect_train_images/0002cc93b.jpg')\n",
    "print('Org image shape --> ',images.shape)"
   ]
  },
  {
   "cell_type": "code",
   "execution_count": 10,
   "id": "a51ef426-1623-483c-a379-bc6e66e3818f",
   "metadata": {},
   "outputs": [
    {
     "data": {
      "text/plain": [
       "<matplotlib.image.AxesImage at 0x15e503b50>"
      ]
     },
     "execution_count": 10,
     "metadata": {},
     "output_type": "execute_result"
    },
    {
     "data": {
      "image/png": "[encoded data removed]",
      "text/plain": [
       "<Figure size 432x288 with 1 Axes>"
      ]
     },
     "metadata": {},
     "output_type": "display_data"
    }
   ],
   "source": [
    "plt.rcParams['axes.grid'] = False\n",
    "plt.imshow(images)"
   ]
  },
  {
   "cell_type": "code",
   "execution_count": 13,
   "id": "83b62a85-bace-4fa3-bb81-48c4cb3b1fdc",
   "metadata": {},
   "outputs": [
    {
     "name": "stdout",
     "output_type": "stream",
     "text": [
      "After resizing shape -->  (32, 32, 3)\n"
     ]
    }
   ],
   "source": [
    "#resize images\n",
    "IMG_SIZE = 32\n",
    "image_resized=cv2.resize(images,(IMG_SIZE,IMG_SIZE))\n",
    "print('After resizing shape --> ',image_resized.shape)"
   ]
  },
  {
   "cell_type": "code",
   "execution_count": 14,
   "id": "a363de7a-5f01-4432-9094-2c2e7145632b",
   "metadata": {},
   "outputs": [
    {
     "data": {
      "text/plain": [
       "<matplotlib.image.AxesImage at 0x15c247250>"
      ]
     },
     "execution_count": 14,
     "metadata": {},
     "output_type": "execute_result"
    },
    {
     "data": {
      "image/png": "[encoded data removed]",
      "text/plain": [
       "<Figure size 432x288 with 1 Axes>"
      ]
     },
     "metadata": {},
     "output_type": "display_data"
    }
   ],
   "source": [
    "plt.rcParams['axes.grid'] = False\n",
    "plt.imshow(image_resized)"
   ]
  },
  {
   "cell_type": "code",
   "execution_count": 16,
   "id": "d9ff9cfd-c1c5-4b27-acfd-0e2916d509cc",
   "metadata": {},
   "outputs": [
    {
     "name": "stdout",
     "output_type": "stream",
     "text": [
      "After Flattening shape -->  (1, 3072)\n"
     ]
    }
   ],
   "source": [
    "#The input data have to be converted from 3 dimensional format to 1 dimensional format to be fed into the K-Means Clustering algorithm (Reshape images)\n",
    "#image_flat = image_resized.reshape(len(image_resized),-1)\n",
    "image_flat = image_resized.reshape(1, 3*IMG_SIZE*IMG_SIZE)\n",
    "\n",
    "print('After Flattening shape --> ',image_flat.shape)"
   ]
  },
  {
   "cell_type": "code",
   "execution_count": 41,
   "id": "0dba089d-3455-4df1-93b9-cdbd9a5c9449",
   "metadata": {},
   "outputs": [],
   "source": [
    "def get_prepared_images(df, image_size):\n",
    "    \n",
    "    image_ids = df.ImageId.to_list()\n",
    "    image_list =[]\n",
    "    prepared_images = pd.DataFrame()\n",
    "    \n",
    "    print('beginning to prepare images...')\n",
    "\n",
    "    for image_id in image_ids:\n",
    "\n",
    "        image = io.imread('data/augmentations/' + image_id)\n",
    "        #resize images\n",
    "        image_resized=cv2.resize(image, (image_size,image_size))\n",
    "        #The input data have to be converted from 3 dimensional format to 1 dimensional format\n",
    "        image_flat = image_resized.reshape(1, 3 * image_size * image_size)\n",
    "        # Data Normalization\n",
    "        # Conversion to float\n",
    "        image_flat=image_flat.astype('float32')\n",
    "        # Normalization (In the RGB color space the red, green and blue have integer values from 0 to 255)\n",
    "        image_flat = image_flat / 255.0\n",
    "        \n",
    "        temp = pd.DataFrame(image_flat)\n",
    "        prepared_images = pd.concat([prepared_images, temp], axis=0)\n",
    "        \n",
    "        if len(prepared_images) % 100 == 0 and len(prepared_images) != 0:\n",
    "            print(f'{len(prepared_images)} images processed...')\n",
    "        \n",
    "        # image_list.append([image_id, image_flat[0]])\n",
    "    prepared_images.reset_index(drop=True, inplace=True)\n",
    "    print('adding Ids to the images...')\n",
    "    prepared_images = pd.concat([df.ImageId, prepared_images], axis=1)\n",
    "    # split_flattened_images = split_flat_images(temp) pd.DataFrame(df_flat_img['flattened_images'].tolist())\n",
    "    print('done!')\n",
    "    return prepared_images"
   ]
  },
  {
   "cell_type": "code",
   "execution_count": 18,
   "id": "23a6a62a-537d-4453-a46e-999ceb2bd9c8",
   "metadata": {},
   "outputs": [],
   "source": [
    "flattened_images =[]\n",
    "\n",
    "IMG_SIZE = 128\n",
    "for image_id in df['ImageId']:\n",
    "    image = io.imread('data/single_defect_train_images/' + image_id)\n",
    "    #resize images\n",
    "    image_resized=cv2.resize(image,(IMG_SIZE,IMG_SIZE))\n",
    "    #The input data have to be converted from 3 dimensional format to 1 dimensional format\n",
    "    image_flat = image_resized.reshape(1, 3*IMG_SIZE*IMG_SIZE)\n",
    "    # Data Normalization\n",
    "    # Conversion to float\n",
    "    image_flat=image_flat.astype('float32')\n",
    "    # Normalization (In the RGB color space the red, green and blue have integer values from 0 to 255)\n",
    "    image_flat = image_flat/255.0\n",
    "    flattened_images.append([image_id,image_flat[0]])"
   ]
  },
  {
   "cell_type": "code",
   "execution_count": 19,
   "id": "c1c85933-07e2-4c2c-946e-f39cfc0ba17f",
   "metadata": {},
   "outputs": [
    {
     "data": {
      "text/html": [
       "<div>\n",
       "<style scoped>\n",
       "    .dataframe tbody tr th:only-of-type {\n",
       "        vertical-align: middle;\n",
       "    }\n",
       "\n",
       "    .dataframe tbody tr th {\n",
       "        vertical-align: top;\n",
       "    }\n",
       "\n",
       "    .dataframe thead th {\n",
       "        text-align: right;\n",
       "    }\n",
       "</style>\n",
       "<table border=\"1\" class=\"dataframe\">\n",
       "  <thead>\n",
       "    <tr style=\"text-align: right;\">\n",
       "      <th></th>\n",
       "      <th>ImageId</th>\n",
       "      <th>flattened_images</th>\n",
       "      <th>ClassId</th>\n",
       "    </tr>\n",
       "  </thead>\n",
       "  <tbody>\n",
       "    <tr>\n",
       "      <th>0</th>\n",
       "      <td>0002cc93b.jpg</td>\n",
       "      <td>[0.28627452, 0.28627452, 0.28627452, 0.2588235...</td>\n",
       "      <td>1</td>\n",
       "    </tr>\n",
       "    <tr>\n",
       "      <th>1</th>\n",
       "      <td>0007a71bf.jpg</td>\n",
       "      <td>[0.19607843, 0.19607843, 0.19607843, 0.1882353...</td>\n",
       "      <td>3</td>\n",
       "    </tr>\n",
       "  </tbody>\n",
       "</table>\n",
       "</div>"
      ],
      "text/plain": [
       "         ImageId                                   flattened_images  ClassId\n",
       "0  0002cc93b.jpg  [0.28627452, 0.28627452, 0.28627452, 0.2588235...        1\n",
       "1  0007a71bf.jpg  [0.19607843, 0.19607843, 0.19607843, 0.1882353...        3"
      ]
     },
     "execution_count": 19,
     "metadata": {},
     "output_type": "execute_result"
    }
   ],
   "source": [
    "df_flat_img = pd.DataFrame(flattened_images , columns = ['ImageId', 'flattened_images'])\n",
    "df_flat_img = pd.merge(df_flat_img, df[['ImageId','ClassId']], on='ImageId')\n",
    "\n",
    "\n",
    "df_flat_img.head(2)"
   ]
  },
  {
   "cell_type": "code",
   "execution_count": 24,
   "id": "e6b490aa-bc5e-44c1-aac5-ed2ccdddd526",
   "metadata": {},
   "outputs": [],
   "source": [
    "#flattened_images.head(2)"
   ]
  },
  {
   "cell_type": "code",
   "execution_count": 22,
   "id": "7af20c3f-71ae-4b15-9890-1a78247dc84f",
   "metadata": {},
   "outputs": [],
   "source": [
    "split_flattened_images = pd.DataFrame(df_flat_img['flattened_images'].tolist())"
   ]
  },
  {
   "cell_type": "code",
   "execution_count": 23,
   "id": "22fcaae9-4853-4db1-8826-025e98068996",
   "metadata": {},
   "outputs": [],
   "source": [
    "df_flat_complete = pd.concat([df_flat_img, split_flattened_images], axis=1)\n",
    "#flattened_images"
   ]
  },
  {
   "cell_type": "code",
   "execution_count": 25,
   "id": "66d7b492-a76e-45e3-9d44-1be426a8b8b3",
   "metadata": {},
   "outputs": [
    {
     "data": {
      "text/html": [
       "<div>\n",
       "<style scoped>\n",
       "    .dataframe tbody tr th:only-of-type {\n",
       "        vertical-align: middle;\n",
       "    }\n",
       "\n",
       "    .dataframe tbody tr th {\n",
       "        vertical-align: top;\n",
       "    }\n",
       "\n",
       "    .dataframe thead th {\n",
       "        text-align: right;\n",
       "    }\n",
       "</style>\n",
       "<table border=\"1\" class=\"dataframe\">\n",
       "  <thead>\n",
       "    <tr style=\"text-align: right;\">\n",
       "      <th></th>\n",
       "      <th>ImageId</th>\n",
       "      <th>flattened_images</th>\n",
       "      <th>ClassId</th>\n",
       "      <th>0</th>\n",
       "      <th>1</th>\n",
       "      <th>2</th>\n",
       "      <th>3</th>\n",
       "      <th>4</th>\n",
       "      <th>5</th>\n",
       "      <th>6</th>\n",
       "      <th>...</th>\n",
       "      <th>49142</th>\n",
       "      <th>49143</th>\n",
       "      <th>49144</th>\n",
       "      <th>49145</th>\n",
       "      <th>49146</th>\n",
       "      <th>49147</th>\n",
       "      <th>49148</th>\n",
       "      <th>49149</th>\n",
       "      <th>49150</th>\n",
       "      <th>49151</th>\n",
       "    </tr>\n",
       "  </thead>\n",
       "  <tbody>\n",
       "    <tr>\n",
       "      <th>0</th>\n",
       "      <td>0002cc93b.jpg</td>\n",
       "      <td>[0.28627452, 0.28627452, 0.28627452, 0.2588235...</td>\n",
       "      <td>1</td>\n",
       "      <td>0.286275</td>\n",
       "      <td>0.286275</td>\n",
       "      <td>0.286275</td>\n",
       "      <td>0.258824</td>\n",
       "      <td>0.258824</td>\n",
       "      <td>0.258824</td>\n",
       "      <td>0.266667</td>\n",
       "      <td>...</td>\n",
       "      <td>0.207843</td>\n",
       "      <td>0.219608</td>\n",
       "      <td>0.219608</td>\n",
       "      <td>0.219608</td>\n",
       "      <td>0.341176</td>\n",
       "      <td>0.341176</td>\n",
       "      <td>0.341176</td>\n",
       "      <td>0.239216</td>\n",
       "      <td>0.239216</td>\n",
       "      <td>0.239216</td>\n",
       "    </tr>\n",
       "    <tr>\n",
       "      <th>1</th>\n",
       "      <td>0007a71bf.jpg</td>\n",
       "      <td>[0.19607843, 0.19607843, 0.19607843, 0.1882353...</td>\n",
       "      <td>3</td>\n",
       "      <td>0.196078</td>\n",
       "      <td>0.196078</td>\n",
       "      <td>0.196078</td>\n",
       "      <td>0.188235</td>\n",
       "      <td>0.188235</td>\n",
       "      <td>0.188235</td>\n",
       "      <td>0.184314</td>\n",
       "      <td>...</td>\n",
       "      <td>0.333333</td>\n",
       "      <td>0.372549</td>\n",
       "      <td>0.372549</td>\n",
       "      <td>0.372549</td>\n",
       "      <td>0.341176</td>\n",
       "      <td>0.341176</td>\n",
       "      <td>0.341176</td>\n",
       "      <td>0.341176</td>\n",
       "      <td>0.341176</td>\n",
       "      <td>0.341176</td>\n",
       "    </tr>\n",
       "  </tbody>\n",
       "</table>\n",
       "<p>2 rows × 49155 columns</p>\n",
       "</div>"
      ],
      "text/plain": [
       "         ImageId                                   flattened_images  ClassId  \\\n",
       "0  0002cc93b.jpg  [0.28627452, 0.28627452, 0.28627452, 0.2588235...        1   \n",
       "1  0007a71bf.jpg  [0.19607843, 0.19607843, 0.19607843, 0.1882353...        3   \n",
       "\n",
       "          0         1         2         3         4         5         6  ...  \\\n",
       "0  0.286275  0.286275  0.286275  0.258824  0.258824  0.258824  0.266667  ...   \n",
       "1  0.196078  0.196078  0.196078  0.188235  0.188235  0.188235  0.184314  ...   \n",
       "\n",
       "      49142     49143     49144     49145     49146     49147     49148  \\\n",
       "0  0.207843  0.219608  0.219608  0.219608  0.341176  0.341176  0.341176   \n",
       "1  0.333333  0.372549  0.372549  0.372549  0.341176  0.341176  0.341176   \n",
       "\n",
       "      49149     49150     49151  \n",
       "0  0.239216  0.239216  0.239216  \n",
       "1  0.341176  0.341176  0.341176  \n",
       "\n",
       "[2 rows x 49155 columns]"
      ]
     },
     "execution_count": 25,
     "metadata": {},
     "output_type": "execute_result"
    }
   ],
   "source": [
    "df_flat_complete.head(2)"
   ]
  },
  {
   "cell_type": "code",
   "execution_count": 26,
   "id": "d38407c6-fae4-47fb-b5a6-6f46af1a8f8c",
   "metadata": {},
   "outputs": [],
   "source": [
    "df_flat_complete.drop(['flattened_images'], axis=1, inplace=True)"
   ]
  },
  {
   "cell_type": "code",
   "execution_count": 27,
   "id": "67aaebb7-d406-478b-983e-0b76d47ab46b",
   "metadata": {},
   "outputs": [
    {
     "data": {
      "text/html": [
       "<div>\n",
       "<style scoped>\n",
       "    .dataframe tbody tr th:only-of-type {\n",
       "        vertical-align: middle;\n",
       "    }\n",
       "\n",
       "    .dataframe tbody tr th {\n",
       "        vertical-align: top;\n",
       "    }\n",
       "\n",
       "    .dataframe thead th {\n",
       "        text-align: right;\n",
       "    }\n",
       "</style>\n",
       "<table border=\"1\" class=\"dataframe\">\n",
       "  <thead>\n",
       "    <tr style=\"text-align: right;\">\n",
       "      <th></th>\n",
       "      <th>ImageId</th>\n",
       "      <th>ClassId</th>\n",
       "      <th>0</th>\n",
       "      <th>1</th>\n",
       "      <th>2</th>\n",
       "      <th>3</th>\n",
       "      <th>4</th>\n",
       "      <th>5</th>\n",
       "      <th>6</th>\n",
       "      <th>7</th>\n",
       "      <th>...</th>\n",
       "      <th>49142</th>\n",
       "      <th>49143</th>\n",
       "      <th>49144</th>\n",
       "      <th>49145</th>\n",
       "      <th>49146</th>\n",
       "      <th>49147</th>\n",
       "      <th>49148</th>\n",
       "      <th>49149</th>\n",
       "      <th>49150</th>\n",
       "      <th>49151</th>\n",
       "    </tr>\n",
       "  </thead>\n",
       "  <tbody>\n",
       "    <tr>\n",
       "      <th>0</th>\n",
       "      <td>0002cc93b.jpg</td>\n",
       "      <td>1</td>\n",
       "      <td>0.286275</td>\n",
       "      <td>0.286275</td>\n",
       "      <td>0.286275</td>\n",
       "      <td>0.258824</td>\n",
       "      <td>0.258824</td>\n",
       "      <td>0.258824</td>\n",
       "      <td>0.266667</td>\n",
       "      <td>0.266667</td>\n",
       "      <td>...</td>\n",
       "      <td>0.207843</td>\n",
       "      <td>0.219608</td>\n",
       "      <td>0.219608</td>\n",
       "      <td>0.219608</td>\n",
       "      <td>0.341176</td>\n",
       "      <td>0.341176</td>\n",
       "      <td>0.341176</td>\n",
       "      <td>0.239216</td>\n",
       "      <td>0.239216</td>\n",
       "      <td>0.239216</td>\n",
       "    </tr>\n",
       "    <tr>\n",
       "      <th>1</th>\n",
       "      <td>0007a71bf.jpg</td>\n",
       "      <td>3</td>\n",
       "      <td>0.196078</td>\n",
       "      <td>0.196078</td>\n",
       "      <td>0.196078</td>\n",
       "      <td>0.188235</td>\n",
       "      <td>0.188235</td>\n",
       "      <td>0.188235</td>\n",
       "      <td>0.184314</td>\n",
       "      <td>0.184314</td>\n",
       "      <td>...</td>\n",
       "      <td>0.333333</td>\n",
       "      <td>0.372549</td>\n",
       "      <td>0.372549</td>\n",
       "      <td>0.372549</td>\n",
       "      <td>0.341176</td>\n",
       "      <td>0.341176</td>\n",
       "      <td>0.341176</td>\n",
       "      <td>0.341176</td>\n",
       "      <td>0.341176</td>\n",
       "      <td>0.341176</td>\n",
       "    </tr>\n",
       "  </tbody>\n",
       "</table>\n",
       "<p>2 rows × 49154 columns</p>\n",
       "</div>"
      ],
      "text/plain": [
       "         ImageId  ClassId         0         1         2         3         4  \\\n",
       "0  0002cc93b.jpg        1  0.286275  0.286275  0.286275  0.258824  0.258824   \n",
       "1  0007a71bf.jpg        3  0.196078  0.196078  0.196078  0.188235  0.188235   \n",
       "\n",
       "          5         6         7  ...     49142     49143     49144     49145  \\\n",
       "0  0.258824  0.266667  0.266667  ...  0.207843  0.219608  0.219608  0.219608   \n",
       "1  0.188235  0.184314  0.184314  ...  0.333333  0.372549  0.372549  0.372549   \n",
       "\n",
       "      49146     49147     49148     49149     49150     49151  \n",
       "0  0.341176  0.341176  0.341176  0.239216  0.239216  0.239216  \n",
       "1  0.341176  0.341176  0.341176  0.341176  0.341176  0.341176  \n",
       "\n",
       "[2 rows x 49154 columns]"
      ]
     },
     "execution_count": 27,
     "metadata": {},
     "output_type": "execute_result"
    }
   ],
   "source": [
    "df_flat_complete.head(2)"
   ]
  },
  {
   "cell_type": "code",
   "execution_count": 28,
   "id": "57fdecde-e60c-4984-a2d9-913707d30f7c",
   "metadata": {},
   "outputs": [
    {
     "ename": "AttributeError",
     "evalue": "'list' object has no attribute 'drop'",
     "output_type": "error",
     "traceback": [
      "\u001b[0;31m---------------------------------------------------------------------------\u001b[0m",
      "\u001b[0;31mAttributeError\u001b[0m                            Traceback (most recent call last)",
      "Input \u001b[0;32mIn [28]\u001b[0m, in \u001b[0;36m<module>\u001b[0;34m\u001b[0m\n\u001b[0;32m----> 1\u001b[0m df_flat_complete_images_X\u001b[38;5;241m=\u001b[39m\u001b[43mflattened_images\u001b[49m\u001b[38;5;241;43m.\u001b[39;49m\u001b[43mdrop\u001b[49m([\u001b[38;5;124m'\u001b[39m\u001b[38;5;124mImageId\u001b[39m\u001b[38;5;124m'\u001b[39m,\u001b[38;5;124m'\u001b[39m\u001b[38;5;124mflattened_images\u001b[39m\u001b[38;5;124m'\u001b[39m], axis \u001b[38;5;241m=\u001b[39m \u001b[38;5;241m1\u001b[39m)\n\u001b[1;32m      2\u001b[0m flattened_images_X\n",
      "\u001b[0;31mAttributeError\u001b[0m: 'list' object has no attribute 'drop'"
     ]
    }
   ],
   "source": [
    "df_flat_complete_images_X=flattened_images.drop(['ImageId','flattened_images'], axis = 1)\n",
    "flattened_images_X"
   ]
  },
  {
   "cell_type": "code",
   "execution_count": 29,
   "id": "a9e643f2-d576-4ab3-bd1d-7999a90b5f4d",
   "metadata": {},
   "outputs": [],
   "source": [
    "flattened_images_X = split_flattened_images"
   ]
  },
  {
   "cell_type": "code",
   "execution_count": 30,
   "id": "bcd2c924-2b39-4936-99b1-77ba81b87177",
   "metadata": {},
   "outputs": [
    {
     "data": {
      "text/html": [
       "<div>\n",
       "<style scoped>\n",
       "    .dataframe tbody tr th:only-of-type {\n",
       "        vertical-align: middle;\n",
       "    }\n",
       "\n",
       "    .dataframe tbody tr th {\n",
       "        vertical-align: top;\n",
       "    }\n",
       "\n",
       "    .dataframe thead th {\n",
       "        text-align: right;\n",
       "    }\n",
       "</style>\n",
       "<table border=\"1\" class=\"dataframe\">\n",
       "  <thead>\n",
       "    <tr style=\"text-align: right;\">\n",
       "      <th></th>\n",
       "      <th>0</th>\n",
       "      <th>1</th>\n",
       "      <th>2</th>\n",
       "      <th>3</th>\n",
       "      <th>4</th>\n",
       "      <th>5</th>\n",
       "      <th>6</th>\n",
       "      <th>7</th>\n",
       "      <th>8</th>\n",
       "      <th>9</th>\n",
       "      <th>...</th>\n",
       "      <th>49142</th>\n",
       "      <th>49143</th>\n",
       "      <th>49144</th>\n",
       "      <th>49145</th>\n",
       "      <th>49146</th>\n",
       "      <th>49147</th>\n",
       "      <th>49148</th>\n",
       "      <th>49149</th>\n",
       "      <th>49150</th>\n",
       "      <th>49151</th>\n",
       "    </tr>\n",
       "  </thead>\n",
       "  <tbody>\n",
       "    <tr>\n",
       "      <th>0</th>\n",
       "      <td>0.286275</td>\n",
       "      <td>0.286275</td>\n",
       "      <td>0.286275</td>\n",
       "      <td>0.258824</td>\n",
       "      <td>0.258824</td>\n",
       "      <td>0.258824</td>\n",
       "      <td>0.266667</td>\n",
       "      <td>0.266667</td>\n",
       "      <td>0.266667</td>\n",
       "      <td>0.239216</td>\n",
       "      <td>...</td>\n",
       "      <td>0.207843</td>\n",
       "      <td>0.219608</td>\n",
       "      <td>0.219608</td>\n",
       "      <td>0.219608</td>\n",
       "      <td>0.341176</td>\n",
       "      <td>0.341176</td>\n",
       "      <td>0.341176</td>\n",
       "      <td>0.239216</td>\n",
       "      <td>0.239216</td>\n",
       "      <td>0.239216</td>\n",
       "    </tr>\n",
       "    <tr>\n",
       "      <th>1</th>\n",
       "      <td>0.196078</td>\n",
       "      <td>0.196078</td>\n",
       "      <td>0.196078</td>\n",
       "      <td>0.188235</td>\n",
       "      <td>0.188235</td>\n",
       "      <td>0.188235</td>\n",
       "      <td>0.184314</td>\n",
       "      <td>0.184314</td>\n",
       "      <td>0.184314</td>\n",
       "      <td>0.200000</td>\n",
       "      <td>...</td>\n",
       "      <td>0.333333</td>\n",
       "      <td>0.372549</td>\n",
       "      <td>0.372549</td>\n",
       "      <td>0.372549</td>\n",
       "      <td>0.341176</td>\n",
       "      <td>0.341176</td>\n",
       "      <td>0.341176</td>\n",
       "      <td>0.341176</td>\n",
       "      <td>0.341176</td>\n",
       "      <td>0.341176</td>\n",
       "    </tr>\n",
       "  </tbody>\n",
       "</table>\n",
       "<p>2 rows × 49152 columns</p>\n",
       "</div>"
      ],
      "text/plain": [
       "      0         1         2         3         4         5         6      \\\n",
       "0  0.286275  0.286275  0.286275  0.258824  0.258824  0.258824  0.266667   \n",
       "1  0.196078  0.196078  0.196078  0.188235  0.188235  0.188235  0.184314   \n",
       "\n",
       "      7         8         9      ...     49142     49143     49144     49145  \\\n",
       "0  0.266667  0.266667  0.239216  ...  0.207843  0.219608  0.219608  0.219608   \n",
       "1  0.184314  0.184314  0.200000  ...  0.333333  0.372549  0.372549  0.372549   \n",
       "\n",
       "      49146     49147     49148     49149     49150     49151  \n",
       "0  0.341176  0.341176  0.341176  0.239216  0.239216  0.239216  \n",
       "1  0.341176  0.341176  0.341176  0.341176  0.341176  0.341176  \n",
       "\n",
       "[2 rows x 49152 columns]"
      ]
     },
     "execution_count": 30,
     "metadata": {},
     "output_type": "execute_result"
    }
   ],
   "source": [
    "flattened_images_X.head(2)"
   ]
  },
  {
   "cell_type": "code",
   "execution_count": null,
   "id": "8b128c21-07be-4b31-b6c2-999b5dab1885",
   "metadata": {},
   "outputs": [],
   "source": []
  },
  {
   "cell_type": "code",
   "execution_count": null,
   "id": "c75bdac2-3290-4e86-be48-e4bb5aad640f",
   "metadata": {},
   "outputs": [],
   "source": [
    "# # Use TSNE before modeling\n",
    "# tsne = TSNE(n_components=2, init='random', random_state=0)\n",
    "# digits_proj = tsne.fit_transform(flattened_images_X)\n",
    "# # Creating the KMeans model and predict classes (n_clusters =4 ; due to 4 classes)\n",
    "# kmeans = KMeans(n_clusters=4, random_state=0)\n",
    "# clusters = kmeans.fit_predict(digits_proj)\n",
    "# kmeans.cluster_centers_.shape"
   ]
  },
  {
   "cell_type": "markdown",
   "id": "34eab14c-dd3c-4f63-ab17-fc45194ea11b",
   "metadata": {},
   "source": [
    "---\n",
    "\n",
    "### Create Clusters (K-Means)"
   ]
  },
  {
   "cell_type": "code",
   "execution_count": 31,
   "id": "71e9caa7-8c10-4ef3-832b-8202615e1dfc",
   "metadata": {
    "tags": []
   },
   "outputs": [
    {
     "data": {
      "text/plain": [
       "(12, 49152)"
      ]
     },
     "execution_count": 31,
     "metadata": {},
     "output_type": "execute_result"
    }
   ],
   "source": [
    "# without TSNE\n",
    "# Creating the KMeans model and predict classes (n_clusters =4 ; due to 4 classes)\n",
    "n_clusters=12\n",
    "kmeans = KMeans(n_clusters=n_clusters, random_state=0)\n",
    "clusters = kmeans.fit_predict(flattened_images_X)\n",
    "kmeans.cluster_centers_.shape"
   ]
  },
  {
   "cell_type": "code",
   "execution_count": 32,
   "id": "debba69f-ec73-4d43-a5a1-7c8139c0037f",
   "metadata": {},
   "outputs": [
    {
     "data": {
      "text/plain": [
       "(6239,)"
      ]
     },
     "execution_count": 32,
     "metadata": {},
     "output_type": "execute_result"
    }
   ],
   "source": [
    "clusters.shape"
   ]
  },
  {
   "cell_type": "code",
   "execution_count": 33,
   "id": "3944f6da-cb46-4796-a32f-bd83ca68fd24",
   "metadata": {},
   "outputs": [],
   "source": [
    "def plot_cluster_centers(n_clusters, kmeans):\n",
    "    # Plot the cluster centers\n",
    "    fig, ax = plt.subplots(4, 3, figsize=(12, 10))\n",
    "    centers = kmeans.cluster_centers_.reshape(n_clusters, 128, 384)\n",
    "    for axi, center in zip(ax.flat, centers):\n",
    "        #axi.set(xticks=[], yticks=[])\n",
    "        axi.imshow(center, interpolation='nearest', cmap=plt.cm.binary)"
   ]
  },
  {
   "cell_type": "code",
   "execution_count": 34,
   "id": "3cba61b3-e932-4037-bd66-2d357bcafb54",
   "metadata": {},
   "outputs": [
    {
     "data": {
      "image/png": "[encoded data removed]",
      "text/plain": [
       "<Figure size 864x720 with 12 Axes>"
      ]
     },
     "metadata": {},
     "output_type": "display_data"
    }
   ],
   "source": [
    "plot_cluster_centers(n_clusters, kmeans)"
   ]
  },
  {
   "cell_type": "code",
   "execution_count": 35,
   "id": "cbe03c43-db1f-4343-bf2a-5daba4116e65",
   "metadata": {},
   "outputs": [
    {
     "name": "stderr",
     "output_type": "stream",
     "text": [
      "/Users/fabioteichmann/neuefische/projects/CapstoneProject_SteelDefectDetection/.venv/lib/python3.9/site-packages/sklearn/manifold/_t_sne.py:790: FutureWarning: The default learning rate in TSNE will change from 200.0 to 'auto' in 1.2.\n",
      "  warnings.warn(\n"
     ]
    },
    {
     "data": {
      "text/plain": [
       "(6239, 2)"
      ]
     },
     "execution_count": 35,
     "metadata": {},
     "output_type": "execute_result"
    }
   ],
   "source": [
    "# Use TSNE before modeling\n",
    "tsne = TSNE(n_components=2, init='random', random_state=0)\n",
    "steel_projection = tsne.fit_transform(flattened_images_X)\n",
    "steel_projection.shape"
   ]
  },
  {
   "cell_type": "code",
   "execution_count": 36,
   "id": "33be898e-ebe0-4b38-a8bc-373c87865a62",
   "metadata": {},
   "outputs": [],
   "source": [
    "def get_tsne_projection(data):\n",
    "    tsne = TSNE(n_components=2, init='random', random_state=0)\n",
    "    projection = tsne.fit_transform(data)\n",
    "    projection.shape\n",
    "    return projection"
   ]
  },
  {
   "cell_type": "code",
   "execution_count": 37,
   "id": "c3206b23-8f65-42e0-b404-5cee3afae2e8",
   "metadata": {},
   "outputs": [
    {
     "name": "stderr",
     "output_type": "stream",
     "text": [
      "/Users/fabioteichmann/neuefische/projects/CapstoneProject_SteelDefectDetection/.venv/lib/python3.9/site-packages/sklearn/manifold/_t_sne.py:790: FutureWarning: The default learning rate in TSNE will change from 200.0 to 'auto' in 1.2.\n",
      "  warnings.warn(\n"
     ]
    }
   ],
   "source": [
    "steel_projection = get_tsne_projection(flattened_images_X)"
   ]
  },
  {
   "cell_type": "code",
   "execution_count": 38,
   "id": "171df31c-3255-4d64-8e1b-781ad5ae4f14",
   "metadata": {},
   "outputs": [],
   "source": [
    "def get_colors(num_classes):\n",
    "    color_spectrum = [\"lightcoral\",\"steelblue\",\"mediumseagreen\",\"khaki\"]\n",
    "    \n",
    "    if num_classes <= len(color_spectrum):\n",
    "        colors = color_spectrum[:num_classes]\n",
    "        return colors\n",
    "    else:\n",
    "        print(f'`num_classes` is greater than {len(color_spectrum)}')"
   ]
  },
  {
   "cell_type": "markdown",
   "id": "12dfca97-22f9-4cf9-8ea4-781d9b86b4af",
   "metadata": {},
   "source": [
    "- [Matplotlib Colors](https://matplotlib.org/stable/gallery/color/named_colors.html)\n",
    "- [Matplotlib Legends](https://matplotlib.org/stable/gallery/lines_bars_and_markers/scatter_with_legend.html)"
   ]
  },
  {
   "cell_type": "code",
   "execution_count": 39,
   "id": "37eb8ae6-dcdf-431a-bafb-2daeaff82bb5",
   "metadata": {},
   "outputs": [],
   "source": [
    "import matplotlib.colors as mc\n",
    "\n",
    "def plot_tsne(projection, df):\n",
    "    plt.figure(figsize=(10,10))\n",
    "    num_classes = df.ClassId.nunique()\n",
    "    colors = get_colors(num_classes)\n",
    "\n",
    "    # Create a custom color map to represent our 4 different classes\n",
    "    cmap = mc.LinearSegmentedColormap.from_list(\"\", colors)\n",
    "\n",
    "    scatter = plt.scatter(projection[:, 0], projection[:, 1], c=df.ClassId, cmap=cmap)\n",
    "    plt.legend(*scatter.legend_elements(),loc='upper left');\n"
   ]
  },
  {
   "cell_type": "code",
   "execution_count": 40,
   "id": "7159fcc6-63a5-4c0c-a91f-06c20622e9e4",
   "metadata": {},
   "outputs": [
    {
     "data": {
      "image/png": "[encoded data removed]",
      "text/plain": [
       "<Figure size 720x720 with 1 Axes>"
      ]
     },
     "metadata": {},
     "output_type": "display_data"
    }
   ],
   "source": [
    "plot_tsne(steel_projection, df_flat_complete)"
   ]
  },
  {
   "cell_type": "markdown",
   "id": "72f950ab-a2f2-4ae2-a3ae-7b7f8a317488",
   "metadata": {},
   "source": [
    "`t-SNE` does not seem to be able to split pictures well into clusters for our 4 `ClassIds`"
   ]
  },
  {
   "cell_type": "markdown",
   "id": "fd138569-b7c1-4a1d-a501-227fb9958aa8",
   "metadata": {},
   "source": [
    "#### without `ClassId` 3"
   ]
  },
  {
   "cell_type": "code",
   "execution_count": null,
   "id": "04de3957-f714-4646-8f81-31832106f750",
   "metadata": {},
   "outputs": [],
   "source": [
    "class_3 = df_flat_complete.query('ClassId != 3')\n",
    "class_3_x = class_3.drop(['ImageId','ClassId'], axis=1)"
   ]
  },
  {
   "cell_type": "code",
   "execution_count": null,
   "id": "7d96a05e-f1e7-4389-9440-73c335228df1",
   "metadata": {},
   "outputs": [],
   "source": [
    "cl3_projection = get_tsne_projection(class_3_x)"
   ]
  },
  {
   "cell_type": "code",
   "execution_count": null,
   "id": "519ae5fa-b199-4b03-8bdc-2684a9e54009",
   "metadata": {},
   "outputs": [],
   "source": [
    "plot_tsne(cl3_projection, class_3)"
   ]
  },
  {
   "cell_type": "markdown",
   "id": "959ee8b3-64e2-4b31-b329-6842c9948a2c",
   "metadata": {},
   "source": [
    "---\n",
    "\n",
    "#### Clustering with augmented pictures"
   ]
  },
  {
   "cell_type": "code",
   "execution_count": null,
   "id": "3ae159bd-30bb-42db-9e32-159a1cba9f13",
   "metadata": {},
   "outputs": [],
   "source": [
    "df_aug = pd.read_csv('data/train_single_defects_augmented.csv')\n",
    "df_aug"
   ]
  },
  {
   "cell_type": "code",
   "execution_count": null,
   "id": "f0dff892-302c-4138-89c5-b122806dc43c",
   "metadata": {},
   "outputs": [],
   "source": [
    "image_size=128\n",
    "\n",
    "image = io.imread('data/augmentations/'+df_aug.ImageId[0])\n",
    "\n",
    "image_resized=cv2.resize(image, (image_size,image_size))\n",
    "#The input data have to be converted from 3 dimensional format to 1 dimensional format\n",
    "image_flat = image_resized.reshape(1, 3 * image_size * image_size)\n",
    "# Data Normalization\n",
    "# Conversion to float\n",
    "image_flat=image_flat.astype('float32')\n",
    "# Normalization (In the RGB color space the red, green and blue have integer values from 0 to 255)\n",
    "image_flat = image_flat / 255.0"
   ]
  },
  {
   "cell_type": "code",
   "execution_count": null,
   "id": "3bb6fe56-cf28-45c8-9d7b-68d895aebff7",
   "metadata": {},
   "outputs": [],
   "source": [
    "plt.imshow(image_resized);"
   ]
  },
  {
   "cell_type": "code",
   "execution_count": null,
   "id": "d3c632b3-3a54-426f-8665-dcb60101503b",
   "metadata": {},
   "outputs": [],
   "source": [
    "# image_ids = df_aug.ImageId.to_list()\n",
    "IMG_SIZE = 128\n",
    "\n",
    "\"\"\"TO-DO, run time too long\"\"\"\n",
    "# temp = get_prepared_images(df_aug, IMG_SIZE)"
   ]
  },
  {
   "cell_type": "code",
   "execution_count": null,
   "id": "75a8d346-dbb8-4a45-8d75-0bf84732b771",
   "metadata": {},
   "outputs": [],
   "source": [
    "# len(temp)"
   ]
  },
  {
   "cell_type": "code",
   "execution_count": null,
   "id": "fec0b274-d47e-417e-a8b3-27e40260ab89",
   "metadata": {},
   "outputs": [],
   "source": [
    "# temp"
   ]
  },
  {
   "cell_type": "code",
   "execution_count": null,
   "id": "e5d10717-9de0-45c7-b512-2991305c4e36",
   "metadata": {},
   "outputs": [],
   "source": [
    "# temp2 = pd.DataFrame(temp , columns = ['ImageId', 'flattened_images'])\n",
    "# temp2 = pd.merge(temp, df_aug[['ImageId','ClassId']], on='ImageId')\n",
    "\n",
    "\n",
    "# temp2.head(2)"
   ]
  },
  {
   "cell_type": "code",
   "execution_count": null,
   "id": "85ff6005-cd21-4d43-8691-1cb39bc23cf6",
   "metadata": {},
   "outputs": [],
   "source": [
    "temp"
   ]
  },
  {
   "cell_type": "markdown",
   "id": "ab1cb78e-e89f-4e51-9f6e-567f3e7d61e8",
   "metadata": {},
   "source": [
    "---"
   ]
  },
  {
   "cell_type": "code",
   "execution_count": null,
   "id": "2af51275-07c2-40db-ad89-62213b060f4a",
   "metadata": {
    "tags": []
   },
   "outputs": [],
   "source": [
    "digits_projrs= pd.DataFrame(clusters,columns = ['ClassId_pred'])"
   ]
  },
  {
   "cell_type": "code",
   "execution_count": null,
   "id": "71c9bdf7-6942-487d-a629-99ddc7787fbc",
   "metadata": {},
   "outputs": [],
   "source": [
    "clusters"
   ]
  },
  {
   "cell_type": "code",
   "execution_count": null,
   "id": "d3aebce3-980c-4c26-a54c-7a975c416b23",
   "metadata": {},
   "outputs": [],
   "source": [
    "df"
   ]
  },
  {
   "cell_type": "code",
   "execution_count": null,
   "id": "c8c54642-0923-41fd-8711-b6a552720e04",
   "metadata": {},
   "outputs": [],
   "source": [
    "df.reset_index(drop=True, inplace=True)\n",
    "clusters.reset_index(drop=True, inplace=True)\n",
    "result = pd.concat([df, clusters], axis=1)\n",
    "result['ClassId_pred'] = result['ClassId_pred'].map({0: 1, 1: 2,2:3, 3:4})\n",
    "#switch labels due to results from confusion matrix\n",
    "#result['ClassId_pred'] = result['ClassId_pred'].map({1: 1, 2: 2, 3:4, 4:3})\n",
    "result"
   ]
  },
  {
   "cell_type": "code",
   "execution_count": null,
   "id": "739135b2-f85e-4167-ae6f-94b20c7da8ef",
   "metadata": {},
   "outputs": [],
   "source": [
    "result.groupby('ClassId').count()"
   ]
  },
  {
   "cell_type": "code",
   "execution_count": null,
   "id": "d6a93006-3e8e-4404-bd96-3c84e907ff6b",
   "metadata": {},
   "outputs": [],
   "source": [
    "from sklearn import metrics\n",
    "print(metrics.confusion_matrix(result['ClassId'],result['ClassId_pred']))\n",
    "# Print confusion matrix\n",
    "sns.heatmap(metrics.confusion_matrix(result['ClassId'],result['ClassId_pred']), annot=True, cmap='YlGn');"
   ]
  },
  {
   "cell_type": "markdown",
   "id": "3ac9506a-a3c3-478c-9e9b-4ab8821ab4e7",
   "metadata": {},
   "source": [
    "769\n",
    "195\n",
    "4759\n",
    "516\n"
   ]
  },
  {
   "cell_type": "code",
   "execution_count": null,
   "id": "a06ca121-0f39-449d-bf1e-377e249cfce1",
   "metadata": {},
   "outputs": [],
   "source": [
    "print(metrics.classification_report(result['ClassId'],result['ClassId_pred']))"
   ]
  },
  {
   "cell_type": "markdown",
   "id": "538996cd-d115-49e0-9eea-fadc3c8f1fd4",
   "metadata": {
    "tags": []
   },
   "source": [
    " ####  without TSNE and img_size = 128\n",
    "   \n",
    "           precision    recall  f1-score   support\n",
    "\n",
    "           1       0.06      0.16      0.09       769\n",
    "           2       0.04      0.18      0.06       195\n",
    "           3       0.71      0.39      0.51      4759\n",
    "           4       0.07      0.11      0.09       516\n",
    "\n",
    "    accuracy                           0.34      6239\n",
    "   macro avg       0.22      0.21      0.19      6239\n",
    "weighted avg       0.56      0.34      0.41      6239"
   ]
  },
  {
   "cell_type": "markdown",
   "id": "8591a028-c9a1-42c6-a175-3bcfc36ff424",
   "metadata": {},
   "source": [
    " #### with TSNE  and img_size = 128  \n",
    "            precision    recall  f1-score   support\n",
    "\n",
    "           1       0.18      0.40      0.25       769\n",
    "           2       0.09      0.38      0.14       195\n",
    "           3       0.68      0.28      0.40      4759\n",
    "           4       0.11      0.37      0.17       516\n",
    "\n",
    "    accuracy                           0.31      6239\n",
    "   macro avg       0.26      0.36      0.24      6239\n",
    "weighted avg       0.55      0.31      0.35      6239"
   ]
  },
  {
   "cell_type": "markdown",
   "id": "8c2d1850-8eda-438c-a837-f689ed76df1a",
   "metadata": {},
   "source": [
    "## Clustering with HOG Features"
   ]
  },
  {
   "cell_type": "code",
   "execution_count": null,
   "id": "30f26223-83da-4a70-b0ac-0a23e0048f43",
   "metadata": {},
   "outputs": [],
   "source": [
    "# Loading the HOG feature dataset \n",
    "hog = pd.read_csv('data/train_HOG.csv')\n",
    "hog.head()"
   ]
  },
  {
   "cell_type": "code",
   "execution_count": null,
   "id": "94880257-bd19-48c6-a7d3-7d42134cf062",
   "metadata": {},
   "outputs": [],
   "source": [
    "hog.shape"
   ]
  },
  {
   "cell_type": "code",
   "execution_count": null,
   "id": "a91249cd-75ce-4c82-943c-ce64f6e2f83f",
   "metadata": {},
   "outputs": [],
   "source": [
    "# isolate only images that have 0 or 1 defect\n",
    "util.isolate_single_defects(hog)"
   ]
  },
  {
   "cell_type": "code",
   "execution_count": null,
   "id": "e8a1d37f-29ed-4b8e-a653-bb99babc26c7",
   "metadata": {},
   "outputs": [],
   "source": [
    "hog.shape"
   ]
  },
  {
   "cell_type": "code",
   "execution_count": null,
   "id": "74b80e5b-7d5f-4c0b-bcdd-2d5d0218031d",
   "metadata": {},
   "outputs": [],
   "source": [
    "# Loading the complete dataset (including class 0)\n",
    "df2 = pd.read_csv('data/train_complete.csv')\n",
    "df2.head()"
   ]
  },
  {
   "cell_type": "code",
   "execution_count": null,
   "id": "6f0a5fe3-ee61-4def-9c6d-6497d84b0f38",
   "metadata": {},
   "outputs": [],
   "source": [
    "hog = hog.merge(df2, on='ImageId')\n",
    "hog"
   ]
  },
  {
   "cell_type": "code",
   "execution_count": null,
   "id": "279489d0-de29-41c5-a720-677c445362d5",
   "metadata": {},
   "outputs": [],
   "source": [
    "# eliminate class 0 images in dataset\n",
    "hog = hog.query('ClassId!=0')\n",
    "hog.shape"
   ]
  },
  {
   "cell_type": "code",
   "execution_count": null,
   "id": "73fec44c-fabb-45ce-ac68-f307c809e1ea",
   "metadata": {},
   "outputs": [],
   "source": [
    "hog_X=hog.drop(['ImageId','FilePath','ClassId','EncodedPixels','Defect'], axis = 1)"
   ]
  },
  {
   "cell_type": "code",
   "execution_count": null,
   "id": "c333b197-b8a4-409a-86f5-913b3f69890b",
   "metadata": {},
   "outputs": [],
   "source": [
    "'''# Use TSNE before modeling\n",
    "tsne = TSNE(n_components=2, init='random', random_state=0)\n",
    "digits_proj = tsne.fit_transform(hog_X)\n",
    "# Creating the KMeans model and predict classes (n_clusters =4 ; due to 4 classes)\n",
    "kmeans = KMeans(n_clusters=4, random_state=0)\n",
    "clusters = kmeans.fit_predict(digits_proj)\n",
    "kmeans.cluster_centers_.shape'''"
   ]
  },
  {
   "cell_type": "code",
   "execution_count": null,
   "id": "b4f20707-cece-469f-b4b7-0169c699af26",
   "metadata": {},
   "outputs": [],
   "source": [
    "#without TSNE\n",
    "#Creating the KMeans model and predict classes (n_clusters =4 ; due to 4 classes)\n",
    "kmeans = KMeans(n_clusters=4, random_state=0)\n",
    "clusters = kmeans.fit_predict(hog_X)\n",
    "kmeans.cluster_centers_.shape"
   ]
  },
  {
   "cell_type": "code",
   "execution_count": null,
   "id": "753fe79e-0132-4028-9e96-c9d2ad4f1332",
   "metadata": {},
   "outputs": [],
   "source": [
    "clusters= pd.DataFrame(clusters,columns = ['ClassId_pred'])\n",
    "clusters"
   ]
  },
  {
   "cell_type": "code",
   "execution_count": null,
   "id": "948fd872-f2a0-4b08-8440-c10a4459de09",
   "metadata": {},
   "outputs": [],
   "source": [
    "hog.reset_index(drop=True, inplace=True)\n",
    "clusters.reset_index(drop=True, inplace=True)\n",
    "result = pd.concat([hog, clusters], axis=1)\n",
    "result['ClassId_pred'] = result['ClassId_pred'].map({0: 1, 1: 2,2:3, 3:4})\n",
    "#switch labels due to results from confusion matrix\n",
    "#result['ClassId_pred'] = result['ClassId_pred'].map({1: 1, 2: 2, 3:4, 4:3})\n",
    "result"
   ]
  },
  {
   "cell_type": "code",
   "execution_count": null,
   "id": "20e05247-e718-4982-832f-f1e3a0f99822",
   "metadata": {},
   "outputs": [],
   "source": [
    "from sklearn import metrics\n",
    "print(metrics.confusion_matrix(result['ClassId'],result['ClassId_pred']))\n",
    "# Print confusion matrix\n",
    "sns.heatmap(metrics.confusion_matrix(result['ClassId'],result['ClassId_pred']), annot=True, cmap='YlGn');"
   ]
  },
  {
   "cell_type": "code",
   "execution_count": null,
   "id": "19de5e8c-123a-4f47-b11f-55a2c7fba16b",
   "metadata": {},
   "outputs": [],
   "source": [
    "print(metrics.classification_report(result['ClassId'],result['ClassId_pred']))"
   ]
  },
  {
   "cell_type": "code",
   "execution_count": null,
   "id": "e23f46f3-dc9a-4df2-88db-f01d5136287d",
   "metadata": {},
   "outputs": [],
   "source": [
    "'''# Create a labels array to match the learned cluster lables with the true labels\n",
    "labels = np.zeros_like(clusters)\n",
    "for i in range(4):\n",
    "    mask = (clusters == i)\n",
    "    labels[mask] = mode(hog.ClassId[mask])[0]'''"
   ]
  },
  {
   "cell_type": "markdown",
   "id": "e7653cfd-5f77-4778-a750-0900ffb54b91",
   "metadata": {},
   "source": [
    "### HOG without TSNE        \n",
    "        precision    recall  f1-score   support\n",
    "\n",
    "           1       0.12      0.18      0.15       769\n",
    "           2       0.06      0.70      0.10       195\n",
    "           3       0.81      0.27      0.41      4759\n",
    "           4       0.01      0.01      0.01       516\n",
    "\n",
    "    accuracy                           0.25      6239\n",
    "   macro avg       0.25      0.29      0.17      6239\n",
    "weighted avg       0.63      0.25      0.33      6239"
   ]
  },
  {
   "cell_type": "markdown",
   "id": "54b19528-9a33-4871-8f6f-1610f303b874",
   "metadata": {
    "tags": []
   },
   "source": [
    "   ### HOG with TSNE        \n",
    "        precision    recall  f1-score   support\n",
    "\n",
    "           1       0.12      0.36      0.18       769\n",
    "           2       0.00      0.04      0.01       195\n",
    "           3       0.77      0.18      0.29      4759\n",
    "           4       0.02      0.03      0.02       516\n",
    "\n",
    "    accuracy                           0.18      6239\n",
    "   macro avg       0.23      0.15      0.12      6239\n",
    "weighted avg       0.61      0.18      0.24      6239"
   ]
  },
  {
   "cell_type": "markdown",
   "id": "1b7681e1-f0e7-4988-9714-5bead3678ce2",
   "metadata": {},
   "source": [
    "## Using HOG Image in Clustering"
   ]
  },
  {
   "cell_type": "code",
   "execution_count": null,
   "id": "e71113cf-6179-4ffc-8a32-8f3bdc2aa098",
   "metadata": {},
   "outputs": [],
   "source": [
    "image = io.imread(\"data/train_images/000f6bf48.jpg\")"
   ]
  },
  {
   "cell_type": "code",
   "execution_count": null,
   "id": "f4bd18d6-90ac-4f81-b515-9e49f0a6a173",
   "metadata": {},
   "outputs": [],
   "source": [
    "from skimage.transform import resize\n",
    "resized_img = resize(image, (64,128))"
   ]
  },
  {
   "cell_type": "code",
   "execution_count": null,
   "id": "5b7c67f0-eaa4-4cca-a9f3-21a308b2d5ff",
   "metadata": {},
   "outputs": [],
   "source": [
    "plt.imshow(resized_img)\n",
    "plt.xlim(0,128)\n",
    "plt.ylim(0,64)\n",
    "plt.xticks(fontsize=16)\n",
    "plt.yticks(fontsize=16)"
   ]
  },
  {
   "cell_type": "code",
   "execution_count": null,
   "id": "afc45a16-87a4-47ee-aa0b-33488ec5ce36",
   "metadata": {},
   "outputs": [],
   "source": [
    "from skimage.feature import hog\n",
    "fd, hog_image = hog(resized_img, orientations=9, pixels_per_cell=(8, 8),\n",
    "                    cells_per_block=(2, 2), visualize=True, channel_axis=-1)"
   ]
  },
  {
   "cell_type": "code",
   "execution_count": null,
   "id": "b7f9ad7c-1e10-4307-a478-9d2016880e21",
   "metadata": {},
   "outputs": [],
   "source": [
    "plt.imshow(hog_image)\n",
    "plt.xlim(0,128)\n",
    "plt.ylim(0,64)\n",
    "plt.xticks(fontsize=16)\n",
    "plt.yticks(fontsize=16)"
   ]
  },
  {
   "cell_type": "code",
   "execution_count": null,
   "id": "c0532c54-bf67-4196-8d23-6701550e2a5e",
   "metadata": {},
   "outputs": [],
   "source": [
    "pic_n = hog_image.reshape(hog_image.shape[0]*hog_image.shape[1],1)\n",
    "kmeans = KMeans(n_clusters=2, random_state=0).fit(pic_n)\n",
    "#clusters = kmeans.fit_predict(hog_image)\n",
    "#kmeans.cluster_centers_.shape"
   ]
  },
  {
   "cell_type": "code",
   "execution_count": null,
   "id": "f92441e4-87cb-4c42-9dc9-8ef48df2b714",
   "metadata": {},
   "outputs": [],
   "source": [
    "pic2show = kmeans.cluster_centers_[kmeans.labels_]"
   ]
  },
  {
   "cell_type": "code",
   "execution_count": null,
   "id": "5108f465-037f-4b51-a0e6-a3ab8b65beca",
   "metadata": {},
   "outputs": [],
   "source": [
    "cluster_pic = pic2show.reshape(hog_image.shape[0], hog_image.shape[1])\n",
    "plt.figure(figsize=(12,10))\n",
    "plt.imshow(cluster_pic);"
   ]
  },
  {
   "cell_type": "code",
   "execution_count": null,
   "id": "341e88da-4e1e-463d-8a78-9652c12260d5",
   "metadata": {},
   "outputs": [],
   "source": [
    "cluster_pic"
   ]
  },
  {
   "cell_type": "code",
   "execution_count": null,
   "id": "6dfa4915-fee4-4f54-8812-c4edd248251f",
   "metadata": {},
   "outputs": [],
   "source": [
    "hog_image.shape"
   ]
  },
  {
   "cell_type": "code",
   "execution_count": null,
   "id": "7114ba28-2839-4ef9-9c4c-d5c5c651523a",
   "metadata": {},
   "outputs": [],
   "source": [
    "kmeans.labels_.shape"
   ]
  },
  {
   "cell_type": "code",
   "execution_count": null,
   "id": "ec0da0d1-570f-4903-8a09-0c36179f6fe2",
   "metadata": {},
   "outputs": [],
   "source": [
    "# self-written scripts\n",
    "import sys\n",
    "sys.path.insert(0, 'Python_Scripts')\n",
    "\n",
    "import mask_conversion"
   ]
  },
  {
   "cell_type": "code",
   "execution_count": null,
   "id": "eb9913ba-4e76-47c2-9411-17d1ceda1351",
   "metadata": {},
   "outputs": [],
   "source": [
    "mask_pic = kmeans.labels_.reshape(hog_image.shape[0], hog_image.shape[1])"
   ]
  },
  {
   "cell_type": "code",
   "execution_count": null,
   "id": "a1ddf9c8-8975-4702-8abd-803393de838e",
   "metadata": {
    "tags": []
   },
   "outputs": [],
   "source": [
    "mask_pic.shape"
   ]
  },
  {
   "cell_type": "code",
   "execution_count": null,
   "id": "5ca790f2-46ee-4bec-b0a0-45423c84ee6f",
   "metadata": {},
   "outputs": [],
   "source": [
    "list(set(kmeans.labels_))"
   ]
  },
  {
   "cell_type": "code",
   "execution_count": null,
   "id": "5a598f70-a169-4a52-9c2f-33d66d46f54b",
   "metadata": {},
   "outputs": [],
   "source": [
    "\n",
    "DIMENSION = (64,128)\n",
    "encoded_pixels = mask_conversion.encode_pixel(mask_pic, 3)\n",
    "mask_conversion.decode_pixel(DIMENSION,encoded_pixels=encoded_pixels,class_id=1)"
   ]
  },
  {
   "cell_type": "code",
   "execution_count": null,
   "id": "e555a530-97a0-4fc0-b2d2-5cbb856fecaf",
   "metadata": {},
   "outputs": [],
   "source": [
    "# get unique values in kmeans labels\n",
    "labels = list(set(kmeans.labels_))\n",
    "\n",
    "for label in labels:\n",
    "    DIMENSION = mask_pic.shape\n",
    "    encoded_pixels=mask_conversion.encode_pixel(mask_pic, label)\n",
    "    \n",
    "    mask = mask_conversion.decode_pixel(DIMENSION,encoded_pixels=encoded_pixels,class_id=1)\n",
    "\n",
    "    plt.figure(figsize=(25, 8))\n",
    "        \n",
    "    ax = plt.subplot(len(labels), 1, label + 1)\n",
    "    #plt.imshow(img)\n",
    "    title = f'Label: {label}'\n",
    "    \n",
    "    plt.title(title, fontsize=16);\n",
    "    plt.axis(\"off\")\n",
    "\n",
    "    plt.imshow(mask)"
   ]
  },
  {
   "cell_type": "code",
   "execution_count": null,
   "id": "d2c2178b-1fc5-4b78-ba49-2960c59eaf39",
   "metadata": {},
   "outputs": [],
   "source": []
  }
 ],
 "metadata": {
  "kernelspec": {
   "display_name": "Python 3 (ipykernel)",
   "language": "python",
   "name": "python3"
  },
  "language_info": {
   "codemirror_mode": {
    "name": "ipython",
    "version": 3
   },
   "file_extension": ".py",
   "mimetype": "text/x-python",
   "name": "python",
   "nbconvert_exporter": "python",
   "pygments_lexer": "ipython3",
   "version": "3.9.4"
  }
 },
 "nbformat": 4,
 "nbformat_minor": 5
}
