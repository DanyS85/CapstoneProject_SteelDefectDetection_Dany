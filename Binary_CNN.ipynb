{
 "cells": [
  {
   "cell_type": "markdown",
   "id": "9e5afd02-1b30-425d-93d0-b88273c055ce",
   "metadata": {},
   "source": [
    "# Convolutional Neural Network Binary Classfication"
   ]
  },
  {
   "cell_type": "markdown",
   "id": "a2413f36-dd89-49dc-863d-3a649c3c9ce4",
   "metadata": {},
   "source": [
    "\n",
    "#### Intro to binary CNN\n",
    "https://towardsdatascience.com/10-minutes-to-building-a-cnn-binary-image-classifier-in-tensorflow-4e216b2034aa\n",
    "\n",
    "#### Code Inspiration from here..\n",
    "\n",
    "https://medium.com/techiepedia/binary-image-classifier-cnn-using-tensorflow-a3f5d6746697 \n"
   ]
  },
  {
   "cell_type": "code",
   "execution_count": 1,
   "id": "569336d3-cf7f-419a-85d5-10378c2fefac",
   "metadata": {},
   "outputs": [],
   "source": [
    "# Libraries that might be installed beforehand\n",
    "\n",
    "#!pip install opencv-python\n",
    "#!pip install sklearn"
   ]
  },
  {
   "cell_type": "code",
   "execution_count": 46,
   "id": "59c414e0-0149-483d-b346-1943ab6b5e41",
   "metadata": {},
   "outputs": [],
   "source": [
    "# Default Libraries\n",
    "import pandas as pd\n",
    "import tensorflow as tf\n",
    "import numpy as np\n",
    "\n",
    "# CNN Envrionment\n",
    "from tensorflow import keras\n",
    "from tensorflow.keras import layers\n",
    "from tensorflow.keras.preprocessing.image import ImageDataGenerator\n",
    "from tensorflow.keras.preprocessing import image\n",
    "\n",
    "# Plotting Libraries\n",
    "import matplotlib.pyplot as plt\n",
    "\n",
    "# Miscellaneous\n",
    "from sklearn.model_selection import train_test_split\n",
    "from sklearn.metrics import roc_curve, auc\n",
    "import os\n",
    "import shutil\n",
    "import cv2\n",
    "import warnings\n",
    "warnings.filterwarnings(\"ignore\", category=DeprecationWarning) \n",
    "\n",
    "# Python Scripts\n",
    "#import sys  \n",
    "#sys.path.insert(0, './Python_Scripts')"
   ]
  },
  {
   "cell_type": "code",
   "execution_count": 3,
   "id": "47589bfa-f683-4bdb-b537-9921f1487387",
   "metadata": {},
   "outputs": [
    {
     "name": "stdout",
     "output_type": "stream",
     "text": [
      "2.7.0\n"
     ]
    }
   ],
   "source": [
    "# Check for Tensorflow version\n",
    "print(tf.__version__)\n",
    "tf.compat.v1.logging.set_verbosity(tf.compat.v1.logging.INFO)"
   ]
  },
  {
   "cell_type": "code",
   "execution_count": 4,
   "id": "885e9033-3b8d-4b02-8dcf-087a693c377b",
   "metadata": {},
   "outputs": [
    {
     "data": {
      "text/html": [
       "<div>\n",
       "<style scoped>\n",
       "    .dataframe tbody tr th:only-of-type {\n",
       "        vertical-align: middle;\n",
       "    }\n",
       "\n",
       "    .dataframe tbody tr th {\n",
       "        vertical-align: top;\n",
       "    }\n",
       "\n",
       "    .dataframe thead th {\n",
       "        text-align: right;\n",
       "    }\n",
       "</style>\n",
       "<table border=\"1\" class=\"dataframe\">\n",
       "  <thead>\n",
       "    <tr style=\"text-align: right;\">\n",
       "      <th></th>\n",
       "      <th>FilePath</th>\n",
       "      <th>ImageId</th>\n",
       "      <th>ClassId</th>\n",
       "      <th>EncodedPixels</th>\n",
       "      <th>Defect</th>\n",
       "    </tr>\n",
       "  </thead>\n",
       "  <tbody>\n",
       "    <tr>\n",
       "      <th>0</th>\n",
       "      <td>/Users/michael/neuefische/CapstoneProject_Stee...</td>\n",
       "      <td>0002cc93b.jpg</td>\n",
       "      <td>1</td>\n",
       "      <td>29102 12 29346 24 29602 24 29858 24 30114 24 3...</td>\n",
       "      <td>1</td>\n",
       "    </tr>\n",
       "    <tr>\n",
       "      <th>1</th>\n",
       "      <td>/Users/michael/neuefische/CapstoneProject_Stee...</td>\n",
       "      <td>0007a71bf.jpg</td>\n",
       "      <td>3</td>\n",
       "      <td>18661 28 18863 82 19091 110 19347 110 19603 11...</td>\n",
       "      <td>1</td>\n",
       "    </tr>\n",
       "  </tbody>\n",
       "</table>\n",
       "</div>"
      ],
      "text/plain": [
       "                                            FilePath        ImageId  ClassId  \\\n",
       "0  /Users/michael/neuefische/CapstoneProject_Stee...  0002cc93b.jpg        1   \n",
       "1  /Users/michael/neuefische/CapstoneProject_Stee...  0007a71bf.jpg        3   \n",
       "\n",
       "                                       EncodedPixels  Defect  \n",
       "0  29102 12 29346 24 29602 24 29858 24 30114 24 3...       1  \n",
       "1  18661 28 18863 82 19091 110 19347 110 19603 11...       1  "
      ]
     },
     "execution_count": 4,
     "metadata": {},
     "output_type": "execute_result"
    }
   ],
   "source": [
    "# Load Data\n",
    "df = pd.read_csv('Data/train_complete.csv')\n",
    "df.head(2)"
   ]
  },
  {
   "cell_type": "markdown",
   "id": "128f8340-636a-4e92-9ad0-fcd10b8e50d1",
   "metadata": {},
   "source": [
    "## Test Split and Data Storage Preparation"
   ]
  },
  {
   "cell_type": "code",
   "execution_count": 5,
   "id": "c155c790-3799-4dd3-8c24-cf3156dcc86f",
   "metadata": {},
   "outputs": [
    {
     "name": "stdout",
     "output_type": "stream",
     "text": [
      "Length of Train-Set: 9097\n",
      "Length of Test-Set: 3900\n"
     ]
    }
   ],
   "source": [
    " # Do the test split\n",
    "X = df.iloc[:,0:4]\n",
    "y = df.iloc[:,4]\n",
    "\n",
    "# Split into train and test set \n",
    "X_train, X_test, y_train, y_test = train_test_split(X, y, stratify=y, test_size=0.3, random_state = 1)\n",
    "\n",
    "print('Length of Train-Set: ' + str(len(y_train)))\n",
    "print('Length of Test-Set: ' + str(len(y_test)))"
   ]
  },
  {
   "cell_type": "code",
   "execution_count": 6,
   "id": "ce4f3ae9-8e71-4c00-a669-24ea75ac2357",
   "metadata": {},
   "outputs": [
    {
     "name": "stdout",
     "output_type": "stream",
     "text": [
      "No-Defect-Ratio in Train: 0.4541\n",
      "No-Defect-Ratio in Test: 0.4541\n"
     ]
    }
   ],
   "source": [
    "# Check No-Defect Distributions\n",
    "print('No-Defect-Ratio in Train: ' + str(round((y_train == 0).astype(int).sum(axis=0) / len(y_train),4)))\n",
    "print('No-Defect-Ratio in Test: ' + str(round((y_test == 0).astype(int).sum(axis=0) / len(y_test),4)))"
   ]
  },
  {
   "cell_type": "code",
   "execution_count": 8,
   "id": "f62d821e-a997-4ccb-b61f-afd9b29c652b",
   "metadata": {},
   "outputs": [],
   "source": [
    "# Create a temp path for the train & test split\n",
    "def MakePathStructure():\n",
    "    path = os.getcwd()\n",
    "    #\n",
    "    ## You might need to adjust the path to your local environment\n",
    "    temp_path = path + \"/Data/Temp\"\n",
    "    \n",
    "    # Make DirectoryTemp and Sub-Directories Train & Test\n",
    "    try:\n",
    "        os.mkdir(temp_path)\n",
    "        os.mkdir(temp_path + '/Train')\n",
    "        os.mkdir(temp_path + '/Test')\n",
    "        os.mkdir(temp_path + '/Train/C0')\n",
    "        os.mkdir(temp_path + '/Train/C1')\n",
    "        os.mkdir(temp_path + '/Test/C0')\n",
    "        os.mkdir(temp_path + '/Test/C1')\n",
    "    \n",
    "        \n",
    "    except OSError:\n",
    "        return print (\"Creation of the directories failed\")\n",
    "    else:\n",
    "        return print (\"Successfully created the directories\")"
   ]
  },
  {
   "cell_type": "code",
   "execution_count": 9,
   "id": "77b46c17-517d-44a6-ab42-cd25524ec664",
   "metadata": {},
   "outputs": [
    {
     "name": "stdout",
     "output_type": "stream",
     "text": [
      "Creation of the directories failed\n"
     ]
    }
   ],
   "source": [
    "# Execute Function If Test-Temp Folder Structure is not ready yet..\n",
    "\n",
    "#MakePathStructure()"
   ]
  },
  {
   "cell_type": "code",
   "execution_count": 8,
   "id": "01d21808-7174-4504-adb8-e78e4a8235c8",
   "metadata": {},
   "outputs": [],
   "source": [
    "# Copy and Separate in Imgages in Test and Train Folder\n",
    "def CopySeparateImagesToTestTrain():\n",
    "# Train Data\n",
    "    for i in range(len(X_train)):\n",
    "        origin_train_path = path + '/Data/train_images/'\n",
    "        source_file = X_train.iloc[i,1]\n",
    "        \n",
    "        #Seperate the classes into subfolders C0 and C1\n",
    "        if y_train.iloc[i] == 0:\n",
    "            target_directory = path + '/Data/Temp/Train/C0/'\n",
    "        else:\n",
    "            target_directory = path + '/Data/Temp/Train/C1/'\n",
    "        # Copy The Files\n",
    "        shutil.copy2(origin_train_path + source_file , target_directory + source_file)\n",
    "        \n",
    "    # Test Data\n",
    "    for i in range(len(X_test)):\n",
    "        origin_train_path = path + '/Data/train_images/'\n",
    "        source_file = X_test.iloc[i,1]\n",
    "        \n",
    "        #Seperate the classes into subfolders C0 and C1\n",
    "        if y_train.iloc[i] == 0:\n",
    "            target_directory = path + '/Data/Temp/Test/C0/'\n",
    "        else:\n",
    "            target_directory = path + '/Data/Temp/Test/C1/'\n",
    "        # Copy The Files\n",
    "        shutil.copy2(origin_train_path + source_file , target_directory + source_file)"
   ]
  },
  {
   "cell_type": "code",
   "execution_count": null,
   "id": "4b7d003e-a2a8-4430-9071-b9eb772b8c4f",
   "metadata": {},
   "outputs": [],
   "source": [
    "# Execute function if files needs to copied into the subfolders und splitted into the classes\n",
    "\n",
    "#CopySeparateImagesToTestTrain()"
   ]
  },
  {
   "cell_type": "markdown",
   "id": "4f697510-cb4c-4ac2-953a-bbda574e62d4",
   "metadata": {},
   "source": [
    "## CNN Model Preparation"
   ]
  },
  {
   "cell_type": "markdown",
   "id": "7bf04926-d9e9-412b-b579-69db5430a8cd",
   "metadata": {},
   "source": [
    "https://www.tensorflow.org/api_docs/python/tf/keras/preprocessing/image/ImageDataGenerator\n",
    "\n",
    "https://keras.io/api/preprocessing/image/"
   ]
  },
  {
   "cell_type": "code",
   "execution_count": 9,
   "id": "7634a884-134a-4684-aa57-2ab6ef211f30",
   "metadata": {},
   "outputs": [
    {
     "name": "stdout",
     "output_type": "stream",
     "text": [
      "Found 12769 files belonging to 2 classes.\n",
      "Metal device set to: Apple M1\n"
     ]
    },
    {
     "name": "stderr",
     "output_type": "stream",
     "text": [
      "2022-02-06 14:52:06.182067: I tensorflow/core/common_runtime/pluggable_device/pluggable_device_factory.cc:305] Could not identify NUMA node of platform GPU ID 0, defaulting to 0. Your kernel may not have been built with NUMA support.\n",
      "2022-02-06 14:52:06.182455: I tensorflow/core/common_runtime/pluggable_device/pluggable_device_factory.cc:271] Created TensorFlow device (/job:localhost/replica:0/task:0/device:GPU:0 with 0 MB memory) -> physical PluggableDevice (device: 0, name: METAL, pci bus id: <undefined>)\n"
     ]
    },
    {
     "data": {
      "text/plain": [
       "<BatchDataset shapes: ((None, 256, 1600, 3), (None,)), types: (tf.float32, tf.int32)>"
      ]
     },
     "execution_count": 9,
     "metadata": {},
     "output_type": "execute_result"
    }
   ],
   "source": [
    "# Optional Setting\n",
    "#tf.keras.preprocessing.image_dataset_from_directory(\n",
    "#    './Data/Temp',\n",
    "#    labels=\"inferred\",\n",
    "#    label_mode=\"int\",\n",
    "#    class_names=None,\n",
    "#    color_mode=\"rgb\",\n",
    "#    batch_size=32,\n",
    "#    image_size=(256, 1600),\n",
    "#    shuffle=True,\n",
    "#    seed=None,\n",
    "#    validation_split=None,\n",
    "#    subset=None,\n",
    "#    interpolation=\"bilinear\",\n",
    "#    follow_links=False,\n",
    "#    crop_to_aspect_ratio=False,\n",
    "#)"
   ]
  },
  {
   "cell_type": "code",
   "execution_count": 25,
   "id": "e5029ab4-bb78-4299-b82f-d4470ec76a10",
   "metadata": {},
   "outputs": [
    {
     "name": "stdout",
     "output_type": "stream",
     "text": [
      "Found 8885 images belonging to 2 classes.\n",
      "Found 3884 images belonging to 2 classes.\n"
     ]
    }
   ],
   "source": [
    "# Get current working directory\n",
    "path = os.getcwd()\n",
    "\n",
    "# Normalize the color values between 0 and 1\n",
    "train = ImageDataGenerator(rescale=1/255)\n",
    "validation = ImageDataGenerator(rescale=1/255)\n",
    "\n",
    "# Takes the path to a directory & generates batches of augmented data.\n",
    "train_generator = train.flow_from_directory( path + '/Data/Temp/Train/',\n",
    "                                          target_size=(256,1600),   #150,150\n",
    "                                          batch_size = 32,\n",
    "                                          class_mode = 'binary')\n",
    "\n",
    "# Takes the path to a directory & generates batches of augmented data.\n",
    "validation_generator = validation.flow_from_directory(path + '/Data/Temp/Test/',\n",
    "                                          target_size=(256,1600),\n",
    "                                          batch_size = 32,\n",
    "                                          class_mode = 'binary')"
   ]
  },
  {
   "cell_type": "code",
   "execution_count": 26,
   "id": "a7da7d49-b399-4a44-9324-f1d5b3e335de",
   "metadata": {},
   "outputs": [
    {
     "name": "stdout",
     "output_type": "stream",
     "text": [
      "Data labels are separated in following binary code: {'C0': 0, 'C1': 1}\n"
     ]
    }
   ],
   "source": [
    "print('Data labels are separated in following binary code: ' + str(test_dataset.class_indices))"
   ]
  },
  {
   "cell_type": "markdown",
   "id": "a69d637c-5759-480c-9f0c-cad3171c3604",
   "metadata": {},
   "source": [
    "https://keras.io/guides/sequential_model/"
   ]
  },
  {
   "cell_type": "code",
   "execution_count": 27,
   "id": "5dc9a85b-7340-4a87-878a-796f47222aaa",
   "metadata": {},
   "outputs": [],
   "source": [
    "model = keras.Sequential()\n",
    "\n",
    "# Convolutional layer and maxpool layer 1, 32 filters and 3x3 Kernel\n",
    "model.add(keras.layers.Conv2D(16,(3,3),activation='relu',input_shape=(256,1600,3)))\n",
    "model.add(keras.layers.MaxPool2D(2,2))\n",
    "\n",
    "# Convolutional layer and maxpool layer 2\n",
    "model.add(keras.layers.Conv2D(32,(3,3),activation='relu'))\n",
    "model.add(keras.layers.MaxPool2D(2,2))\n",
    "\n",
    "# Convolutional layer and maxpool layer 3\n",
    "model.add(keras.layers.Conv2D(64,(3,3),activation='relu'))\n",
    "model.add(keras.layers.MaxPool2D(2,2))\n",
    "\n",
    "# Convolutional layer and maxpool layer 4\n",
    "model.add(keras.layers.Conv2D(64,(3,3),activation='relu'))\n",
    "model.add(keras.layers.MaxPool2D(2,2))\n",
    "\n",
    "# Convolutional layer and maxpool layer 5\n",
    "model.add(keras.layers.Conv2D(64,(3,3),activation='relu'))\n",
    "model.add(keras.layers.MaxPool2D(2,2))\n",
    "\n",
    "# This layer flattens the resulting image array to 1D array\n",
    "model.add(keras.layers.Flatten())\n",
    "\n",
    "# Hidden layer with XXX neurons and Rectified Linear Unit activation function \n",
    "model.add(keras.layers.Dense(512,activation='relu'))\n",
    "\n",
    "\n",
    "# Output layer with single neuron which gives 0 for Non-Failure or 1 for Failure \n",
    "#Here we use sigmoid activation function which makes our model output to lie between 0 and 1\n",
    "model.add(keras.layers.Dense(1,activation='sigmoid'))"
   ]
  },
  {
   "cell_type": "code",
   "execution_count": 28,
   "id": "fa858088-cd6d-4b9f-b76c-5a3416f8af13",
   "metadata": {},
   "outputs": [
    {
     "name": "stdout",
     "output_type": "stream",
     "text": [
      "Model: \"sequential_3\"\n",
      "_________________________________________________________________\n",
      " Layer (type)                Output Shape              Param #   \n",
      "=================================================================\n",
      " conv2d_14 (Conv2D)          (None, 254, 1598, 16)     448       \n",
      "                                                                 \n",
      " max_pooling2d_14 (MaxPoolin  (None, 127, 799, 16)     0         \n",
      " g2D)                                                            \n",
      "                                                                 \n",
      " conv2d_15 (Conv2D)          (None, 125, 797, 32)      4640      \n",
      "                                                                 \n",
      " max_pooling2d_15 (MaxPoolin  (None, 62, 398, 32)      0         \n",
      " g2D)                                                            \n",
      "                                                                 \n",
      " conv2d_16 (Conv2D)          (None, 60, 396, 64)       18496     \n",
      "                                                                 \n",
      " max_pooling2d_16 (MaxPoolin  (None, 30, 198, 64)      0         \n",
      " g2D)                                                            \n",
      "                                                                 \n",
      " conv2d_17 (Conv2D)          (None, 28, 196, 64)       36928     \n",
      "                                                                 \n",
      " max_pooling2d_17 (MaxPoolin  (None, 14, 98, 64)       0         \n",
      " g2D)                                                            \n",
      "                                                                 \n",
      " conv2d_18 (Conv2D)          (None, 12, 96, 64)        36928     \n",
      "                                                                 \n",
      " max_pooling2d_18 (MaxPoolin  (None, 6, 48, 64)        0         \n",
      " g2D)                                                            \n",
      "                                                                 \n",
      " flatten_3 (Flatten)         (None, 18432)             0         \n",
      "                                                                 \n",
      " dense_6 (Dense)             (None, 512)               9437696   \n",
      "                                                                 \n",
      " dense_7 (Dense)             (None, 1)                 513       \n",
      "                                                                 \n",
      "=================================================================\n",
      "Total params: 9,535,649\n",
      "Trainable params: 9,535,649\n",
      "Non-trainable params: 0\n",
      "_________________________________________________________________\n",
      "None\n"
     ]
    }
   ],
   "source": [
    "print(model.summary())"
   ]
  },
  {
   "cell_type": "markdown",
   "id": "b275ad91-3dbf-42e8-b379-269693de0594",
   "metadata": {},
   "source": [
    "https://keras.io/api/models/model_training_apis/"
   ]
  },
  {
   "cell_type": "code",
   "execution_count": 49,
   "id": "4e394311-262d-43ee-b731-b536b9eb1407",
   "metadata": {},
   "outputs": [],
   "source": [
    "opt = tf.keras.optimizers.RMSprop()\n",
    "model.compile(optimizer=opt,\n",
    "              loss='binary_crossentropy',\n",
    "              metrics=['accuracy'])"
   ]
  },
  {
   "cell_type": "markdown",
   "id": "16b4dfb0-6a16-4f07-80c2-675114cd8424",
   "metadata": {},
   "source": [
    "https://www.pyimagesearch.com/2018/12/24/how-to-use-keras-fit-and-fit_generator-a-hands-on-tutorial/"
   ]
  },
  {
   "cell_type": "markdown",
   "id": "9ce81453-47e3-44ec-bd4a-5966858c84c5",
   "metadata": {},
   "source": [
    "## CNN Model Fitting Process"
   ]
  },
  {
   "cell_type": "code",
   "execution_count": 50,
   "id": "4d55f5c8-7d4b-483b-ac61-9cd5ea4201b1",
   "metadata": {},
   "outputs": [
    {
     "name": "stdout",
     "output_type": "stream",
     "text": [
      "Epoch 1/3\n"
     ]
    },
    {
     "name": "stderr",
     "output_type": "stream",
     "text": [
      "2022-02-06 15:53:49.511260: I tensorflow/core/grappler/optimizers/custom_graph_optimizer_registry.cc:112] Plugin optimizer for device_type GPU is enabled.\n"
     ]
    },
    {
     "name": "stdout",
     "output_type": "stream",
     "text": [
      "10/10 [==============================] - ETA: 0s - loss: 0.8626 - accuracy: 0.5906"
     ]
    },
    {
     "name": "stderr",
     "output_type": "stream",
     "text": [
      "2022-02-06 15:53:58.825459: I tensorflow/core/grappler/optimizers/custom_graph_optimizer_registry.cc:112] Plugin optimizer for device_type GPU is enabled.\n"
     ]
    },
    {
     "name": "stdout",
     "output_type": "stream",
     "text": [
      "10/10 [==============================] - 12s 1s/step - loss: 0.8626 - accuracy: 0.5906 - val_loss: 0.6958 - val_accuracy: 0.5508\n",
      "Epoch 2/3\n",
      "10/10 [==============================] - 11s 1s/step - loss: 0.6688 - accuracy: 0.5750 - val_loss: 0.7085 - val_accuracy: 0.5273\n",
      "Epoch 3/3\n",
      "10/10 [==============================] - 11s 1s/step - loss: 0.6697 - accuracy: 0.5563 - val_loss: 0.7346 - val_accuracy: 0.5508\n"
     ]
    }
   ],
   "source": [
    "#steps_per_epoch = train_imagesize/batch_size\n",
    "\n",
    "history = model.fit(train_dataset,\n",
    "          steps_per_epoch = 10,\n",
    "          epochs = 3,\n",
    "          verbose=1,\n",
    "          validation_data = validation_generator,\n",
    "          validation_steps=8) "
   ]
  },
  {
   "cell_type": "markdown",
   "id": "a4145cc0-dba2-4dbd-9bce-74f7c7bf9695",
   "metadata": {},
   "source": [
    "## CNN Evaluate Model Preformance"
   ]
  },
  {
   "cell_type": "code",
   "execution_count": 51,
   "id": "2fc3cd79-cd5e-4e0b-9ba5-088db491de8c",
   "metadata": {},
   "outputs": [
    {
     "name": "stdout",
     "output_type": "stream",
     "text": [
      "122/122 [==============================] - 28s 227ms/step - loss: 0.7332 - accuracy: 0.5458\n"
     ]
    },
    {
     "data": {
      "text/plain": [
       "[0.7331998944282532, 0.5458290576934814]"
      ]
     },
     "execution_count": 51,
     "metadata": {},
     "output_type": "execute_result"
    }
   ],
   "source": [
    "# Evaluate The Model Accuracy\n",
    "model.evaluate(validation_generator)"
   ]
  },
  {
   "cell_type": "code",
   "execution_count": 53,
   "id": "1a714e37-2a25-414f-b69d-32427b0890f8",
   "metadata": {},
   "outputs": [
    {
     "name": "stdout",
     "output_type": "stream",
     "text": [
      "122/122 [==============================] - 27s 223ms/step\n"
     ]
    }
   ],
   "source": [
    "# Delete the validation generator\n",
    "STEP_SIZE_TEST=validation_generator.n//validation_generator.batch_size\n",
    "validation_generator.reset()\n",
    "preds = model.predict(validation_generator,\n",
    "verbose=1)"
   ]
  },
  {
   "cell_type": "markdown",
   "id": "29790c3f-b57c-4224-8867-c293a5adf503",
   "metadata": {},
   "source": [
    "## Visualize the Performance "
   ]
  },
  {
   "cell_type": "code",
   "execution_count": 54,
   "id": "33fb06d9-87d8-4563-bb92-0ab44cae8a4e",
   "metadata": {},
   "outputs": [
    {
     "data": {
      "image/png": "[encoded data removed]",
      "text/plain": [
       "<Figure size 432x288 with 1 Axes>"
      ]
     },
     "metadata": {
      "needs_background": "light"
     },
     "output_type": "display_data"
    }
   ],
   "source": [
    "\n",
    "fpr, tpr, _ = roc_curve(validation_generator.classes, preds)\n",
    "roc_auc = auc(fpr, tpr)\n",
    "plt.figure()\n",
    "lw = 2\n",
    "plt.plot(fpr, tpr, color='darkorange',\n",
    "lw=lw, label='ROC curve (area = %0.2f)' % roc_auc)\n",
    "plt.plot([0, 1], [0, 1], color='navy', lw=lw, linestyle='--')\n",
    "plt.xlim([0.0, 1.0])\n",
    "plt.ylim([0.0, 1.05])\n",
    "plt.xlabel('False Positive Rate')\n",
    "plt.ylabel('True Positive Rate')\n",
    "plt.title('Receiver operating characteristic example')\n",
    "plt.legend(loc=\"lower right\")\n",
    "plt.show()"
   ]
  },
  {
   "cell_type": "code",
   "execution_count": 43,
   "id": "bf3b88a6-5b2b-445d-aa79-6f77994795b0",
   "metadata": {},
   "outputs": [],
   "source": [
    "def predictImage(filename):\n",
    "    img1 = image.load_img(filename,target_size=(256,1600))\n",
    "    \n",
    "    plt.imshow(img1)\n",
    " \n",
    "    Y = image.img_to_array(img1)\n",
    "    \n",
    "    X = np.expand_dims(Y,axis=0)\n",
    "    val = model.predict(X)\n",
    "    print(val)\n",
    "    if val == 1:\n",
    "        \n",
    "        plt.xlabel(\"Non-Failure\",fontsize=30)\n",
    "         \n",
    "    elif val == 0:  \n",
    "        plt.xlabel(\"Failure\",fontsize=30)"
   ]
  },
  {
   "cell_type": "code",
   "execution_count": 44,
   "id": "43822453-2620-4b74-89b4-4539e87c9b66",
   "metadata": {},
   "outputs": [
    {
     "name": "stdout",
     "output_type": "stream",
     "text": [
      "[[2.574389e-13]]\n"
     ]
    },
    {
     "data": {
      "image/png": "[encoded data removed]",
      "text/plain": [
       "<Figure size 432x288 with 1 Axes>"
      ]
     },
     "metadata": {
      "needs_background": "light"
     },
     "output_type": "display_data"
    }
   ],
   "source": [
    "predictImage(path + '/Data/train_images/0002cc93b.jpg')"
   ]
  },
  {
   "cell_type": "code",
   "execution_count": null,
   "id": "49b0085e-a800-454c-8fdc-92cd67752dc4",
   "metadata": {},
   "outputs": [],
   "source": []
  }
 ],
 "metadata": {
  "kernelspec": {
   "display_name": "Python 3 (ipykernel)",
   "language": "python",
   "name": "python3"
  },
  "language_info": {
   "codemirror_mode": {
    "name": "ipython",
    "version": 3
   },
   "file_extension": ".py",
   "mimetype": "text/x-python",
   "name": "python",
   "nbconvert_exporter": "python",
   "pygments_lexer": "ipython3",
   "version": "3.9.4"
  }
 },
 "nbformat": 4,
 "nbformat_minor": 5
}
