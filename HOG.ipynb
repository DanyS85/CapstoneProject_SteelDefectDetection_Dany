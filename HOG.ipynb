{
 "cells": [
  {
   "cell_type": "markdown",
   "id": "7109cdf0-a06f-473b-87e1-8ae63c57ab04",
   "metadata": {},
   "source": [
    "https://towardsdatascience.com/hog-histogram-of-oriented-gradients-67ecd887675f\n",
    "\n",
    "https://scikit-image.org/docs/dev/auto_examples/features_detection/plot_hog.html\n",
    "\n",
    "https://www.thepythoncode.com/article/hog-feature-extraction-in-python"
   ]
  },
  {
   "cell_type": "code",
   "execution_count": null,
   "id": "4b8fd807-1b3d-4615-9f3b-cf4e10e21364",
   "metadata": {},
   "outputs": [],
   "source": [
    "pip install scikit-image"
   ]
  },
  {
   "cell_type": "code",
   "execution_count": null,
   "id": "6c4f041d-3702-4658-965e-3772f05dad3f",
   "metadata": {},
   "outputs": [],
   "source": [
    "import matplotlib.pyplot as plt\n",
    "from skimage import io\n",
    "from skimage import color\n",
    "from skimage.transform import resize\n",
    "import math\n",
    "from skimage.feature import hog\n",
    "import numpy as np\n",
    "import pandas as pd\n",
    "from PIL import Image\n",
    "from skimage import data, exposure"
   ]
  },
  {
   "cell_type": "code",
   "execution_count": null,
   "id": "98d71820-cc46-49e7-8dae-879e6e9bd1a1",
   "metadata": {},
   "outputs": [],
   "source": [
    "df = pd.read_csv('data/train.csv')"
   ]
  },
  {
   "cell_type": "markdown",
   "id": "e91f98c2-e441-4a7b-98c2-ce1514142455",
   "metadata": {},
   "source": [
    "1600; 256\n",
    "1600/256 = 6,25"
   ]
  },
  {
   "cell_type": "code",
   "execution_count": null,
   "id": "150e511f-6f1f-4f2f-8f75-29edfa6f3fba",
   "metadata": {},
   "outputs": [],
   "source": [
    "image = io.imread(\"data/train_images/000418bfc.jpg\")"
   ]
  },
  {
   "cell_type": "code",
   "execution_count": null,
   "id": "8287e1d2-26a2-4c86-a39b-80bb905c5b99",
   "metadata": {},
   "outputs": [],
   "source": [
    "img = resize(color.rgb2gray(io.imread(\"data/train_images/000418bfc.jpg\")), (64, 128))"
   ]
  },
  {
   "cell_type": "code",
   "execution_count": null,
   "id": "ddded198-8eef-432b-b454-d2d5082a3178",
   "metadata": {},
   "outputs": [],
   "source": [
    "plt.imshow(image)\n",
    "plt.xlim(0,1600)\n",
    "plt.ylim(0,256)\n",
    "plt.xticks(fontsize=16)\n",
    "plt.yticks(fontsize=16)"
   ]
  },
  {
   "cell_type": "code",
   "execution_count": null,
   "id": "b5330bcc-068a-4b2e-9878-5a20d9ab2a70",
   "metadata": {},
   "outputs": [],
   "source": [
    "plt.imshow(img)\n",
    "plt.xlim(0,128)\n",
    "plt.ylim(0,64)\n",
    "plt.xticks(fontsize=16)\n",
    "plt.yticks(fontsize=16)"
   ]
  },
  {
   "cell_type": "markdown",
   "id": "9e88c977-da10-4d9b-9446-9e8d1b154a76",
   "metadata": {},
   "source": [
    "The hog() function takes 6 parameters as input:\n",
    "\n",
    "image: The target image you want to apply HOG feature extraction.\n",
    "\n",
    "orientations: Number of bins in the histogram we want to create, the original research paper used 9 bins so we will pass 9 as orientations.\n",
    "\n",
    "pixels_per_cell: Determines the size of the cell, as we mentioned earlier, it is 8x8.\n",
    "\n",
    "cells_per_block: Number of cells per block, will be 2x2 as mentioned previously.\n",
    "\n",
    "visualize: A boolean whether to return the image of the HOG, we set it to True so we can show the image.\n",
    "\n",
    "multichannel: We set it to True to tell the function that the last dimension is considered as a color channel, instead of spatial."
   ]
  },
  {
   "cell_type": "code",
   "execution_count": null,
   "id": "3371cda3-5656-448f-9e00-94826a800ec1",
   "metadata": {},
   "outputs": [],
   "source": [
    "#without resized picture\n",
    "\n",
    "fd, hog_image = hog(image, orientations=8, pixels_per_cell=(16, 16),\n",
    "                    cells_per_block=(1, 1), visualize=True, channel_axis=-1)\n",
    "\n",
    "fig, (ax1, ax2) = plt.subplots(2,1, figsize=(32, 16), sharex=True, sharey=True)\n",
    "\n",
    "ax1.axis('off')\n",
    "ax1.imshow(image, cmap=plt.cm.gray)\n",
    "ax1.set_title('Input image')\n",
    "\n",
    "# Rescale histogram for better display\n",
    "hog_image_rescaled = exposure.rescale_intensity(hog_image, in_range=(0, 10))\n",
    "\n",
    "ax2.axis('off')\n",
    "ax2.imshow(hog_image_rescaled, cmap=plt.cm.gray)\n",
    "ax2.set_title('Histogram of Oriented Gradients')\n",
    "plt.show()"
   ]
  },
  {
   "cell_type": "code",
   "execution_count": null,
   "id": "1a745825-e69c-403a-982b-87adcd93c1ff",
   "metadata": {},
   "outputs": [],
   "source": []
  }
 ],
 "metadata": {
  "kernelspec": {
   "display_name": "Python 3 (ipykernel)",
   "language": "python",
   "name": "python3"
  },
  "language_info": {
   "codemirror_mode": {
    "name": "ipython",
    "version": 3
   },
   "file_extension": ".py",
   "mimetype": "text/x-python",
   "name": "python",
   "nbconvert_exporter": "python",
   "pygments_lexer": "ipython3",
   "version": "3.9.4"
  }
 },
 "nbformat": 4,
 "nbformat_minor": 5
}
