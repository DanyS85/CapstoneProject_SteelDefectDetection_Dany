{
 "cells": [
  {
   "cell_type": "code",
   "execution_count": 1,
   "id": "b6ce3b08-13a1-48e4-85d2-eab81a64acd1",
   "metadata": {},
   "outputs": [
    {
     "name": "stdout",
     "output_type": "stream",
     "text": [
      "Segmentation Models: using `keras` framework.\n"
     ]
    },
    {
     "name": "stderr",
     "output_type": "stream",
     "text": [
      "/Users/fabioteichmann/neuefische/projects/CapstoneProject_SteelDefectDetection/.venv/lib/python3.9/site-packages/keras/optimizer_v2/adam.py:105: UserWarning: The `lr` argument is deprecated, use `learning_rate` instead.\n",
      "  super(Adam, self).__init__(name, **kwargs)\n"
     ]
    }
   ],
   "source": [
    "import segmentation_models as sm\n",
    "import tensorflow as tf\n",
    "import numpy as np\n",
    "import glob\n",
    "import os\n",
    "import cv2\n",
    "\n",
    "\n",
    "# self-written scripts\n",
    "import sys\n",
    "sys.path.insert(0, 'Python_Scripts')\n",
    "\n",
    "import data_preparation_cnn\n",
    "\n",
    "LEARNING_RATE = 0.005\n",
    "OPTIMIZER = tf.keras.optimizers.Adam(lr=LEARNING_RATE)"
   ]
  },
  {
   "cell_type": "code",
   "execution_count": 2,
   "id": "3cc85831-f936-4f01-aee0-bf8aedf9c6ae",
   "metadata": {},
   "outputs": [],
   "source": [
    "def get_images(class_id, size_x, size_y):\n",
    "    images = []\n",
    "    path_suffix = 'c' + str(class_id) + '/'\n",
    "\n",
    "    for directory_path in glob.glob('data/segmentation/test/' + path_suffix):\n",
    "        for img_path in sorted(glob.glob(os.path.join(directory_path, \"*.jpg\"))):\n",
    "            #print(img_path)\n",
    "            #break\n",
    "            img = cv2.imread(img_path, cv2.IMREAD_COLOR)       \n",
    "            img = cv2.resize(img, (size_y, size_x))\n",
    "            # img = img/255\n",
    "            #print(img)\n",
    "            #img = cv2.cvtColor(img, cv2.COLOR_RGB2BGR)\n",
    "            images.append(img)\n",
    "            #train_labels.append(label)\n",
    "    #Convert list to array for machine learning processing        \n",
    "    images = np.array(images)\n",
    "    \n",
    "    return images"
   ]
  },
  {
   "cell_type": "code",
   "execution_count": 3,
   "id": "9c70b871-a8ef-4ff3-b0d9-32b0ea55fd00",
   "metadata": {},
   "outputs": [],
   "source": [
    "def get_masks(class_id, size_x, size_y):\n",
    "    images = []\n",
    "    path_suffix = 'c' + str(class_id) + '/'\n",
    "\n",
    "    for directory_path in glob.glob('data/segmentation/test_mask/' + path_suffix):\n",
    "        for img_path in sorted(glob.glob(os.path.join(directory_path, \"*.png\"))):\n",
    "            #print(img_path)\n",
    "            #break\n",
    "            img = cv2.imread(img_path, 0)       \n",
    "            img = cv2.resize(img, (size_y, size_x))\n",
    "            #img = cv2.cvtColor(img, cv2.COLOR_RGB2BGR)\n",
    "            images.append(img)\n",
    "            #train_labels.append(label)\n",
    "    #Convert list to array for machine learning processing        \n",
    "    images = np.array(images)\n",
    "    \n",
    "    return images"
   ]
  },
  {
   "cell_type": "code",
   "execution_count": 4,
   "id": "c338a437-c203-4427-a55f-23319c7963dc",
   "metadata": {},
   "outputs": [],
   "source": [
    "def prepare_input_variables(class_id, train_images, train_masks, size_x, size_y):\n",
    "    # get preprocessing for `EfficientNetB5`\n",
    "    preprocess_input = sm.get_preprocessing('efficientnetb5')\n",
    "    \n",
    "    # prepare variables\n",
    "    x_train = preprocess_input(train_images)\n",
    "    y_train = np.expand_dims(train_masks, axis=3)\n",
    "    # y_train = y_train/255\n",
    "\n",
    "    x_val = get_images(class_id=class_id, size_x=size_x, size_y=size_y)\n",
    "    x_val = preprocess_input(x_val)\n",
    "    y_val = get_masks(class_id=class_id, size_x=size_x, size_y=size_y)\n",
    "    y_val = np.expand_dims(y_val, axis=3) #May not be necessary.. leftover from previous code \n",
    "    # y_val = y_val / 255\n",
    "\n",
    "    return x_train, y_train, x_val, y_val"
   ]
  },
  {
   "cell_type": "code",
   "execution_count": 5,
   "id": "69c9d0e7-4435-4712-85ca-26940c173290",
   "metadata": {},
   "outputs": [],
   "source": [
    "def build_compiled_model(size_x, size_y, metric_for_model):\n",
    "    # set the correct framework for the model to work\n",
    "    sm.set_framework('tf.keras')\n",
    "    sm.framework()\n",
    "    \n",
    "    # define model\n",
    "    model = sm.Unet('efficientnetb5',\n",
    "                    input_shape=(size_x, size_y, 3),\n",
    "                    classes=1,\n",
    "                    activation='sigmoid',\n",
    "                    encoder_weights='imagenet',\n",
    "                    encoder_freeze=True\n",
    "                   )\n",
    "    if metric_for_model == 'dice':\n",
    "        model.compile(optimizer=OPTIMIZER, loss=dice_loss, metrics=[dice_coef])\n",
    "    else:\n",
    "        model.compile(optimizer=OPTIMIZER, loss='binary_crossentropy', metrics=[metric_for_model])\n",
    "    \n",
    "    return model"
   ]
  },
  {
   "cell_type": "code",
   "execution_count": 6,
   "id": "3f902159-d93b-4867-9029-cccc348d0fcd",
   "metadata": {},
   "outputs": [],
   "source": [
    "def get_history_from_mask_model(class_id, size_x, size_y, metric_for_model, epochs):\n",
    "    tf.keras.backend.clear_session()\n",
    "    # load images and masks as input for model\n",
    "    train_images, train_masks = data_preparation_cnn.get_resized_image_and_mask_lists(class_id=class_id, \n",
    "                                                                              size_x=size_x, \n",
    "                                                                              size_y=size_y)\n",
    "\n",
    "    # build input variables for model\n",
    "    x_train, y_train, x_val, y_val = prepare_input_variables(class_id, \n",
    "                                                             train_images, \n",
    "                                                             train_masks, \n",
    "                                                             size_x, \n",
    "                                                             size_y)\n",
    "        \n",
    "    # create a compiled model\n",
    "    model = build_compiled_model(size_x, size_y, metric_for_model)\n",
    "    \n",
    "    print(f'beginning training with masks')\n",
    "    # fit the model\n",
    "    history = model.fit(x_train, \n",
    "                        y_train,\n",
    "                        batch_size=32, \n",
    "                        epochs=epochs,\n",
    "                        verbose=True,\n",
    "                        validation_data=(x_val, y_val)\n",
    "                       )\n",
    "    \n",
    "    # predictions = model.predict(x_val)\n",
    "    \n",
    "    # save model\n",
    "    model_name = 'models/class' + str(class_id) + '_mask_generator.h5'\n",
    "    model.save(model_name)\n",
    "    \n",
    "    return history, model"
   ]
  },
  {
   "cell_type": "code",
   "execution_count": 7,
   "id": "675476ba-3eb4-4a33-9f25-6c9242646d11",
   "metadata": {},
   "outputs": [],
   "source": [
    "from keras.losses import binary_crossentropy"
   ]
  },
  {
   "cell_type": "code",
   "execution_count": 8,
   "id": "27566d0c-5932-4bc0-aa2e-a8a2b4c55830",
   "metadata": {},
   "outputs": [],
   "source": [
    "def dice_coef(y_true,y_pred):\n",
    "    y_true_f=tf.reshape(tf.dtypes.cast(y_true, tf.float32),[-1])\n",
    "    y_pred_f=tf.reshape(tf.dtypes.cast(y_pred, tf.float32),[-1])\n",
    "    intersection=tf.reduce_sum(y_true_f*y_pred_f)\n",
    "    return (2. * intersection + 1.) / (tf.reduce_sum(y_true_f) + tf.reduce_sum(y_pred_f) + 1.)\n",
    "def dice_loss(y_true, y_pred):\n",
    "    y_true_f = tf.reshape(y_true, [-1])\n",
    "    y_pred_f = tf.reshape(y_pred, [-1])\n",
    "    return (1-dice_coef(y_true, y_pred))\n",
    "def bce_dice_loss(y_true, y_pred):\n",
    "    y_true_f = tf.reshape(y_true, [-1])\n",
    "    y_pred_f = tf.reshape(y_pred, [-1])\n",
    "    return binary_crossentropy(y_true, y_pred) + (1-dice_coef(y_true, y_pred))"
   ]
  },
  {
   "cell_type": "code",
   "execution_count": 9,
   "id": "d122feb2-1311-43ad-88ba-6940cc007c8a",
   "metadata": {},
   "outputs": [],
   "source": [
    "def build_mask_generating_models(size_x, size_y, metric_for_model, epochs):\n",
    "    \n",
    "    losses = []\n",
    "    losses_val = []\n",
    "    \n",
    "    metric_results = []\n",
    "    metric_results_val = []\n",
    "    \n",
    "    predictions = {}\n",
    "    models = {}\n",
    "    \n",
    "    for class_id in [1,2,3,4]:\n",
    "        print(f'building model for defect class {class_id}...')\n",
    "        \n",
    "        \n",
    "        # extract the history for each model\n",
    "        history, model = get_history_from_mask_model(class_id, size_x, size_y, metric_for_model, epochs)\n",
    "        \n",
    "        losses.append(history.history['loss'])\n",
    "        losses_val.append(history.history['val_loss'])\n",
    "        if metric_for_model == 'dice':\n",
    "            pass\n",
    "        else:\n",
    "            metric_results = history.history[metric_for_model]\n",
    "            metric_results_val = history.history['val_' + metric_for_model]\n",
    "        \n",
    "        # predictions[str(class_id)] = pred\n",
    "        models[str(class_id)] = model\n",
    "        \n",
    "        print('model successfully generated and saved to file!')\n",
    "        print('-----'*10)\n",
    "        print()\n",
    "    \n",
    "    return models\n",
    "        "
   ]
  },
  {
   "cell_type": "code",
   "execution_count": 10,
   "id": "1dc9287b-1498-4282-aea5-13dc6df98e23",
   "metadata": {},
   "outputs": [],
   "source": [
    "\n",
    "# PARAMETERS\n",
    "SIZE_X = 128\n",
    "SIZE_Y = 512\n",
    "EPOCHS = 20"
   ]
  },
  {
   "cell_type": "code",
   "execution_count": null,
   "id": "90bde60b-ef2b-4cad-8334-7c4ee771b76f",
   "metadata": {},
   "outputs": [],
   "source": [
    "models = build_mask_generating_models(SIZE_X, SIZE_Y, 'dice', EPOCHS)"
   ]
  },
  {
   "cell_type": "code",
   "execution_count": null,
   "id": "a57f7827-eeaa-46bf-95c9-b1b13856894f",
   "metadata": {},
   "outputs": [],
   "source": [
    "# predictions"
   ]
  },
  {
   "cell_type": "code",
   "execution_count": null,
   "id": "16aed7e4-34a0-40e6-8e7a-e48a18353da4",
   "metadata": {},
   "outputs": [],
   "source": [
    "models"
   ]
  },
  {
   "cell_type": "code",
   "execution_count": 11,
   "id": "312110d6-15b3-480a-91d7-c4a67fda9187",
   "metadata": {},
   "outputs": [],
   "source": [
    "import keras\n",
    "import matplotlib.pyplot as plt\n",
    "\n",
    "# SIZE_X = 128\n",
    "# SIZE_Y = 256"
   ]
  },
  {
   "cell_type": "code",
   "execution_count": null,
   "id": "330817d4-4af9-4727-ae1a-6073e39f3199",
   "metadata": {},
   "outputs": [],
   "source": [
    "model1 = keras.models.load_model('models/class1_mask_generator.h5', compile=False)\n",
    "model2 = keras.models.load_model('models/class2_mask_generator.h5', compile=False)\n",
    "model3 = keras.models.load_model('models/class3_mask_generator.h5', compile=False)\n",
    "model4 = keras.models.load_model('models/class4_mask_generator.h5', compile=False)"
   ]
  },
  {
   "cell_type": "code",
   "execution_count": null,
   "id": "518537f4-c3f0-4169-a07b-fb27c49ed676",
   "metadata": {},
   "outputs": [],
   "source": [
    "model1.compile(optimizer='adam', loss=dice_loss, metrics=[dice_coef])\n",
    "model2.compile(optimizer='adam', loss=dice_loss, metrics=[dice_coef])\n",
    "model3.compile(optimizer='adam', loss=dice_loss, metrics=[dice_coef])\n",
    "model4.compile(optimizer='adam', loss=dice_loss, metrics=[dice_coef])"
   ]
  },
  {
   "cell_type": "code",
   "execution_count": null,
   "id": "71125bae-d4f0-490e-b3e9-5cd6656320cd",
   "metadata": {},
   "outputs": [],
   "source": [
    "preprocess_input = sm.get_preprocessing('efficientnetb5')\n",
    "\n",
    "images1 = preprocess_input(get_images(4, SIZE_X, SIZE_Y))\n",
    "masks1 = get_masks(4, SIZE_X, SIZE_Y)"
   ]
  },
  {
   "cell_type": "code",
   "execution_count": null,
   "id": "7d9ba841-d279-46f8-acb5-c713cb8921b6",
   "metadata": {},
   "outputs": [],
   "source": [
    "masks[0]"
   ]
  },
  {
   "cell_type": "code",
   "execution_count": null,
   "id": "79ceb740-27f3-42bf-9fb0-062be1c55ce1",
   "metadata": {},
   "outputs": [],
   "source": [
    "# test_img2 = np.expand_dims(test_img2, axis=0).shape"
   ]
  },
  {
   "cell_type": "code",
   "execution_count": null,
   "id": "9d9a8f92-fa0a-452f-a400-c0c0f50ba9b7",
   "metadata": {},
   "outputs": [],
   "source": [
    "plt.figure(figsize=(6,3))\n",
    "plt.imshow(images1[0])"
   ]
  },
  {
   "cell_type": "code",
   "execution_count": null,
   "id": "9af96cb2-3cb6-499b-b2af-6b1d0d6e18e2",
   "metadata": {},
   "outputs": [],
   "source": [
    "plt.figure(figsize=(6,3))\n",
    "plt.imshow(masks1[0])"
   ]
  },
  {
   "cell_type": "code",
   "execution_count": null,
   "id": "6022823c-ba45-4316-98d3-264db6644263",
   "metadata": {},
   "outputs": [],
   "source": [
    "model1 = models['1']\n",
    "model2 = models['2']\n",
    "model3 = models['3']\n",
    "model4 = models['4']"
   ]
  },
  {
   "cell_type": "code",
   "execution_count": null,
   "id": "78cc9029-5fb1-4cbe-b810-856fc8d699c8",
   "metadata": {},
   "outputs": [],
   "source": [
    "prediction1 = model1.predict(images1)\n",
    "prediction2 = model2.predict(images1)\n",
    "prediction3 = model3.predict(images1)\n",
    "prediction4 = model4.predict(images1)"
   ]
  },
  {
   "cell_type": "code",
   "execution_count": null,
   "id": "d33dd5ee-9be4-461a-b2ab-a9de1a1a8d6e",
   "metadata": {},
   "outputs": [],
   "source": [
    "# (prediction1[0]==prediction1[1]).sum()"
   ]
  },
  {
   "cell_type": "code",
   "execution_count": null,
   "id": "8cc334e2-5979-41f2-8290-cedc33870ba9",
   "metadata": {},
   "outputs": [],
   "source": [
    "number_images = 5\n",
    "\n",
    "random_index = np.round(np.random.rand(number_images) * len(prediction3)) + 1\n",
    "print(random_index)\n",
    "\n",
    "for i in range(number_images):\n",
    "    # random_index = 'random_index_' + str(i+1)\n",
    "    # print(random_index)\n",
    "    # file_path_to_image = false_predicted_images['FilePath'][random_index[i]]\n",
    "    # class_id = false_predicted_images['ClassId'][random_index[i]]\n",
    "    # image_id = false_predicted_images['ImageId'][random_index[i]]\n",
    "    # class_id_pred = int(false_predicted_images['ClassId_predicted'][random_index[i]])\n",
    "    \n",
    "    img = prediction3[int(random_index[i])]\n",
    "    plt.figure(figsize=(18, 10))\n",
    "    ax = plt.subplot(number_images, 1, i + 1)\n",
    "    plt.imshow(img)\n",
    "    # plt.title(f'Image ID: {image_id} | True ClassId: {class_id} | Predicted ClassId: {class_id_pred}', fontsize=16);\n",
    "    plt.axis(\"off\")"
   ]
  },
  {
   "cell_type": "code",
   "execution_count": null,
   "id": "a3fbc532-c936-480b-8736-7c877a3c0419",
   "metadata": {},
   "outputs": [],
   "source": [
    "# plt.figure(figsize=(16,3))\n",
    "saved_model = False\n",
    "class_id = 4\n",
    "\n",
    "nrows = 10\n",
    "ncols = 6\n",
    "rows = list(range(nrows))\n",
    "fig, axs = plt.subplots(nrows, ncols, figsize=(ncols*3,2*nrows))\n",
    "\n",
    "# print(axs)\n",
    "\n",
    "if saved_model:\n",
    "    fig.suptitle(f'Performance of Mask Model from saved Model | Epochs: {EPOCHS}', fontsize=16)\n",
    "else:\n",
    "    fig.suptitle(f'Performance of Mask Model from fitted Model | Epochs: {EPOCHS}', fontsize=16)\n",
    "\n",
    "\n",
    "for row, a, b, c, d, e, f in zip(rows, images1, masks1, prediction1, prediction2, prediction3, prediction4):\n",
    "    # ax = plt.subplot(row, ncols, 1+(row-1)*6)\n",
    "    axs[row, 0].imshow(a)\n",
    "    # ax.set_axis_off()\n",
    "    if row == 0:\n",
    "        axs[row, 0].set_title(f'true image')\n",
    "    axs[row, 0].set_ylabel(f'ClassId = {class_id}', fontsize=14)\n",
    "    axs[row, 0].set_xticks([])\n",
    "    axs[row, 0].set_yticks([])\n",
    "    # plt.imshow(a)\n",
    "\n",
    "    # ax = plt.subplot(row,ncols, 2)\n",
    "    axs[row, 1].imshow(b)\n",
    "    if row == 0:\n",
    "        axs[row, 1].set_title('true mask')\n",
    "    axs[row, 1].set_axis_off()\n",
    "    \n",
    "    # plt.imshow(b)\n",
    "\n",
    "    # ax = plt.subplot(row,ncols, 3)\n",
    "    axs[row, 2].imshow(c)\n",
    "    if row == 0:\n",
    "        axs[row, 2].set_title('mask model 1')\n",
    "    axs[row, 2].set_axis_off()\n",
    "    # plt.imshow(c)\n",
    "\n",
    "    # ax = plt.subplot(row,ncols, 4)\n",
    "    axs[row, 3].imshow(d)\n",
    "    if row == 0:\n",
    "        axs[row, 3].set_title('mask model 2')\n",
    "    axs[row, 3].set_axis_off()\n",
    "    # plt.imshow(d)\n",
    "\n",
    "    # ax = plt.subplot(row,ncols, 5)\n",
    "    axs[row, 4].imshow(e)\n",
    "    if row == 0:\n",
    "        axs[row, 4].set_title('mask model 3')\n",
    "    axs[row, 4].set_axis_off()\n",
    "    # plt.imshow(e)\n",
    "\n",
    "    # ax = plt.subplot(row,ncols, 6)\n",
    "    axs[row, 5].imshow(f)\n",
    "    if row == 0:\n",
    "        axs[row, 5].set_title('mask model 4')\n",
    "    axs[row, 5].set_axis_off()\n",
    "    # plt.imshow(f)\n",
    "    #break\n",
    "    if row == nrows:\n",
    "        break"
   ]
  },
  {
   "cell_type": "code",
   "execution_count": null,
   "id": "9f233434-f26d-4c6f-b9f3-1c4c4e9f8810",
   "metadata": {},
   "outputs": [],
   "source": [
    "np.unique(masks1[0])"
   ]
  },
  {
   "cell_type": "code",
   "execution_count": null,
   "id": "1cd0db8e-f470-4250-bd01-d06946d847bd",
   "metadata": {},
   "outputs": [],
   "source": [
    "temp = get_masks(4,1600,256)"
   ]
  },
  {
   "cell_type": "code",
   "execution_count": null,
   "id": "56a2cff2-286e-4079-9383-da48ee035b2c",
   "metadata": {},
   "outputs": [],
   "source": [
    "np.unique(temp[1])"
   ]
  },
  {
   "cell_type": "markdown",
   "id": "63af77d3-b1f2-48c8-883a-565b4c47f5a0",
   "metadata": {},
   "source": [
    "---\n",
    "\n",
    "## Without Function"
   ]
  },
  {
   "cell_type": "markdown",
   "id": "c419e94f-0a83-4e6d-b3f0-436b1f01b9ec",
   "metadata": {},
   "source": [
    "### Defect 1"
   ]
  },
  {
   "cell_type": "code",
   "execution_count": 12,
   "id": "722a39e3-d2c4-4086-84e9-ef6f0f50c90c",
   "metadata": {},
   "outputs": [],
   "source": [
    "size_x=SIZE_X\n",
    "size_y=SIZE_Y\n",
    "metric_for_model='dice'\n",
    "epochs=EPOCHS"
   ]
  },
  {
   "cell_type": "code",
   "execution_count": 13,
   "id": "63909af1-75a1-48bb-8027-ab73ca67e72e",
   "metadata": {},
   "outputs": [
    {
     "name": "stderr",
     "output_type": "stream",
     "text": [
      "2022-02-22 23:11:13.503827: I tensorflow/core/common_runtime/pluggable_device/pluggable_device_factory.cc:305] Could not identify NUMA node of platform GPU ID 0, defaulting to 0. Your kernel may not have been built with NUMA support.\n",
      "2022-02-22 23:11:13.503922: I tensorflow/core/common_runtime/pluggable_device/pluggable_device_factory.cc:271] Created TensorFlow device (/job:localhost/replica:0/task:0/device:GPU:0 with 0 MB memory) -> physical PluggableDevice (device: 0, name: METAL, pci bus id: <undefined>)\n"
     ]
    },
    {
     "name": "stdout",
     "output_type": "stream",
     "text": [
      "Metal device set to: Apple M1\n",
      "beginning training with masks\n"
     ]
    },
    {
     "name": "stderr",
     "output_type": "stream",
     "text": [
      "2022-02-22 23:11:15.951194: W tensorflow/core/platform/profile_utils/cpu_utils.cc:128] Failed to get CPU frequency: 0 Hz\n"
     ]
    },
    {
     "name": "stdout",
     "output_type": "stream",
     "text": [
      "Epoch 1/20\n"
     ]
    },
    {
     "name": "stderr",
     "output_type": "stream",
     "text": [
      "2022-02-22 23:11:22.334508: I tensorflow/core/grappler/optimizers/custom_graph_optimizer_registry.cc:112] Plugin optimizer for device_type GPU is enabled.\n"
     ]
    },
    {
     "name": "stdout",
     "output_type": "stream",
     "text": [
      "32/32 [==============================] - ETA: 0s - loss: 0.7250 - dice_coef: 0.2819 "
     ]
    },
    {
     "name": "stderr",
     "output_type": "stream",
     "text": [
      "2022-02-22 23:20:03.081242: I tensorflow/core/grappler/optimizers/custom_graph_optimizer_registry.cc:112] Plugin optimizer for device_type GPU is enabled.\n"
     ]
    },
    {
     "name": "stdout",
     "output_type": "stream",
     "text": [
      "32/32 [==============================] - 542s 16s/step - loss: 0.7250 - dice_coef: 0.2819 - val_loss: 0.9766 - val_dice_coef: 0.0231\n",
      "Epoch 2/20\n",
      "32/32 [==============================] - 514s 16s/step - loss: 0.4634 - dice_coef: 0.5339 - val_loss: 0.9633 - val_dice_coef: 0.0363\n",
      "Epoch 3/20\n",
      "32/32 [==============================] - 516s 16s/step - loss: 0.4137 - dice_coef: 0.5860 - val_loss: 0.9387 - val_dice_coef: 0.0605\n",
      "Epoch 4/20\n",
      "32/32 [==============================] - 522s 16s/step - loss: 0.3922 - dice_coef: 0.6068 - val_loss: 0.9048 - val_dice_coef: 0.0934\n",
      "Epoch 5/20\n",
      "32/32 [==============================] - 513s 16s/step - loss: 0.3636 - dice_coef: 0.6360 - val_loss: 0.6198 - val_dice_coef: 0.3764\n",
      "Epoch 6/20\n",
      "32/32 [==============================] - 516s 16s/step - loss: 0.3485 - dice_coef: 0.6528 - val_loss: 0.5125 - val_dice_coef: 0.4868\n",
      "Epoch 7/20\n",
      "32/32 [==============================] - 521s 16s/step - loss: 0.3183 - dice_coef: 0.6806 - val_loss: 0.4413 - val_dice_coef: 0.5595\n",
      "Epoch 8/20\n",
      "32/32 [==============================] - 508s 16s/step - loss: 0.3067 - dice_coef: 0.6939 - val_loss: 0.4388 - val_dice_coef: 0.5633\n",
      "Epoch 9/20\n",
      "32/32 [==============================] - 516s 16s/step - loss: 0.2961 - dice_coef: 0.7046 - val_loss: 0.4529 - val_dice_coef: 0.5486\n",
      "Epoch 10/20\n",
      "32/32 [==============================] - 516s 16s/step - loss: 0.2773 - dice_coef: 0.7211 - val_loss: 0.4246 - val_dice_coef: 0.5753\n",
      "Epoch 11/20\n",
      "32/32 [==============================] - 514s 16s/step - loss: 0.2654 - dice_coef: 0.7356 - val_loss: 0.4399 - val_dice_coef: 0.5605\n",
      "Epoch 12/20\n",
      "32/32 [==============================] - 513s 16s/step - loss: 0.2484 - dice_coef: 0.7513 - val_loss: 0.5174 - val_dice_coef: 0.4810\n",
      "Epoch 13/20\n",
      "32/32 [==============================] - 507s 16s/step - loss: 0.2355 - dice_coef: 0.7645 - val_loss: 0.5481 - val_dice_coef: 0.4514\n",
      "Epoch 14/20\n",
      "32/32 [==============================] - 518s 16s/step - loss: 0.2211 - dice_coef: 0.7791 - val_loss: 0.5028 - val_dice_coef: 0.4966\n",
      "Epoch 15/20\n",
      "32/32 [==============================] - 524s 16s/step - loss: 0.2104 - dice_coef: 0.7890 - val_loss: 0.5058 - val_dice_coef: 0.4930\n",
      "Epoch 16/20\n",
      "32/32 [==============================] - 513s 16s/step - loss: 0.2046 - dice_coef: 0.7946 - val_loss: 0.5076 - val_dice_coef: 0.4915\n",
      "Epoch 17/20\n",
      "32/32 [==============================] - 516s 16s/step - loss: 0.1981 - dice_coef: 0.8014 - val_loss: 0.4228 - val_dice_coef: 0.5766\n",
      "Epoch 18/20\n",
      "32/32 [==============================] - 528s 17s/step - loss: 0.1912 - dice_coef: 0.8078 - val_loss: 0.4523 - val_dice_coef: 0.5465\n",
      "Epoch 19/20\n",
      "32/32 [==============================] - 518s 16s/step - loss: 0.1848 - dice_coef: 0.8134 - val_loss: 0.4336 - val_dice_coef: 0.5651\n",
      "Epoch 20/20\n",
      "32/32 [==============================] - 525s 16s/step - loss: 0.1756 - dice_coef: 0.8220 - val_loss: 0.4878 - val_dice_coef: 0.5109\n"
     ]
    }
   ],
   "source": [
    "tf.keras.backend.clear_session()\n",
    "\n",
    "train_images, train_masks = data_preparation_cnn.get_resized_image_and_mask_lists(class_id=1, \n",
    "                                                                              size_x=size_x, \n",
    "                                                                              size_y=size_y)\n",
    "\n",
    "# build input variables for model\n",
    "x_train, y_train, x_val, y_val = prepare_input_variables(1, \n",
    "                                                         train_images, \n",
    "                                                         train_masks, \n",
    "                                                         size_x, \n",
    "                                                         size_y)\n",
    "\n",
    "# create a compiled model\n",
    "model1 = build_compiled_model(size_x, size_y, metric_for_model)\n",
    "\n",
    "print(f'beginning training with masks')\n",
    "# fit the model\n",
    "history1 = model1.fit(x_train, \n",
    "                    y_train,\n",
    "                    batch_size=32, \n",
    "                    epochs=epochs,\n",
    "                    verbose=True,\n",
    "                    validation_data=(x_val, y_val)\n",
    "                   )"
   ]
  },
  {
   "cell_type": "markdown",
   "id": "46fb0803-068f-4dc9-bed4-f17d2c90d346",
   "metadata": {},
   "source": [
    "### Defect 2"
   ]
  },
  {
   "cell_type": "code",
   "execution_count": 14,
   "id": "b81824ff-45ca-407d-8b6a-e583c4abb2c6",
   "metadata": {},
   "outputs": [
    {
     "name": "stdout",
     "output_type": "stream",
     "text": [
      "beginning training with masks\n",
      "Epoch 1/20\n"
     ]
    },
    {
     "name": "stderr",
     "output_type": "stream",
     "text": [
      "2022-02-23 02:04:13.195374: I tensorflow/core/grappler/optimizers/custom_graph_optimizer_registry.cc:112] Plugin optimizer for device_type GPU is enabled.\n"
     ]
    },
    {
     "name": "stdout",
     "output_type": "stream",
     "text": [
      "32/32 [==============================] - ETA: 0s - loss: 0.6860 - dice_coef: 0.3173 "
     ]
    },
    {
     "name": "stderr",
     "output_type": "stream",
     "text": [
      "2022-02-23 02:12:55.548576: I tensorflow/core/grappler/optimizers/custom_graph_optimizer_registry.cc:112] Plugin optimizer for device_type GPU is enabled.\n"
     ]
    },
    {
     "name": "stdout",
     "output_type": "stream",
     "text": [
      "32/32 [==============================] - 536s 16s/step - loss: 0.6860 - dice_coef: 0.3173 - val_loss: 0.9641 - val_dice_coef: 0.0347\n",
      "Epoch 2/20\n",
      "32/32 [==============================] - 525s 16s/step - loss: 0.4461 - dice_coef: 0.5572 - val_loss: 0.9167 - val_dice_coef: 0.0809\n",
      "Epoch 3/20\n",
      "32/32 [==============================] - 532s 17s/step - loss: 0.3757 - dice_coef: 0.6259 - val_loss: 0.6708 - val_dice_coef: 0.3241\n",
      "Epoch 4/20\n",
      "32/32 [==============================] - 530s 17s/step - loss: 0.3283 - dice_coef: 0.6708 - val_loss: 0.4923 - val_dice_coef: 0.4977\n",
      "Epoch 5/20\n",
      "32/32 [==============================] - 535s 17s/step - loss: 0.2981 - dice_coef: 0.7011 - val_loss: 0.4687 - val_dice_coef: 0.5211\n",
      "Epoch 6/20\n",
      "32/32 [==============================] - 530s 16s/step - loss: 0.2590 - dice_coef: 0.7412 - val_loss: 0.4901 - val_dice_coef: 0.5023\n",
      "Epoch 7/20\n",
      "32/32 [==============================] - 527s 16s/step - loss: 0.2438 - dice_coef: 0.7536 - val_loss: 0.5528 - val_dice_coef: 0.4177\n",
      "Epoch 8/20\n",
      "32/32 [==============================] - 534s 17s/step - loss: 0.2211 - dice_coef: 0.7785 - val_loss: 0.5505 - val_dice_coef: 0.4411\n",
      "Epoch 9/20\n",
      "32/32 [==============================] - 538s 17s/step - loss: 0.2079 - dice_coef: 0.7912 - val_loss: 0.4917 - val_dice_coef: 0.5015\n",
      "Epoch 10/20\n",
      "32/32 [==============================] - 535s 17s/step - loss: 0.1911 - dice_coef: 0.8094 - val_loss: 0.4831 - val_dice_coef: 0.5144\n",
      "Epoch 11/20\n",
      "32/32 [==============================] - 546s 17s/step - loss: 0.1777 - dice_coef: 0.8216 - val_loss: 0.5716 - val_dice_coef: 0.4122\n",
      "Epoch 12/20\n",
      "32/32 [==============================] - 528s 17s/step - loss: 0.1666 - dice_coef: 0.8335 - val_loss: 0.4517 - val_dice_coef: 0.5388\n",
      "Epoch 13/20\n",
      "32/32 [==============================] - 536s 17s/step - loss: 0.1538 - dice_coef: 0.8447 - val_loss: 0.4681 - val_dice_coef: 0.5188\n",
      "Epoch 14/20\n",
      "32/32 [==============================] - 545s 17s/step - loss: 0.1469 - dice_coef: 0.8535 - val_loss: 0.4216 - val_dice_coef: 0.5697\n",
      "Epoch 15/20\n",
      "32/32 [==============================] - 535s 17s/step - loss: 0.1381 - dice_coef: 0.8622 - val_loss: 0.4285 - val_dice_coef: 0.5580\n",
      "Epoch 16/20\n",
      "32/32 [==============================] - 533s 17s/step - loss: 0.1253 - dice_coef: 0.8743 - val_loss: 0.4214 - val_dice_coef: 0.5759\n",
      "Epoch 17/20\n",
      "32/32 [==============================] - 542s 17s/step - loss: 0.1242 - dice_coef: 0.8753 - val_loss: 0.4146 - val_dice_coef: 0.5779\n",
      "Epoch 18/20\n",
      "32/32 [==============================] - 544s 17s/step - loss: 0.1160 - dice_coef: 0.8842 - val_loss: 0.4055 - val_dice_coef: 0.5929\n",
      "Epoch 19/20\n",
      "32/32 [==============================] - 539s 17s/step - loss: 0.1092 - dice_coef: 0.8914 - val_loss: 0.4042 - val_dice_coef: 0.5943\n",
      "Epoch 20/20\n",
      "32/32 [==============================] - 540s 17s/step - loss: 0.1029 - dice_coef: 0.8967 - val_loss: 0.4209 - val_dice_coef: 0.5852\n"
     ]
    }
   ],
   "source": [
    "tf.keras.backend.clear_session()\n",
    "train_images, train_masks = data_preparation_cnn.get_resized_image_and_mask_lists(class_id=2, \n",
    "                                                                              size_x=size_x, \n",
    "                                                                              size_y=size_y)\n",
    "\n",
    "# build input variables for model\n",
    "x_train, y_train, x_val, y_val = prepare_input_variables(2, \n",
    "                                                         train_images, \n",
    "                                                         train_masks, \n",
    "                                                         size_x, \n",
    "                                                         size_y)\n",
    "\n",
    "# create a compiled model\n",
    "model2 = build_compiled_model(size_x, size_y, metric_for_model)\n",
    "\n",
    "print(f'beginning training with masks')\n",
    "# fit the model\n",
    "history2 = model2.fit(x_train, \n",
    "                    y_train,\n",
    "                    batch_size=32, \n",
    "                    epochs=epochs,\n",
    "                    verbose=True,\n",
    "                    validation_data=(x_val, y_val)\n",
    "                   )"
   ]
  },
  {
   "cell_type": "markdown",
   "id": "2fb65d0a-d2a0-4f1c-b922-203efdd99506",
   "metadata": {},
   "source": [
    "### Defect 3"
   ]
  },
  {
   "cell_type": "code",
   "execution_count": 15,
   "id": "9a06cab4-6175-4c34-baef-36380bceab00",
   "metadata": {},
   "outputs": [
    {
     "name": "stdout",
     "output_type": "stream",
     "text": [
      "beginning training with masks\n",
      "Epoch 1/20\n"
     ]
    },
    {
     "name": "stderr",
     "output_type": "stream",
     "text": [
      "2022-02-23 05:02:59.164162: I tensorflow/core/grappler/optimizers/custom_graph_optimizer_registry.cc:112] Plugin optimizer for device_type GPU is enabled.\n"
     ]
    },
    {
     "name": "stdout",
     "output_type": "stream",
     "text": [
      "32/32 [==============================] - ETA: 0s - loss: 0.5454 - dice_coef: 0.4578 "
     ]
    },
    {
     "name": "stderr",
     "output_type": "stream",
     "text": [
      "2022-02-23 05:12:18.132207: I tensorflow/core/grappler/optimizers/custom_graph_optimizer_registry.cc:112] Plugin optimizer for device_type GPU is enabled.\n"
     ]
    },
    {
     "name": "stdout",
     "output_type": "stream",
     "text": [
      "32/32 [==============================] - 640s 20s/step - loss: 0.5454 - dice_coef: 0.4578 - val_loss: 0.8822 - val_dice_coef: 0.1171\n",
      "Epoch 2/20\n",
      "32/32 [==============================] - 606s 19s/step - loss: 0.3939 - dice_coef: 0.6084 - val_loss: 0.7993 - val_dice_coef: 0.1997\n",
      "Epoch 3/20\n",
      "32/32 [==============================] - 604s 19s/step - loss: 0.3598 - dice_coef: 0.6419 - val_loss: 0.5919 - val_dice_coef: 0.4075\n",
      "Epoch 4/20\n",
      "32/32 [==============================] - 614s 19s/step - loss: 0.3339 - dice_coef: 0.6669 - val_loss: 0.3914 - val_dice_coef: 0.6074\n",
      "Epoch 5/20\n",
      "32/32 [==============================] - 608s 19s/step - loss: 0.3061 - dice_coef: 0.6951 - val_loss: 0.3770 - val_dice_coef: 0.6214\n",
      "Epoch 6/20\n",
      "32/32 [==============================] - 614s 19s/step - loss: 0.2890 - dice_coef: 0.7086 - val_loss: 0.4001 - val_dice_coef: 0.5984\n",
      "Epoch 7/20\n",
      "32/32 [==============================] - 610s 19s/step - loss: 0.2806 - dice_coef: 0.7221 - val_loss: 0.3627 - val_dice_coef: 0.6354\n",
      "Epoch 8/20\n",
      "32/32 [==============================] - 618s 19s/step - loss: 0.2718 - dice_coef: 0.7229 - val_loss: 0.4243 - val_dice_coef: 0.5729\n",
      "Epoch 9/20\n",
      "32/32 [==============================] - 604s 19s/step - loss: 0.2625 - dice_coef: 0.7358 - val_loss: 0.4318 - val_dice_coef: 0.5657\n",
      "Epoch 10/20\n",
      "32/32 [==============================] - 617s 19s/step - loss: 0.2459 - dice_coef: 0.7525 - val_loss: 0.4570 - val_dice_coef: 0.5412\n",
      "Epoch 11/20\n",
      "32/32 [==============================] - 619s 19s/step - loss: 0.2416 - dice_coef: 0.7597 - val_loss: 0.5224 - val_dice_coef: 0.4758\n",
      "Epoch 12/20\n",
      "32/32 [==============================] - 605s 19s/step - loss: 0.2439 - dice_coef: 0.7516 - val_loss: 0.4290 - val_dice_coef: 0.5691\n",
      "Epoch 13/20\n",
      "32/32 [==============================] - 604s 19s/step - loss: 0.2268 - dice_coef: 0.7721 - val_loss: 0.4116 - val_dice_coef: 0.5881\n",
      "Epoch 14/20\n",
      "32/32 [==============================] - 618s 19s/step - loss: 0.2335 - dice_coef: 0.7660 - val_loss: 0.4339 - val_dice_coef: 0.5651\n",
      "Epoch 15/20\n",
      "32/32 [==============================] - 608s 19s/step - loss: 0.2227 - dice_coef: 0.7751 - val_loss: 0.3338 - val_dice_coef: 0.6648\n",
      "Epoch 16/20\n",
      "32/32 [==============================] - 611s 19s/step - loss: 0.2096 - dice_coef: 0.7895 - val_loss: 0.3944 - val_dice_coef: 0.6037\n",
      "Epoch 17/20\n",
      "32/32 [==============================] - 618s 19s/step - loss: 0.2089 - dice_coef: 0.7918 - val_loss: 0.3587 - val_dice_coef: 0.6406\n",
      "Epoch 18/20\n",
      "32/32 [==============================] - 606s 19s/step - loss: 0.1983 - dice_coef: 0.8013 - val_loss: 0.3243 - val_dice_coef: 0.6743\n",
      "Epoch 19/20\n",
      "32/32 [==============================] - 614s 19s/step - loss: 0.1954 - dice_coef: 0.8054 - val_loss: 0.3119 - val_dice_coef: 0.6865\n",
      "Epoch 20/20\n",
      "32/32 [==============================] - 607s 19s/step - loss: 0.1953 - dice_coef: 0.7980 - val_loss: 0.3392 - val_dice_coef: 0.6598\n"
     ]
    }
   ],
   "source": [
    "tf.keras.backend.clear_session()\n",
    "train_images, train_masks = data_preparation_cnn.get_resized_image_and_mask_lists(class_id=3, \n",
    "                                                                              size_x=size_x, \n",
    "                                                                              size_y=size_y)\n",
    "\n",
    "# build input variables for model\n",
    "x_train, y_train, x_val, y_val = prepare_input_variables(3, \n",
    "                                                         train_images, \n",
    "                                                         train_masks, \n",
    "                                                         size_x, \n",
    "                                                         size_y)\n",
    "\n",
    "# create a compiled model\n",
    "model3 = build_compiled_model(size_x, size_y, metric_for_model)\n",
    "\n",
    "print(f'beginning training with masks')\n",
    "# fit the model\n",
    "history3 = model3.fit(x_train, \n",
    "                    y_train,\n",
    "                    batch_size=32, \n",
    "                    epochs=epochs,\n",
    "                    verbose=True,\n",
    "                    validation_data=(x_val, y_val)\n",
    "                   )"
   ]
  },
  {
   "cell_type": "markdown",
   "id": "c2ba17ca-75b9-492b-9881-7983deb85a1b",
   "metadata": {},
   "source": [
    "### Defect 4"
   ]
  },
  {
   "cell_type": "code",
   "execution_count": 16,
   "id": "7e2fba2d-0a4e-42b2-b691-31eacdba5f40",
   "metadata": {},
   "outputs": [
    {
     "name": "stdout",
     "output_type": "stream",
     "text": [
      "beginning training with masks\n",
      "Epoch 1/20\n"
     ]
    },
    {
     "name": "stderr",
     "output_type": "stream",
     "text": [
      "2022-02-23 08:27:18.294433: I tensorflow/core/grappler/optimizers/custom_graph_optimizer_registry.cc:112] Plugin optimizer for device_type GPU is enabled.\n"
     ]
    },
    {
     "name": "stdout",
     "output_type": "stream",
     "text": [
      "32/32 [==============================] - ETA: 0s - loss: 0.3821 - dice_coef: 0.6188 "
     ]
    },
    {
     "name": "stderr",
     "output_type": "stream",
     "text": [
      "2022-02-23 08:36:54.484135: I tensorflow/core/grappler/optimizers/custom_graph_optimizer_registry.cc:112] Plugin optimizer for device_type GPU is enabled.\n"
     ]
    },
    {
     "name": "stdout",
     "output_type": "stream",
     "text": [
      "32/32 [==============================] - 601s 18s/step - loss: 0.3821 - dice_coef: 0.6188 - val_loss: 0.8490 - val_dice_coef: 0.1486\n",
      "Epoch 2/20\n",
      "32/32 [==============================] - 573s 18s/step - loss: 0.2458 - dice_coef: 0.7530 - val_loss: 0.8293 - val_dice_coef: 0.1683\n",
      "Epoch 3/20\n",
      "32/32 [==============================] - 575s 18s/step - loss: 0.2148 - dice_coef: 0.7837 - val_loss: 0.3435 - val_dice_coef: 0.6568\n",
      "Epoch 4/20\n",
      "32/32 [==============================] - 567s 18s/step - loss: 0.1962 - dice_coef: 0.8022 - val_loss: 0.3101 - val_dice_coef: 0.6911\n",
      "Epoch 5/20\n",
      "32/32 [==============================] - 574s 18s/step - loss: 0.1828 - dice_coef: 0.8180 - val_loss: 0.3367 - val_dice_coef: 0.6641\n",
      "Epoch 6/20\n",
      "32/32 [==============================] - 574s 18s/step - loss: 0.1721 - dice_coef: 0.8265 - val_loss: 0.2722 - val_dice_coef: 0.7292\n",
      "Epoch 7/20\n",
      "32/32 [==============================] - 579s 18s/step - loss: 0.1653 - dice_coef: 0.8357 - val_loss: 0.2813 - val_dice_coef: 0.7189\n",
      "Epoch 8/20\n",
      "32/32 [==============================] - 570s 18s/step - loss: 0.1606 - dice_coef: 0.8397 - val_loss: 0.2529 - val_dice_coef: 0.7475\n",
      "Epoch 9/20\n",
      "32/32 [==============================] - 569s 18s/step - loss: 0.1545 - dice_coef: 0.8451 - val_loss: 0.2880 - val_dice_coef: 0.7121\n",
      "Epoch 10/20\n",
      "32/32 [==============================] - 566s 18s/step - loss: 0.1449 - dice_coef: 0.8535 - val_loss: 0.2634 - val_dice_coef: 0.7367\n",
      "Epoch 11/20\n",
      "32/32 [==============================] - 572s 18s/step - loss: 0.1411 - dice_coef: 0.8569 - val_loss: 0.2726 - val_dice_coef: 0.7276\n",
      "Epoch 12/20\n",
      "32/32 [==============================] - 580s 18s/step - loss: 0.1378 - dice_coef: 0.8602 - val_loss: 0.2884 - val_dice_coef: 0.7131\n",
      "Epoch 13/20\n",
      "32/32 [==============================] - 568s 18s/step - loss: 0.1373 - dice_coef: 0.8610 - val_loss: 0.2387 - val_dice_coef: 0.7614\n",
      "Epoch 14/20\n",
      "32/32 [==============================] - 587s 18s/step - loss: 0.1328 - dice_coef: 0.8656 - val_loss: 0.2477 - val_dice_coef: 0.7530\n",
      "Epoch 15/20\n",
      "32/32 [==============================] - 581s 18s/step - loss: 0.1240 - dice_coef: 0.8750 - val_loss: 0.2435 - val_dice_coef: 0.7559\n",
      "Epoch 16/20\n",
      "32/32 [==============================] - 586s 18s/step - loss: 0.1217 - dice_coef: 0.8783 - val_loss: 0.2505 - val_dice_coef: 0.7489\n",
      "Epoch 17/20\n",
      "32/32 [==============================] - 570s 18s/step - loss: 0.1159 - dice_coef: 0.8836 - val_loss: 0.2654 - val_dice_coef: 0.7323\n",
      "Epoch 18/20\n",
      "32/32 [==============================] - 567s 18s/step - loss: 0.1154 - dice_coef: 0.8855 - val_loss: 0.2523 - val_dice_coef: 0.7451\n",
      "Epoch 19/20\n",
      "32/32 [==============================] - 566s 18s/step - loss: 0.1109 - dice_coef: 0.8891 - val_loss: 0.2674 - val_dice_coef: 0.7295\n",
      "Epoch 20/20\n",
      "32/32 [==============================] - 573s 18s/step - loss: 0.1040 - dice_coef: 0.8925 - val_loss: 0.2565 - val_dice_coef: 0.7419\n"
     ]
    }
   ],
   "source": [
    "tf.keras.backend.clear_session()\n",
    "train_images, train_masks = data_preparation_cnn.get_resized_image_and_mask_lists(class_id=4, \n",
    "                                                                              size_x=size_x, \n",
    "                                                                              size_y=size_y)\n",
    "\n",
    "# build input variables for model\n",
    "x_train, y_train, x_val, y_val = prepare_input_variables(4, \n",
    "                                                         train_images, \n",
    "                                                         train_masks, \n",
    "                                                         size_x, \n",
    "                                                         size_y)\n",
    "\n",
    "# create a compiled model\n",
    "model4 = build_compiled_model(size_x, size_y, metric_for_model)\n",
    "\n",
    "print(f'beginning training with masks')\n",
    "# fit the model\n",
    "history4 = model4.fit(x_train, \n",
    "                    y_train,\n",
    "                    batch_size=32, \n",
    "                    epochs=epochs,\n",
    "                    verbose=True,\n",
    "                    validation_data=(x_val, y_val)\n",
    "                   )"
   ]
  },
  {
   "cell_type": "code",
   "execution_count": null,
   "id": "85df8078-4c85-4460-bc4d-58e7d198ad9a",
   "metadata": {},
   "outputs": [],
   "source": [
    "plt.imshow(prediction4_[0])"
   ]
  },
  {
   "cell_type": "code",
   "execution_count": 358,
   "id": "2026d29c-4a97-4a33-891b-b508cbe5de56",
   "metadata": {},
   "outputs": [],
   "source": [
    "preprocess_input = sm.get_preprocessing('efficientnetb5')\n",
    "images2 = preprocess_input(get_images(1,SIZE_X,SIZE_Y))\n",
    "images2_ = get_images(1,SIZE_X,SIZE_Y)\n",
    "masks2 = get_masks(1,SIZE_X,SIZE_Y)"
   ]
  },
  {
   "cell_type": "code",
   "execution_count": 359,
   "id": "ebfdeb15-5e05-4de0-81ab-47ed470c8edb",
   "metadata": {},
   "outputs": [
    {
     "name": "stderr",
     "output_type": "stream",
     "text": [
      "2022-02-24 13:23:03.717082: I tensorflow/core/grappler/optimizers/custom_graph_optimizer_registry.cc:112] Plugin optimizer for device_type GPU is enabled.\n",
      "2022-02-24 13:23:54.265822: I tensorflow/core/grappler/optimizers/custom_graph_optimizer_registry.cc:112] Plugin optimizer for device_type GPU is enabled.\n",
      "2022-02-24 13:24:40.201069: I tensorflow/core/grappler/optimizers/custom_graph_optimizer_registry.cc:112] Plugin optimizer for device_type GPU is enabled.\n",
      "2022-02-24 13:25:27.504270: I tensorflow/core/grappler/optimizers/custom_graph_optimizer_registry.cc:112] Plugin optimizer for device_type GPU is enabled.\n"
     ]
    }
   ],
   "source": [
    "prediction1_ = model1.predict(images2)\n",
    "prediction2_ = model2.predict(images2)\n",
    "prediction3_ = model3.predict(images2)\n",
    "prediction4_ = model4.predict(images2)"
   ]
  },
  {
   "cell_type": "code",
   "execution_count": null,
   "id": "0cf6ea17-9aa6-4696-bd92-c329fc929cc3",
   "metadata": {},
   "outputs": [],
   "source": [
    "prediction1_.shape"
   ]
  },
  {
   "cell_type": "code",
   "execution_count": 360,
   "id": "fb337a5c-1d6e-4f4e-b7f2-97d3d85ef7da",
   "metadata": {},
   "outputs": [
    {
     "data": {
      "image/png": "[encoded data removed]",
      "text/plain": [
       "<Figure size 1296x1440 with 60 Axes>"
      ]
     },
     "metadata": {
      "needs_background": "light"
     },
     "output_type": "display_data"
    }
   ],
   "source": [
    "# plt.figure(figsize=(16,3))\n",
    "saved_model = False\n",
    "class_id = 1\n",
    "\n",
    "nrows = 10\n",
    "ncols = 6\n",
    "rows = list(range(nrows))\n",
    "fig, axs = plt.subplots(nrows, ncols, figsize=(ncols*3,2*nrows))\n",
    "\n",
    "# print(axs)\n",
    "\n",
    "if saved_model:\n",
    "    fig.suptitle(f'Performance of Mask Model from saved Model | Epochs: {EPOCHS}', fontsize=16)\n",
    "else:\n",
    "    fig.suptitle(f'Performance of Mask Model from fitted Model | Epochs: {EPOCHS}', fontsize=16)\n",
    "\n",
    "\n",
    "for row, a, b, c, d, e, f in zip(rows, images2_, masks2, prediction1_, prediction2_, prediction3_, prediction4_):\n",
    "    # ax = plt.subplot(row, ncols, 1+(row-1)*6)\n",
    "    axs[row, 0].imshow(a)\n",
    "    # ax.set_axis_off()\n",
    "    if row == 0:\n",
    "        axs[row, 0].set_title(f'true image')\n",
    "    axs[row, 0].set_ylabel(f'ClassId = {class_id}', fontsize=14)\n",
    "    axs[row, 0].set_xticks([])\n",
    "    axs[row, 0].set_yticks([])\n",
    "    # plt.imshow(a)\n",
    "\n",
    "    # ax = plt.subplot(row,ncols, 2)\n",
    "    axs[row, 1].imshow(b)\n",
    "    if row == 0:\n",
    "        axs[row, 1].set_title('true mask')\n",
    "    axs[row, 1].set_axis_off()\n",
    "    \n",
    "    # plt.imshow(b)\n",
    "\n",
    "    # ax = plt.subplot(row,ncols, 3)\n",
    "    axs[row, 2].imshow(c)\n",
    "    if row == 0:\n",
    "        axs[row, 2].set_title('mask model 1')\n",
    "    axs[row, 2].set_axis_off()\n",
    "    # plt.imshow(c)\n",
    "\n",
    "    # ax = plt.subplot(row,ncols, 4)\n",
    "    axs[row, 3].imshow(d)\n",
    "    if row == 0:\n",
    "        axs[row, 3].set_title('mask model 2')\n",
    "    axs[row, 3].set_axis_off()\n",
    "    # plt.imshow(d)\n",
    "\n",
    "    # ax = plt.subplot(row,ncols, 5)\n",
    "    axs[row, 4].imshow(e)\n",
    "    if row == 0:\n",
    "        axs[row, 4].set_title('mask model 3')\n",
    "    axs[row, 4].set_axis_off()\n",
    "    # plt.imshow(e)\n",
    "\n",
    "    # ax = plt.subplot(row,ncols, 6)\n",
    "    axs[row, 5].imshow(f)\n",
    "    if row == 0:\n",
    "        axs[row, 5].set_title('mask model 4')\n",
    "    axs[row, 5].set_axis_off()\n",
    "    # plt.imshow(f)\n",
    "    #break\n",
    "    if row == nrows:\n",
    "        break"
   ]
  },
  {
   "cell_type": "code",
   "execution_count": 361,
   "id": "7128929f-c98a-457a-887c-726c853c3eac",
   "metadata": {},
   "outputs": [
    {
     "name": "stdout",
     "output_type": "stream",
     "text": [
      "(128, 512, 3)\n"
     ]
    },
    {
     "data": {
      "image/png": "[encoded data removed]",
      "text/plain": [
       "<Figure size 432x288 with 1 Axes>"
      ]
     },
     "metadata": {},
     "output_type": "display_data"
    }
   ],
   "source": [
    "p_img = images2_[1]\n",
    "plt.imshow(p_img)\n",
    "\n",
    "print(p_img.shape)\n",
    "plt.xticks([])\n",
    "plt.yticks([])\n",
    "plt.imsave('plot_images/img_class3.png', p_img);"
   ]
  },
  {
   "cell_type": "code",
   "execution_count": 362,
   "id": "1ffaee1f-2a72-478e-aec9-23d6009518bf",
   "metadata": {},
   "outputs": [
    {
     "name": "stdout",
     "output_type": "stream",
     "text": [
      "(128, 512, 3)\n"
     ]
    },
    {
     "data": {
      "image/png": "[encoded data removed]",
      "text/plain": [
       "<Figure size 432x288 with 1 Axes>"
      ]
     },
     "metadata": {},
     "output_type": "display_data"
    }
   ],
   "source": [
    "mask = masks2[1]\n",
    "plt.imshow(mask)\n",
    "\n",
    "print(p_img.shape)\n",
    "plt.xticks([])\n",
    "plt.yticks([])\n",
    "plt.imsave('plot_images/mask_class3.png', mask);"
   ]
  },
  {
   "cell_type": "code",
   "execution_count": 363,
   "id": "8a51a1c6-467c-4601-9d90-7f4bf6ebda98",
   "metadata": {},
   "outputs": [
    {
     "name": "stdout",
     "output_type": "stream",
     "text": [
      "(128, 512, 1)\n"
     ]
    },
    {
     "data": {
      "image/png": "[encoded data removed]",
      "text/plain": [
       "<Figure size 432x288 with 1 Axes>"
      ]
     },
     "metadata": {},
     "output_type": "display_data"
    }
   ],
   "source": [
    "p_pred1 = prediction1_[1]\n",
    "plt.imshow(p_pred1)\n",
    "print(p_pred1.shape)\n",
    "plt.xticks([])\n",
    "plt.yticks([])\n",
    "plt.savefig('plot_images/mask_class3_model1.png', bbox_inches='tight',pad_inches=0);"
   ]
  },
  {
   "cell_type": "code",
   "execution_count": 364,
   "id": "ac243581-7ae1-4ec9-a813-35ac79c8e000",
   "metadata": {},
   "outputs": [
    {
     "data": {
      "image/png": "[encoded data removed]",
      "text/plain": [
       "<Figure size 432x288 with 1 Axes>"
      ]
     },
     "metadata": {},
     "output_type": "display_data"
    }
   ],
   "source": [
    "p_pred2 = prediction2_[1]\n",
    "plt.imshow(p_pred2)\n",
    "plt.xticks([])\n",
    "plt.yticks([])\n",
    "plt.savefig('plot_images/mask_class3_model2.png', bbox_inches='tight',pad_inches=0);"
   ]
  },
  {
   "cell_type": "code",
   "execution_count": 365,
   "id": "0a810e96-e1ea-4e62-9fcd-f7222be8e48e",
   "metadata": {},
   "outputs": [
    {
     "data": {
      "image/png": "[encoded data removed]",
      "text/plain": [
       "<Figure size 432x288 with 1 Axes>"
      ]
     },
     "metadata": {},
     "output_type": "display_data"
    }
   ],
   "source": [
    "p_pred3 = prediction3_[1]\n",
    "plt.imshow(p_pred3)\n",
    "plt.xticks([])\n",
    "plt.yticks([])\n",
    "plt.savefig('plot_images/mask_class3_model3.png', bbox_inches='tight',pad_inches=0);"
   ]
  },
  {
   "cell_type": "code",
   "execution_count": 366,
   "id": "fdcdc0a6-6186-4c35-a7bb-71dcdac5c949",
   "metadata": {},
   "outputs": [
    {
     "data": {
      "image/png": "[encoded data removed]",
      "text/plain": [
       "<Figure size 432x288 with 1 Axes>"
      ]
     },
     "metadata": {},
     "output_type": "display_data"
    }
   ],
   "source": [
    "p_pred4 = prediction4_[1]\n",
    "plt.imshow(p_pred4)\n",
    "plt.xticks([])\n",
    "plt.yticks([])\n",
    "plt.savefig('plot_images/mask_class3_model4.png', bbox_inches='tight',pad_inches=0);"
   ]
  },
  {
   "cell_type": "code",
   "execution_count": 270,
   "id": "3036a770-50f5-4a05-a4e2-a3a6e8bbf016",
   "metadata": {},
   "outputs": [],
   "source": [
    "model1.save_weights('models/class_1_20e_LR005.h5')\n",
    "model2.save_weights('models/class_2_20e_LR005.h5')\n",
    "model3.save_weights('models/class_3_20e_LR005.h5')\n",
    "model4.save_weights('models/class_4_20e_LR005.h5')"
   ]
  },
  {
   "cell_type": "code",
   "execution_count": 177,
   "id": "3b2401dd-6a89-44c6-b2a7-47fb5828c486",
   "metadata": {},
   "outputs": [
    {
     "data": {
      "image/png": "[encoded data removed]",
      "text/plain": [
       "<Figure size 432x288 with 1 Axes>"
      ]
     },
     "metadata": {
      "needs_background": "light"
     },
     "output_type": "display_data"
    }
   ],
   "source": [
    "plt.hist(images2[2].flatten(), bins=100);"
   ]
  },
  {
   "cell_type": "code",
   "execution_count": 351,
   "id": "5141ba43-c3d1-4135-8f33-1a698052a0c5",
   "metadata": {},
   "outputs": [],
   "source": [
    "def get_pred_dict(models, images):\n",
    "    print('making predictions...')\n",
    "    tf.keras.backend.clear_session()\n",
    "\n",
    "    prediction1_ = models[0].predict(images)\n",
    "    prediction2_ = models[1].predict(images)\n",
    "    prediction3_ = models[2].predict(images)\n",
    "    prediction4_ = models[3].predict(images)\n",
    "\n",
    "    pred_dict = {\n",
    "        '1': prediction1_,\n",
    "        '2': prediction2_,\n",
    "        '3': prediction3_,\n",
    "        '4': prediction4_\n",
    "    }\n",
    "    return pred_dict"
   ]
  },
  {
   "cell_type": "code",
   "execution_count": 137,
   "id": "25c185cb-ebe4-4a18-8ede-9d568082441c",
   "metadata": {},
   "outputs": [
    {
     "name": "stdout",
     "output_type": "stream",
     "text": [
      "making predictions...\n"
     ]
    }
   ],
   "source": [
    "pred_dict = get_pred_dict([model1, model2, model3, model4], images2)"
   ]
  },
  {
   "cell_type": "code",
   "execution_count": null,
   "id": "b341dddc-4ea8-4c3f-a651-bfca92a26564",
   "metadata": {},
   "outputs": [],
   "source": []
  },
  {
   "cell_type": "code",
   "execution_count": 131,
   "id": "4e448eed-9203-4f4c-9cc0-f0cbb32fbb70",
   "metadata": {},
   "outputs": [],
   "source": [
    "a = pred_dict.keys()"
   ]
  },
  {
   "cell_type": "code",
   "execution_count": 133,
   "id": "4dd58bcf-ad8e-4ec3-b5c9-493058d1bd31",
   "metadata": {},
   "outputs": [
    {
     "name": "stdout",
     "output_type": "stream",
     "text": [
      "1\n",
      "2\n",
      "3\n",
      "4\n"
     ]
    },
    {
     "data": {
      "text/plain": [
       "dict_keys(['1', '2', '3', '4'])"
      ]
     },
     "execution_count": 133,
     "metadata": {},
     "output_type": "execute_result"
    }
   ],
   "source": [
    "for i in a:\n",
    "    print(i)\n",
    "a"
   ]
  },
  {
   "cell_type": "code",
   "execution_count": 249,
   "id": "5729314d-76c3-4770-a433-42fe42c6b4fe",
   "metadata": {},
   "outputs": [
    {
     "data": {
      "text/plain": [
       "['2', '1', '3', '4']"
      ]
     },
     "execution_count": 249,
     "metadata": {},
     "output_type": "execute_result"
    }
   ],
   "source": [
    "b = list(a)\n",
    "c = b.pop(1)\n",
    "\n",
    "for char in b:\n",
    "    # print(char)\n",
    "    c += ',' + char\n",
    "c.split(',')"
   ]
  },
  {
   "cell_type": "code",
   "execution_count": 45,
   "id": "c5479424-75de-46ba-bfe8-6c2e6274e559",
   "metadata": {},
   "outputs": [],
   "source": [
    "# pred_dict['1'][0]"
   ]
  },
  {
   "cell_type": "code",
   "execution_count": null,
   "id": "97c69d32-b590-4cf5-ac31-86483dc8cbc5",
   "metadata": {},
   "outputs": [],
   "source": []
  },
  {
   "cell_type": "code",
   "execution_count": 356,
   "id": "204cecf7-b7b9-460e-a529-06994095f616",
   "metadata": {},
   "outputs": [],
   "source": [
    "def calculate_sums(pred_dict, class_id):\n",
    "    class1_max_pixel = (15000 / (256 * 1600)) * (SIZE_X * SIZE_Y)\n",
    "    class2_max_pixel = (8000 / (256 * 1600)) * (SIZE_X * SIZE_Y)\n",
    "    class3_max_pixel = (100000 / (256 * 1600)) * (SIZE_X * SIZE_Y)\n",
    "    class4_max_pixel = (75000 / (256 * 1600)) * (SIZE_X * SIZE_Y)\n",
    "\n",
    "\n",
    "    sums = {}\n",
    "    temp = []\n",
    "    for key in pred_dict.keys():\n",
    "        # print(type(key))\n",
    "        for prediction in range(len(pred_dict[key])):\n",
    "            if class_id == 1 and key != '1':\n",
    "                # print('class 1')\n",
    "                if np.round(pred_dict[key][prediction].sum()) > class1_max_pixel:\n",
    "                    temp.append(0)\n",
    "                else:\n",
    "                    temp.append(np.round(pred_dict[key][prediction]).sum())\n",
    "                    \n",
    "            elif class_id == 2 and key != '2':\n",
    "                if np.round(pred_dict[key][prediction].sum()) > class2_max_pixel:\n",
    "                    temp.append(0)\n",
    "                else:\n",
    "                    temp.append(np.round(pred_dict[key][prediction]).sum())\n",
    "                    \n",
    "            elif class_id == 3 and key != '3':\n",
    "                if np.round(pred_dict[key][prediction].sum()) > class3_max_pixel:\n",
    "                    temp.append(0)\n",
    "                else:\n",
    "                    temp.append(np.round(pred_dict[key][prediction]).sum())\n",
    "                    \n",
    "            elif class_id == 4 and key != '4':\n",
    "                if np.round(pred_dict[key][prediction].sum()) > class4_max_pixel:\n",
    "                    temp.append(0)\n",
    "                else:\n",
    "                    temp.append(np.round(pred_dict[key][prediction]).sum())\n",
    "                    \n",
    "            else:\n",
    "                temp.append(np.round(pred_dict[key][prediction]).sum())\n",
    "                            \n",
    "        sums[key] = temp\n",
    "        temp = []\n",
    "    \n",
    "    return sums"
   ]
  },
  {
   "cell_type": "code",
   "execution_count": 168,
   "id": "d8826cca-b590-49f9-833e-d559bde580cf",
   "metadata": {},
   "outputs": [],
   "source": [
    "sums = calculate_sums(pred_dict)"
   ]
  },
  {
   "cell_type": "code",
   "execution_count": 49,
   "id": "c8e7a548-2e2b-47e6-b13c-bc6ffdae7521",
   "metadata": {},
   "outputs": [],
   "source": [
    "# sums"
   ]
  },
  {
   "cell_type": "code",
   "execution_count": 349,
   "id": "8d65fe17-aeb1-493a-9933-4009b500bfa8",
   "metadata": {},
   "outputs": [],
   "source": [
    "import pandas as pd\n",
    "\n",
    "def build_df(sums, class_id):\n",
    "    df = pd.DataFrame()\n",
    "    df = df.assign(a=sums['1']).assign(b=sums['2']).assign(c=sums['3']).assign(d=sums['4'])\n",
    "    if class_id == 1:\n",
    "        df['class2'] = (df.a < df.b).astype(int)\n",
    "        df['class3'] = (df.a < df.c).astype(int)\n",
    "        df['class4'] = (df.a < df.d).astype(int)\n",
    "    if class_id == 2:\n",
    "        df['class2'] = (df.b < df.a).astype(int)\n",
    "        df['class3'] = (df.b < df.c).astype(int)\n",
    "        df['class4'] = (df.b < df.d).astype(int)\n",
    "    if class_id == 3:\n",
    "        df['class2'] = (df.c < df.b).astype(int)\n",
    "        df['class3'] = (df.c < df.a).astype(int)\n",
    "        df['class4'] = (df.c < df.d).astype(int)\n",
    "    if class_id == 4:\n",
    "        df['class2'] = (df.d < df.b).astype(int)\n",
    "        df['class3'] = (df.d < df.c).astype(int)\n",
    "        df['class4'] = (df.d < df.a).astype(int)\n",
    "    \n",
    "    return df"
   ]
  },
  {
   "cell_type": "code",
   "execution_count": 169,
   "id": "024a21b1-535b-4f98-802d-570da9a41173",
   "metadata": {},
   "outputs": [],
   "source": [
    "df = build_df(sums, 1)"
   ]
  },
  {
   "cell_type": "code",
   "execution_count": 276,
   "id": "84a3d497-8f39-421f-9cd8-a5864eaf8d32",
   "metadata": {},
   "outputs": [],
   "source": [
    "def calculate_accuracy(df):\n",
    "    print('calculating accuracy...')\n",
    "    return 1 - ((df.class2.sum() + df.class3.sum() + df.class4.sum()) / len(df))\n",
    "    "
   ]
  },
  {
   "cell_type": "code",
   "execution_count": 170,
   "id": "58e1713f-9d1e-48d4-a9e1-a91b97eeb417",
   "metadata": {},
   "outputs": [
    {
     "name": "stdout",
     "output_type": "stream",
     "text": [
      "calculating accuracy...\n"
     ]
    },
    {
     "data": {
      "text/plain": [
       "0.3048327137546468"
      ]
     },
     "execution_count": 170,
     "metadata": {},
     "output_type": "execute_result"
    }
   ],
   "source": [
    "calculate_accuracy(df)"
   ]
  },
  {
   "cell_type": "markdown",
   "id": "7e84e4a8-05e4-4599-aeba-dcce23e2c862",
   "metadata": {},
   "source": [
    "- maximum Fehlerpixel aus EDA\n",
    "- prozentual zu resize\n",
    "- oberer Threshold"
   ]
  },
  {
   "cell_type": "code",
   "execution_count": 350,
   "id": "5e229501-256c-462f-b62b-8c23159b9516",
   "metadata": {},
   "outputs": [],
   "source": [
    "def get_images_for_prediction(class_id):\n",
    "    preprocess_input = sm.get_preprocessing('efficientnetb5')\n",
    "    \n",
    "    images = get_images(class_id,SIZE_X,SIZE_Y)\n",
    "    images = preprocess_input(images)\n",
    "    \n",
    "    return images"
   ]
  },
  {
   "cell_type": "code",
   "execution_count": 354,
   "id": "d3b10af4-0275-4217-82a6-1736dfa27dd0",
   "metadata": {},
   "outputs": [],
   "source": [
    "def get_accuracy_for_class(models, class_id):\n",
    "    print(f'Calculating accuracy for defect class {class_id}:')\n",
    "    images = get_images_for_prediction(class_id)\n",
    "    \n",
    "    pred_dict = get_pred_dict(models, images)\n",
    "    \n",
    "    sums = calculate_sums(pred_dict, class_id)\n",
    "    \n",
    "    df = build_df(sums, class_id)\n",
    "    \n",
    "    accuracy = calculate_accuracy(df)\n",
    "    \n",
    "    return accuracy"
   ]
  },
  {
   "cell_type": "code",
   "execution_count": 279,
   "id": "7ec5856d-7c4a-49b5-a26f-375cd358337b",
   "metadata": {},
   "outputs": [
    {
     "name": "stdout",
     "output_type": "stream",
     "text": [
      "Calculating accuracy for defect class 1:\n",
      "making predictions...\n",
      "calculating accuracy...\n",
      "Calculating accuracy for defect class 2:\n",
      "making predictions...\n",
      "calculating accuracy...\n",
      "Calculating accuracy for defect class 3:\n",
      "making predictions...\n",
      "calculating accuracy...\n",
      "Calculating accuracy for defect class 4:\n",
      "making predictions...\n",
      "calculating accuracy...\n",
      "\n",
      "------------------------------------------------------------\n",
      "[0.3234200743494424, 0.7837837837837838, 0.554333764553687, -0.25]\n"
     ]
    }
   ],
   "source": [
    "accuracies = []\n",
    "models = [model1, model2, model3, model4]\n",
    "\n",
    "for class_id in [1,2,3,4]:\n",
    "    accuracies.append(get_accuracy_for_class(models, class_id))\n",
    "\n",
    "print()\n",
    "print('-----'*12)\n",
    "print(accuracies)"
   ]
  },
  {
   "cell_type": "code",
   "execution_count": 278,
   "id": "a7868310-fa9d-429f-af74-29ec6bba9f95",
   "metadata": {},
   "outputs": [
    {
     "data": {
      "text/plain": [
       "[<keras.engine.functional.Functional at 0x306104b80>,\n",
       " <keras.engine.functional.Functional at 0x2f79cd430>,\n",
       " <keras.engine.functional.Functional at 0x32c416e80>,\n",
       " <keras.engine.functional.Functional at 0x2f01a2280>]"
      ]
     },
     "execution_count": 278,
     "metadata": {},
     "output_type": "execute_result"
    }
   ],
   "source": [
    "models"
   ]
  },
  {
   "cell_type": "markdown",
   "id": "ec18e950-879f-44bb-ab3b-0ec3be092704",
   "metadata": {},
   "source": [
    "---\n",
    "\n",
    "## Load Models"
   ]
  },
  {
   "cell_type": "code",
   "execution_count": 346,
   "id": "6c1b099d-7ff3-4fda-ac34-a4ef3a10e675",
   "metadata": {},
   "outputs": [],
   "source": [
    "model1_ = build_compiled_model(size_x, size_y, 'dice')\n",
    "model2_ = build_compiled_model(size_x, size_y, 'dice')\n",
    "model3_ = build_compiled_model(size_x, size_y, 'dice')\n",
    "model4_ = build_compiled_model(size_x, size_y, 'dice')"
   ]
  },
  {
   "cell_type": "code",
   "execution_count": 347,
   "id": "8c9e9b0e-9115-4a77-b9a7-9023ace1ab88",
   "metadata": {},
   "outputs": [],
   "source": [
    "savedModel1 = model1_.load_weights('models/class_1_20e_LR005.h5')\n",
    "savedModel2 = model2_.load_weights('models/class_2_20e_LR005.h5')\n",
    "savedModel3 = model3_.load_weights('models/class_3_20e_LR005.h5')\n",
    "savedModel4 = model4_.load_weights('models/class_4_20e_LR005.h5')"
   ]
  },
  {
   "cell_type": "code",
   "execution_count": 342,
   "id": "9ea71873-9d1b-4c40-a551-6de15e513ae0",
   "metadata": {},
   "outputs": [],
   "source": [
    "pred1_ = model1_.predict(images2)\n",
    "pred1_ = model1_.predict(images2)\n",
    "pred1_ = model1_.predict(images2)\n",
    "pred1_ = model1_.predict(images2)"
   ]
  },
  {
   "cell_type": "code",
   "execution_count": 345,
   "id": "178a7240-de56-4512-928e-9e668c63502c",
   "metadata": {},
   "outputs": [
    {
     "data": {
      "text/plain": [
       "<matplotlib.image.AxesImage at 0x5fd9ea040>"
      ]
     },
     "execution_count": 345,
     "metadata": {},
     "output_type": "execute_result"
    },
    {
     "data": {
      "image/png": "[encoded data removed]",
      "text/plain": [
       "<Figure size 432x288 with 1 Axes>"
      ]
     },
     "metadata": {
      "needs_background": "light"
     },
     "output_type": "display_data"
    }
   ],
   "source": [
    "plt.imshow(pred1_[1])"
   ]
  },
  {
   "cell_type": "code",
   "execution_count": null,
   "id": "0089f88b-1d03-4465-856e-1a7ce20c153d",
   "metadata": {},
   "outputs": [],
   "source": [
    "pred_dict = get_pred_dict([model1_, model2_, model3_, model4_], images2)"
   ]
  },
  {
   "cell_type": "code",
   "execution_count": 357,
   "id": "a19389e9-b4d1-4b0b-b360-9b6b8f653823",
   "metadata": {},
   "outputs": [
    {
     "name": "stdout",
     "output_type": "stream",
     "text": [
      "Calculating accuracy for defect class 1:\n",
      "making predictions...\n"
     ]
    },
    {
     "name": "stderr",
     "output_type": "stream",
     "text": [
      "2022-02-24 12:01:20.704419: I tensorflow/core/grappler/optimizers/custom_graph_optimizer_registry.cc:112] Plugin optimizer for device_type GPU is enabled.\n",
      "2022-02-24 12:02:06.397802: I tensorflow/core/grappler/optimizers/custom_graph_optimizer_registry.cc:112] Plugin optimizer for device_type GPU is enabled.\n",
      "2022-02-24 12:02:47.640336: I tensorflow/core/grappler/optimizers/custom_graph_optimizer_registry.cc:112] Plugin optimizer for device_type GPU is enabled.\n",
      "2022-02-24 12:03:30.564871: I tensorflow/core/grappler/optimizers/custom_graph_optimizer_registry.cc:112] Plugin optimizer for device_type GPU is enabled.\n"
     ]
    },
    {
     "name": "stdout",
     "output_type": "stream",
     "text": [
      "calculating accuracy...\n",
      "Calculating accuracy for defect class 2:\n",
      "making predictions...\n"
     ]
    },
    {
     "name": "stderr",
     "output_type": "stream",
     "text": [
      "2022-02-24 12:04:18.520022: I tensorflow/core/grappler/optimizers/custom_graph_optimizer_registry.cc:112] Plugin optimizer for device_type GPU is enabled.\n",
      "2022-02-24 12:04:53.999492: I tensorflow/core/grappler/optimizers/custom_graph_optimizer_registry.cc:112] Plugin optimizer for device_type GPU is enabled.\n",
      "2022-02-24 12:05:22.099848: I tensorflow/core/grappler/optimizers/custom_graph_optimizer_registry.cc:112] Plugin optimizer for device_type GPU is enabled.\n",
      "2022-02-24 12:05:53.820102: I tensorflow/core/grappler/optimizers/custom_graph_optimizer_registry.cc:112] Plugin optimizer for device_type GPU is enabled.\n"
     ]
    },
    {
     "name": "stdout",
     "output_type": "stream",
     "text": [
      "calculating accuracy...\n",
      "Calculating accuracy for defect class 3:\n",
      "making predictions...\n"
     ]
    },
    {
     "name": "stderr",
     "output_type": "stream",
     "text": [
      "2022-02-24 12:07:05.213411: I tensorflow/core/grappler/optimizers/custom_graph_optimizer_registry.cc:112] Plugin optimizer for device_type GPU is enabled.\n",
      "2022-02-24 12:09:44.523566: I tensorflow/core/grappler/optimizers/custom_graph_optimizer_registry.cc:112] Plugin optimizer for device_type GPU is enabled.\n",
      "2022-02-24 12:12:35.852707: I tensorflow/core/grappler/optimizers/custom_graph_optimizer_registry.cc:112] Plugin optimizer for device_type GPU is enabled.\n",
      "2022-02-24 12:15:15.456214: I tensorflow/core/grappler/optimizers/custom_graph_optimizer_registry.cc:112] Plugin optimizer for device_type GPU is enabled.\n"
     ]
    },
    {
     "name": "stdout",
     "output_type": "stream",
     "text": [
      "calculating accuracy...\n",
      "Calculating accuracy for defect class 4:\n",
      "making predictions...\n"
     ]
    },
    {
     "name": "stderr",
     "output_type": "stream",
     "text": [
      "2022-02-24 12:17:22.496953: I tensorflow/core/grappler/optimizers/custom_graph_optimizer_registry.cc:112] Plugin optimizer for device_type GPU is enabled.\n",
      "2022-02-24 12:18:04.618409: I tensorflow/core/grappler/optimizers/custom_graph_optimizer_registry.cc:112] Plugin optimizer for device_type GPU is enabled.\n",
      "2022-02-24 12:18:46.275510: I tensorflow/core/grappler/optimizers/custom_graph_optimizer_registry.cc:112] Plugin optimizer for device_type GPU is enabled.\n",
      "2022-02-24 12:19:26.065449: I tensorflow/core/grappler/optimizers/custom_graph_optimizer_registry.cc:112] Plugin optimizer for device_type GPU is enabled.\n"
     ]
    },
    {
     "name": "stdout",
     "output_type": "stream",
     "text": [
      "calculating accuracy...\n",
      "\n",
      "------------------------------------------------------------\n",
      "[0.3234200743494424, 0.8108108108108107, 0.8473479948253557, 0.7208333333333333]\n"
     ]
    }
   ],
   "source": [
    "accuracies = []\n",
    "models_ = [model1_, model2_, model3_, model4_]\n",
    "\n",
    "for class_id in [1,2,3,4]:\n",
    "    accuracies.append(get_accuracy_for_class(models_, class_id))\n",
    "\n",
    "print()\n",
    "print('-----'*12)\n",
    "print(accuracies)"
   ]
  },
  {
   "cell_type": "code",
   "execution_count": null,
   "id": "38024e9c-4374-4698-800b-c5de07576b2a",
   "metadata": {},
   "outputs": [],
   "source": []
  },
  {
   "cell_type": "code",
   "execution_count": 21,
   "id": "696148af-655c-4227-a676-bc35b065c850",
   "metadata": {},
   "outputs": [],
   "source": [
    "sums = {}\n",
    "temp = []\n",
    "for i in range(len(prediction1_)):\n",
    "    temp.append(np.round(prediction1_[i]).sum())\n",
    "sums['1'] = temp\n",
    "temp = []\n",
    "for i in range(len(prediction2_)):\n",
    "    temp.append(np.round(prediction2_[i]).sum())\n",
    "sums['2'] = temp\n",
    "\n",
    "temp=[] \n",
    "for i in range(len(prediction3_)):\n",
    "    temp.append(np.round(prediction3_[i]).sum())\n",
    "sums['3'] = temp\n",
    "\n",
    "temp=[]  \n",
    "for i in range(len(prediction4_)):\n",
    "    temp.append(np.round(prediction4_[i]).sum())\n",
    "sums['4'] = temp\n"
   ]
  },
  {
   "cell_type": "code",
   "execution_count": 22,
   "id": "40183140-1e99-4d40-9098-fb3710b99240",
   "metadata": {},
   "outputs": [],
   "source": [
    "sums_1 = np.array(sums['1'])\n",
    "sums_2 = np.array(sums['2'])\n",
    "sums_3 = np.array(sums['3'])\n",
    "sums_4 = np.array(sums['4'])"
   ]
  },
  {
   "cell_type": "code",
   "execution_count": 26,
   "id": "56b61745-94cf-42a2-b336-ee6c4fb9d041",
   "metadata": {},
   "outputs": [],
   "source": [
    "max_1 = 31300/(256*1600) * (128*256)"
   ]
  }
 ],
 "metadata": {
  "kernelspec": {
   "display_name": "Python 3 (ipykernel)",
   "language": "python",
   "name": "python3"
  },
  "language_info": {
   "codemirror_mode": {
    "name": "ipython",
    "version": 3
   },
   "file_extension": ".py",
   "mimetype": "text/x-python",
   "name": "python",
   "nbconvert_exporter": "python",
   "pygments_lexer": "ipython3",
   "version": "3.9.4"
  }
 },
 "nbformat": 4,
 "nbformat_minor": 5
}
