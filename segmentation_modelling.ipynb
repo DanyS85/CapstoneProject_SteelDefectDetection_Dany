{
 "cells": [
  {
   "cell_type": "code",
   "execution_count": null,
   "id": "b6ce3b08-13a1-48e4-85d2-eab81a64acd1",
   "metadata": {},
   "outputs": [],
   "source": [
    "import segmentation_models as sm\n",
    "import tensorflow as tf\n",
    "import numpy as np\n",
    "import glob\n",
    "import os\n",
    "import cv2\n",
    "\n",
    "\n",
    "# self-written scripts\n",
    "import sys\n",
    "sys.path.insert(0, 'Python_Scripts')\n",
    "\n",
    "import data_preparation_cnn"
   ]
  },
  {
   "cell_type": "code",
   "execution_count": null,
   "id": "3cc85831-f936-4f01-aee0-bf8aedf9c6ae",
   "metadata": {},
   "outputs": [],
   "source": [
    "def get_images(class_id, size_x, size_y):\n",
    "    images = []\n",
    "    path_suffix = 'c' + str(class_id) + '/'\n",
    "\n",
    "    for directory_path in glob.glob('data/segmentation/test/' + path_suffix):\n",
    "        for img_path in sorted(glob.glob(os.path.join(directory_path, \"*.jpg\"))):\n",
    "            #print(img_path)\n",
    "            #break\n",
    "            img = cv2.imread(img_path, cv2.IMREAD_COLOR)       \n",
    "            img = cv2.resize(img, (size_y, size_x))\n",
    "            # img = img/255\n",
    "            #print(img)\n",
    "            #img = cv2.cvtColor(img, cv2.COLOR_RGB2BGR)\n",
    "            images.append(img)\n",
    "            #train_labels.append(label)\n",
    "    #Convert list to array for machine learning processing        \n",
    "    images = np.array(images)\n",
    "    \n",
    "    return images"
   ]
  },
  {
   "cell_type": "code",
   "execution_count": null,
   "id": "9c70b871-a8ef-4ff3-b0d9-32b0ea55fd00",
   "metadata": {},
   "outputs": [],
   "source": [
    "def get_masks(class_id, size_x, size_y):\n",
    "    images = []\n",
    "    path_suffix = 'c' + str(class_id) + '/'\n",
    "\n",
    "    for directory_path in glob.glob('data/segmentation/test_mask/' + path_suffix):\n",
    "        for img_path in sorted(glob.glob(os.path.join(directory_path, \"*.png\"))):\n",
    "            #print(img_path)\n",
    "            #break\n",
    "            img = cv2.imread(img_path, 0)       \n",
    "            img = cv2.resize(img, (size_y, size_x))\n",
    "            #img = cv2.cvtColor(img, cv2.COLOR_RGB2BGR)\n",
    "            images.append(img)\n",
    "            #train_labels.append(label)\n",
    "    #Convert list to array for machine learning processing        \n",
    "    images = np.array(images)\n",
    "    \n",
    "    return images"
   ]
  },
  {
   "cell_type": "code",
   "execution_count": null,
   "id": "c338a437-c203-4427-a55f-23319c7963dc",
   "metadata": {},
   "outputs": [],
   "source": [
    "def prepare_input_variables(class_id, train_images, train_masks, size_x, size_y):\n",
    "    # get preprocessing for `EfficientNetB5`\n",
    "    preprocess_input = sm.get_preprocessing('efficientnetb5')\n",
    "    \n",
    "    # prepare variables\n",
    "    x_train = preprocess_input(train_images)\n",
    "    y_train = np.expand_dims(train_masks, axis=3)\n",
    "    # y_train = y_train/255\n",
    "\n",
    "    x_val = get_images(class_id=class_id, size_x=size_x, size_y=size_y)\n",
    "    x_val = preprocess_input(x_val)\n",
    "    y_val = get_masks(class_id=class_id, size_x=size_x, size_y=size_y)\n",
    "    y_val = np.expand_dims(y_val, axis=3) #May not be necessary.. leftover from previous code \n",
    "    # y_val = y_val / 255\n",
    "\n",
    "    return x_train, y_train, x_val, y_val"
   ]
  },
  {
   "cell_type": "code",
   "execution_count": null,
   "id": "69c9d0e7-4435-4712-85ca-26940c173290",
   "metadata": {},
   "outputs": [],
   "source": [
    "def build_compiled_model(size_x, size_y, metric_for_model):\n",
    "    # set the correct framework for the model to work\n",
    "    sm.set_framework('tf.keras')\n",
    "    sm.framework()\n",
    "    \n",
    "    # define model\n",
    "    model = sm.Unet('efficientnetb5',\n",
    "                    input_shape=(size_x, size_y, 3),\n",
    "                    classes=1,\n",
    "                    activation='sigmoid',\n",
    "                    encoder_weights='imagenet',\n",
    "                    encoder_freeze=True\n",
    "                   )\n",
    "    if metric_for_model == 'dice':\n",
    "        model.compile(optimizer='adam', loss=dice_loss, metrics=[dice_coef])\n",
    "    else:\n",
    "        model.compile(optimizer='adam', loss='binary_crossentropy', metrics=[metric_for_model])\n",
    "    \n",
    "    return model"
   ]
  },
  {
   "cell_type": "code",
   "execution_count": null,
   "id": "3f902159-d93b-4867-9029-cccc348d0fcd",
   "metadata": {},
   "outputs": [],
   "source": [
    "def get_history_from_mask_model(class_id, size_x, size_y, metric_for_model, epochs):\n",
    "    # load images and masks as input for model\n",
    "    train_images, train_masks = data_preparation_cnn.get_resized_image_and_mask_lists(class_id=class_id, \n",
    "                                                                              size_x=size_x, \n",
    "                                                                              size_y=size_y)\n",
    "\n",
    "    # build input variables for model\n",
    "    x_train, y_train, x_val, y_val = prepare_input_variables(class_id, \n",
    "                                                             train_images, \n",
    "                                                             train_masks, \n",
    "                                                             size_x, \n",
    "                                                             size_y)\n",
    "        \n",
    "    # create a compiled model\n",
    "    model = build_compiled_model(size_x, size_y, metric_for_model)\n",
    "    \n",
    "    print(f'beginning training with masks')\n",
    "    # fit the model\n",
    "    history = model.fit(x_train, \n",
    "                        y_train,\n",
    "                        batch_size=32, \n",
    "                        epochs=epochs,\n",
    "                        verbose=True,\n",
    "                        validation_data=(x_val, y_val)\n",
    "                       )\n",
    "    \n",
    "    # predictions = model.predict(x_val)\n",
    "    \n",
    "    # save model\n",
    "    model_name = 'models/class' + str(class_id) + '_mask_generator.h5'\n",
    "    model.save(model_name)\n",
    "    \n",
    "    return history"
   ]
  },
  {
   "cell_type": "code",
   "execution_count": null,
   "id": "675476ba-3eb4-4a33-9f25-6c9242646d11",
   "metadata": {},
   "outputs": [],
   "source": [
    "from keras.losses import binary_crossentropy"
   ]
  },
  {
   "cell_type": "code",
   "execution_count": null,
   "id": "27566d0c-5932-4bc0-aa2e-a8a2b4c55830",
   "metadata": {},
   "outputs": [],
   "source": [
    "def dice_coef(y_true,y_pred):\n",
    "    y_true_f=tf.reshape(tf.dtypes.cast(y_true, tf.float32),[-1])\n",
    "    y_pred_f=tf.reshape(tf.dtypes.cast(y_pred, tf.float32),[-1])\n",
    "    intersection=tf.reduce_sum(y_true_f*y_pred_f)\n",
    "    return (2. * intersection + 1.) / (tf.reduce_sum(y_true_f) + tf.reduce_sum(y_pred_f) + 1.)\n",
    "def dice_loss(y_true, y_pred):\n",
    "    y_true_f = tf.reshape(y_true, [-1])\n",
    "    y_pred_f = tf.reshape(y_pred, [-1])\n",
    "    return (1-dice_coef(y_true, y_pred))\n",
    "def bce_dice_loss(y_true, y_pred):\n",
    "    y_true_f = tf.reshape(y_true, [-1])\n",
    "    y_pred_f = tf.reshape(y_pred, [-1])\n",
    "    return binary_crossentropy(y_true, y_pred) + (1-dice_coef(y_true, y_pred))"
   ]
  },
  {
   "cell_type": "code",
   "execution_count": null,
   "id": "d122feb2-1311-43ad-88ba-6940cc007c8a",
   "metadata": {},
   "outputs": [],
   "source": [
    "def build_mask_generating_models(size_x, size_y, metric_for_model, epochs):\n",
    "    \n",
    "    losses = []\n",
    "    losses_val = []\n",
    "    \n",
    "    metric_results = []\n",
    "    metric_results_val = []\n",
    "    \n",
    "    predictions = {}\n",
    "    models = {}\n",
    "    \n",
    "    for class_id in [1,2,3,4]:\n",
    "        print(f'building model for defect class {class_id}...')\n",
    "        \n",
    "        \n",
    "        # extract the history for each model\n",
    "        history = get_history_from_mask_model(class_id, size_x, size_y, metric_for_model, epochs)\n",
    "        \n",
    "        losses.append(history.history['loss'])\n",
    "        losses_val.append(history.history['val_loss'])\n",
    "        if metric_for_model == 'dice':\n",
    "            pass\n",
    "        else:\n",
    "            metric_results = history.history[metric_for_model]\n",
    "            metric_results_val = history.history['val_' + metric_for_model]\n",
    "        \n",
    "        # predictions[str(class_id)] = pred\n",
    "        \n",
    "        print('model successfully generated and saved to file!')\n",
    "        print('-----'*10)\n",
    "        print()\n",
    "    \n",
    "    return predictions\n",
    "        "
   ]
  },
  {
   "cell_type": "code",
   "execution_count": null,
   "id": "1dc9287b-1498-4282-aea5-13dc6df98e23",
   "metadata": {},
   "outputs": [],
   "source": [
    "\n",
    "# PARAMETERS\n",
    "SIZE_X = 128\n",
    "SIZE_Y = 256\n",
    "EPOCHS = 10"
   ]
  },
  {
   "cell_type": "code",
   "execution_count": null,
   "id": "90bde60b-ef2b-4cad-8334-7c4ee771b76f",
   "metadata": {},
   "outputs": [],
   "source": [
    "predictions = build_mask_generating_models(SIZE_X, SIZE_Y, 'dice', EPOCHS)"
   ]
  },
  {
   "cell_type": "code",
   "execution_count": null,
   "id": "a57f7827-eeaa-46bf-95c9-b1b13856894f",
   "metadata": {},
   "outputs": [],
   "source": [
    "predictions['1'].shape"
   ]
  },
  {
   "cell_type": "code",
   "execution_count": null,
   "id": "16aed7e4-34a0-40e6-8e7a-e48a18353da4",
   "metadata": {},
   "outputs": [],
   "source": []
  },
  {
   "cell_type": "code",
   "execution_count": null,
   "id": "312110d6-15b3-480a-91d7-c4a67fda9187",
   "metadata": {},
   "outputs": [],
   "source": [
    "import keras\n",
    "import matplotlib.pyplot as plt\n",
    "\n",
    "SIZE_X = 128\n",
    "SIZE_Y = 256"
   ]
  },
  {
   "cell_type": "code",
   "execution_count": null,
   "id": "330817d4-4af9-4727-ae1a-6073e39f3199",
   "metadata": {},
   "outputs": [],
   "source": [
    "model1 = keras.models.load_model('models/class1_mask_generator.h5', compile=False)\n",
    "model2 = keras.models.load_model('models/class2_mask_generator.h5', compile=False)\n",
    "model3 = keras.models.load_model('models/class3_mask_generator.h5', compile=False)\n",
    "model4 = keras.models.load_model('models/class4_mask_generator.h5', compile=False)"
   ]
  },
  {
   "cell_type": "code",
   "execution_count": null,
   "id": "518537f4-c3f0-4169-a07b-fb27c49ed676",
   "metadata": {},
   "outputs": [],
   "source": [
    "model1.compile(optimizer='adam', loss=dice_loss, metrics=[dice_coef])\n",
    "model2.compile(optimizer='adam', loss=dice_loss, metrics=[dice_coef])\n",
    "model3.compile(optimizer='adam', loss=dice_loss, metrics=[dice_coef])\n",
    "model4.compile(optimizer='adam', loss=dice_loss, metrics=[dice_coef])"
   ]
  },
  {
   "cell_type": "code",
   "execution_count": null,
   "id": "71125bae-d4f0-490e-b3e9-5cd6656320cd",
   "metadata": {},
   "outputs": [],
   "source": [
    "images1 = get_images(4, SIZE_X, SIZE_Y)\n",
    "masks1 = get_masks(4, SIZE_X, SIZE_Y)"
   ]
  },
  {
   "cell_type": "code",
   "execution_count": null,
   "id": "7d9ba841-d279-46f8-acb5-c713cb8921b6",
   "metadata": {},
   "outputs": [],
   "source": [
    "masks[0]"
   ]
  },
  {
   "cell_type": "code",
   "execution_count": null,
   "id": "79ceb740-27f3-42bf-9fb0-062be1c55ce1",
   "metadata": {},
   "outputs": [],
   "source": [
    "# test_img2 = np.expand_dims(test_img2, axis=0).shape"
   ]
  },
  {
   "cell_type": "code",
   "execution_count": null,
   "id": "9d9a8f92-fa0a-452f-a400-c0c0f50ba9b7",
   "metadata": {},
   "outputs": [],
   "source": [
    "plt.figure(figsize=(6,3))\n",
    "plt.imshow(images1[0])"
   ]
  },
  {
   "cell_type": "code",
   "execution_count": null,
   "id": "9af96cb2-3cb6-499b-b2af-6b1d0d6e18e2",
   "metadata": {},
   "outputs": [],
   "source": [
    "plt.figure(figsize=(6,3))\n",
    "plt.imshow(masks1[0])"
   ]
  },
  {
   "cell_type": "code",
   "execution_count": null,
   "id": "78cc9029-5fb1-4cbe-b810-856fc8d699c8",
   "metadata": {},
   "outputs": [],
   "source": [
    "prediction1 = model1.predict(images1)\n",
    "prediction2 = model2.predict(images1)\n",
    "prediction3 = model3.predict(images1)\n",
    "prediction4 = model4.predict(images1)"
   ]
  },
  {
   "cell_type": "code",
   "execution_count": null,
   "id": "6022823c-ba45-4316-98d3-264db6644263",
   "metadata": {},
   "outputs": [],
   "source": [
    "# prediction1 = predictions['1']\n",
    "# prediction2 = predictions['2']\n",
    "# prediction3 = predictions['3']\n",
    "# prediction4 = predictions['4']"
   ]
  },
  {
   "cell_type": "code",
   "execution_count": null,
   "id": "d33dd5ee-9be4-461a-b2ab-a9de1a1a8d6e",
   "metadata": {},
   "outputs": [],
   "source": [
    "# (prediction1[0]==prediction1[1]).sum()"
   ]
  },
  {
   "cell_type": "code",
   "execution_count": null,
   "id": "8cc334e2-5979-41f2-8290-cedc33870ba9",
   "metadata": {},
   "outputs": [],
   "source": [
    "number_images = 5\n",
    "\n",
    "random_index = np.round(np.random.rand(number_images) * len(prediction3)) + 1\n",
    "print(random_index)\n",
    "\n",
    "for i in range(number_images):\n",
    "    # random_index = 'random_index_' + str(i+1)\n",
    "    # print(random_index)\n",
    "    # file_path_to_image = false_predicted_images['FilePath'][random_index[i]]\n",
    "    # class_id = false_predicted_images['ClassId'][random_index[i]]\n",
    "    # image_id = false_predicted_images['ImageId'][random_index[i]]\n",
    "    # class_id_pred = int(false_predicted_images['ClassId_predicted'][random_index[i]])\n",
    "    \n",
    "    img = prediction3[int(random_index[i])]\n",
    "    plt.figure(figsize=(18, 10))\n",
    "    ax = plt.subplot(number_images, 1, i + 1)\n",
    "    plt.imshow(img)\n",
    "    # plt.title(f'Image ID: {image_id} | True ClassId: {class_id} | Predicted ClassId: {class_id_pred}', fontsize=16);\n",
    "    plt.axis(\"off\")"
   ]
  },
  {
   "cell_type": "code",
   "execution_count": null,
   "id": "a3fbc532-c936-480b-8736-7c877a3c0419",
   "metadata": {},
   "outputs": [],
   "source": [
    "# plt.figure(figsize=(16,3))\n",
    "saved_model = False\n",
    "class_id = 4\n",
    "\n",
    "nrows = 20\n",
    "ncols = 6\n",
    "rows = list(range(nrows))\n",
    "fig, axs = plt.subplots(nrows, ncols, figsize=(ncols*3,2*nrows))\n",
    "\n",
    "# print(axs)\n",
    "\n",
    "if saved_model:\n",
    "    fig.suptitle(f'Performance of Mask Model from saved Model | Epochs: {EPOCHS}', fontsize=16)\n",
    "else:\n",
    "    fig.suptitle(f'Performance of Mask Model from fitted Model | Epochs: {EPOCHS}', fontsize=16)\n",
    "\n",
    "\n",
    "for row, a, b, c, d, e, f in zip(rows, images1, masks1, prediction1, prediction2, prediction3, prediction4):\n",
    "    # ax = plt.subplot(row, ncols, 1+(row-1)*6)\n",
    "    axs[row, 0].imshow(a)\n",
    "    # ax.set_axis_off()\n",
    "    if row == 0:\n",
    "        axs[row, 0].set_title(f'true image')\n",
    "    axs[row, 0].set_ylabel(f'ClassId = {class_id}', fontsize=14)\n",
    "    axs[row, 0].set_xticks([])\n",
    "    axs[row, 0].set_yticks([])\n",
    "    # plt.imshow(a)\n",
    "\n",
    "    # ax = plt.subplot(row,ncols, 2)\n",
    "    axs[row, 1].imshow(b)\n",
    "    if row == 0:\n",
    "        axs[row, 1].set_title('true mask')\n",
    "    axs[row, 1].set_axis_off()\n",
    "    \n",
    "    # plt.imshow(b)\n",
    "\n",
    "    # ax = plt.subplot(row,ncols, 3)\n",
    "    axs[row, 2].imshow(c)\n",
    "    if row == 0:\n",
    "        axs[row, 2].set_title('mask model 1')\n",
    "    axs[row, 2].set_axis_off()\n",
    "    # plt.imshow(c)\n",
    "\n",
    "    # ax = plt.subplot(row,ncols, 4)\n",
    "    axs[row, 3].imshow(d)\n",
    "    if row == 0:\n",
    "        axs[row, 3].set_title('mask model 2')\n",
    "    axs[row, 3].set_axis_off()\n",
    "    # plt.imshow(d)\n",
    "\n",
    "    # ax = plt.subplot(row,ncols, 5)\n",
    "    axs[row, 4].imshow(e)\n",
    "    if row == 0:\n",
    "        axs[row, 4].set_title('mask model 3')\n",
    "    axs[row, 4].set_axis_off()\n",
    "    # plt.imshow(e)\n",
    "\n",
    "    # ax = plt.subplot(row,ncols, 6)\n",
    "    axs[row, 5].imshow(f)\n",
    "    if row == 0:\n",
    "        axs[row, 5].set_title('mask model 4')\n",
    "    axs[row, 5].set_axis_off()\n",
    "    # plt.imshow(f)\n",
    "    #break\n",
    "    if row == nrows:\n",
    "        break"
   ]
  },
  {
   "cell_type": "code",
   "execution_count": null,
   "id": "9f233434-f26d-4c6f-b9f3-1c4c4e9f8810",
   "metadata": {},
   "outputs": [],
   "source": [
    "np.unique(masks1[0])"
   ]
  },
  {
   "cell_type": "code",
   "execution_count": null,
   "id": "1cd0db8e-f470-4250-bd01-d06946d847bd",
   "metadata": {},
   "outputs": [],
   "source": [
    "temp = get_masks(4,1600,256)"
   ]
  },
  {
   "cell_type": "code",
   "execution_count": null,
   "id": "56a2cff2-286e-4079-9383-da48ee035b2c",
   "metadata": {},
   "outputs": [],
   "source": [
    "np.unique(temp[1])"
   ]
  },
  {
   "cell_type": "code",
   "execution_count": null,
   "id": "6f3ed8cd-5f9d-4eba-861b-6a935c5e4b4d",
   "metadata": {},
   "outputs": [],
   "source": []
  }
 ],
 "metadata": {
  "kernelspec": {
   "display_name": "Python 3 (ipykernel)",
   "language": "python",
   "name": "python3"
  },
  "language_info": {
   "codemirror_mode": {
    "name": "ipython",
    "version": 3
   },
   "file_extension": ".py",
   "mimetype": "text/x-python",
   "name": "python",
   "nbconvert_exporter": "python",
   "pygments_lexer": "ipython3",
   "version": "3.9.4"
  }
 },
 "nbformat": 4,
 "nbformat_minor": 5
}
