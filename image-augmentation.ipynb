{
 "cells": [
  {
   "cell_type": "markdown",
   "id": "1c66929e-4da1-4b5f-86ae-22ebabbf054e",
   "metadata": {},
   "source": [
    "**Ressources**:\n",
    "\n",
    "- [TF Tutorial](https://www.tensorflow.org/tutorials/images/data_augmentation)\n",
    "- [Image Augmentation](https://towardsdatascience.com/image-augmentation-for-deep-learning-using-keras-and-histogram-equalization-9329f6ae5085)"
   ]
  },
  {
   "cell_type": "code",
   "execution_count": null,
   "id": "fe24b1ba-4a0d-4878-98ac-1500b9240a15",
   "metadata": {},
   "outputs": [],
   "source": []
  }
 ],
 "metadata": {
  "kernelspec": {
   "display_name": "Python 3 (ipykernel)",
   "language": "python",
   "name": "python3"
  },
  "language_info": {
   "codemirror_mode": {
    "name": "ipython",
    "version": 3
   },
   "file_extension": ".py",
   "mimetype": "text/x-python",
   "name": "python",
   "nbconvert_exporter": "python",
   "pygments_lexer": "ipython3",
   "version": "3.9.4"
  }
 },
 "nbformat": 4,
 "nbformat_minor": 5
}
